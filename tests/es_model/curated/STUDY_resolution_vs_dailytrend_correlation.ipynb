{
 "cells": [
  {
   "cell_type": "markdown",
   "metadata": {},
   "source": [
    "# Correlation of time based resolutions (OHLCV) with daily trend\n",
    "\n",
    "Analysis of how different timeframes (12s to 1h) relate to daily market movements. Uses adaptive EMAs that scale with timeframe length (e.g., 8/21 base periods adjusted by √(timeframe/60)) to evaluate:\n",
    "\n",
    "- Trend Alignment: Daily direction correlation\n",
    "- Early Trend Detection: Morning pattern alignment \n",
    "- Signal Consistency: Stability of direction\n",
    "- Volatility Capture: Range ratio vs daily movement\n",
    "\n",
    "Features market hours filtering (9:30-16:00), visualizations and weighted scoring to understand relationships between different time resolutions and daily trend.\n",
    "\n",
    "Input required: 1-second OHLCV data."
   ]
  },
  {
   "cell_type": "code",
   "execution_count": 1,
   "metadata": {},
   "outputs": [
    {
     "name": "stdout",
     "output_type": "stream",
     "text": [
      "TTOOLS: Loaded env variables from file /Users/davidbrazda/Documents/Development/python/.env\n"
     ]
    }
   ],
   "source": [
    "import vectorbtpro as vbt\n",
    "import ttools as tts\n",
    "#from lightweight_charts import chart, Panel, PlotDFAccessor, PlotSRAccessor\n",
    "#import talib\n",
    "import ttools as tts\n",
    "from ttools.config import DATA_DIR\n",
    "from ttools.utils import zoneNY, AggType\n",
    "from ttools.loaders import load_data\n",
    "from numba import jit\n",
    "import pandas as pd\n",
    "import numpy as np\n",
    "from datetime import datetime\n",
    "vbt.settings.plotting.auto_rangebreaks = True\n",
    "vbt.settings.set_theme(\"dark\")\n",
    "vbt.settings.plotting[\"use_resampler\"] = True\n",
    "\n",
    "from vectorbtpro.utils.config import merge_dicts, Config, HybridConfig\n",
    "from vectorbtpro import _typing as tp\n",
    "from vectorbtpro.generic import nb as generic_nb\n",
    "\n",
    "_feature_config: tp.ClassVar[Config] = HybridConfig(\n",
    "    {\n",
    "        \"buyvolume\": dict(\n",
    "            resample_func=lambda self, obj, resampler: obj.vbt.resample_apply(\n",
    "                resampler,\n",
    "                generic_nb.sum_reduce_nb,\n",
    "            )\n",
    "        ),\n",
    "        \"sellvolume\": dict(\n",
    "            resample_func=lambda self, obj, resampler: obj.vbt.resample_apply(\n",
    "                resampler,\n",
    "                generic_nb.sum_reduce_nb,\n",
    "            )\n",
    "        ),\n",
    "        \"trades\": dict(\n",
    "            resample_func=lambda self, obj, resampler: obj.vbt.resample_apply(\n",
    "                resampler,\n",
    "                generic_nb.sum_reduce_nb,\n",
    "            )\n",
    "        )\n",
    "    }\n",
    ")\n",
    "\n"
   ]
  },
  {
   "cell_type": "code",
   "execution_count": 2,
   "metadata": {},
   "outputs": [
    {
     "name": "stdout",
     "output_type": "stream",
     "text": [
      "matched agg files 0\n",
      "BAC Contains 202  market days\n",
      "BAC All 193 split files loaded in 27.000663995742798 seconds\n",
      "Trimming 2024-01-01 09:30:00-05:00 2024-10-20 16:00:00-04:00\n",
      "excluding ['4', '6', '7', '9', 'B', 'C', 'F', 'M', 'O', 'P', 'U', 'V', 'W', 'Z']\n",
      "exclude done\n",
      "minsize 100\n",
      "minsize done\n",
      "BAC filtered\n"
     ]
    },
    {
     "name": "stderr",
     "output_type": "stream",
     "text": [
      "BAC Remote fetching:  44%|████▍     | 4/9 [00:00<00:00, 38.18it/s]"
     ]
    },
    {
     "name": "stdout",
     "output_type": "stream",
     "text": [
      "Fetching from remote.Fetching from remote.\n",
      "\n",
      "Fetching from remote.\n",
      "Fetching from remote.\n"
     ]
    },
    {
     "name": "stderr",
     "output_type": "stream",
     "text": [
      "BAC Remote fetching: 100%|██████████| 9/9 [00:00<00:00, 65.28it/s]\n"
     ]
    },
    {
     "name": "stdout",
     "output_type": "stream",
     "text": [
      "Fetching from remote.\n",
      "Fetching from remote.\n",
      "Fetching from remote.\n",
      "Fetching from remote.\n",
      "Fetching from remote.\n"
     ]
    },
    {
     "name": "stderr",
     "output_type": "stream",
     "text": [
      "BAC Receiving trades:   0%|          | 0/9 [00:00<?, ?it/s]"
     ]
    },
    {
     "name": "stdout",
     "output_type": "stream",
     "text": [
      "Remote fetched completed whole day 2024-01-10\n",
      "Exact UTC range fetched: 2024-01-10 05:00:00+00:00 - 2024-01-11 04:59:59.999999+00:00\n",
      "Saved to CACHE /Users/davidbrazda/Library/Application Support/v2realbot/tradecache/BAC-2024-01-10.parquet\n",
      "Trimming 2024-01-10 00:00:00-05:00 2024-01-10 23:59:59.999999-05:00\n",
      "excluding ['4', '6', '7', '9', 'B', 'C', 'F', 'M', 'O', 'P', 'U', 'V', 'W', 'Z']\n",
      "exclude done\n",
      "minsize 100\n",
      "minsize done\n",
      "Remote fetched completed whole day 2024-01-09\n",
      "Exact UTC range fetched: 2024-01-09 05:00:00+00:00 - 2024-01-10 04:59:59.999999+00:00\n",
      "Saved to CACHE /Users/davidbrazda/Library/Application Support/v2realbot/tradecache/BAC-2024-01-09.parquet\n",
      "Trimming 2024-01-09 00:00:00-05:00 2024-01-09 23:59:59.999999-05:00\n",
      "excluding ['4', '6', '7', '9', 'B', 'C', 'F', 'M', 'O', 'P', 'U', 'V', 'W', 'Z']\n",
      "exclude done\n",
      "minsize 100\n",
      "minsize done\n",
      "Remote fetched completed whole day 2024-01-04\n",
      "Exact UTC range fetched: 2024-01-04 05:00:00+00:00 - 2024-01-05 04:59:59.999999+00:00\n",
      "Remote fetched completed whole day 2024-01-02\n",
      "Exact UTC range fetched: 2024-01-02 05:00:00+00:00 - 2024-01-03 04:59:59.999999+00:00\n",
      "Saved to CACHE /Users/davidbrazda/Library/Application Support/v2realbot/tradecache/BAC-2024-01-04.parquet\n",
      "Trimming 2024-01-04 00:00:00-05:00 2024-01-04 23:59:59.999999-05:00\n",
      "excluding ['4', '6', '7', '9', 'B', 'C', 'F', 'M', 'O', 'P', 'U', 'V', 'W', 'Z']\n",
      "exclude done\n",
      "minsize 100\n",
      "minsize done\n"
     ]
    },
    {
     "name": "stderr",
     "output_type": "stream",
     "text": [
      "BAC Receiving trades:  11%|█         | 1/9 [00:41<05:29, 41.20s/it]"
     ]
    },
    {
     "name": "stdout",
     "output_type": "stream",
     "text": [
      "Saved to CACHE /Users/davidbrazda/Library/Application Support/v2realbot/tradecache/BAC-2024-01-02.parquet\n",
      "Trimming 2024-01-02 00:00:00-05:00 2024-01-02 23:59:59.999999-05:00\n",
      "excluding ['4', '6', '7', '9', 'B', 'C', 'F', 'M', 'O', 'P', 'U', 'V', 'W', 'Z']\n",
      "exclude done\n",
      "minsize 100\n",
      "minsize done\n",
      "Remote fetched completed whole day 2024-01-08\n",
      "Exact UTC range fetched: 2024-01-08 05:00:00+00:00 - 2024-01-09 04:59:59.999999+00:00\n",
      "Saved to CACHE /Users/davidbrazda/Library/Application Support/v2realbot/tradecache/BAC-2024-01-08.parquet\n",
      "Trimming 2024-01-08 00:00:00-05:00 2024-01-08 23:59:59.999999-05:00\n",
      "excluding ['4', '6', '7', '9', 'B', 'C', 'F', 'M', 'O', 'P', 'U', 'V', 'W', 'Z']\n",
      "exclude done\n",
      "minsize 100\n",
      "minsize done\n",
      "Remote fetched completed whole day 2024-01-03\n",
      "Exact UTC range fetched: 2024-01-03 05:00:00+00:00 - 2024-01-04 04:59:59.999999+00:00\n",
      "Remote fetched completed whole day 2024-01-05\n",
      "Exact UTC range fetched: 2024-01-05 05:00:00+00:00 - 2024-01-06 04:59:59.999999+00:00\n",
      "Saved to CACHE /Users/davidbrazda/Library/Application Support/v2realbot/tradecache/BAC-2024-01-03.parquet\n",
      "Trimming 2024-01-03 00:00:00-05:00 2024-01-03 23:59:59.999999-05:00\n",
      "excluding ['4', '6', '7', '9', 'B', 'C', 'F', 'M', 'O', 'P', 'U', 'V', 'W', 'Z']\n",
      "exclude done\n",
      "minsize 100\n",
      "minsize done\n"
     ]
    },
    {
     "name": "stderr",
     "output_type": "stream",
     "text": [
      "BAC Receiving trades:  22%|██▏       | 2/9 [00:47<02:24, 20.67s/it]"
     ]
    },
    {
     "name": "stdout",
     "output_type": "stream",
     "text": [
      "Saved to CACHE /Users/davidbrazda/Library/Application Support/v2realbot/tradecache/BAC-2024-01-05.parquet\n",
      "Trimming 2024-01-05 00:00:00-05:00 2024-01-05 23:59:59.999999-05:00\n",
      "excluding ['4', '6', '7', '9', 'B', 'C', 'F', 'M', 'O', 'P', 'U', 'V', 'W', 'Z']\n",
      "exclude done\n",
      "minsize 100\n",
      "minsize done\n"
     ]
    },
    {
     "name": "stderr",
     "output_type": "stream",
     "text": [
      "BAC Receiving trades:  44%|████▍     | 4/9 [00:47<00:38,  7.80s/it]"
     ]
    },
    {
     "name": "stdout",
     "output_type": "stream",
     "text": [
      "Remote fetched completed whole day 2024-01-11\n",
      "Exact UTC range fetched: 2024-01-11 05:00:00+00:00 - 2024-01-12 04:59:59.999999+00:00\n"
     ]
    },
    {
     "name": "stderr",
     "output_type": "stream",
     "text": [
      "BAC Receiving trades:  89%|████████▉ | 8/9 [00:52<00:03,  3.52s/it]"
     ]
    },
    {
     "name": "stdout",
     "output_type": "stream",
     "text": [
      "Saved to CACHE /Users/davidbrazda/Library/Application Support/v2realbot/tradecache/BAC-2024-01-11.parquet\n",
      "Trimming 2024-01-11 00:00:00-05:00 2024-01-11 23:59:59.999999-05:00\n",
      "excluding ['4', '6', '7', '9', 'B', 'C', 'F', 'M', 'O', 'P', 'U', 'V', 'W', 'Z']\n",
      "exclude done\n",
      "minsize 100\n",
      "minsize done\n",
      "Remote fetched completed whole day 2024-01-12\n",
      "Exact UTC range fetched: 2024-01-12 05:00:00+00:00 - 2024-01-13 04:59:59.999999+00:00\n",
      "Saved to CACHE /Users/davidbrazda/Library/Application Support/v2realbot/tradecache/BAC-2024-01-12.parquet\n",
      "Trimming 2024-01-12 00:00:00-05:00 2024-01-12 23:59:59.999999-05:00\n",
      "excluding ['4', '6', '7', '9', 'B', 'C', 'F', 'M', 'O', 'P', 'U', 'V', 'W', 'Z']\n",
      "exclude done\n",
      "minsize 100\n",
      "minsize done\n"
     ]
    },
    {
     "name": "stderr",
     "output_type": "stream",
     "text": [
      "BAC Receiving trades: 100%|██████████| 9/9 [01:19<00:00,  8.79s/it]\n"
     ]
    },
    {
     "name": "stdout",
     "output_type": "stream",
     "text": [
      "BAC Saved to agg_cache /Users/davidbrazda/Library/Application Support/v2realbot/aggcache/BAC-AggType.OHLCV-1-2024-01-01T09-30-00-2024-10-20T16-00-00-4679BCFMOPUVWZ-100-True.parquet\n"
     ]
    }
   ],
   "source": [
    "#This is how to call LOAD function\n",
    "symbol = [\"BAC\"]\n",
    "#datetime in zoneNY \n",
    "day_start = datetime(2024, 1, 1, 9, 30, 0)\n",
    "day_stop = datetime(2024, 10, 20, 16, 0, 0)\n",
    "day_start = zoneNY.localize(day_start)\n",
    "day_stop = zoneNY.localize(day_stop)\n",
    "\n",
    "#requested AGG\n",
    "resolution = 1 #12s bars\n",
    "agg_type = AggType.OHLCV #other types AggType.OHLCV_VOL, AggType.OHLCV_DOL, AggType.OHLCV_RENKO\n",
    "exclude_conditions = ['C','O','4','B','7','V','P','W','U','Z','F','9','M','6'] #None to defaults\n",
    "minsize = 100 #min trade size to include\n",
    "main_session_only = True\n",
    "force_remote = False\n",
    "\n",
    "bac_data = load_data(symbol = symbol,\n",
    "                     agg_type = agg_type,\n",
    "                     resolution = resolution,\n",
    "                     start_date = day_start,\n",
    "                     end_date = day_stop,\n",
    "                     #exclude_conditions = None,\n",
    "                     minsize = minsize,\n",
    "                     main_session_only = main_session_only,\n",
    "                     force_remote = force_remote,\n",
    "                     return_vbt = True, #returns vbt object\n",
    "                     verbose = True\n",
    "                     )"
   ]
  },
  {
   "cell_type": "code",
   "execution_count": 36,
   "metadata": {},
   "outputs": [
    {
     "data": {
      "text/html": [
       "<div>\n",
       "<style scoped>\n",
       "    .dataframe tbody tr th:only-of-type {\n",
       "        vertical-align: middle;\n",
       "    }\n",
       "\n",
       "    .dataframe tbody tr th {\n",
       "        vertical-align: top;\n",
       "    }\n",
       "\n",
       "    .dataframe thead th {\n",
       "        text-align: right;\n",
       "    }\n",
       "</style>\n",
       "<table border=\"1\" class=\"dataframe\">\n",
       "  <thead>\n",
       "    <tr style=\"text-align: right;\">\n",
       "      <th></th>\n",
       "      <th>open</th>\n",
       "      <th>high</th>\n",
       "      <th>low</th>\n",
       "      <th>close</th>\n",
       "      <th>volume</th>\n",
       "    </tr>\n",
       "    <tr>\n",
       "      <th>time</th>\n",
       "      <th></th>\n",
       "      <th></th>\n",
       "      <th></th>\n",
       "      <th></th>\n",
       "      <th></th>\n",
       "    </tr>\n",
       "  </thead>\n",
       "  <tbody>\n",
       "    <tr>\n",
       "      <th>2024-10-01 00:00:00-04:00</th>\n",
       "      <td>39.52</td>\n",
       "      <td>39.5360</td>\n",
       "      <td>38.9400</td>\n",
       "      <td>39.1000</td>\n",
       "      <td>14717405.0</td>\n",
       "    </tr>\n",
       "    <tr>\n",
       "      <th>2024-10-02 00:00:00-04:00</th>\n",
       "      <td>39.20</td>\n",
       "      <td>39.5400</td>\n",
       "      <td>39.0300</td>\n",
       "      <td>39.2300</td>\n",
       "      <td>14571696.0</td>\n",
       "    </tr>\n",
       "    <tr>\n",
       "      <th>2024-10-03 00:00:00-04:00</th>\n",
       "      <td>39.07</td>\n",
       "      <td>39.2899</td>\n",
       "      <td>38.7250</td>\n",
       "      <td>39.2700</td>\n",
       "      <td>13968494.0</td>\n",
       "    </tr>\n",
       "    <tr>\n",
       "      <th>2024-10-04 00:00:00-04:00</th>\n",
       "      <td>39.26</td>\n",
       "      <td>40.2500</td>\n",
       "      <td>39.2600</td>\n",
       "      <td>40.0505</td>\n",
       "      <td>19414200.0</td>\n",
       "    </tr>\n",
       "    <tr>\n",
       "      <th>2024-10-05 00:00:00-04:00</th>\n",
       "      <td>NaN</td>\n",
       "      <td>NaN</td>\n",
       "      <td>NaN</td>\n",
       "      <td>NaN</td>\n",
       "      <td>NaN</td>\n",
       "    </tr>\n",
       "    <tr>\n",
       "      <th>2024-10-06 00:00:00-04:00</th>\n",
       "      <td>NaN</td>\n",
       "      <td>NaN</td>\n",
       "      <td>NaN</td>\n",
       "      <td>NaN</td>\n",
       "      <td>NaN</td>\n",
       "    </tr>\n",
       "    <tr>\n",
       "      <th>2024-10-07 00:00:00-04:00</th>\n",
       "      <td>40.06</td>\n",
       "      <td>40.4350</td>\n",
       "      <td>39.7101</td>\n",
       "      <td>39.9300</td>\n",
       "      <td>14750102.0</td>\n",
       "    </tr>\n",
       "    <tr>\n",
       "      <th>2024-10-08 00:00:00-04:00</th>\n",
       "      <td>39.81</td>\n",
       "      <td>40.1500</td>\n",
       "      <td>39.8050</td>\n",
       "      <td>39.9015</td>\n",
       "      <td>15025260.0</td>\n",
       "    </tr>\n",
       "    <tr>\n",
       "      <th>2024-10-09 00:00:00-04:00</th>\n",
       "      <td>39.99</td>\n",
       "      <td>40.3850</td>\n",
       "      <td>39.7200</td>\n",
       "      <td>40.0600</td>\n",
       "      <td>17112678.0</td>\n",
       "    </tr>\n",
       "    <tr>\n",
       "      <th>2024-10-10 00:00:00-04:00</th>\n",
       "      <td>40.03</td>\n",
       "      <td>40.1700</td>\n",
       "      <td>39.7700</td>\n",
       "      <td>39.9600</td>\n",
       "      <td>15546989.0</td>\n",
       "    </tr>\n",
       "    <tr>\n",
       "      <th>2024-10-11 00:00:00-04:00</th>\n",
       "      <td>39.81</td>\n",
       "      <td>42.1700</td>\n",
       "      <td>39.6800</td>\n",
       "      <td>41.9800</td>\n",
       "      <td>30668853.0</td>\n",
       "    </tr>\n",
       "    <tr>\n",
       "      <th>2024-10-12 00:00:00-04:00</th>\n",
       "      <td>NaN</td>\n",
       "      <td>NaN</td>\n",
       "      <td>NaN</td>\n",
       "      <td>NaN</td>\n",
       "      <td>NaN</td>\n",
       "    </tr>\n",
       "    <tr>\n",
       "      <th>2024-10-13 00:00:00-04:00</th>\n",
       "      <td>NaN</td>\n",
       "      <td>NaN</td>\n",
       "      <td>NaN</td>\n",
       "      <td>NaN</td>\n",
       "      <td>NaN</td>\n",
       "    </tr>\n",
       "    <tr>\n",
       "      <th>2024-10-14 00:00:00-04:00</th>\n",
       "      <td>41.95</td>\n",
       "      <td>42.2500</td>\n",
       "      <td>41.7200</td>\n",
       "      <td>42.0500</td>\n",
       "      <td>18544865.0</td>\n",
       "    </tr>\n",
       "    <tr>\n",
       "      <th>2024-10-15 00:00:00-04:00</th>\n",
       "      <td>44.50</td>\n",
       "      <td>44.5000</td>\n",
       "      <td>41.5000</td>\n",
       "      <td>42.1701</td>\n",
       "      <td>34621969.0</td>\n",
       "    </tr>\n",
       "    <tr>\n",
       "      <th>2024-10-16 00:00:00-04:00</th>\n",
       "      <td>42.13</td>\n",
       "      <td>43.1000</td>\n",
       "      <td>41.9300</td>\n",
       "      <td>42.7800</td>\n",
       "      <td>24808432.0</td>\n",
       "    </tr>\n",
       "    <tr>\n",
       "      <th>2024-10-17 00:00:00-04:00</th>\n",
       "      <td>42.84</td>\n",
       "      <td>43.0000</td>\n",
       "      <td>42.1500</td>\n",
       "      <td>42.5700</td>\n",
       "      <td>18587214.0</td>\n",
       "    </tr>\n",
       "    <tr>\n",
       "      <th>2024-10-18 00:00:00-04:00</th>\n",
       "      <td>42.60</td>\n",
       "      <td>42.8400</td>\n",
       "      <td>42.1100</td>\n",
       "      <td>42.3300</td>\n",
       "      <td>18529655.0</td>\n",
       "    </tr>\n",
       "  </tbody>\n",
       "</table>\n",
       "</div>"
      ],
      "text/plain": [
       "                            open     high      low    close      volume\n",
       "time                                                                   \n",
       "2024-10-01 00:00:00-04:00  39.52  39.5360  38.9400  39.1000  14717405.0\n",
       "2024-10-02 00:00:00-04:00  39.20  39.5400  39.0300  39.2300  14571696.0\n",
       "2024-10-03 00:00:00-04:00  39.07  39.2899  38.7250  39.2700  13968494.0\n",
       "2024-10-04 00:00:00-04:00  39.26  40.2500  39.2600  40.0505  19414200.0\n",
       "2024-10-05 00:00:00-04:00    NaN      NaN      NaN      NaN         NaN\n",
       "2024-10-06 00:00:00-04:00    NaN      NaN      NaN      NaN         NaN\n",
       "2024-10-07 00:00:00-04:00  40.06  40.4350  39.7101  39.9300  14750102.0\n",
       "2024-10-08 00:00:00-04:00  39.81  40.1500  39.8050  39.9015  15025260.0\n",
       "2024-10-09 00:00:00-04:00  39.99  40.3850  39.7200  40.0600  17112678.0\n",
       "2024-10-10 00:00:00-04:00  40.03  40.1700  39.7700  39.9600  15546989.0\n",
       "2024-10-11 00:00:00-04:00  39.81  42.1700  39.6800  41.9800  30668853.0\n",
       "2024-10-12 00:00:00-04:00    NaN      NaN      NaN      NaN         NaN\n",
       "2024-10-13 00:00:00-04:00    NaN      NaN      NaN      NaN         NaN\n",
       "2024-10-14 00:00:00-04:00  41.95  42.2500  41.7200  42.0500  18544865.0\n",
       "2024-10-15 00:00:00-04:00  44.50  44.5000  41.5000  42.1701  34621969.0\n",
       "2024-10-16 00:00:00-04:00  42.13  43.1000  41.9300  42.7800  24808432.0\n",
       "2024-10-17 00:00:00-04:00  42.84  43.0000  42.1500  42.5700  18587214.0\n",
       "2024-10-18 00:00:00-04:00  42.60  42.8400  42.1100  42.3300  18529655.0"
      ]
     },
     "execution_count": 36,
     "metadata": {},
     "output_type": "execute_result"
    }
   ],
   "source": [
    "bac_data._feature_config = _feature_config\n",
    "\n",
    "res_data = bac_data[['open', 'high', 'low', 'close', 'volume']].resample(\"1D\")\n",
    "#res_data = res_data.transform(lambda df: df.between_time('09:30', '16:00').dropna())\n",
    "\n",
    "\n",
    "res_data.data[\"BAC\"]\n"
   ]
  },
  {
   "cell_type": "code",
   "execution_count": 3,
   "metadata": {},
   "outputs": [],
   "source": [
    "import pandas as pd\n",
    "import numpy as np\n",
    "import plotly.express as px\n",
    "\n",
    "def get_trend(df, timeframe_seconds):\n",
    "    \"\"\"Calculate trend using timeframe-scaled EMAs\"\"\"\n",
    "    # Scale EMA periods based on timeframe\n",
    "    scale_factor = timeframe_seconds / 60\n",
    "    \n",
    "    # Round to nearest integer but ensure minimum periods\n",
    "    fast_period = max(3, round(8 * np.sqrt(scale_factor)))\n",
    "    slow_period = max(6, round(21 * np.sqrt(scale_factor)))\n",
    "    \n",
    "    # Calculate scaled EMAs\n",
    "    df['ema_fast'] = df['close'].ewm(span=fast_period).mean()\n",
    "    df['ema_slow'] = df['close'].ewm(span=slow_period).mean()\n",
    "    \n",
    "    # Combine signals with more weight on EMAs for stability\n",
    "    trend = np.sign(\n",
    "        0.3 * (df['close'] - df['open']) +  # Price action (30% weight)\n",
    "        0.7 * (df['ema_fast'] - df['ema_slow'])  # Trend structure (70% weight)\n",
    "    )\n",
    "    return trend, fast_period, slow_period\n",
    "\n",
    "def resample_data(symbol, vbtobj, timeframe):\n",
    "    \"\"\"Resample data to specified timeframe\"\"\"\n",
    "    res_data = vbtobj[['open', 'high', 'low', 'close', 'volume']].resample(f\"{timeframe}s\")\n",
    "    if timeframe < 86400:\n",
    "        res_data = res_data.transform(lambda df: df.between_time('09:30', '16:00').dropna())\n",
    "    return res_data.data[symbol]\n",
    "\n",
    "def analyze_trend_predictions(base_data, symbol, min_seconds=12, max_seconds=3600):\n",
    "    \"\"\"Analyze how well different timeframe resolutions predict daily trends.\"\"\"\n",
    "    \n",
    "    # Generate timeframes to test\n",
    "    timeframes = []\n",
    "    current_tf = min_seconds\n",
    "    while current_tf <= max_seconds:\n",
    "        timeframes.append(current_tf)\n",
    "        if current_tf < 60:\n",
    "            current_tf += 12\n",
    "        elif current_tf < 300:\n",
    "            current_tf += 60\n",
    "        else:\n",
    "            current_tf += 300\n",
    "\n",
    "    # Get daily data and calculate its trend\n",
    "    daily_df = resample_data(symbol, base_data, 86400)\n",
    "    daily_trend, daily_fast, daily_slow = get_trend(daily_df, 86400)\n",
    "    daily_df['daily_trend'] = daily_trend\n",
    "    \n",
    "    results = []\n",
    "    \n",
    "    for tf in timeframes:\n",
    "        # Resample data to current timeframe\n",
    "        tf_df = resample_data(symbol, base_data, tf)\n",
    "        \n",
    "        if tf_df.empty:\n",
    "            continue\n",
    "            \n",
    "        # Calculate trends with scaled EMAs\n",
    "        tf_trend, fast_period, slow_period = get_trend(tf_df, tf)\n",
    "        tf_df['tf_trend'] = tf_trend\n",
    "        \n",
    "        # Calculate metrics per day\n",
    "        daily_metrics = []\n",
    "        \n",
    "        for date, group in tf_df.groupby(tf_df.index.date):\n",
    "            # Get daily trend for this date\n",
    "            try:\n",
    "                daily_row = daily_df[daily_df.index.date == date].iloc[0]\n",
    "                daily_trend = daily_row['daily_trend']\n",
    "                \n",
    "                # Ensure we have enough data for this day\n",
    "                if len(group) < 4:  # Minimum 4 bars per day\n",
    "                    continue\n",
    "                \n",
    "                # Split day into periods\n",
    "                day_quarters = np.array_split(group, 4)\n",
    "                \n",
    "                metrics = {\n",
    "                    'timeframe': tf,\n",
    "                    'timeframe_readable': format_seconds(tf),\n",
    "                    'fast_period': fast_period,\n",
    "                    'slow_period': slow_period,\n",
    "                    \n",
    "                    # Trend alignment (how well does this timeframe predict daily trend)\n",
    "                    'trend_alignment': np.mean(tf_trend == daily_trend),\n",
    "                    \n",
    "                    # Early prediction (first quarter of day)\n",
    "                    'early_trend_alignment': np.mean(day_quarters[0]['tf_trend'] == daily_trend),\n",
    "                    \n",
    "                    # Trend consistency (how stable are the signals)\n",
    "                    'trend_consistency': 1 - (np.diff(tf_trend) != 0).mean(),\n",
    "                    \n",
    "                    # Range ratio (normalized to daily range)\n",
    "                    'avg_range_ratio': (\n",
    "                        (group['high'].max() - group['low'].min()) / \n",
    "                        (daily_row['high'] - daily_row['low'])\n",
    "                    )\n",
    "                }\n",
    "                \n",
    "                daily_metrics.append(metrics)\n",
    "                \n",
    "            except (IndexError, KeyError):\n",
    "                continue\n",
    "        \n",
    "        if not daily_metrics:\n",
    "            continue\n",
    "            \n",
    "        # Average metrics across days\n",
    "        metrics_df = pd.DataFrame(daily_metrics).dropna()\n",
    "        avg_metrics = metrics_df.select_dtypes(include=[np.number]).mean()\n",
    "        \n",
    "        # Add back non-numeric columns we want to keep\n",
    "        avg_metrics['timeframe'] = metrics_df['timeframe'].iloc[0]\n",
    "        avg_metrics['timeframe_readable'] = metrics_df['timeframe_readable'].iloc[0]\n",
    "        \n",
    "        results.append(avg_metrics)\n",
    "    \n",
    "    return pd.DataFrame(results)\n",
    "\n",
    "def format_seconds(seconds):\n",
    "    \"\"\"Convert seconds to readable format\"\"\"\n",
    "    if seconds < 60:\n",
    "        return f\"{seconds}s\"\n",
    "    elif seconds < 3600:\n",
    "        minutes = seconds // 60\n",
    "        remaining_seconds = seconds % 60\n",
    "        if remaining_seconds == 0:\n",
    "            return f\"{minutes}m\"\n",
    "        return f\"{minutes}m{remaining_seconds}s\"\n",
    "    else:\n",
    "        hours = seconds // 3600\n",
    "        remaining_minutes = (seconds % 3600) // 60\n",
    "        if remaining_minutes == 0:\n",
    "            return f\"{hours}h\"\n",
    "        return f\"{hours}h{remaining_minutes}m\"\n",
    "\n",
    "def plot_metrics_heatmap(results_df):\n",
    "    \"\"\"Create a heatmap visualization of the metrics\"\"\"\n",
    "    metrics = ['trend_alignment', 'early_trend_alignment', \n",
    "               'trend_consistency', 'avg_range_ratio']\n",
    "    \n",
    "    metric_labels = {\n",
    "        'trend_alignment': 'Overall Trend Alignment',\n",
    "        'early_trend_alignment': 'Early Day Trend Alignment',\n",
    "        'trend_consistency': 'Trend Consistency',\n",
    "        'avg_range_ratio': 'Avg Range Ratio'\n",
    "    }\n",
    "    \n",
    "    # Prepare data for plotting\n",
    "    plot_df = results_df.set_index('timeframe_readable')[metrics]\n",
    "    \n",
    "    # Create heatmap\n",
    "    fig = px.imshow(\n",
    "        plot_df.T,\n",
    "        labels=dict(x='Timeframe', y='Metric', color='Score'),\n",
    "        title='Timeframe Resolution Analysis with Scaled EMAs',\n",
    "        color_continuous_scale='RdYlBu',\n",
    "        aspect='auto'\n",
    "    )\n",
    "    \n",
    "    # Update layout\n",
    "    fig.update_layout(\n",
    "        xaxis_title='Timeframe Resolution (with EMA periods)',\n",
    "        yaxis_title='Metric',\n",
    "        xaxis={'tickangle': 45},\n",
    "        yaxis={'ticktext': list(metric_labels.values()),\n",
    "               'tickvals': list(range(len(metrics)))}\n",
    "    )\n",
    "    \n",
    "    fig.show()\n",
    "    return\n",
    "\n",
    "def create_visualizations(results_df):\n",
    "    \"\"\"Create multiple visualizations for timeframe analysis\"\"\"\n",
    "    import plotly.graph_objects as go\n",
    "    from plotly.subplots import make_subplots\n",
    "    \n",
    "    # 1. Main metrics line plot\n",
    "    fig1 = go.Figure()\n",
    "    \n",
    "    metrics = ['trend_alignment', 'early_trend_alignment', 'trend_consistency', 'avg_range_ratio']\n",
    "    colors = ['rgb(31, 119, 180)', 'rgb(255, 127, 14)', \n",
    "              'rgb(44, 160, 44)', 'rgb(214, 39, 40)']\n",
    "    \n",
    "    for metric, color in zip(metrics, colors):\n",
    "        fig1.add_trace(go.Scatter(\n",
    "            x=results_df['timeframe'],\n",
    "            y=results_df[metric],\n",
    "            name=metric.replace('_', ' ').title(),\n",
    "            line=dict(color=color),\n",
    "            mode='lines+markers'\n",
    "        ))\n",
    "    \n",
    "    fig1.update_layout(\n",
    "        title='Metrics vs Timeframe Resolution',\n",
    "        xaxis_title='Timeframe (seconds)',\n",
    "        yaxis_title='Score',\n",
    "        hovermode='x unified',\n",
    "        legend=dict(\n",
    "            yanchor=\"top\",\n",
    "            y=0.99,\n",
    "            xanchor=\"left\",\n",
    "            x=0.01\n",
    "        )\n",
    "    )\n",
    "    \n",
    "    # 2. EMA Periods vs Performance\n",
    "    fig2 = make_subplots(rows=1, cols=2, \n",
    "                        subplot_titles=('Fast EMA Period vs Overall Score', \n",
    "                                      'Slow EMA Period vs Overall Score'))\n",
    "    \n",
    "    fig2.add_trace(\n",
    "        go.Scatter(x=results_df['fast_period'], \n",
    "                  y=results_df['overall_score'],\n",
    "                  mode='markers',\n",
    "                  marker=dict(\n",
    "                      size=10,\n",
    "                      color=results_df['timeframe'],\n",
    "                      colorscale='Viridis',\n",
    "                      showscale=True,\n",
    "                      colorbar=dict(title='Timeframe (s)')\n",
    "                  ),\n",
    "                  name='Fast EMA'),\n",
    "        row=1, col=1\n",
    "    )\n",
    "    \n",
    "    fig2.add_trace(\n",
    "        go.Scatter(x=results_df['slow_period'], \n",
    "                  y=results_df['overall_score'],\n",
    "                  mode='markers',\n",
    "                  marker=dict(\n",
    "                      size=10,\n",
    "                      color=results_df['timeframe'],\n",
    "                      colorscale='Viridis',\n",
    "                      showscale=False\n",
    "                  ),\n",
    "                  name='Slow EMA'),\n",
    "        row=1, col=2\n",
    "    )\n",
    "    \n",
    "    fig2.update_layout(\n",
    "        title='EMA Periods Impact on Performance',\n",
    "        height=500,\n",
    "        showlegend=False,\n",
    "        hovermode='closest'\n",
    "    )\n",
    "    \n",
    "    # 3. Performance matrix\n",
    "    fig3 = make_subplots(rows=1, cols=2,\n",
    "                        subplot_titles=('Trend Prediction Performance',\n",
    "                                      'Signal Quality Metrics'))\n",
    "    \n",
    "    # Trend prediction performance\n",
    "    fig3.add_trace(\n",
    "        go.Bar(x=results_df['timeframe_readable'],\n",
    "               y=results_df['trend_alignment'],\n",
    "               name='Overall Trend',\n",
    "               marker_color='rgb(31, 119, 180)'),\n",
    "        row=1, col=1\n",
    "    )\n",
    "    \n",
    "    fig3.add_trace(\n",
    "        go.Bar(x=results_df['timeframe_readable'],\n",
    "               y=results_df['early_trend_alignment'],\n",
    "               name='Early Trend',\n",
    "               marker_color='rgb(255, 127, 14)'),\n",
    "        row=1, col=1\n",
    "    )\n",
    "    \n",
    "    # Signal quality metrics\n",
    "    fig3.add_trace(\n",
    "        go.Bar(x=results_df['timeframe_readable'],\n",
    "               y=results_df['trend_consistency'],\n",
    "               name='Consistency',\n",
    "               marker_color='rgb(44, 160, 44)'),\n",
    "        row=1, col=2\n",
    "    )\n",
    "    \n",
    "    fig3.add_trace(\n",
    "        go.Bar(x=results_df['timeframe_readable'],\n",
    "               y=results_df['avg_range_ratio'],\n",
    "               name='Range Ratio',\n",
    "               marker_color='rgb(214, 39, 40)'),\n",
    "        row=1, col=2\n",
    "    )\n",
    "    \n",
    "    fig3.update_layout(\n",
    "        title='Detailed Performance Analysis by Timeframe',\n",
    "        height=500,\n",
    "        showlegend=True,\n",
    "        legend=dict(orientation=\"h\",\n",
    "                   yanchor=\"bottom\",\n",
    "                   y=1.02,\n",
    "                   xanchor=\"right\",\n",
    "                   x=1)\n",
    "    )\n",
    "    \n",
    "    fig3.update_xaxes(tickangle=45)\n",
    "    \n",
    "    # 4. Correlation analysis\n",
    "    corr_matrix = results_df[['trend_alignment', 'early_trend_alignment', \n",
    "                             'trend_consistency', 'avg_range_ratio', \n",
    "                             'overall_score']].corr()\n",
    "    \n",
    "    fig4 = go.Figure(data=go.Heatmap(\n",
    "        z=corr_matrix,\n",
    "        x=corr_matrix.columns,\n",
    "        y=corr_matrix.index,\n",
    "        colorscale='RdBu',\n",
    "        zmin=-1,\n",
    "        zmax=1,\n",
    "        text=np.round(corr_matrix, 2),\n",
    "        texttemplate='%{text}',\n",
    "        textfont={\"size\": 10},\n",
    "        hoverongaps=False\n",
    "    ))\n",
    "    \n",
    "    fig4.update_layout(\n",
    "        title='Correlation Matrix of Metrics',\n",
    "        height=500,\n",
    "        width=700\n",
    "    )\n",
    "\n",
    "    fig1.show()\n",
    "    fig2.show()\n",
    "    fig3.show()\n",
    "    fig4.show()\n",
    "    return\n",
    "\n",
    "def main(base_data, symbol):\n",
    "    \"\"\"Main function to run the analysis\"\"\"\n",
    "    \n",
    "    # Run analysis\n",
    "    results_df = analyze_trend_predictions(base_data, symbol, min_seconds=12, max_seconds=3600) #tested resolutions\n",
    "\n",
    "    # Create visualizations\n",
    "    plot_metrics_heatmap(results_df)\n",
    "\n",
    "    # Calculate overall score with weighted metrics\n",
    "    weights = {\n",
    "        'trend_alignment': 0.4,\n",
    "        'early_trend_alignment': 0.3,\n",
    "        'trend_consistency': 0.2,\n",
    "        'avg_range_ratio': 0.1\n",
    "    }\n",
    "\n",
    "    results_df['overall_score'] = sum(\n",
    "        results_df[metric] * weight \n",
    "        for metric, weight in weights.items()\n",
    "    )\n",
    "\n",
    "    create_visualizations(results_df)\n",
    "\n",
    "    # Display top 5 timeframes\n",
    "    print(\"\\nTop 5 timeframes by overall weighted score:\")\n",
    "    top_5 = results_df.nlargest(5, 'overall_score')\n",
    "    for _, row in top_5.iterrows():\n",
    "        print(f\"{row['timeframe_readable']} \"\n",
    "              f\"(EMAs: {int(row['fast_period'])}/{int(row['slow_period'])})\")\n",
    "        print(f\"- Overall Score: {row['overall_score']:.4f}\")\n",
    "        print(f\"- Trend Alignment: {row['trend_alignment']:.4f}\")\n",
    "        print(f\"- Early Trend Alignment: {row['early_trend_alignment']:.4f}\")\n",
    "        print(f\"- Trend Consistency: {row['trend_consistency']:.4f}\")\n",
    "        print(f\"- Avg Range Ratio: {row['avg_range_ratio']:.4f}\\n\")"
   ]
  },
  {
   "cell_type": "code",
   "execution_count": 4,
   "metadata": {},
   "outputs": [
    {
     "name": "stderr",
     "output_type": "stream",
     "text": [
      "/Users/davidbrazda/Documents/Development/python/mlroom/.venv/lib/python3.10/site-packages/numpy/core/fromnumeric.py:57: FutureWarning: 'DataFrame.swapaxes' is deprecated and will be removed in a future version. Please use 'DataFrame.transpose' instead.\n",
      "  return bound(*args, **kwds)\n",
      "/Users/davidbrazda/Documents/Development/python/mlroom/.venv/lib/python3.10/site-packages/numpy/core/fromnumeric.py:57: FutureWarning: 'DataFrame.swapaxes' is deprecated and will be removed in a future version. Please use 'DataFrame.transpose' instead.\n",
      "  return bound(*args, **kwds)\n",
      "/Users/davidbrazda/Documents/Development/python/mlroom/.venv/lib/python3.10/site-packages/numpy/core/fromnumeric.py:57: FutureWarning: 'DataFrame.swapaxes' is deprecated and will be removed in a future version. Please use 'DataFrame.transpose' instead.\n",
      "  return bound(*args, **kwds)\n",
      "/Users/davidbrazda/Documents/Development/python/mlroom/.venv/lib/python3.10/site-packages/numpy/core/fromnumeric.py:57: FutureWarning: 'DataFrame.swapaxes' is deprecated and will be removed in a future version. Please use 'DataFrame.transpose' instead.\n",
      "  return bound(*args, **kwds)\n",
      "/Users/davidbrazda/Documents/Development/python/mlroom/.venv/lib/python3.10/site-packages/numpy/core/fromnumeric.py:57: FutureWarning: 'DataFrame.swapaxes' is deprecated and will be removed in a future version. Please use 'DataFrame.transpose' instead.\n",
      "  return bound(*args, **kwds)\n",
      "/Users/davidbrazda/Documents/Development/python/mlroom/.venv/lib/python3.10/site-packages/numpy/core/fromnumeric.py:57: FutureWarning: 'DataFrame.swapaxes' is deprecated and will be removed in a future version. Please use 'DataFrame.transpose' instead.\n",
      "  return bound(*args, **kwds)\n",
      "/Users/davidbrazda/Documents/Development/python/mlroom/.venv/lib/python3.10/site-packages/numpy/core/fromnumeric.py:57: FutureWarning: 'DataFrame.swapaxes' is deprecated and will be removed in a future version. Please use 'DataFrame.transpose' instead.\n",
      "  return bound(*args, **kwds)\n",
      "/Users/davidbrazda/Documents/Development/python/mlroom/.venv/lib/python3.10/site-packages/numpy/core/fromnumeric.py:57: FutureWarning: 'DataFrame.swapaxes' is deprecated and will be removed in a future version. Please use 'DataFrame.transpose' instead.\n",
      "  return bound(*args, **kwds)\n",
      "/Users/davidbrazda/Documents/Development/python/mlroom/.venv/lib/python3.10/site-packages/numpy/core/fromnumeric.py:57: FutureWarning: 'DataFrame.swapaxes' is deprecated and will be removed in a future version. Please use 'DataFrame.transpose' instead.\n",
      "  return bound(*args, **kwds)\n",
      "/Users/davidbrazda/Documents/Development/python/mlroom/.venv/lib/python3.10/site-packages/numpy/core/fromnumeric.py:57: FutureWarning: 'DataFrame.swapaxes' is deprecated and will be removed in a future version. Please use 'DataFrame.transpose' instead.\n",
      "  return bound(*args, **kwds)\n",
      "/Users/davidbrazda/Documents/Development/python/mlroom/.venv/lib/python3.10/site-packages/numpy/core/fromnumeric.py:57: FutureWarning: 'DataFrame.swapaxes' is deprecated and will be removed in a future version. Please use 'DataFrame.transpose' instead.\n",
      "  return bound(*args, **kwds)\n",
      "/Users/davidbrazda/Documents/Development/python/mlroom/.venv/lib/python3.10/site-packages/numpy/core/fromnumeric.py:57: FutureWarning: 'DataFrame.swapaxes' is deprecated and will be removed in a future version. Please use 'DataFrame.transpose' instead.\n",
      "  return bound(*args, **kwds)\n",
      "/Users/davidbrazda/Documents/Development/python/mlroom/.venv/lib/python3.10/site-packages/numpy/core/fromnumeric.py:57: FutureWarning: 'DataFrame.swapaxes' is deprecated and will be removed in a future version. Please use 'DataFrame.transpose' instead.\n",
      "  return bound(*args, **kwds)\n",
      "/Users/davidbrazda/Documents/Development/python/mlroom/.venv/lib/python3.10/site-packages/numpy/core/fromnumeric.py:57: FutureWarning: 'DataFrame.swapaxes' is deprecated and will be removed in a future version. Please use 'DataFrame.transpose' instead.\n",
      "  return bound(*args, **kwds)\n",
      "/Users/davidbrazda/Documents/Development/python/mlroom/.venv/lib/python3.10/site-packages/numpy/core/fromnumeric.py:57: FutureWarning: 'DataFrame.swapaxes' is deprecated and will be removed in a future version. Please use 'DataFrame.transpose' instead.\n",
      "  return bound(*args, **kwds)\n",
      "/Users/davidbrazda/Documents/Development/python/mlroom/.venv/lib/python3.10/site-packages/numpy/core/fromnumeric.py:57: FutureWarning: 'DataFrame.swapaxes' is deprecated and will be removed in a future version. Please use 'DataFrame.transpose' instead.\n",
      "  return bound(*args, **kwds)\n",
      "/Users/davidbrazda/Documents/Development/python/mlroom/.venv/lib/python3.10/site-packages/numpy/core/fromnumeric.py:57: FutureWarning: 'DataFrame.swapaxes' is deprecated and will be removed in a future version. Please use 'DataFrame.transpose' instead.\n",
      "  return bound(*args, **kwds)\n",
      "/Users/davidbrazda/Documents/Development/python/mlroom/.venv/lib/python3.10/site-packages/numpy/core/fromnumeric.py:57: FutureWarning: 'DataFrame.swapaxes' is deprecated and will be removed in a future version. Please use 'DataFrame.transpose' instead.\n",
      "  return bound(*args, **kwds)\n",
      "/Users/davidbrazda/Documents/Development/python/mlroom/.venv/lib/python3.10/site-packages/numpy/core/fromnumeric.py:57: FutureWarning: 'DataFrame.swapaxes' is deprecated and will be removed in a future version. Please use 'DataFrame.transpose' instead.\n",
      "  return bound(*args, **kwds)\n",
      "/Users/davidbrazda/Documents/Development/python/mlroom/.venv/lib/python3.10/site-packages/numpy/core/fromnumeric.py:57: FutureWarning: 'DataFrame.swapaxes' is deprecated and will be removed in a future version. Please use 'DataFrame.transpose' instead.\n",
      "  return bound(*args, **kwds)\n"
     ]
    },
    {
     "data": {
      "application/vnd.plotly.v1+json": {
       "config": {
        "plotlyServerURL": "https://plot.ly"
       },
       "data": [
        {
         "coloraxis": "coloraxis",
         "hovertemplate": "Timeframe: %{x}<br>Metric: %{y}<br>Score: %{z}<extra></extra>",
         "name": "0",
         "type": "heatmap",
         "x": [
          "12s",
          "24s",
          "36s",
          "48s",
          "1m",
          "2m",
          "3m",
          "4m",
          "5m",
          "10m",
          "15m",
          "20m",
          "25m",
          "30m",
          "35m",
          "40m",
          "45m",
          "50m",
          "55m",
          "1h"
         ],
         "xaxis": "x",
         "y": [
          "trend_alignment",
          "early_trend_alignment",
          "trend_consistency",
          "avg_range_ratio"
         ],
         "yaxis": "y",
         "z": [
          [
           0.5066053317042705,
           0.5073444746750011,
           0.5065089153032536,
           0.5076933958349678,
           0.5091619583408906,
           0.5192673982779741,
           0.5237958662871489,
           0.5362803681744384,
           0.5454270678312045,
           0.5819739783067659,
           0.6081873337276895,
           0.6272989755962504,
           0.6388227373148258,
           0.6552401791796544,
           0.6745840782618283,
           0.7000374983919485,
           0.7222529531714883,
           0.7305286351195497,
           0.7375099277637002,
           0.736882340055524
          ],
          [
           0.5167380715929752,
           0.5215714947710834,
           0.5254247248721539,
           0.5368869946687586,
           0.5511261499418421,
           0.5939190343335421,
           0.5991304865701864,
           0.5995854922279793,
           0.5968911917098446,
           0.5818652849740933,
           0.6091783863804588,
           0.6113989637305699,
           0.6217616580310881,
           0.6411917098445595,
           0.6666666666666666,
           0.6873920552677029,
           0.7089810017271156,
           0.7150259067357513,
           0.7227979274611399,
           0.7072538860103627
          ],
          [
           0.7460569974092088,
           0.7926162988838713,
           0.8158464228960207,
           0.8318520886615518,
           0.8388328587775086,
           0.8713426960314924,
           0.8866156177713965,
           0.9008551576696955,
           0.9013289036544851,
           0.9305075737443532,
           0.946392985253089,
           0.9607308426506679,
           0.9581117021276595,
           0.9465922678357915,
           0.9352151781582598,
           0.9323467230443974,
           0.9367888748419724,
           0.9388297872340423,
           0.9401022644265888,
           0.9360967184801384
          ],
          [
           1,
           1,
           1,
           0.9752461324541327,
           1,
           1,
           1,
           0.9517670044329417,
           1,
           1,
           1,
           0.8802110189881674,
           0.8921700076485731,
           1,
           0.8645893191415654,
           0.8586589029757964,
           0.8034868960785068,
           0.8445142444008958,
           0.8302393273027773,
           0.7890960165626816
          ]
         ]
        }
       ],
       "layout": {
        "coloraxis": {
         "colorbar": {
          "title": {
           "text": "Score"
          }
         },
         "colorscale": [
          [
           0,
           "rgb(165,0,38)"
          ],
          [
           0.1,
           "rgb(215,48,39)"
          ],
          [
           0.2,
           "rgb(244,109,67)"
          ],
          [
           0.3,
           "rgb(253,174,97)"
          ],
          [
           0.4,
           "rgb(254,224,144)"
          ],
          [
           0.5,
           "rgb(255,255,191)"
          ],
          [
           0.6,
           "rgb(224,243,248)"
          ],
          [
           0.7,
           "rgb(171,217,233)"
          ],
          [
           0.8,
           "rgb(116,173,209)"
          ],
          [
           0.9,
           "rgb(69,117,180)"
          ],
          [
           1,
           "rgb(49,54,149)"
          ]
         ]
        },
        "template": {
         "data": {
          "bar": [
           {
            "error_x": {
             "color": "#2a3f5f"
            },
            "error_y": {
             "color": "#2a3f5f"
            },
            "marker": {
             "line": {
              "color": "#E5ECF6",
              "width": 0.5
             },
             "pattern": {
              "fillmode": "overlay",
              "size": 10,
              "solidity": 0.2
             }
            },
            "type": "bar"
           }
          ],
          "barpolar": [
           {
            "marker": {
             "line": {
              "color": "#E5ECF6",
              "width": 0.5
             },
             "pattern": {
              "fillmode": "overlay",
              "size": 10,
              "solidity": 0.2
             }
            },
            "type": "barpolar"
           }
          ],
          "carpet": [
           {
            "aaxis": {
             "endlinecolor": "#2a3f5f",
             "gridcolor": "white",
             "linecolor": "white",
             "minorgridcolor": "white",
             "startlinecolor": "#2a3f5f"
            },
            "baxis": {
             "endlinecolor": "#2a3f5f",
             "gridcolor": "white",
             "linecolor": "white",
             "minorgridcolor": "white",
             "startlinecolor": "#2a3f5f"
            },
            "type": "carpet"
           }
          ],
          "choropleth": [
           {
            "colorbar": {
             "outlinewidth": 0,
             "ticks": ""
            },
            "type": "choropleth"
           }
          ],
          "contour": [
           {
            "colorbar": {
             "outlinewidth": 0,
             "ticks": ""
            },
            "colorscale": [
             [
              0,
              "#0d0887"
             ],
             [
              0.1111111111111111,
              "#46039f"
             ],
             [
              0.2222222222222222,
              "#7201a8"
             ],
             [
              0.3333333333333333,
              "#9c179e"
             ],
             [
              0.4444444444444444,
              "#bd3786"
             ],
             [
              0.5555555555555556,
              "#d8576b"
             ],
             [
              0.6666666666666666,
              "#ed7953"
             ],
             [
              0.7777777777777778,
              "#fb9f3a"
             ],
             [
              0.8888888888888888,
              "#fdca26"
             ],
             [
              1,
              "#f0f921"
             ]
            ],
            "type": "contour"
           }
          ],
          "contourcarpet": [
           {
            "colorbar": {
             "outlinewidth": 0,
             "ticks": ""
            },
            "type": "contourcarpet"
           }
          ],
          "heatmap": [
           {
            "colorbar": {
             "outlinewidth": 0,
             "ticks": ""
            },
            "colorscale": [
             [
              0,
              "#0d0887"
             ],
             [
              0.1111111111111111,
              "#46039f"
             ],
             [
              0.2222222222222222,
              "#7201a8"
             ],
             [
              0.3333333333333333,
              "#9c179e"
             ],
             [
              0.4444444444444444,
              "#bd3786"
             ],
             [
              0.5555555555555556,
              "#d8576b"
             ],
             [
              0.6666666666666666,
              "#ed7953"
             ],
             [
              0.7777777777777778,
              "#fb9f3a"
             ],
             [
              0.8888888888888888,
              "#fdca26"
             ],
             [
              1,
              "#f0f921"
             ]
            ],
            "type": "heatmap"
           }
          ],
          "heatmapgl": [
           {
            "colorbar": {
             "outlinewidth": 0,
             "ticks": ""
            },
            "colorscale": [
             [
              0,
              "#0d0887"
             ],
             [
              0.1111111111111111,
              "#46039f"
             ],
             [
              0.2222222222222222,
              "#7201a8"
             ],
             [
              0.3333333333333333,
              "#9c179e"
             ],
             [
              0.4444444444444444,
              "#bd3786"
             ],
             [
              0.5555555555555556,
              "#d8576b"
             ],
             [
              0.6666666666666666,
              "#ed7953"
             ],
             [
              0.7777777777777778,
              "#fb9f3a"
             ],
             [
              0.8888888888888888,
              "#fdca26"
             ],
             [
              1,
              "#f0f921"
             ]
            ],
            "type": "heatmapgl"
           }
          ],
          "histogram": [
           {
            "marker": {
             "pattern": {
              "fillmode": "overlay",
              "size": 10,
              "solidity": 0.2
             }
            },
            "type": "histogram"
           }
          ],
          "histogram2d": [
           {
            "colorbar": {
             "outlinewidth": 0,
             "ticks": ""
            },
            "colorscale": [
             [
              0,
              "#0d0887"
             ],
             [
              0.1111111111111111,
              "#46039f"
             ],
             [
              0.2222222222222222,
              "#7201a8"
             ],
             [
              0.3333333333333333,
              "#9c179e"
             ],
             [
              0.4444444444444444,
              "#bd3786"
             ],
             [
              0.5555555555555556,
              "#d8576b"
             ],
             [
              0.6666666666666666,
              "#ed7953"
             ],
             [
              0.7777777777777778,
              "#fb9f3a"
             ],
             [
              0.8888888888888888,
              "#fdca26"
             ],
             [
              1,
              "#f0f921"
             ]
            ],
            "type": "histogram2d"
           }
          ],
          "histogram2dcontour": [
           {
            "colorbar": {
             "outlinewidth": 0,
             "ticks": ""
            },
            "colorscale": [
             [
              0,
              "#0d0887"
             ],
             [
              0.1111111111111111,
              "#46039f"
             ],
             [
              0.2222222222222222,
              "#7201a8"
             ],
             [
              0.3333333333333333,
              "#9c179e"
             ],
             [
              0.4444444444444444,
              "#bd3786"
             ],
             [
              0.5555555555555556,
              "#d8576b"
             ],
             [
              0.6666666666666666,
              "#ed7953"
             ],
             [
              0.7777777777777778,
              "#fb9f3a"
             ],
             [
              0.8888888888888888,
              "#fdca26"
             ],
             [
              1,
              "#f0f921"
             ]
            ],
            "type": "histogram2dcontour"
           }
          ],
          "mesh3d": [
           {
            "colorbar": {
             "outlinewidth": 0,
             "ticks": ""
            },
            "type": "mesh3d"
           }
          ],
          "parcoords": [
           {
            "line": {
             "colorbar": {
              "outlinewidth": 0,
              "ticks": ""
             }
            },
            "type": "parcoords"
           }
          ],
          "pie": [
           {
            "automargin": true,
            "type": "pie"
           }
          ],
          "scatter": [
           {
            "fillpattern": {
             "fillmode": "overlay",
             "size": 10,
             "solidity": 0.2
            },
            "type": "scatter"
           }
          ],
          "scatter3d": [
           {
            "line": {
             "colorbar": {
              "outlinewidth": 0,
              "ticks": ""
             }
            },
            "marker": {
             "colorbar": {
              "outlinewidth": 0,
              "ticks": ""
             }
            },
            "type": "scatter3d"
           }
          ],
          "scattercarpet": [
           {
            "marker": {
             "colorbar": {
              "outlinewidth": 0,
              "ticks": ""
             }
            },
            "type": "scattercarpet"
           }
          ],
          "scattergeo": [
           {
            "marker": {
             "colorbar": {
              "outlinewidth": 0,
              "ticks": ""
             }
            },
            "type": "scattergeo"
           }
          ],
          "scattergl": [
           {
            "marker": {
             "colorbar": {
              "outlinewidth": 0,
              "ticks": ""
             }
            },
            "type": "scattergl"
           }
          ],
          "scattermapbox": [
           {
            "marker": {
             "colorbar": {
              "outlinewidth": 0,
              "ticks": ""
             }
            },
            "type": "scattermapbox"
           }
          ],
          "scatterpolar": [
           {
            "marker": {
             "colorbar": {
              "outlinewidth": 0,
              "ticks": ""
             }
            },
            "type": "scatterpolar"
           }
          ],
          "scatterpolargl": [
           {
            "marker": {
             "colorbar": {
              "outlinewidth": 0,
              "ticks": ""
             }
            },
            "type": "scatterpolargl"
           }
          ],
          "scatterternary": [
           {
            "marker": {
             "colorbar": {
              "outlinewidth": 0,
              "ticks": ""
             }
            },
            "type": "scatterternary"
           }
          ],
          "surface": [
           {
            "colorbar": {
             "outlinewidth": 0,
             "ticks": ""
            },
            "colorscale": [
             [
              0,
              "#0d0887"
             ],
             [
              0.1111111111111111,
              "#46039f"
             ],
             [
              0.2222222222222222,
              "#7201a8"
             ],
             [
              0.3333333333333333,
              "#9c179e"
             ],
             [
              0.4444444444444444,
              "#bd3786"
             ],
             [
              0.5555555555555556,
              "#d8576b"
             ],
             [
              0.6666666666666666,
              "#ed7953"
             ],
             [
              0.7777777777777778,
              "#fb9f3a"
             ],
             [
              0.8888888888888888,
              "#fdca26"
             ],
             [
              1,
              "#f0f921"
             ]
            ],
            "type": "surface"
           }
          ],
          "table": [
           {
            "cells": {
             "fill": {
              "color": "#EBF0F8"
             },
             "line": {
              "color": "white"
             }
            },
            "header": {
             "fill": {
              "color": "#C8D4E3"
             },
             "line": {
              "color": "white"
             }
            },
            "type": "table"
           }
          ]
         },
         "layout": {
          "annotationdefaults": {
           "arrowcolor": "#2a3f5f",
           "arrowhead": 0,
           "arrowwidth": 1
          },
          "autotypenumbers": "strict",
          "coloraxis": {
           "colorbar": {
            "outlinewidth": 0,
            "ticks": ""
           }
          },
          "colorscale": {
           "diverging": [
            [
             0,
             "#8e0152"
            ],
            [
             0.1,
             "#c51b7d"
            ],
            [
             0.2,
             "#de77ae"
            ],
            [
             0.3,
             "#f1b6da"
            ],
            [
             0.4,
             "#fde0ef"
            ],
            [
             0.5,
             "#f7f7f7"
            ],
            [
             0.6,
             "#e6f5d0"
            ],
            [
             0.7,
             "#b8e186"
            ],
            [
             0.8,
             "#7fbc41"
            ],
            [
             0.9,
             "#4d9221"
            ],
            [
             1,
             "#276419"
            ]
           ],
           "sequential": [
            [
             0,
             "#0d0887"
            ],
            [
             0.1111111111111111,
             "#46039f"
            ],
            [
             0.2222222222222222,
             "#7201a8"
            ],
            [
             0.3333333333333333,
             "#9c179e"
            ],
            [
             0.4444444444444444,
             "#bd3786"
            ],
            [
             0.5555555555555556,
             "#d8576b"
            ],
            [
             0.6666666666666666,
             "#ed7953"
            ],
            [
             0.7777777777777778,
             "#fb9f3a"
            ],
            [
             0.8888888888888888,
             "#fdca26"
            ],
            [
             1,
             "#f0f921"
            ]
           ],
           "sequentialminus": [
            [
             0,
             "#0d0887"
            ],
            [
             0.1111111111111111,
             "#46039f"
            ],
            [
             0.2222222222222222,
             "#7201a8"
            ],
            [
             0.3333333333333333,
             "#9c179e"
            ],
            [
             0.4444444444444444,
             "#bd3786"
            ],
            [
             0.5555555555555556,
             "#d8576b"
            ],
            [
             0.6666666666666666,
             "#ed7953"
            ],
            [
             0.7777777777777778,
             "#fb9f3a"
            ],
            [
             0.8888888888888888,
             "#fdca26"
            ],
            [
             1,
             "#f0f921"
            ]
           ]
          },
          "colorway": [
           "#636efa",
           "#EF553B",
           "#00cc96",
           "#ab63fa",
           "#FFA15A",
           "#19d3f3",
           "#FF6692",
           "#B6E880",
           "#FF97FF",
           "#FECB52"
          ],
          "font": {
           "color": "#2a3f5f"
          },
          "geo": {
           "bgcolor": "white",
           "lakecolor": "white",
           "landcolor": "#E5ECF6",
           "showlakes": true,
           "showland": true,
           "subunitcolor": "white"
          },
          "hoverlabel": {
           "align": "left"
          },
          "hovermode": "closest",
          "mapbox": {
           "style": "light"
          },
          "paper_bgcolor": "white",
          "plot_bgcolor": "#E5ECF6",
          "polar": {
           "angularaxis": {
            "gridcolor": "white",
            "linecolor": "white",
            "ticks": ""
           },
           "bgcolor": "#E5ECF6",
           "radialaxis": {
            "gridcolor": "white",
            "linecolor": "white",
            "ticks": ""
           }
          },
          "scene": {
           "xaxis": {
            "backgroundcolor": "#E5ECF6",
            "gridcolor": "white",
            "gridwidth": 2,
            "linecolor": "white",
            "showbackground": true,
            "ticks": "",
            "zerolinecolor": "white"
           },
           "yaxis": {
            "backgroundcolor": "#E5ECF6",
            "gridcolor": "white",
            "gridwidth": 2,
            "linecolor": "white",
            "showbackground": true,
            "ticks": "",
            "zerolinecolor": "white"
           },
           "zaxis": {
            "backgroundcolor": "#E5ECF6",
            "gridcolor": "white",
            "gridwidth": 2,
            "linecolor": "white",
            "showbackground": true,
            "ticks": "",
            "zerolinecolor": "white"
           }
          },
          "shapedefaults": {
           "line": {
            "color": "#2a3f5f"
           }
          },
          "ternary": {
           "aaxis": {
            "gridcolor": "white",
            "linecolor": "white",
            "ticks": ""
           },
           "baxis": {
            "gridcolor": "white",
            "linecolor": "white",
            "ticks": ""
           },
           "bgcolor": "#E5ECF6",
           "caxis": {
            "gridcolor": "white",
            "linecolor": "white",
            "ticks": ""
           }
          },
          "title": {
           "x": 0.05
          },
          "xaxis": {
           "automargin": true,
           "gridcolor": "white",
           "linecolor": "white",
           "ticks": "",
           "title": {
            "standoff": 15
           },
           "zerolinecolor": "white",
           "zerolinewidth": 2
          },
          "yaxis": {
           "automargin": true,
           "gridcolor": "white",
           "linecolor": "white",
           "ticks": "",
           "title": {
            "standoff": 15
           },
           "zerolinecolor": "white",
           "zerolinewidth": 2
          }
         }
        },
        "title": {
         "text": "Timeframe Resolution Analysis with Scaled EMAs"
        },
        "xaxis": {
         "anchor": "y",
         "domain": [
          0,
          1
         ],
         "tickangle": 45,
         "title": {
          "text": "Timeframe Resolution (with EMA periods)"
         }
        },
        "yaxis": {
         "anchor": "x",
         "autorange": "reversed",
         "domain": [
          0,
          1
         ],
         "ticktext": [
          "Overall Trend Alignment",
          "Early Day Trend Alignment",
          "Trend Consistency",
          "Avg Range Ratio"
         ],
         "tickvals": [
          0,
          1,
          2,
          3
         ],
         "title": {
          "text": "Metric"
         }
        }
       }
      }
     },
     "metadata": {},
     "output_type": "display_data"
    },
    {
     "data": {
      "application/vnd.plotly.v1+json": {
       "config": {
        "plotlyServerURL": "https://plot.ly"
       },
       "data": [
        {
         "line": {
          "color": "rgb(31, 119, 180)"
         },
         "mode": "lines+markers",
         "name": "Trend Alignment",
         "type": "scatter",
         "x": [
          12,
          24,
          36,
          48,
          60,
          120,
          180,
          240,
          300,
          600,
          900,
          1200,
          1500,
          1800,
          2100,
          2400,
          2700,
          3000,
          3300,
          3600
         ],
         "y": [
          0.5066053317042705,
          0.5073444746750011,
          0.5065089153032536,
          0.5076933958349678,
          0.5091619583408906,
          0.5192673982779741,
          0.5237958662871489,
          0.5362803681744384,
          0.5454270678312045,
          0.5819739783067659,
          0.6081873337276895,
          0.6272989755962504,
          0.6388227373148258,
          0.6552401791796544,
          0.6745840782618283,
          0.7000374983919485,
          0.7222529531714883,
          0.7305286351195497,
          0.7375099277637002,
          0.736882340055524
         ]
        },
        {
         "line": {
          "color": "rgb(255, 127, 14)"
         },
         "mode": "lines+markers",
         "name": "Early Trend Alignment",
         "type": "scatter",
         "x": [
          12,
          24,
          36,
          48,
          60,
          120,
          180,
          240,
          300,
          600,
          900,
          1200,
          1500,
          1800,
          2100,
          2400,
          2700,
          3000,
          3300,
          3600
         ],
         "y": [
          0.5167380715929752,
          0.5215714947710834,
          0.5254247248721539,
          0.5368869946687586,
          0.5511261499418421,
          0.5939190343335421,
          0.5991304865701864,
          0.5995854922279793,
          0.5968911917098446,
          0.5818652849740933,
          0.6091783863804588,
          0.6113989637305699,
          0.6217616580310881,
          0.6411917098445595,
          0.6666666666666666,
          0.6873920552677029,
          0.7089810017271156,
          0.7150259067357513,
          0.7227979274611399,
          0.7072538860103627
         ]
        },
        {
         "line": {
          "color": "rgb(44, 160, 44)"
         },
         "mode": "lines+markers",
         "name": "Trend Consistency",
         "type": "scatter",
         "x": [
          12,
          24,
          36,
          48,
          60,
          120,
          180,
          240,
          300,
          600,
          900,
          1200,
          1500,
          1800,
          2100,
          2400,
          2700,
          3000,
          3300,
          3600
         ],
         "y": [
          0.7460569974092088,
          0.7926162988838713,
          0.8158464228960207,
          0.8318520886615518,
          0.8388328587775086,
          0.8713426960314924,
          0.8866156177713965,
          0.9008551576696955,
          0.9013289036544851,
          0.9305075737443532,
          0.946392985253089,
          0.9607308426506679,
          0.9581117021276595,
          0.9465922678357915,
          0.9352151781582598,
          0.9323467230443974,
          0.9367888748419724,
          0.9388297872340423,
          0.9401022644265888,
          0.9360967184801384
         ]
        },
        {
         "line": {
          "color": "rgb(214, 39, 40)"
         },
         "mode": "lines+markers",
         "name": "Avg Range Ratio",
         "type": "scatter",
         "x": [
          12,
          24,
          36,
          48,
          60,
          120,
          180,
          240,
          300,
          600,
          900,
          1200,
          1500,
          1800,
          2100,
          2400,
          2700,
          3000,
          3300,
          3600
         ],
         "y": [
          1,
          1,
          1,
          0.9752461324541327,
          1,
          1,
          1,
          0.9517670044329417,
          1,
          1,
          1,
          0.8802110189881674,
          0.8921700076485731,
          1,
          0.8645893191415654,
          0.8586589029757964,
          0.8034868960785068,
          0.8445142444008958,
          0.8302393273027773,
          0.7890960165626816
         ]
        }
       ],
       "layout": {
        "hovermode": "x unified",
        "legend": {
         "x": 0.01,
         "xanchor": "left",
         "y": 0.99,
         "yanchor": "top"
        },
        "template": {
         "data": {
          "bar": [
           {
            "error_x": {
             "color": "#2a3f5f"
            },
            "error_y": {
             "color": "#2a3f5f"
            },
            "marker": {
             "line": {
              "color": "#E5ECF6",
              "width": 0.5
             },
             "pattern": {
              "fillmode": "overlay",
              "size": 10,
              "solidity": 0.2
             }
            },
            "type": "bar"
           }
          ],
          "barpolar": [
           {
            "marker": {
             "line": {
              "color": "#E5ECF6",
              "width": 0.5
             },
             "pattern": {
              "fillmode": "overlay",
              "size": 10,
              "solidity": 0.2
             }
            },
            "type": "barpolar"
           }
          ],
          "carpet": [
           {
            "aaxis": {
             "endlinecolor": "#2a3f5f",
             "gridcolor": "white",
             "linecolor": "white",
             "minorgridcolor": "white",
             "startlinecolor": "#2a3f5f"
            },
            "baxis": {
             "endlinecolor": "#2a3f5f",
             "gridcolor": "white",
             "linecolor": "white",
             "minorgridcolor": "white",
             "startlinecolor": "#2a3f5f"
            },
            "type": "carpet"
           }
          ],
          "choropleth": [
           {
            "colorbar": {
             "outlinewidth": 0,
             "ticks": ""
            },
            "type": "choropleth"
           }
          ],
          "contour": [
           {
            "colorbar": {
             "outlinewidth": 0,
             "ticks": ""
            },
            "colorscale": [
             [
              0,
              "#0d0887"
             ],
             [
              0.1111111111111111,
              "#46039f"
             ],
             [
              0.2222222222222222,
              "#7201a8"
             ],
             [
              0.3333333333333333,
              "#9c179e"
             ],
             [
              0.4444444444444444,
              "#bd3786"
             ],
             [
              0.5555555555555556,
              "#d8576b"
             ],
             [
              0.6666666666666666,
              "#ed7953"
             ],
             [
              0.7777777777777778,
              "#fb9f3a"
             ],
             [
              0.8888888888888888,
              "#fdca26"
             ],
             [
              1,
              "#f0f921"
             ]
            ],
            "type": "contour"
           }
          ],
          "contourcarpet": [
           {
            "colorbar": {
             "outlinewidth": 0,
             "ticks": ""
            },
            "type": "contourcarpet"
           }
          ],
          "heatmap": [
           {
            "colorbar": {
             "outlinewidth": 0,
             "ticks": ""
            },
            "colorscale": [
             [
              0,
              "#0d0887"
             ],
             [
              0.1111111111111111,
              "#46039f"
             ],
             [
              0.2222222222222222,
              "#7201a8"
             ],
             [
              0.3333333333333333,
              "#9c179e"
             ],
             [
              0.4444444444444444,
              "#bd3786"
             ],
             [
              0.5555555555555556,
              "#d8576b"
             ],
             [
              0.6666666666666666,
              "#ed7953"
             ],
             [
              0.7777777777777778,
              "#fb9f3a"
             ],
             [
              0.8888888888888888,
              "#fdca26"
             ],
             [
              1,
              "#f0f921"
             ]
            ],
            "type": "heatmap"
           }
          ],
          "heatmapgl": [
           {
            "colorbar": {
             "outlinewidth": 0,
             "ticks": ""
            },
            "colorscale": [
             [
              0,
              "#0d0887"
             ],
             [
              0.1111111111111111,
              "#46039f"
             ],
             [
              0.2222222222222222,
              "#7201a8"
             ],
             [
              0.3333333333333333,
              "#9c179e"
             ],
             [
              0.4444444444444444,
              "#bd3786"
             ],
             [
              0.5555555555555556,
              "#d8576b"
             ],
             [
              0.6666666666666666,
              "#ed7953"
             ],
             [
              0.7777777777777778,
              "#fb9f3a"
             ],
             [
              0.8888888888888888,
              "#fdca26"
             ],
             [
              1,
              "#f0f921"
             ]
            ],
            "type": "heatmapgl"
           }
          ],
          "histogram": [
           {
            "marker": {
             "pattern": {
              "fillmode": "overlay",
              "size": 10,
              "solidity": 0.2
             }
            },
            "type": "histogram"
           }
          ],
          "histogram2d": [
           {
            "colorbar": {
             "outlinewidth": 0,
             "ticks": ""
            },
            "colorscale": [
             [
              0,
              "#0d0887"
             ],
             [
              0.1111111111111111,
              "#46039f"
             ],
             [
              0.2222222222222222,
              "#7201a8"
             ],
             [
              0.3333333333333333,
              "#9c179e"
             ],
             [
              0.4444444444444444,
              "#bd3786"
             ],
             [
              0.5555555555555556,
              "#d8576b"
             ],
             [
              0.6666666666666666,
              "#ed7953"
             ],
             [
              0.7777777777777778,
              "#fb9f3a"
             ],
             [
              0.8888888888888888,
              "#fdca26"
             ],
             [
              1,
              "#f0f921"
             ]
            ],
            "type": "histogram2d"
           }
          ],
          "histogram2dcontour": [
           {
            "colorbar": {
             "outlinewidth": 0,
             "ticks": ""
            },
            "colorscale": [
             [
              0,
              "#0d0887"
             ],
             [
              0.1111111111111111,
              "#46039f"
             ],
             [
              0.2222222222222222,
              "#7201a8"
             ],
             [
              0.3333333333333333,
              "#9c179e"
             ],
             [
              0.4444444444444444,
              "#bd3786"
             ],
             [
              0.5555555555555556,
              "#d8576b"
             ],
             [
              0.6666666666666666,
              "#ed7953"
             ],
             [
              0.7777777777777778,
              "#fb9f3a"
             ],
             [
              0.8888888888888888,
              "#fdca26"
             ],
             [
              1,
              "#f0f921"
             ]
            ],
            "type": "histogram2dcontour"
           }
          ],
          "mesh3d": [
           {
            "colorbar": {
             "outlinewidth": 0,
             "ticks": ""
            },
            "type": "mesh3d"
           }
          ],
          "parcoords": [
           {
            "line": {
             "colorbar": {
              "outlinewidth": 0,
              "ticks": ""
             }
            },
            "type": "parcoords"
           }
          ],
          "pie": [
           {
            "automargin": true,
            "type": "pie"
           }
          ],
          "scatter": [
           {
            "fillpattern": {
             "fillmode": "overlay",
             "size": 10,
             "solidity": 0.2
            },
            "type": "scatter"
           }
          ],
          "scatter3d": [
           {
            "line": {
             "colorbar": {
              "outlinewidth": 0,
              "ticks": ""
             }
            },
            "marker": {
             "colorbar": {
              "outlinewidth": 0,
              "ticks": ""
             }
            },
            "type": "scatter3d"
           }
          ],
          "scattercarpet": [
           {
            "marker": {
             "colorbar": {
              "outlinewidth": 0,
              "ticks": ""
             }
            },
            "type": "scattercarpet"
           }
          ],
          "scattergeo": [
           {
            "marker": {
             "colorbar": {
              "outlinewidth": 0,
              "ticks": ""
             }
            },
            "type": "scattergeo"
           }
          ],
          "scattergl": [
           {
            "marker": {
             "colorbar": {
              "outlinewidth": 0,
              "ticks": ""
             }
            },
            "type": "scattergl"
           }
          ],
          "scattermapbox": [
           {
            "marker": {
             "colorbar": {
              "outlinewidth": 0,
              "ticks": ""
             }
            },
            "type": "scattermapbox"
           }
          ],
          "scatterpolar": [
           {
            "marker": {
             "colorbar": {
              "outlinewidth": 0,
              "ticks": ""
             }
            },
            "type": "scatterpolar"
           }
          ],
          "scatterpolargl": [
           {
            "marker": {
             "colorbar": {
              "outlinewidth": 0,
              "ticks": ""
             }
            },
            "type": "scatterpolargl"
           }
          ],
          "scatterternary": [
           {
            "marker": {
             "colorbar": {
              "outlinewidth": 0,
              "ticks": ""
             }
            },
            "type": "scatterternary"
           }
          ],
          "surface": [
           {
            "colorbar": {
             "outlinewidth": 0,
             "ticks": ""
            },
            "colorscale": [
             [
              0,
              "#0d0887"
             ],
             [
              0.1111111111111111,
              "#46039f"
             ],
             [
              0.2222222222222222,
              "#7201a8"
             ],
             [
              0.3333333333333333,
              "#9c179e"
             ],
             [
              0.4444444444444444,
              "#bd3786"
             ],
             [
              0.5555555555555556,
              "#d8576b"
             ],
             [
              0.6666666666666666,
              "#ed7953"
             ],
             [
              0.7777777777777778,
              "#fb9f3a"
             ],
             [
              0.8888888888888888,
              "#fdca26"
             ],
             [
              1,
              "#f0f921"
             ]
            ],
            "type": "surface"
           }
          ],
          "table": [
           {
            "cells": {
             "fill": {
              "color": "#EBF0F8"
             },
             "line": {
              "color": "white"
             }
            },
            "header": {
             "fill": {
              "color": "#C8D4E3"
             },
             "line": {
              "color": "white"
             }
            },
            "type": "table"
           }
          ]
         },
         "layout": {
          "annotationdefaults": {
           "arrowcolor": "#2a3f5f",
           "arrowhead": 0,
           "arrowwidth": 1
          },
          "autotypenumbers": "strict",
          "coloraxis": {
           "colorbar": {
            "outlinewidth": 0,
            "ticks": ""
           }
          },
          "colorscale": {
           "diverging": [
            [
             0,
             "#8e0152"
            ],
            [
             0.1,
             "#c51b7d"
            ],
            [
             0.2,
             "#de77ae"
            ],
            [
             0.3,
             "#f1b6da"
            ],
            [
             0.4,
             "#fde0ef"
            ],
            [
             0.5,
             "#f7f7f7"
            ],
            [
             0.6,
             "#e6f5d0"
            ],
            [
             0.7,
             "#b8e186"
            ],
            [
             0.8,
             "#7fbc41"
            ],
            [
             0.9,
             "#4d9221"
            ],
            [
             1,
             "#276419"
            ]
           ],
           "sequential": [
            [
             0,
             "#0d0887"
            ],
            [
             0.1111111111111111,
             "#46039f"
            ],
            [
             0.2222222222222222,
             "#7201a8"
            ],
            [
             0.3333333333333333,
             "#9c179e"
            ],
            [
             0.4444444444444444,
             "#bd3786"
            ],
            [
             0.5555555555555556,
             "#d8576b"
            ],
            [
             0.6666666666666666,
             "#ed7953"
            ],
            [
             0.7777777777777778,
             "#fb9f3a"
            ],
            [
             0.8888888888888888,
             "#fdca26"
            ],
            [
             1,
             "#f0f921"
            ]
           ],
           "sequentialminus": [
            [
             0,
             "#0d0887"
            ],
            [
             0.1111111111111111,
             "#46039f"
            ],
            [
             0.2222222222222222,
             "#7201a8"
            ],
            [
             0.3333333333333333,
             "#9c179e"
            ],
            [
             0.4444444444444444,
             "#bd3786"
            ],
            [
             0.5555555555555556,
             "#d8576b"
            ],
            [
             0.6666666666666666,
             "#ed7953"
            ],
            [
             0.7777777777777778,
             "#fb9f3a"
            ],
            [
             0.8888888888888888,
             "#fdca26"
            ],
            [
             1,
             "#f0f921"
            ]
           ]
          },
          "colorway": [
           "#636efa",
           "#EF553B",
           "#00cc96",
           "#ab63fa",
           "#FFA15A",
           "#19d3f3",
           "#FF6692",
           "#B6E880",
           "#FF97FF",
           "#FECB52"
          ],
          "font": {
           "color": "#2a3f5f"
          },
          "geo": {
           "bgcolor": "white",
           "lakecolor": "white",
           "landcolor": "#E5ECF6",
           "showlakes": true,
           "showland": true,
           "subunitcolor": "white"
          },
          "hoverlabel": {
           "align": "left"
          },
          "hovermode": "closest",
          "mapbox": {
           "style": "light"
          },
          "paper_bgcolor": "white",
          "plot_bgcolor": "#E5ECF6",
          "polar": {
           "angularaxis": {
            "gridcolor": "white",
            "linecolor": "white",
            "ticks": ""
           },
           "bgcolor": "#E5ECF6",
           "radialaxis": {
            "gridcolor": "white",
            "linecolor": "white",
            "ticks": ""
           }
          },
          "scene": {
           "xaxis": {
            "backgroundcolor": "#E5ECF6",
            "gridcolor": "white",
            "gridwidth": 2,
            "linecolor": "white",
            "showbackground": true,
            "ticks": "",
            "zerolinecolor": "white"
           },
           "yaxis": {
            "backgroundcolor": "#E5ECF6",
            "gridcolor": "white",
            "gridwidth": 2,
            "linecolor": "white",
            "showbackground": true,
            "ticks": "",
            "zerolinecolor": "white"
           },
           "zaxis": {
            "backgroundcolor": "#E5ECF6",
            "gridcolor": "white",
            "gridwidth": 2,
            "linecolor": "white",
            "showbackground": true,
            "ticks": "",
            "zerolinecolor": "white"
           }
          },
          "shapedefaults": {
           "line": {
            "color": "#2a3f5f"
           }
          },
          "ternary": {
           "aaxis": {
            "gridcolor": "white",
            "linecolor": "white",
            "ticks": ""
           },
           "baxis": {
            "gridcolor": "white",
            "linecolor": "white",
            "ticks": ""
           },
           "bgcolor": "#E5ECF6",
           "caxis": {
            "gridcolor": "white",
            "linecolor": "white",
            "ticks": ""
           }
          },
          "title": {
           "x": 0.05
          },
          "xaxis": {
           "automargin": true,
           "gridcolor": "white",
           "linecolor": "white",
           "ticks": "",
           "title": {
            "standoff": 15
           },
           "zerolinecolor": "white",
           "zerolinewidth": 2
          },
          "yaxis": {
           "automargin": true,
           "gridcolor": "white",
           "linecolor": "white",
           "ticks": "",
           "title": {
            "standoff": 15
           },
           "zerolinecolor": "white",
           "zerolinewidth": 2
          }
         }
        },
        "title": {
         "text": "Metrics vs Timeframe Resolution"
        },
        "xaxis": {
         "title": {
          "text": "Timeframe (seconds)"
         }
        },
        "yaxis": {
         "title": {
          "text": "Score"
         }
        }
       }
      }
     },
     "metadata": {},
     "output_type": "display_data"
    },
    {
     "data": {
      "application/vnd.plotly.v1+json": {
       "config": {
        "plotlyServerURL": "https://plot.ly"
       },
       "data": [
        {
         "marker": {
          "color": [
           12,
           24,
           36,
           48,
           60,
           120,
           180,
           240,
           300,
           600,
           900,
           1200,
           1500,
           1800,
           2100,
           2400,
           2700,
           3000,
           3300,
           3600
          ],
          "colorbar": {
           "title": {
            "text": "Timeframe (s)"
           }
          },
          "colorscale": [
           [
            0,
            "#440154"
           ],
           [
            0.1111111111111111,
            "#482878"
           ],
           [
            0.2222222222222222,
            "#3e4989"
           ],
           [
            0.3333333333333333,
            "#31688e"
           ],
           [
            0.4444444444444444,
            "#26828e"
           ],
           [
            0.5555555555555556,
            "#1f9e89"
           ],
           [
            0.6666666666666666,
            "#35b779"
           ],
           [
            0.7777777777777778,
            "#6ece58"
           ],
           [
            0.8888888888888888,
            "#b5de2b"
           ],
           [
            1,
            "#fde725"
           ]
          ],
          "showscale": true,
          "size": 10
         },
         "mode": "markers",
         "name": "Fast EMA",
         "type": "scatter",
         "x": [
          4,
          5,
          6,
          7,
          8,
          11,
          14,
          16,
          18,
          25,
          31,
          36,
          40,
          44,
          47,
          51,
          54,
          57,
          59,
          62
         ],
         "xaxis": "x",
         "y": [
          0.6068749536414425,
          0.6179324980780997,
          0.6234002681621517,
          0.6280384877123384,
          0.6367692000744105,
          0.6601512088175507,
          0.6665806160401947,
          0.6697355269154024,
          0.6775039653763323,
          0.6934506915638049,
          0.7153070464558312,
          0.7145065497866214,
          0.7228969335256459,
          0.7437720381923879,
          0.7433355988505398,
          0.7585678508435494,
          0.7693019463629751,
          0.7789366079554433,
          0.7828877349594175,
          0.7730580471776142
         ],
         "yaxis": "y"
        },
        {
         "marker": {
          "color": [
           12,
           24,
           36,
           48,
           60,
           120,
           180,
           240,
           300,
           600,
           900,
           1200,
           1500,
           1800,
           2100,
           2400,
           2700,
           3000,
           3300,
           3600
          ],
          "colorscale": [
           [
            0,
            "#440154"
           ],
           [
            0.1111111111111111,
            "#482878"
           ],
           [
            0.2222222222222222,
            "#3e4989"
           ],
           [
            0.3333333333333333,
            "#31688e"
           ],
           [
            0.4444444444444444,
            "#26828e"
           ],
           [
            0.5555555555555556,
            "#1f9e89"
           ],
           [
            0.6666666666666666,
            "#35b779"
           ],
           [
            0.7777777777777778,
            "#6ece58"
           ],
           [
            0.8888888888888888,
            "#b5de2b"
           ],
           [
            1,
            "#fde725"
           ]
          ],
          "showscale": false,
          "size": 10
         },
         "mode": "markers",
         "name": "Slow EMA",
         "type": "scatter",
         "x": [
          9,
          13,
          16,
          19,
          21,
          30,
          36,
          42,
          47,
          66,
          81,
          94,
          105,
          115,
          124,
          133,
          141,
          148,
          156,
          163
         ],
         "xaxis": "x2",
         "y": [
          0.6068749536414425,
          0.6179324980780997,
          0.6234002681621517,
          0.6280384877123384,
          0.6367692000744105,
          0.6601512088175507,
          0.6665806160401947,
          0.6697355269154024,
          0.6775039653763323,
          0.6934506915638049,
          0.7153070464558312,
          0.7145065497866214,
          0.7228969335256459,
          0.7437720381923879,
          0.7433355988505398,
          0.7585678508435494,
          0.7693019463629751,
          0.7789366079554433,
          0.7828877349594175,
          0.7730580471776142
         ],
         "yaxis": "y2"
        }
       ],
       "layout": {
        "annotations": [
         {
          "font": {
           "size": 16
          },
          "showarrow": false,
          "text": "Fast EMA Period vs Overall Score",
          "x": 0.225,
          "xanchor": "center",
          "xref": "paper",
          "y": 1,
          "yanchor": "bottom",
          "yref": "paper"
         },
         {
          "font": {
           "size": 16
          },
          "showarrow": false,
          "text": "Slow EMA Period vs Overall Score",
          "x": 0.775,
          "xanchor": "center",
          "xref": "paper",
          "y": 1,
          "yanchor": "bottom",
          "yref": "paper"
         }
        ],
        "height": 500,
        "hovermode": "closest",
        "showlegend": false,
        "template": {
         "data": {
          "bar": [
           {
            "error_x": {
             "color": "#2a3f5f"
            },
            "error_y": {
             "color": "#2a3f5f"
            },
            "marker": {
             "line": {
              "color": "#E5ECF6",
              "width": 0.5
             },
             "pattern": {
              "fillmode": "overlay",
              "size": 10,
              "solidity": 0.2
             }
            },
            "type": "bar"
           }
          ],
          "barpolar": [
           {
            "marker": {
             "line": {
              "color": "#E5ECF6",
              "width": 0.5
             },
             "pattern": {
              "fillmode": "overlay",
              "size": 10,
              "solidity": 0.2
             }
            },
            "type": "barpolar"
           }
          ],
          "carpet": [
           {
            "aaxis": {
             "endlinecolor": "#2a3f5f",
             "gridcolor": "white",
             "linecolor": "white",
             "minorgridcolor": "white",
             "startlinecolor": "#2a3f5f"
            },
            "baxis": {
             "endlinecolor": "#2a3f5f",
             "gridcolor": "white",
             "linecolor": "white",
             "minorgridcolor": "white",
             "startlinecolor": "#2a3f5f"
            },
            "type": "carpet"
           }
          ],
          "choropleth": [
           {
            "colorbar": {
             "outlinewidth": 0,
             "ticks": ""
            },
            "type": "choropleth"
           }
          ],
          "contour": [
           {
            "colorbar": {
             "outlinewidth": 0,
             "ticks": ""
            },
            "colorscale": [
             [
              0,
              "#0d0887"
             ],
             [
              0.1111111111111111,
              "#46039f"
             ],
             [
              0.2222222222222222,
              "#7201a8"
             ],
             [
              0.3333333333333333,
              "#9c179e"
             ],
             [
              0.4444444444444444,
              "#bd3786"
             ],
             [
              0.5555555555555556,
              "#d8576b"
             ],
             [
              0.6666666666666666,
              "#ed7953"
             ],
             [
              0.7777777777777778,
              "#fb9f3a"
             ],
             [
              0.8888888888888888,
              "#fdca26"
             ],
             [
              1,
              "#f0f921"
             ]
            ],
            "type": "contour"
           }
          ],
          "contourcarpet": [
           {
            "colorbar": {
             "outlinewidth": 0,
             "ticks": ""
            },
            "type": "contourcarpet"
           }
          ],
          "heatmap": [
           {
            "colorbar": {
             "outlinewidth": 0,
             "ticks": ""
            },
            "colorscale": [
             [
              0,
              "#0d0887"
             ],
             [
              0.1111111111111111,
              "#46039f"
             ],
             [
              0.2222222222222222,
              "#7201a8"
             ],
             [
              0.3333333333333333,
              "#9c179e"
             ],
             [
              0.4444444444444444,
              "#bd3786"
             ],
             [
              0.5555555555555556,
              "#d8576b"
             ],
             [
              0.6666666666666666,
              "#ed7953"
             ],
             [
              0.7777777777777778,
              "#fb9f3a"
             ],
             [
              0.8888888888888888,
              "#fdca26"
             ],
             [
              1,
              "#f0f921"
             ]
            ],
            "type": "heatmap"
           }
          ],
          "heatmapgl": [
           {
            "colorbar": {
             "outlinewidth": 0,
             "ticks": ""
            },
            "colorscale": [
             [
              0,
              "#0d0887"
             ],
             [
              0.1111111111111111,
              "#46039f"
             ],
             [
              0.2222222222222222,
              "#7201a8"
             ],
             [
              0.3333333333333333,
              "#9c179e"
             ],
             [
              0.4444444444444444,
              "#bd3786"
             ],
             [
              0.5555555555555556,
              "#d8576b"
             ],
             [
              0.6666666666666666,
              "#ed7953"
             ],
             [
              0.7777777777777778,
              "#fb9f3a"
             ],
             [
              0.8888888888888888,
              "#fdca26"
             ],
             [
              1,
              "#f0f921"
             ]
            ],
            "type": "heatmapgl"
           }
          ],
          "histogram": [
           {
            "marker": {
             "pattern": {
              "fillmode": "overlay",
              "size": 10,
              "solidity": 0.2
             }
            },
            "type": "histogram"
           }
          ],
          "histogram2d": [
           {
            "colorbar": {
             "outlinewidth": 0,
             "ticks": ""
            },
            "colorscale": [
             [
              0,
              "#0d0887"
             ],
             [
              0.1111111111111111,
              "#46039f"
             ],
             [
              0.2222222222222222,
              "#7201a8"
             ],
             [
              0.3333333333333333,
              "#9c179e"
             ],
             [
              0.4444444444444444,
              "#bd3786"
             ],
             [
              0.5555555555555556,
              "#d8576b"
             ],
             [
              0.6666666666666666,
              "#ed7953"
             ],
             [
              0.7777777777777778,
              "#fb9f3a"
             ],
             [
              0.8888888888888888,
              "#fdca26"
             ],
             [
              1,
              "#f0f921"
             ]
            ],
            "type": "histogram2d"
           }
          ],
          "histogram2dcontour": [
           {
            "colorbar": {
             "outlinewidth": 0,
             "ticks": ""
            },
            "colorscale": [
             [
              0,
              "#0d0887"
             ],
             [
              0.1111111111111111,
              "#46039f"
             ],
             [
              0.2222222222222222,
              "#7201a8"
             ],
             [
              0.3333333333333333,
              "#9c179e"
             ],
             [
              0.4444444444444444,
              "#bd3786"
             ],
             [
              0.5555555555555556,
              "#d8576b"
             ],
             [
              0.6666666666666666,
              "#ed7953"
             ],
             [
              0.7777777777777778,
              "#fb9f3a"
             ],
             [
              0.8888888888888888,
              "#fdca26"
             ],
             [
              1,
              "#f0f921"
             ]
            ],
            "type": "histogram2dcontour"
           }
          ],
          "mesh3d": [
           {
            "colorbar": {
             "outlinewidth": 0,
             "ticks": ""
            },
            "type": "mesh3d"
           }
          ],
          "parcoords": [
           {
            "line": {
             "colorbar": {
              "outlinewidth": 0,
              "ticks": ""
             }
            },
            "type": "parcoords"
           }
          ],
          "pie": [
           {
            "automargin": true,
            "type": "pie"
           }
          ],
          "scatter": [
           {
            "fillpattern": {
             "fillmode": "overlay",
             "size": 10,
             "solidity": 0.2
            },
            "type": "scatter"
           }
          ],
          "scatter3d": [
           {
            "line": {
             "colorbar": {
              "outlinewidth": 0,
              "ticks": ""
             }
            },
            "marker": {
             "colorbar": {
              "outlinewidth": 0,
              "ticks": ""
             }
            },
            "type": "scatter3d"
           }
          ],
          "scattercarpet": [
           {
            "marker": {
             "colorbar": {
              "outlinewidth": 0,
              "ticks": ""
             }
            },
            "type": "scattercarpet"
           }
          ],
          "scattergeo": [
           {
            "marker": {
             "colorbar": {
              "outlinewidth": 0,
              "ticks": ""
             }
            },
            "type": "scattergeo"
           }
          ],
          "scattergl": [
           {
            "marker": {
             "colorbar": {
              "outlinewidth": 0,
              "ticks": ""
             }
            },
            "type": "scattergl"
           }
          ],
          "scattermapbox": [
           {
            "marker": {
             "colorbar": {
              "outlinewidth": 0,
              "ticks": ""
             }
            },
            "type": "scattermapbox"
           }
          ],
          "scatterpolar": [
           {
            "marker": {
             "colorbar": {
              "outlinewidth": 0,
              "ticks": ""
             }
            },
            "type": "scatterpolar"
           }
          ],
          "scatterpolargl": [
           {
            "marker": {
             "colorbar": {
              "outlinewidth": 0,
              "ticks": ""
             }
            },
            "type": "scatterpolargl"
           }
          ],
          "scatterternary": [
           {
            "marker": {
             "colorbar": {
              "outlinewidth": 0,
              "ticks": ""
             }
            },
            "type": "scatterternary"
           }
          ],
          "surface": [
           {
            "colorbar": {
             "outlinewidth": 0,
             "ticks": ""
            },
            "colorscale": [
             [
              0,
              "#0d0887"
             ],
             [
              0.1111111111111111,
              "#46039f"
             ],
             [
              0.2222222222222222,
              "#7201a8"
             ],
             [
              0.3333333333333333,
              "#9c179e"
             ],
             [
              0.4444444444444444,
              "#bd3786"
             ],
             [
              0.5555555555555556,
              "#d8576b"
             ],
             [
              0.6666666666666666,
              "#ed7953"
             ],
             [
              0.7777777777777778,
              "#fb9f3a"
             ],
             [
              0.8888888888888888,
              "#fdca26"
             ],
             [
              1,
              "#f0f921"
             ]
            ],
            "type": "surface"
           }
          ],
          "table": [
           {
            "cells": {
             "fill": {
              "color": "#EBF0F8"
             },
             "line": {
              "color": "white"
             }
            },
            "header": {
             "fill": {
              "color": "#C8D4E3"
             },
             "line": {
              "color": "white"
             }
            },
            "type": "table"
           }
          ]
         },
         "layout": {
          "annotationdefaults": {
           "arrowcolor": "#2a3f5f",
           "arrowhead": 0,
           "arrowwidth": 1
          },
          "autotypenumbers": "strict",
          "coloraxis": {
           "colorbar": {
            "outlinewidth": 0,
            "ticks": ""
           }
          },
          "colorscale": {
           "diverging": [
            [
             0,
             "#8e0152"
            ],
            [
             0.1,
             "#c51b7d"
            ],
            [
             0.2,
             "#de77ae"
            ],
            [
             0.3,
             "#f1b6da"
            ],
            [
             0.4,
             "#fde0ef"
            ],
            [
             0.5,
             "#f7f7f7"
            ],
            [
             0.6,
             "#e6f5d0"
            ],
            [
             0.7,
             "#b8e186"
            ],
            [
             0.8,
             "#7fbc41"
            ],
            [
             0.9,
             "#4d9221"
            ],
            [
             1,
             "#276419"
            ]
           ],
           "sequential": [
            [
             0,
             "#0d0887"
            ],
            [
             0.1111111111111111,
             "#46039f"
            ],
            [
             0.2222222222222222,
             "#7201a8"
            ],
            [
             0.3333333333333333,
             "#9c179e"
            ],
            [
             0.4444444444444444,
             "#bd3786"
            ],
            [
             0.5555555555555556,
             "#d8576b"
            ],
            [
             0.6666666666666666,
             "#ed7953"
            ],
            [
             0.7777777777777778,
             "#fb9f3a"
            ],
            [
             0.8888888888888888,
             "#fdca26"
            ],
            [
             1,
             "#f0f921"
            ]
           ],
           "sequentialminus": [
            [
             0,
             "#0d0887"
            ],
            [
             0.1111111111111111,
             "#46039f"
            ],
            [
             0.2222222222222222,
             "#7201a8"
            ],
            [
             0.3333333333333333,
             "#9c179e"
            ],
            [
             0.4444444444444444,
             "#bd3786"
            ],
            [
             0.5555555555555556,
             "#d8576b"
            ],
            [
             0.6666666666666666,
             "#ed7953"
            ],
            [
             0.7777777777777778,
             "#fb9f3a"
            ],
            [
             0.8888888888888888,
             "#fdca26"
            ],
            [
             1,
             "#f0f921"
            ]
           ]
          },
          "colorway": [
           "#636efa",
           "#EF553B",
           "#00cc96",
           "#ab63fa",
           "#FFA15A",
           "#19d3f3",
           "#FF6692",
           "#B6E880",
           "#FF97FF",
           "#FECB52"
          ],
          "font": {
           "color": "#2a3f5f"
          },
          "geo": {
           "bgcolor": "white",
           "lakecolor": "white",
           "landcolor": "#E5ECF6",
           "showlakes": true,
           "showland": true,
           "subunitcolor": "white"
          },
          "hoverlabel": {
           "align": "left"
          },
          "hovermode": "closest",
          "mapbox": {
           "style": "light"
          },
          "paper_bgcolor": "white",
          "plot_bgcolor": "#E5ECF6",
          "polar": {
           "angularaxis": {
            "gridcolor": "white",
            "linecolor": "white",
            "ticks": ""
           },
           "bgcolor": "#E5ECF6",
           "radialaxis": {
            "gridcolor": "white",
            "linecolor": "white",
            "ticks": ""
           }
          },
          "scene": {
           "xaxis": {
            "backgroundcolor": "#E5ECF6",
            "gridcolor": "white",
            "gridwidth": 2,
            "linecolor": "white",
            "showbackground": true,
            "ticks": "",
            "zerolinecolor": "white"
           },
           "yaxis": {
            "backgroundcolor": "#E5ECF6",
            "gridcolor": "white",
            "gridwidth": 2,
            "linecolor": "white",
            "showbackground": true,
            "ticks": "",
            "zerolinecolor": "white"
           },
           "zaxis": {
            "backgroundcolor": "#E5ECF6",
            "gridcolor": "white",
            "gridwidth": 2,
            "linecolor": "white",
            "showbackground": true,
            "ticks": "",
            "zerolinecolor": "white"
           }
          },
          "shapedefaults": {
           "line": {
            "color": "#2a3f5f"
           }
          },
          "ternary": {
           "aaxis": {
            "gridcolor": "white",
            "linecolor": "white",
            "ticks": ""
           },
           "baxis": {
            "gridcolor": "white",
            "linecolor": "white",
            "ticks": ""
           },
           "bgcolor": "#E5ECF6",
           "caxis": {
            "gridcolor": "white",
            "linecolor": "white",
            "ticks": ""
           }
          },
          "title": {
           "x": 0.05
          },
          "xaxis": {
           "automargin": true,
           "gridcolor": "white",
           "linecolor": "white",
           "ticks": "",
           "title": {
            "standoff": 15
           },
           "zerolinecolor": "white",
           "zerolinewidth": 2
          },
          "yaxis": {
           "automargin": true,
           "gridcolor": "white",
           "linecolor": "white",
           "ticks": "",
           "title": {
            "standoff": 15
           },
           "zerolinecolor": "white",
           "zerolinewidth": 2
          }
         }
        },
        "title": {
         "text": "EMA Periods Impact on Performance"
        },
        "xaxis": {
         "anchor": "y",
         "domain": [
          0,
          0.45
         ]
        },
        "xaxis2": {
         "anchor": "y2",
         "domain": [
          0.55,
          1
         ]
        },
        "yaxis": {
         "anchor": "x",
         "domain": [
          0,
          1
         ]
        },
        "yaxis2": {
         "anchor": "x2",
         "domain": [
          0,
          1
         ]
        }
       }
      }
     },
     "metadata": {},
     "output_type": "display_data"
    },
    {
     "data": {
      "application/vnd.plotly.v1+json": {
       "config": {
        "plotlyServerURL": "https://plot.ly"
       },
       "data": [
        {
         "marker": {
          "color": "rgb(31, 119, 180)"
         },
         "name": "Overall Trend",
         "type": "bar",
         "x": [
          "12s",
          "24s",
          "36s",
          "48s",
          "1m",
          "2m",
          "3m",
          "4m",
          "5m",
          "10m",
          "15m",
          "20m",
          "25m",
          "30m",
          "35m",
          "40m",
          "45m",
          "50m",
          "55m",
          "1h"
         ],
         "xaxis": "x",
         "y": [
          0.5066053317042705,
          0.5073444746750011,
          0.5065089153032536,
          0.5076933958349678,
          0.5091619583408906,
          0.5192673982779741,
          0.5237958662871489,
          0.5362803681744384,
          0.5454270678312045,
          0.5819739783067659,
          0.6081873337276895,
          0.6272989755962504,
          0.6388227373148258,
          0.6552401791796544,
          0.6745840782618283,
          0.7000374983919485,
          0.7222529531714883,
          0.7305286351195497,
          0.7375099277637002,
          0.736882340055524
         ],
         "yaxis": "y"
        },
        {
         "marker": {
          "color": "rgb(255, 127, 14)"
         },
         "name": "Early Trend",
         "type": "bar",
         "x": [
          "12s",
          "24s",
          "36s",
          "48s",
          "1m",
          "2m",
          "3m",
          "4m",
          "5m",
          "10m",
          "15m",
          "20m",
          "25m",
          "30m",
          "35m",
          "40m",
          "45m",
          "50m",
          "55m",
          "1h"
         ],
         "xaxis": "x",
         "y": [
          0.5167380715929752,
          0.5215714947710834,
          0.5254247248721539,
          0.5368869946687586,
          0.5511261499418421,
          0.5939190343335421,
          0.5991304865701864,
          0.5995854922279793,
          0.5968911917098446,
          0.5818652849740933,
          0.6091783863804588,
          0.6113989637305699,
          0.6217616580310881,
          0.6411917098445595,
          0.6666666666666666,
          0.6873920552677029,
          0.7089810017271156,
          0.7150259067357513,
          0.7227979274611399,
          0.7072538860103627
         ],
         "yaxis": "y"
        },
        {
         "marker": {
          "color": "rgb(44, 160, 44)"
         },
         "name": "Consistency",
         "type": "bar",
         "x": [
          "12s",
          "24s",
          "36s",
          "48s",
          "1m",
          "2m",
          "3m",
          "4m",
          "5m",
          "10m",
          "15m",
          "20m",
          "25m",
          "30m",
          "35m",
          "40m",
          "45m",
          "50m",
          "55m",
          "1h"
         ],
         "xaxis": "x2",
         "y": [
          0.7460569974092088,
          0.7926162988838713,
          0.8158464228960207,
          0.8318520886615518,
          0.8388328587775086,
          0.8713426960314924,
          0.8866156177713965,
          0.9008551576696955,
          0.9013289036544851,
          0.9305075737443532,
          0.946392985253089,
          0.9607308426506679,
          0.9581117021276595,
          0.9465922678357915,
          0.9352151781582598,
          0.9323467230443974,
          0.9367888748419724,
          0.9388297872340423,
          0.9401022644265888,
          0.9360967184801384
         ],
         "yaxis": "y2"
        },
        {
         "marker": {
          "color": "rgb(214, 39, 40)"
         },
         "name": "Range Ratio",
         "type": "bar",
         "x": [
          "12s",
          "24s",
          "36s",
          "48s",
          "1m",
          "2m",
          "3m",
          "4m",
          "5m",
          "10m",
          "15m",
          "20m",
          "25m",
          "30m",
          "35m",
          "40m",
          "45m",
          "50m",
          "55m",
          "1h"
         ],
         "xaxis": "x2",
         "y": [
          1,
          1,
          1,
          0.9752461324541327,
          1,
          1,
          1,
          0.9517670044329417,
          1,
          1,
          1,
          0.8802110189881674,
          0.8921700076485731,
          1,
          0.8645893191415654,
          0.8586589029757964,
          0.8034868960785068,
          0.8445142444008958,
          0.8302393273027773,
          0.7890960165626816
         ],
         "yaxis": "y2"
        }
       ],
       "layout": {
        "annotations": [
         {
          "font": {
           "size": 16
          },
          "showarrow": false,
          "text": "Trend Prediction Performance",
          "x": 0.225,
          "xanchor": "center",
          "xref": "paper",
          "y": 1,
          "yanchor": "bottom",
          "yref": "paper"
         },
         {
          "font": {
           "size": 16
          },
          "showarrow": false,
          "text": "Signal Quality Metrics",
          "x": 0.775,
          "xanchor": "center",
          "xref": "paper",
          "y": 1,
          "yanchor": "bottom",
          "yref": "paper"
         }
        ],
        "height": 500,
        "legend": {
         "orientation": "h",
         "x": 1,
         "xanchor": "right",
         "y": 1.02,
         "yanchor": "bottom"
        },
        "showlegend": true,
        "template": {
         "data": {
          "bar": [
           {
            "error_x": {
             "color": "#2a3f5f"
            },
            "error_y": {
             "color": "#2a3f5f"
            },
            "marker": {
             "line": {
              "color": "#E5ECF6",
              "width": 0.5
             },
             "pattern": {
              "fillmode": "overlay",
              "size": 10,
              "solidity": 0.2
             }
            },
            "type": "bar"
           }
          ],
          "barpolar": [
           {
            "marker": {
             "line": {
              "color": "#E5ECF6",
              "width": 0.5
             },
             "pattern": {
              "fillmode": "overlay",
              "size": 10,
              "solidity": 0.2
             }
            },
            "type": "barpolar"
           }
          ],
          "carpet": [
           {
            "aaxis": {
             "endlinecolor": "#2a3f5f",
             "gridcolor": "white",
             "linecolor": "white",
             "minorgridcolor": "white",
             "startlinecolor": "#2a3f5f"
            },
            "baxis": {
             "endlinecolor": "#2a3f5f",
             "gridcolor": "white",
             "linecolor": "white",
             "minorgridcolor": "white",
             "startlinecolor": "#2a3f5f"
            },
            "type": "carpet"
           }
          ],
          "choropleth": [
           {
            "colorbar": {
             "outlinewidth": 0,
             "ticks": ""
            },
            "type": "choropleth"
           }
          ],
          "contour": [
           {
            "colorbar": {
             "outlinewidth": 0,
             "ticks": ""
            },
            "colorscale": [
             [
              0,
              "#0d0887"
             ],
             [
              0.1111111111111111,
              "#46039f"
             ],
             [
              0.2222222222222222,
              "#7201a8"
             ],
             [
              0.3333333333333333,
              "#9c179e"
             ],
             [
              0.4444444444444444,
              "#bd3786"
             ],
             [
              0.5555555555555556,
              "#d8576b"
             ],
             [
              0.6666666666666666,
              "#ed7953"
             ],
             [
              0.7777777777777778,
              "#fb9f3a"
             ],
             [
              0.8888888888888888,
              "#fdca26"
             ],
             [
              1,
              "#f0f921"
             ]
            ],
            "type": "contour"
           }
          ],
          "contourcarpet": [
           {
            "colorbar": {
             "outlinewidth": 0,
             "ticks": ""
            },
            "type": "contourcarpet"
           }
          ],
          "heatmap": [
           {
            "colorbar": {
             "outlinewidth": 0,
             "ticks": ""
            },
            "colorscale": [
             [
              0,
              "#0d0887"
             ],
             [
              0.1111111111111111,
              "#46039f"
             ],
             [
              0.2222222222222222,
              "#7201a8"
             ],
             [
              0.3333333333333333,
              "#9c179e"
             ],
             [
              0.4444444444444444,
              "#bd3786"
             ],
             [
              0.5555555555555556,
              "#d8576b"
             ],
             [
              0.6666666666666666,
              "#ed7953"
             ],
             [
              0.7777777777777778,
              "#fb9f3a"
             ],
             [
              0.8888888888888888,
              "#fdca26"
             ],
             [
              1,
              "#f0f921"
             ]
            ],
            "type": "heatmap"
           }
          ],
          "heatmapgl": [
           {
            "colorbar": {
             "outlinewidth": 0,
             "ticks": ""
            },
            "colorscale": [
             [
              0,
              "#0d0887"
             ],
             [
              0.1111111111111111,
              "#46039f"
             ],
             [
              0.2222222222222222,
              "#7201a8"
             ],
             [
              0.3333333333333333,
              "#9c179e"
             ],
             [
              0.4444444444444444,
              "#bd3786"
             ],
             [
              0.5555555555555556,
              "#d8576b"
             ],
             [
              0.6666666666666666,
              "#ed7953"
             ],
             [
              0.7777777777777778,
              "#fb9f3a"
             ],
             [
              0.8888888888888888,
              "#fdca26"
             ],
             [
              1,
              "#f0f921"
             ]
            ],
            "type": "heatmapgl"
           }
          ],
          "histogram": [
           {
            "marker": {
             "pattern": {
              "fillmode": "overlay",
              "size": 10,
              "solidity": 0.2
             }
            },
            "type": "histogram"
           }
          ],
          "histogram2d": [
           {
            "colorbar": {
             "outlinewidth": 0,
             "ticks": ""
            },
            "colorscale": [
             [
              0,
              "#0d0887"
             ],
             [
              0.1111111111111111,
              "#46039f"
             ],
             [
              0.2222222222222222,
              "#7201a8"
             ],
             [
              0.3333333333333333,
              "#9c179e"
             ],
             [
              0.4444444444444444,
              "#bd3786"
             ],
             [
              0.5555555555555556,
              "#d8576b"
             ],
             [
              0.6666666666666666,
              "#ed7953"
             ],
             [
              0.7777777777777778,
              "#fb9f3a"
             ],
             [
              0.8888888888888888,
              "#fdca26"
             ],
             [
              1,
              "#f0f921"
             ]
            ],
            "type": "histogram2d"
           }
          ],
          "histogram2dcontour": [
           {
            "colorbar": {
             "outlinewidth": 0,
             "ticks": ""
            },
            "colorscale": [
             [
              0,
              "#0d0887"
             ],
             [
              0.1111111111111111,
              "#46039f"
             ],
             [
              0.2222222222222222,
              "#7201a8"
             ],
             [
              0.3333333333333333,
              "#9c179e"
             ],
             [
              0.4444444444444444,
              "#bd3786"
             ],
             [
              0.5555555555555556,
              "#d8576b"
             ],
             [
              0.6666666666666666,
              "#ed7953"
             ],
             [
              0.7777777777777778,
              "#fb9f3a"
             ],
             [
              0.8888888888888888,
              "#fdca26"
             ],
             [
              1,
              "#f0f921"
             ]
            ],
            "type": "histogram2dcontour"
           }
          ],
          "mesh3d": [
           {
            "colorbar": {
             "outlinewidth": 0,
             "ticks": ""
            },
            "type": "mesh3d"
           }
          ],
          "parcoords": [
           {
            "line": {
             "colorbar": {
              "outlinewidth": 0,
              "ticks": ""
             }
            },
            "type": "parcoords"
           }
          ],
          "pie": [
           {
            "automargin": true,
            "type": "pie"
           }
          ],
          "scatter": [
           {
            "fillpattern": {
             "fillmode": "overlay",
             "size": 10,
             "solidity": 0.2
            },
            "type": "scatter"
           }
          ],
          "scatter3d": [
           {
            "line": {
             "colorbar": {
              "outlinewidth": 0,
              "ticks": ""
             }
            },
            "marker": {
             "colorbar": {
              "outlinewidth": 0,
              "ticks": ""
             }
            },
            "type": "scatter3d"
           }
          ],
          "scattercarpet": [
           {
            "marker": {
             "colorbar": {
              "outlinewidth": 0,
              "ticks": ""
             }
            },
            "type": "scattercarpet"
           }
          ],
          "scattergeo": [
           {
            "marker": {
             "colorbar": {
              "outlinewidth": 0,
              "ticks": ""
             }
            },
            "type": "scattergeo"
           }
          ],
          "scattergl": [
           {
            "marker": {
             "colorbar": {
              "outlinewidth": 0,
              "ticks": ""
             }
            },
            "type": "scattergl"
           }
          ],
          "scattermapbox": [
           {
            "marker": {
             "colorbar": {
              "outlinewidth": 0,
              "ticks": ""
             }
            },
            "type": "scattermapbox"
           }
          ],
          "scatterpolar": [
           {
            "marker": {
             "colorbar": {
              "outlinewidth": 0,
              "ticks": ""
             }
            },
            "type": "scatterpolar"
           }
          ],
          "scatterpolargl": [
           {
            "marker": {
             "colorbar": {
              "outlinewidth": 0,
              "ticks": ""
             }
            },
            "type": "scatterpolargl"
           }
          ],
          "scatterternary": [
           {
            "marker": {
             "colorbar": {
              "outlinewidth": 0,
              "ticks": ""
             }
            },
            "type": "scatterternary"
           }
          ],
          "surface": [
           {
            "colorbar": {
             "outlinewidth": 0,
             "ticks": ""
            },
            "colorscale": [
             [
              0,
              "#0d0887"
             ],
             [
              0.1111111111111111,
              "#46039f"
             ],
             [
              0.2222222222222222,
              "#7201a8"
             ],
             [
              0.3333333333333333,
              "#9c179e"
             ],
             [
              0.4444444444444444,
              "#bd3786"
             ],
             [
              0.5555555555555556,
              "#d8576b"
             ],
             [
              0.6666666666666666,
              "#ed7953"
             ],
             [
              0.7777777777777778,
              "#fb9f3a"
             ],
             [
              0.8888888888888888,
              "#fdca26"
             ],
             [
              1,
              "#f0f921"
             ]
            ],
            "type": "surface"
           }
          ],
          "table": [
           {
            "cells": {
             "fill": {
              "color": "#EBF0F8"
             },
             "line": {
              "color": "white"
             }
            },
            "header": {
             "fill": {
              "color": "#C8D4E3"
             },
             "line": {
              "color": "white"
             }
            },
            "type": "table"
           }
          ]
         },
         "layout": {
          "annotationdefaults": {
           "arrowcolor": "#2a3f5f",
           "arrowhead": 0,
           "arrowwidth": 1
          },
          "autotypenumbers": "strict",
          "coloraxis": {
           "colorbar": {
            "outlinewidth": 0,
            "ticks": ""
           }
          },
          "colorscale": {
           "diverging": [
            [
             0,
             "#8e0152"
            ],
            [
             0.1,
             "#c51b7d"
            ],
            [
             0.2,
             "#de77ae"
            ],
            [
             0.3,
             "#f1b6da"
            ],
            [
             0.4,
             "#fde0ef"
            ],
            [
             0.5,
             "#f7f7f7"
            ],
            [
             0.6,
             "#e6f5d0"
            ],
            [
             0.7,
             "#b8e186"
            ],
            [
             0.8,
             "#7fbc41"
            ],
            [
             0.9,
             "#4d9221"
            ],
            [
             1,
             "#276419"
            ]
           ],
           "sequential": [
            [
             0,
             "#0d0887"
            ],
            [
             0.1111111111111111,
             "#46039f"
            ],
            [
             0.2222222222222222,
             "#7201a8"
            ],
            [
             0.3333333333333333,
             "#9c179e"
            ],
            [
             0.4444444444444444,
             "#bd3786"
            ],
            [
             0.5555555555555556,
             "#d8576b"
            ],
            [
             0.6666666666666666,
             "#ed7953"
            ],
            [
             0.7777777777777778,
             "#fb9f3a"
            ],
            [
             0.8888888888888888,
             "#fdca26"
            ],
            [
             1,
             "#f0f921"
            ]
           ],
           "sequentialminus": [
            [
             0,
             "#0d0887"
            ],
            [
             0.1111111111111111,
             "#46039f"
            ],
            [
             0.2222222222222222,
             "#7201a8"
            ],
            [
             0.3333333333333333,
             "#9c179e"
            ],
            [
             0.4444444444444444,
             "#bd3786"
            ],
            [
             0.5555555555555556,
             "#d8576b"
            ],
            [
             0.6666666666666666,
             "#ed7953"
            ],
            [
             0.7777777777777778,
             "#fb9f3a"
            ],
            [
             0.8888888888888888,
             "#fdca26"
            ],
            [
             1,
             "#f0f921"
            ]
           ]
          },
          "colorway": [
           "#636efa",
           "#EF553B",
           "#00cc96",
           "#ab63fa",
           "#FFA15A",
           "#19d3f3",
           "#FF6692",
           "#B6E880",
           "#FF97FF",
           "#FECB52"
          ],
          "font": {
           "color": "#2a3f5f"
          },
          "geo": {
           "bgcolor": "white",
           "lakecolor": "white",
           "landcolor": "#E5ECF6",
           "showlakes": true,
           "showland": true,
           "subunitcolor": "white"
          },
          "hoverlabel": {
           "align": "left"
          },
          "hovermode": "closest",
          "mapbox": {
           "style": "light"
          },
          "paper_bgcolor": "white",
          "plot_bgcolor": "#E5ECF6",
          "polar": {
           "angularaxis": {
            "gridcolor": "white",
            "linecolor": "white",
            "ticks": ""
           },
           "bgcolor": "#E5ECF6",
           "radialaxis": {
            "gridcolor": "white",
            "linecolor": "white",
            "ticks": ""
           }
          },
          "scene": {
           "xaxis": {
            "backgroundcolor": "#E5ECF6",
            "gridcolor": "white",
            "gridwidth": 2,
            "linecolor": "white",
            "showbackground": true,
            "ticks": "",
            "zerolinecolor": "white"
           },
           "yaxis": {
            "backgroundcolor": "#E5ECF6",
            "gridcolor": "white",
            "gridwidth": 2,
            "linecolor": "white",
            "showbackground": true,
            "ticks": "",
            "zerolinecolor": "white"
           },
           "zaxis": {
            "backgroundcolor": "#E5ECF6",
            "gridcolor": "white",
            "gridwidth": 2,
            "linecolor": "white",
            "showbackground": true,
            "ticks": "",
            "zerolinecolor": "white"
           }
          },
          "shapedefaults": {
           "line": {
            "color": "#2a3f5f"
           }
          },
          "ternary": {
           "aaxis": {
            "gridcolor": "white",
            "linecolor": "white",
            "ticks": ""
           },
           "baxis": {
            "gridcolor": "white",
            "linecolor": "white",
            "ticks": ""
           },
           "bgcolor": "#E5ECF6",
           "caxis": {
            "gridcolor": "white",
            "linecolor": "white",
            "ticks": ""
           }
          },
          "title": {
           "x": 0.05
          },
          "xaxis": {
           "automargin": true,
           "gridcolor": "white",
           "linecolor": "white",
           "ticks": "",
           "title": {
            "standoff": 15
           },
           "zerolinecolor": "white",
           "zerolinewidth": 2
          },
          "yaxis": {
           "automargin": true,
           "gridcolor": "white",
           "linecolor": "white",
           "ticks": "",
           "title": {
            "standoff": 15
           },
           "zerolinecolor": "white",
           "zerolinewidth": 2
          }
         }
        },
        "title": {
         "text": "Detailed Performance Analysis by Timeframe"
        },
        "xaxis": {
         "anchor": "y",
         "domain": [
          0,
          0.45
         ],
         "tickangle": 45
        },
        "xaxis2": {
         "anchor": "y2",
         "domain": [
          0.55,
          1
         ],
         "tickangle": 45
        },
        "yaxis": {
         "anchor": "x",
         "domain": [
          0,
          1
         ]
        },
        "yaxis2": {
         "anchor": "x2",
         "domain": [
          0,
          1
         ]
        }
       }
      }
     },
     "metadata": {},
     "output_type": "display_data"
    },
    {
     "data": {
      "application/vnd.plotly.v1+json": {
       "config": {
        "plotlyServerURL": "https://plot.ly"
       },
       "data": [
        {
         "colorscale": [
          [
           0,
           "rgb(103,0,31)"
          ],
          [
           0.1,
           "rgb(178,24,43)"
          ],
          [
           0.2,
           "rgb(214,96,77)"
          ],
          [
           0.3,
           "rgb(244,165,130)"
          ],
          [
           0.4,
           "rgb(253,219,199)"
          ],
          [
           0.5,
           "rgb(247,247,247)"
          ],
          [
           0.6,
           "rgb(209,229,240)"
          ],
          [
           0.7,
           "rgb(146,197,222)"
          ],
          [
           0.8,
           "rgb(67,147,195)"
          ],
          [
           0.9,
           "rgb(33,102,172)"
          ],
          [
           1,
           "rgb(5,48,97)"
          ]
         ],
         "hoverongaps": false,
         "text": [
          [
           1,
           0.95,
           0.76,
           -0.88,
           0.98
          ],
          [
           0.95,
           1,
           0.79,
           -0.85,
           0.97
          ],
          [
           0.76,
           0.79,
           1,
           -0.57,
           0.86
          ],
          [
           -0.88,
           -0.85,
           -0.57,
           1,
           -0.81
          ],
          [
           0.98,
           0.97,
           0.86,
           -0.81,
           1
          ]
         ],
         "textfont": {
          "size": 10
         },
         "texttemplate": "%{text}",
         "type": "heatmap",
         "x": [
          "trend_alignment",
          "early_trend_alignment",
          "trend_consistency",
          "avg_range_ratio",
          "overall_score"
         ],
         "y": [
          "trend_alignment",
          "early_trend_alignment",
          "trend_consistency",
          "avg_range_ratio",
          "overall_score"
         ],
         "z": [
          [
           1,
           0.9502043719072415,
           0.7597110588953372,
           -0.8800900540246244,
           0.9760251961230255
          ],
          [
           0.9502043719072415,
           1,
           0.7857286908529701,
           -0.849131341846077,
           0.9723950921712564
          ],
          [
           0.7597110588953372,
           0.7857286908529701,
           1,
           -0.5698153707892214,
           0.8648720204888073
          ],
          [
           -0.8800900540246244,
           -0.849131341846077,
           -0.5698153707892214,
           1,
           -0.8127143535682569
          ],
          [
           0.9760251961230255,
           0.9723950921712564,
           0.8648720204888073,
           -0.8127143535682569,
           1
          ]
         ],
         "zmax": 1,
         "zmin": -1
        }
       ],
       "layout": {
        "height": 500,
        "template": {
         "data": {
          "bar": [
           {
            "error_x": {
             "color": "#2a3f5f"
            },
            "error_y": {
             "color": "#2a3f5f"
            },
            "marker": {
             "line": {
              "color": "#E5ECF6",
              "width": 0.5
             },
             "pattern": {
              "fillmode": "overlay",
              "size": 10,
              "solidity": 0.2
             }
            },
            "type": "bar"
           }
          ],
          "barpolar": [
           {
            "marker": {
             "line": {
              "color": "#E5ECF6",
              "width": 0.5
             },
             "pattern": {
              "fillmode": "overlay",
              "size": 10,
              "solidity": 0.2
             }
            },
            "type": "barpolar"
           }
          ],
          "carpet": [
           {
            "aaxis": {
             "endlinecolor": "#2a3f5f",
             "gridcolor": "white",
             "linecolor": "white",
             "minorgridcolor": "white",
             "startlinecolor": "#2a3f5f"
            },
            "baxis": {
             "endlinecolor": "#2a3f5f",
             "gridcolor": "white",
             "linecolor": "white",
             "minorgridcolor": "white",
             "startlinecolor": "#2a3f5f"
            },
            "type": "carpet"
           }
          ],
          "choropleth": [
           {
            "colorbar": {
             "outlinewidth": 0,
             "ticks": ""
            },
            "type": "choropleth"
           }
          ],
          "contour": [
           {
            "colorbar": {
             "outlinewidth": 0,
             "ticks": ""
            },
            "colorscale": [
             [
              0,
              "#0d0887"
             ],
             [
              0.1111111111111111,
              "#46039f"
             ],
             [
              0.2222222222222222,
              "#7201a8"
             ],
             [
              0.3333333333333333,
              "#9c179e"
             ],
             [
              0.4444444444444444,
              "#bd3786"
             ],
             [
              0.5555555555555556,
              "#d8576b"
             ],
             [
              0.6666666666666666,
              "#ed7953"
             ],
             [
              0.7777777777777778,
              "#fb9f3a"
             ],
             [
              0.8888888888888888,
              "#fdca26"
             ],
             [
              1,
              "#f0f921"
             ]
            ],
            "type": "contour"
           }
          ],
          "contourcarpet": [
           {
            "colorbar": {
             "outlinewidth": 0,
             "ticks": ""
            },
            "type": "contourcarpet"
           }
          ],
          "heatmap": [
           {
            "colorbar": {
             "outlinewidth": 0,
             "ticks": ""
            },
            "colorscale": [
             [
              0,
              "#0d0887"
             ],
             [
              0.1111111111111111,
              "#46039f"
             ],
             [
              0.2222222222222222,
              "#7201a8"
             ],
             [
              0.3333333333333333,
              "#9c179e"
             ],
             [
              0.4444444444444444,
              "#bd3786"
             ],
             [
              0.5555555555555556,
              "#d8576b"
             ],
             [
              0.6666666666666666,
              "#ed7953"
             ],
             [
              0.7777777777777778,
              "#fb9f3a"
             ],
             [
              0.8888888888888888,
              "#fdca26"
             ],
             [
              1,
              "#f0f921"
             ]
            ],
            "type": "heatmap"
           }
          ],
          "heatmapgl": [
           {
            "colorbar": {
             "outlinewidth": 0,
             "ticks": ""
            },
            "colorscale": [
             [
              0,
              "#0d0887"
             ],
             [
              0.1111111111111111,
              "#46039f"
             ],
             [
              0.2222222222222222,
              "#7201a8"
             ],
             [
              0.3333333333333333,
              "#9c179e"
             ],
             [
              0.4444444444444444,
              "#bd3786"
             ],
             [
              0.5555555555555556,
              "#d8576b"
             ],
             [
              0.6666666666666666,
              "#ed7953"
             ],
             [
              0.7777777777777778,
              "#fb9f3a"
             ],
             [
              0.8888888888888888,
              "#fdca26"
             ],
             [
              1,
              "#f0f921"
             ]
            ],
            "type": "heatmapgl"
           }
          ],
          "histogram": [
           {
            "marker": {
             "pattern": {
              "fillmode": "overlay",
              "size": 10,
              "solidity": 0.2
             }
            },
            "type": "histogram"
           }
          ],
          "histogram2d": [
           {
            "colorbar": {
             "outlinewidth": 0,
             "ticks": ""
            },
            "colorscale": [
             [
              0,
              "#0d0887"
             ],
             [
              0.1111111111111111,
              "#46039f"
             ],
             [
              0.2222222222222222,
              "#7201a8"
             ],
             [
              0.3333333333333333,
              "#9c179e"
             ],
             [
              0.4444444444444444,
              "#bd3786"
             ],
             [
              0.5555555555555556,
              "#d8576b"
             ],
             [
              0.6666666666666666,
              "#ed7953"
             ],
             [
              0.7777777777777778,
              "#fb9f3a"
             ],
             [
              0.8888888888888888,
              "#fdca26"
             ],
             [
              1,
              "#f0f921"
             ]
            ],
            "type": "histogram2d"
           }
          ],
          "histogram2dcontour": [
           {
            "colorbar": {
             "outlinewidth": 0,
             "ticks": ""
            },
            "colorscale": [
             [
              0,
              "#0d0887"
             ],
             [
              0.1111111111111111,
              "#46039f"
             ],
             [
              0.2222222222222222,
              "#7201a8"
             ],
             [
              0.3333333333333333,
              "#9c179e"
             ],
             [
              0.4444444444444444,
              "#bd3786"
             ],
             [
              0.5555555555555556,
              "#d8576b"
             ],
             [
              0.6666666666666666,
              "#ed7953"
             ],
             [
              0.7777777777777778,
              "#fb9f3a"
             ],
             [
              0.8888888888888888,
              "#fdca26"
             ],
             [
              1,
              "#f0f921"
             ]
            ],
            "type": "histogram2dcontour"
           }
          ],
          "mesh3d": [
           {
            "colorbar": {
             "outlinewidth": 0,
             "ticks": ""
            },
            "type": "mesh3d"
           }
          ],
          "parcoords": [
           {
            "line": {
             "colorbar": {
              "outlinewidth": 0,
              "ticks": ""
             }
            },
            "type": "parcoords"
           }
          ],
          "pie": [
           {
            "automargin": true,
            "type": "pie"
           }
          ],
          "scatter": [
           {
            "fillpattern": {
             "fillmode": "overlay",
             "size": 10,
             "solidity": 0.2
            },
            "type": "scatter"
           }
          ],
          "scatter3d": [
           {
            "line": {
             "colorbar": {
              "outlinewidth": 0,
              "ticks": ""
             }
            },
            "marker": {
             "colorbar": {
              "outlinewidth": 0,
              "ticks": ""
             }
            },
            "type": "scatter3d"
           }
          ],
          "scattercarpet": [
           {
            "marker": {
             "colorbar": {
              "outlinewidth": 0,
              "ticks": ""
             }
            },
            "type": "scattercarpet"
           }
          ],
          "scattergeo": [
           {
            "marker": {
             "colorbar": {
              "outlinewidth": 0,
              "ticks": ""
             }
            },
            "type": "scattergeo"
           }
          ],
          "scattergl": [
           {
            "marker": {
             "colorbar": {
              "outlinewidth": 0,
              "ticks": ""
             }
            },
            "type": "scattergl"
           }
          ],
          "scattermapbox": [
           {
            "marker": {
             "colorbar": {
              "outlinewidth": 0,
              "ticks": ""
             }
            },
            "type": "scattermapbox"
           }
          ],
          "scatterpolar": [
           {
            "marker": {
             "colorbar": {
              "outlinewidth": 0,
              "ticks": ""
             }
            },
            "type": "scatterpolar"
           }
          ],
          "scatterpolargl": [
           {
            "marker": {
             "colorbar": {
              "outlinewidth": 0,
              "ticks": ""
             }
            },
            "type": "scatterpolargl"
           }
          ],
          "scatterternary": [
           {
            "marker": {
             "colorbar": {
              "outlinewidth": 0,
              "ticks": ""
             }
            },
            "type": "scatterternary"
           }
          ],
          "surface": [
           {
            "colorbar": {
             "outlinewidth": 0,
             "ticks": ""
            },
            "colorscale": [
             [
              0,
              "#0d0887"
             ],
             [
              0.1111111111111111,
              "#46039f"
             ],
             [
              0.2222222222222222,
              "#7201a8"
             ],
             [
              0.3333333333333333,
              "#9c179e"
             ],
             [
              0.4444444444444444,
              "#bd3786"
             ],
             [
              0.5555555555555556,
              "#d8576b"
             ],
             [
              0.6666666666666666,
              "#ed7953"
             ],
             [
              0.7777777777777778,
              "#fb9f3a"
             ],
             [
              0.8888888888888888,
              "#fdca26"
             ],
             [
              1,
              "#f0f921"
             ]
            ],
            "type": "surface"
           }
          ],
          "table": [
           {
            "cells": {
             "fill": {
              "color": "#EBF0F8"
             },
             "line": {
              "color": "white"
             }
            },
            "header": {
             "fill": {
              "color": "#C8D4E3"
             },
             "line": {
              "color": "white"
             }
            },
            "type": "table"
           }
          ]
         },
         "layout": {
          "annotationdefaults": {
           "arrowcolor": "#2a3f5f",
           "arrowhead": 0,
           "arrowwidth": 1
          },
          "autotypenumbers": "strict",
          "coloraxis": {
           "colorbar": {
            "outlinewidth": 0,
            "ticks": ""
           }
          },
          "colorscale": {
           "diverging": [
            [
             0,
             "#8e0152"
            ],
            [
             0.1,
             "#c51b7d"
            ],
            [
             0.2,
             "#de77ae"
            ],
            [
             0.3,
             "#f1b6da"
            ],
            [
             0.4,
             "#fde0ef"
            ],
            [
             0.5,
             "#f7f7f7"
            ],
            [
             0.6,
             "#e6f5d0"
            ],
            [
             0.7,
             "#b8e186"
            ],
            [
             0.8,
             "#7fbc41"
            ],
            [
             0.9,
             "#4d9221"
            ],
            [
             1,
             "#276419"
            ]
           ],
           "sequential": [
            [
             0,
             "#0d0887"
            ],
            [
             0.1111111111111111,
             "#46039f"
            ],
            [
             0.2222222222222222,
             "#7201a8"
            ],
            [
             0.3333333333333333,
             "#9c179e"
            ],
            [
             0.4444444444444444,
             "#bd3786"
            ],
            [
             0.5555555555555556,
             "#d8576b"
            ],
            [
             0.6666666666666666,
             "#ed7953"
            ],
            [
             0.7777777777777778,
             "#fb9f3a"
            ],
            [
             0.8888888888888888,
             "#fdca26"
            ],
            [
             1,
             "#f0f921"
            ]
           ],
           "sequentialminus": [
            [
             0,
             "#0d0887"
            ],
            [
             0.1111111111111111,
             "#46039f"
            ],
            [
             0.2222222222222222,
             "#7201a8"
            ],
            [
             0.3333333333333333,
             "#9c179e"
            ],
            [
             0.4444444444444444,
             "#bd3786"
            ],
            [
             0.5555555555555556,
             "#d8576b"
            ],
            [
             0.6666666666666666,
             "#ed7953"
            ],
            [
             0.7777777777777778,
             "#fb9f3a"
            ],
            [
             0.8888888888888888,
             "#fdca26"
            ],
            [
             1,
             "#f0f921"
            ]
           ]
          },
          "colorway": [
           "#636efa",
           "#EF553B",
           "#00cc96",
           "#ab63fa",
           "#FFA15A",
           "#19d3f3",
           "#FF6692",
           "#B6E880",
           "#FF97FF",
           "#FECB52"
          ],
          "font": {
           "color": "#2a3f5f"
          },
          "geo": {
           "bgcolor": "white",
           "lakecolor": "white",
           "landcolor": "#E5ECF6",
           "showlakes": true,
           "showland": true,
           "subunitcolor": "white"
          },
          "hoverlabel": {
           "align": "left"
          },
          "hovermode": "closest",
          "mapbox": {
           "style": "light"
          },
          "paper_bgcolor": "white",
          "plot_bgcolor": "#E5ECF6",
          "polar": {
           "angularaxis": {
            "gridcolor": "white",
            "linecolor": "white",
            "ticks": ""
           },
           "bgcolor": "#E5ECF6",
           "radialaxis": {
            "gridcolor": "white",
            "linecolor": "white",
            "ticks": ""
           }
          },
          "scene": {
           "xaxis": {
            "backgroundcolor": "#E5ECF6",
            "gridcolor": "white",
            "gridwidth": 2,
            "linecolor": "white",
            "showbackground": true,
            "ticks": "",
            "zerolinecolor": "white"
           },
           "yaxis": {
            "backgroundcolor": "#E5ECF6",
            "gridcolor": "white",
            "gridwidth": 2,
            "linecolor": "white",
            "showbackground": true,
            "ticks": "",
            "zerolinecolor": "white"
           },
           "zaxis": {
            "backgroundcolor": "#E5ECF6",
            "gridcolor": "white",
            "gridwidth": 2,
            "linecolor": "white",
            "showbackground": true,
            "ticks": "",
            "zerolinecolor": "white"
           }
          },
          "shapedefaults": {
           "line": {
            "color": "#2a3f5f"
           }
          },
          "ternary": {
           "aaxis": {
            "gridcolor": "white",
            "linecolor": "white",
            "ticks": ""
           },
           "baxis": {
            "gridcolor": "white",
            "linecolor": "white",
            "ticks": ""
           },
           "bgcolor": "#E5ECF6",
           "caxis": {
            "gridcolor": "white",
            "linecolor": "white",
            "ticks": ""
           }
          },
          "title": {
           "x": 0.05
          },
          "xaxis": {
           "automargin": true,
           "gridcolor": "white",
           "linecolor": "white",
           "ticks": "",
           "title": {
            "standoff": 15
           },
           "zerolinecolor": "white",
           "zerolinewidth": 2
          },
          "yaxis": {
           "automargin": true,
           "gridcolor": "white",
           "linecolor": "white",
           "ticks": "",
           "title": {
            "standoff": 15
           },
           "zerolinecolor": "white",
           "zerolinewidth": 2
          }
         }
        },
        "title": {
         "text": "Correlation Matrix of Metrics"
        },
        "width": 700
       }
      }
     },
     "metadata": {},
     "output_type": "display_data"
    },
    {
     "name": "stdout",
     "output_type": "stream",
     "text": [
      "\n",
      "Top 5 timeframes by overall weighted score:\n",
      "55m (EMAs: 59/156)\n",
      "- Overall Score: 0.7829\n",
      "- Trend Alignment: 0.7375\n",
      "- Early Trend Alignment: 0.7228\n",
      "- Trend Consistency: 0.9401\n",
      "- Avg Range Ratio: 0.8302\n",
      "\n",
      "50m (EMAs: 57/148)\n",
      "- Overall Score: 0.7789\n",
      "- Trend Alignment: 0.7305\n",
      "- Early Trend Alignment: 0.7150\n",
      "- Trend Consistency: 0.9388\n",
      "- Avg Range Ratio: 0.8445\n",
      "\n",
      "1h (EMAs: 62/163)\n",
      "- Overall Score: 0.7731\n",
      "- Trend Alignment: 0.7369\n",
      "- Early Trend Alignment: 0.7073\n",
      "- Trend Consistency: 0.9361\n",
      "- Avg Range Ratio: 0.7891\n",
      "\n",
      "45m (EMAs: 54/141)\n",
      "- Overall Score: 0.7693\n",
      "- Trend Alignment: 0.7223\n",
      "- Early Trend Alignment: 0.7090\n",
      "- Trend Consistency: 0.9368\n",
      "- Avg Range Ratio: 0.8035\n",
      "\n",
      "40m (EMAs: 51/133)\n",
      "- Overall Score: 0.7586\n",
      "- Trend Alignment: 0.7000\n",
      "- Early Trend Alignment: 0.6874\n",
      "- Trend Consistency: 0.9323\n",
      "- Avg Range Ratio: 0.8587\n",
      "\n"
     ]
    }
   ],
   "source": [
    "# df = bac_data.data[\"BAC\"]\n",
    "\n",
    "main(bac_data[[\"open\", \"high\", \"low\", \"close\",\"volume\"]], \"BAC\")\n",
    "\n",
    "\n",
    "# metrics:\n",
    "# # Trend alignment (how well does this timeframe predict daily trend)\n",
    "# 'trend_alignment': np.mean(tf_trend == daily_trend),\n",
    "\n",
    "# # Early prediction (first quarter of day)\n",
    "# 'early_trend_alignment': np.mean(day_quarters[0]['tf_trend'] == daily_trend),\n",
    "\n",
    "# # Trend consistency (how stable are the signals)\n",
    "# 'trend_consistency': 1 - (np.diff(tf_trend) != 0).mean(),\n",
    "\n",
    "# # Range ratio (normalized to daily range)"
   ]
  },
  {
   "cell_type": "code",
   "execution_count": 45,
   "metadata": {},
   "outputs": [
    {
     "data": {
      "application/vnd.plotly.v1+json": {
       "config": {
        "plotlyServerURL": "https://plot.ly"
       },
       "data": [
        {
         "coloraxis": "coloraxis",
         "hovertemplate": "Timeframe: %{x}<br>Metric: %{y}<br>Score: %{z}<extra></extra>",
         "name": "0",
         "type": "heatmap",
         "x": [
          "12s",
          "24s",
          "36s",
          "48s",
          "1m",
          "2m",
          "3m",
          "4m",
          "5m",
          "10m",
          "15m",
          "20m",
          "25m",
          "30m",
          "35m",
          "40m",
          "45m",
          "50m",
          "55m",
          "1h"
         ],
         "xaxis": "x",
         "y": [
          "trend_alignment",
          "early_trend_alignment",
          "trend_consistency",
          "avg_range_ratio"
         ],
         "yaxis": "y",
         "z": [
          [
           0.5009944018856806,
           0.5013907187820231,
           0.501191259914104,
           0.5007945801271328,
           0.5005219479095986,
           0.5016139108704707,
           0.5060757127278392,
           0.5078092461474386,
           0.5103332472229398,
           0.5303571428571429,
           0.5411942554799698,
           0.5494897959183673,
           0.5495495495495496,
           0.5502915451895044,
           0.5510204081632654,
           0.5551020408163264,
           0.5532879818594104,
           0.5548469387755102,
           0.5516265912305516,
           0.5553935860058309
          ],
          [
           0.5155333752944146,
           0.523711943793911,
           0.5214723926380368,
           0.5234192037470725,
           0.5306122448979592,
           0.5583090379008746,
           0.5324675324675325,
           0.5314285714285715,
           0.5678571428571428,
           0.5857142857142856,
           0.5102040816326531,
           0.4714285714285714,
           0.48214285714285715,
           0.48214285714285715,
           0.4523809523809524,
           0.47619047619047616,
           0.47619047619047616,
           0.4642857142857143,
           0.39285714285714285,
           0.5357142857142857
          ],
          [
           0.7488858605576223,
           0.784642412707708,
           0.8178426423790192,
           0.8287220026350463,
           0.83665265850539,
           0.860371855632519,
           0.8701582105837424,
           0.8935083880379283,
           0.8678733031674211,
           0.9248658318425759,
           0.8992042440318303,
           0.9103942652329751,
           0.8959276018099549,
           0.8820512820512822,
           0.8888888888888891,
           0.8705035971223024,
           0.8160000000000002,
           0.837837837837838,
           0.8599999999999998,
           0.8556701030927838
          ],
          [
           0.8326111308347937,
           0.8326111308347937,
           0.8326111308347937,
           0.8231385261302613,
           0.8326111308347937,
           0.8326111308347937,
           0.8326111308347937,
           0.7770051202493661,
           0.8326111308347937,
           0.8326111308347937,
           0.8326111308347937,
           0.7091193626025111,
           0.7334065227404,
           0.8326111308347937,
           0.7042353577185063,
           0.6786869413901143,
           0.7005219129413547,
           0.6979654695814158,
           0.7066320678466911,
           0.6786869413901143
          ]
         ]
        }
       ],
       "layout": {
        "coloraxis": {
         "colorbar": {
          "title": {
           "text": "Score"
          }
         },
         "colorscale": [
          [
           0,
           "rgb(165,0,38)"
          ],
          [
           0.1,
           "rgb(215,48,39)"
          ],
          [
           0.2,
           "rgb(244,109,67)"
          ],
          [
           0.3,
           "rgb(253,174,97)"
          ],
          [
           0.4,
           "rgb(254,224,144)"
          ],
          [
           0.5,
           "rgb(255,255,191)"
          ],
          [
           0.6,
           "rgb(224,243,248)"
          ],
          [
           0.7,
           "rgb(171,217,233)"
          ],
          [
           0.8,
           "rgb(116,173,209)"
          ],
          [
           0.9,
           "rgb(69,117,180)"
          ],
          [
           1,
           "rgb(49,54,149)"
          ]
         ]
        },
        "template": {
         "data": {
          "bar": [
           {
            "error_x": {
             "color": "#2a3f5f"
            },
            "error_y": {
             "color": "#2a3f5f"
            },
            "marker": {
             "line": {
              "color": "#E5ECF6",
              "width": 0.5
             },
             "pattern": {
              "fillmode": "overlay",
              "size": 10,
              "solidity": 0.2
             }
            },
            "type": "bar"
           }
          ],
          "barpolar": [
           {
            "marker": {
             "line": {
              "color": "#E5ECF6",
              "width": 0.5
             },
             "pattern": {
              "fillmode": "overlay",
              "size": 10,
              "solidity": 0.2
             }
            },
            "type": "barpolar"
           }
          ],
          "carpet": [
           {
            "aaxis": {
             "endlinecolor": "#2a3f5f",
             "gridcolor": "white",
             "linecolor": "white",
             "minorgridcolor": "white",
             "startlinecolor": "#2a3f5f"
            },
            "baxis": {
             "endlinecolor": "#2a3f5f",
             "gridcolor": "white",
             "linecolor": "white",
             "minorgridcolor": "white",
             "startlinecolor": "#2a3f5f"
            },
            "type": "carpet"
           }
          ],
          "choropleth": [
           {
            "colorbar": {
             "outlinewidth": 0,
             "ticks": ""
            },
            "type": "choropleth"
           }
          ],
          "contour": [
           {
            "colorbar": {
             "outlinewidth": 0,
             "ticks": ""
            },
            "colorscale": [
             [
              0,
              "#0d0887"
             ],
             [
              0.1111111111111111,
              "#46039f"
             ],
             [
              0.2222222222222222,
              "#7201a8"
             ],
             [
              0.3333333333333333,
              "#9c179e"
             ],
             [
              0.4444444444444444,
              "#bd3786"
             ],
             [
              0.5555555555555556,
              "#d8576b"
             ],
             [
              0.6666666666666666,
              "#ed7953"
             ],
             [
              0.7777777777777778,
              "#fb9f3a"
             ],
             [
              0.8888888888888888,
              "#fdca26"
             ],
             [
              1,
              "#f0f921"
             ]
            ],
            "type": "contour"
           }
          ],
          "contourcarpet": [
           {
            "colorbar": {
             "outlinewidth": 0,
             "ticks": ""
            },
            "type": "contourcarpet"
           }
          ],
          "heatmap": [
           {
            "colorbar": {
             "outlinewidth": 0,
             "ticks": ""
            },
            "colorscale": [
             [
              0,
              "#0d0887"
             ],
             [
              0.1111111111111111,
              "#46039f"
             ],
             [
              0.2222222222222222,
              "#7201a8"
             ],
             [
              0.3333333333333333,
              "#9c179e"
             ],
             [
              0.4444444444444444,
              "#bd3786"
             ],
             [
              0.5555555555555556,
              "#d8576b"
             ],
             [
              0.6666666666666666,
              "#ed7953"
             ],
             [
              0.7777777777777778,
              "#fb9f3a"
             ],
             [
              0.8888888888888888,
              "#fdca26"
             ],
             [
              1,
              "#f0f921"
             ]
            ],
            "type": "heatmap"
           }
          ],
          "heatmapgl": [
           {
            "colorbar": {
             "outlinewidth": 0,
             "ticks": ""
            },
            "colorscale": [
             [
              0,
              "#0d0887"
             ],
             [
              0.1111111111111111,
              "#46039f"
             ],
             [
              0.2222222222222222,
              "#7201a8"
             ],
             [
              0.3333333333333333,
              "#9c179e"
             ],
             [
              0.4444444444444444,
              "#bd3786"
             ],
             [
              0.5555555555555556,
              "#d8576b"
             ],
             [
              0.6666666666666666,
              "#ed7953"
             ],
             [
              0.7777777777777778,
              "#fb9f3a"
             ],
             [
              0.8888888888888888,
              "#fdca26"
             ],
             [
              1,
              "#f0f921"
             ]
            ],
            "type": "heatmapgl"
           }
          ],
          "histogram": [
           {
            "marker": {
             "pattern": {
              "fillmode": "overlay",
              "size": 10,
              "solidity": 0.2
             }
            },
            "type": "histogram"
           }
          ],
          "histogram2d": [
           {
            "colorbar": {
             "outlinewidth": 0,
             "ticks": ""
            },
            "colorscale": [
             [
              0,
              "#0d0887"
             ],
             [
              0.1111111111111111,
              "#46039f"
             ],
             [
              0.2222222222222222,
              "#7201a8"
             ],
             [
              0.3333333333333333,
              "#9c179e"
             ],
             [
              0.4444444444444444,
              "#bd3786"
             ],
             [
              0.5555555555555556,
              "#d8576b"
             ],
             [
              0.6666666666666666,
              "#ed7953"
             ],
             [
              0.7777777777777778,
              "#fb9f3a"
             ],
             [
              0.8888888888888888,
              "#fdca26"
             ],
             [
              1,
              "#f0f921"
             ]
            ],
            "type": "histogram2d"
           }
          ],
          "histogram2dcontour": [
           {
            "colorbar": {
             "outlinewidth": 0,
             "ticks": ""
            },
            "colorscale": [
             [
              0,
              "#0d0887"
             ],
             [
              0.1111111111111111,
              "#46039f"
             ],
             [
              0.2222222222222222,
              "#7201a8"
             ],
             [
              0.3333333333333333,
              "#9c179e"
             ],
             [
              0.4444444444444444,
              "#bd3786"
             ],
             [
              0.5555555555555556,
              "#d8576b"
             ],
             [
              0.6666666666666666,
              "#ed7953"
             ],
             [
              0.7777777777777778,
              "#fb9f3a"
             ],
             [
              0.8888888888888888,
              "#fdca26"
             ],
             [
              1,
              "#f0f921"
             ]
            ],
            "type": "histogram2dcontour"
           }
          ],
          "mesh3d": [
           {
            "colorbar": {
             "outlinewidth": 0,
             "ticks": ""
            },
            "type": "mesh3d"
           }
          ],
          "parcoords": [
           {
            "line": {
             "colorbar": {
              "outlinewidth": 0,
              "ticks": ""
             }
            },
            "type": "parcoords"
           }
          ],
          "pie": [
           {
            "automargin": true,
            "type": "pie"
           }
          ],
          "scatter": [
           {
            "fillpattern": {
             "fillmode": "overlay",
             "size": 10,
             "solidity": 0.2
            },
            "type": "scatter"
           }
          ],
          "scatter3d": [
           {
            "line": {
             "colorbar": {
              "outlinewidth": 0,
              "ticks": ""
             }
            },
            "marker": {
             "colorbar": {
              "outlinewidth": 0,
              "ticks": ""
             }
            },
            "type": "scatter3d"
           }
          ],
          "scattercarpet": [
           {
            "marker": {
             "colorbar": {
              "outlinewidth": 0,
              "ticks": ""
             }
            },
            "type": "scattercarpet"
           }
          ],
          "scattergeo": [
           {
            "marker": {
             "colorbar": {
              "outlinewidth": 0,
              "ticks": ""
             }
            },
            "type": "scattergeo"
           }
          ],
          "scattergl": [
           {
            "marker": {
             "colorbar": {
              "outlinewidth": 0,
              "ticks": ""
             }
            },
            "type": "scattergl"
           }
          ],
          "scattermapbox": [
           {
            "marker": {
             "colorbar": {
              "outlinewidth": 0,
              "ticks": ""
             }
            },
            "type": "scattermapbox"
           }
          ],
          "scatterpolar": [
           {
            "marker": {
             "colorbar": {
              "outlinewidth": 0,
              "ticks": ""
             }
            },
            "type": "scatterpolar"
           }
          ],
          "scatterpolargl": [
           {
            "marker": {
             "colorbar": {
              "outlinewidth": 0,
              "ticks": ""
             }
            },
            "type": "scatterpolargl"
           }
          ],
          "scatterternary": [
           {
            "marker": {
             "colorbar": {
              "outlinewidth": 0,
              "ticks": ""
             }
            },
            "type": "scatterternary"
           }
          ],
          "surface": [
           {
            "colorbar": {
             "outlinewidth": 0,
             "ticks": ""
            },
            "colorscale": [
             [
              0,
              "#0d0887"
             ],
             [
              0.1111111111111111,
              "#46039f"
             ],
             [
              0.2222222222222222,
              "#7201a8"
             ],
             [
              0.3333333333333333,
              "#9c179e"
             ],
             [
              0.4444444444444444,
              "#bd3786"
             ],
             [
              0.5555555555555556,
              "#d8576b"
             ],
             [
              0.6666666666666666,
              "#ed7953"
             ],
             [
              0.7777777777777778,
              "#fb9f3a"
             ],
             [
              0.8888888888888888,
              "#fdca26"
             ],
             [
              1,
              "#f0f921"
             ]
            ],
            "type": "surface"
           }
          ],
          "table": [
           {
            "cells": {
             "fill": {
              "color": "#EBF0F8"
             },
             "line": {
              "color": "white"
             }
            },
            "header": {
             "fill": {
              "color": "#C8D4E3"
             },
             "line": {
              "color": "white"
             }
            },
            "type": "table"
           }
          ]
         },
         "layout": {
          "annotationdefaults": {
           "arrowcolor": "#2a3f5f",
           "arrowhead": 0,
           "arrowwidth": 1
          },
          "autotypenumbers": "strict",
          "coloraxis": {
           "colorbar": {
            "outlinewidth": 0,
            "ticks": ""
           }
          },
          "colorscale": {
           "diverging": [
            [
             0,
             "#8e0152"
            ],
            [
             0.1,
             "#c51b7d"
            ],
            [
             0.2,
             "#de77ae"
            ],
            [
             0.3,
             "#f1b6da"
            ],
            [
             0.4,
             "#fde0ef"
            ],
            [
             0.5,
             "#f7f7f7"
            ],
            [
             0.6,
             "#e6f5d0"
            ],
            [
             0.7,
             "#b8e186"
            ],
            [
             0.8,
             "#7fbc41"
            ],
            [
             0.9,
             "#4d9221"
            ],
            [
             1,
             "#276419"
            ]
           ],
           "sequential": [
            [
             0,
             "#0d0887"
            ],
            [
             0.1111111111111111,
             "#46039f"
            ],
            [
             0.2222222222222222,
             "#7201a8"
            ],
            [
             0.3333333333333333,
             "#9c179e"
            ],
            [
             0.4444444444444444,
             "#bd3786"
            ],
            [
             0.5555555555555556,
             "#d8576b"
            ],
            [
             0.6666666666666666,
             "#ed7953"
            ],
            [
             0.7777777777777778,
             "#fb9f3a"
            ],
            [
             0.8888888888888888,
             "#fdca26"
            ],
            [
             1,
             "#f0f921"
            ]
           ],
           "sequentialminus": [
            [
             0,
             "#0d0887"
            ],
            [
             0.1111111111111111,
             "#46039f"
            ],
            [
             0.2222222222222222,
             "#7201a8"
            ],
            [
             0.3333333333333333,
             "#9c179e"
            ],
            [
             0.4444444444444444,
             "#bd3786"
            ],
            [
             0.5555555555555556,
             "#d8576b"
            ],
            [
             0.6666666666666666,
             "#ed7953"
            ],
            [
             0.7777777777777778,
             "#fb9f3a"
            ],
            [
             0.8888888888888888,
             "#fdca26"
            ],
            [
             1,
             "#f0f921"
            ]
           ]
          },
          "colorway": [
           "#636efa",
           "#EF553B",
           "#00cc96",
           "#ab63fa",
           "#FFA15A",
           "#19d3f3",
           "#FF6692",
           "#B6E880",
           "#FF97FF",
           "#FECB52"
          ],
          "font": {
           "color": "#2a3f5f"
          },
          "geo": {
           "bgcolor": "white",
           "lakecolor": "white",
           "landcolor": "#E5ECF6",
           "showlakes": true,
           "showland": true,
           "subunitcolor": "white"
          },
          "hoverlabel": {
           "align": "left"
          },
          "hovermode": "closest",
          "mapbox": {
           "style": "light"
          },
          "paper_bgcolor": "white",
          "plot_bgcolor": "#E5ECF6",
          "polar": {
           "angularaxis": {
            "gridcolor": "white",
            "linecolor": "white",
            "ticks": ""
           },
           "bgcolor": "#E5ECF6",
           "radialaxis": {
            "gridcolor": "white",
            "linecolor": "white",
            "ticks": ""
           }
          },
          "scene": {
           "xaxis": {
            "backgroundcolor": "#E5ECF6",
            "gridcolor": "white",
            "gridwidth": 2,
            "linecolor": "white",
            "showbackground": true,
            "ticks": "",
            "zerolinecolor": "white"
           },
           "yaxis": {
            "backgroundcolor": "#E5ECF6",
            "gridcolor": "white",
            "gridwidth": 2,
            "linecolor": "white",
            "showbackground": true,
            "ticks": "",
            "zerolinecolor": "white"
           },
           "zaxis": {
            "backgroundcolor": "#E5ECF6",
            "gridcolor": "white",
            "gridwidth": 2,
            "linecolor": "white",
            "showbackground": true,
            "ticks": "",
            "zerolinecolor": "white"
           }
          },
          "shapedefaults": {
           "line": {
            "color": "#2a3f5f"
           }
          },
          "ternary": {
           "aaxis": {
            "gridcolor": "white",
            "linecolor": "white",
            "ticks": ""
           },
           "baxis": {
            "gridcolor": "white",
            "linecolor": "white",
            "ticks": ""
           },
           "bgcolor": "#E5ECF6",
           "caxis": {
            "gridcolor": "white",
            "linecolor": "white",
            "ticks": ""
           }
          },
          "title": {
           "x": 0.05
          },
          "xaxis": {
           "automargin": true,
           "gridcolor": "white",
           "linecolor": "white",
           "ticks": "",
           "title": {
            "standoff": 15
           },
           "zerolinecolor": "white",
           "zerolinewidth": 2
          },
          "yaxis": {
           "automargin": true,
           "gridcolor": "white",
           "linecolor": "white",
           "ticks": "",
           "title": {
            "standoff": 15
           },
           "zerolinecolor": "white",
           "zerolinewidth": 2
          }
         }
        },
        "title": {
         "text": "Timeframe Resolution Analysis with Scaled EMAs"
        },
        "xaxis": {
         "anchor": "y",
         "domain": [
          0,
          1
         ],
         "tickangle": 45,
         "title": {
          "text": "Timeframe Resolution (with EMA periods)"
         }
        },
        "yaxis": {
         "anchor": "x",
         "autorange": "reversed",
         "domain": [
          0,
          1
         ],
         "ticktext": [
          "Overall Trend Alignment",
          "Early Day Trend Alignment",
          "Trend Consistency",
          "Avg Range Ratio"
         ],
         "tickvals": [
          0,
          1,
          2,
          3
         ],
         "title": {
          "text": "Metric"
         }
        }
       }
      }
     },
     "metadata": {},
     "output_type": "display_data"
    }
   ],
   "source": [
    "fig.show()"
   ]
  }
 ],
 "metadata": {
  "kernelspec": {
   "display_name": ".venv",
   "language": "python",
   "name": "python3"
  },
  "language_info": {
   "codemirror_mode": {
    "name": "ipython",
    "version": 3
   },
   "file_extension": ".py",
   "mimetype": "text/x-python",
   "name": "python",
   "nbconvert_exporter": "python",
   "pygments_lexer": "ipython3",
   "version": "3.10.11"
  }
 },
 "nbformat": 4,
 "nbformat_minor": 2
}
