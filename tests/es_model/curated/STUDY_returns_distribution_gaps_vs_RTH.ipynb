{
 "cells": [
  {
   "cell_type": "markdown",
   "metadata": {},
   "source": [
    "## Distribution of returns gaps vs regular trading hours\n",
    "\n",
    "https://claude.ai/chat/1e648f41-8e1c-4e35-b7c1-0f213c93c2f1"
   ]
  },
  {
   "cell_type": "code",
   "execution_count": 1,
   "metadata": {},
   "outputs": [
    {
     "name": "stdout",
     "output_type": "stream",
     "text": [
      "TTOOLS: Loaded env variables from file /Users/davidbrazda/Documents/Development/python/.env\n"
     ]
    }
   ],
   "source": [
    "import vectorbtpro as vbt\n",
    "import ttools as tts\n",
    "#from lightweight_charts import chart, Panel, PlotDFAccessor, PlotSRAccessor\n",
    "#import talib\n",
    "import ttools as tts\n",
    "from ttools.config import DATA_DIR\n",
    "from ttools.utils import zoneNY, AggType\n",
    "from ttools.loaders import load_data\n",
    "from numba import jit\n",
    "import pandas as pd\n",
    "import numpy as np\n",
    "from datetime import datetime\n",
    "vbt.settings.plotting.auto_rangebreaks = True\n",
    "vbt.settings.set_theme(\"dark\")\n",
    "vbt.settings.plotting[\"use_resampler\"] = True"
   ]
  },
  {
   "cell_type": "markdown",
   "metadata": {},
   "source": [
    "either load locally aggregated data"
   ]
  },
  {
   "cell_type": "code",
   "execution_count": 8,
   "metadata": {},
   "outputs": [
    {
     "name": "stdout",
     "output_type": "stream",
     "text": [
      "matched agg files 1\n",
      "\n",
      "File: BAC-AggType.OHLCV-12-2024-02-01T09-30-00-2024-10-20T16-00-00-4679BCFMOPUVWZ-100-True.parquet\n",
      "Coverage: 2024-02-01 09:30:00 to 2024-10-20 16:00:00\n",
      "Symbol: BAC\n",
      "Agg Type: AggType.OHLCV\n",
      "Resolution: 12\n",
      "Excludes: 4679BCFMOPUVWZ\n",
      "Minsize: 100\n",
      "Main Session Only: True\n",
      "--------------------------------------------------------------------------------\n",
      "Loaded from agg_cache /Users/davidbrazda/Library/Application Support/v2realbot/aggcache/BAC-AggType.OHLCV-12-2024-02-01T09-30-00-2024-10-20T16-00-00-4679BCFMOPUVWZ-100-True.parquet\n"
     ]
    }
   ],
   "source": [
    "#This is how to call LOAD function\n",
    "symbol = [\"BAC\"]\n",
    "#datetime in zoneNY \n",
    "day_start = datetime(2024, 2, 1, 9, 30, 0)\n",
    "day_stop = datetime(2024, 10, 20, 16, 0, 0)\n",
    "day_start = zoneNY.localize(day_start)\n",
    "day_stop = zoneNY.localize(day_stop)\n",
    "\n",
    "#requested AGG\n",
    "resolution = 12 #10min bars #12s bars\n",
    "agg_type = AggType.OHLCV #other types AggType.OHLCV_VOL, AggType.OHLCV_DOL, AggType.OHLCV_RENKO\n",
    "exclude_conditions = ['C','O','4','B','7','V','P','W','U','Z','F','9','M','6'] #None to defaults\n",
    "minsize = 100 #min trade size to include\n",
    "main_session_only = True\n",
    "force_remote = False\n",
    "\n",
    "bac_data = load_data(symbol = symbol,\n",
    "                     agg_type = agg_type,\n",
    "                     resolution = resolution,\n",
    "                     start_date = day_start,\n",
    "                     end_date = day_stop,\n",
    "                     #exclude_conditions = None,\n",
    "                     minsize = minsize,\n",
    "                     main_session_only = main_session_only,\n",
    "                     force_remote = force_remote,\n",
    "                     return_vbt = False, #returns vbt object\n",
    "                     verbose = True\n",
    "                     )\n",
    "\n",
    "df_local = bac_data[\"BAC\"]"
   ]
  },
  {
   "cell_type": "markdown",
   "metadata": {},
   "source": [
    "Or load data remotely."
   ]
  },
  {
   "cell_type": "code",
   "execution_count": 13,
   "metadata": {},
   "outputs": [],
   "source": [
    "from ttools.external_loaders import load_history_bars\n",
    "from ttools.config import zoneNY\n",
    "from datetime import datetime, time\n",
    "from alpaca.data.timeframe import TimeFrame, TimeFrameUnit\n",
    "\n",
    "symbol = \"SPY\"\n",
    "start_date = day_start #zoneNY.localize(datetime(2023, 2, 27, 18, 51, 38))\n",
    "end_date = day_stop # zoneNY.localize(datetime(2023, 4, 27, 21, 51, 39))\n",
    "timeframe = TimeFrame(amount=1,unit=TimeFrameUnit.Minute)\n",
    "\n",
    "df = load_history_bars(symbol, start_date, end_date, timeframe, True)\n",
    "df = df.loc[('SPY',)]"
   ]
  },
  {
   "cell_type": "code",
   "execution_count": null,
   "metadata": {},
   "outputs": [],
   "source": []
  },
  {
   "cell_type": "code",
   "execution_count": 9,
   "metadata": {},
   "outputs": [],
   "source": [
    "import pandas as pd\n",
    "import numpy as np\n",
    "import plotly.graph_objects as go\n",
    "from plotly.subplots import make_subplots\n",
    "from scipy import stats as scipy_stats\n",
    "\n",
    "def calculate_returns(df):\n",
    "    \"\"\"\n",
    "    Calculate gap returns, main session returns, and total returns\n",
    "    from OHLCV data with datetime index\n",
    "    \"\"\"\n",
    "    # Resample to daily frequency if needed\n",
    "    daily_df = df.resample('D').agg({\n",
    "        'open': 'first',\n",
    "        'high': 'max',\n",
    "        'low': 'min',\n",
    "        'close': 'last'\n",
    "    }).dropna()\n",
    "    \n",
    "    # Calculate returns\n",
    "    gap_returns = (daily_df['open'] / daily_df['close'].shift(1) - 1) * 100\n",
    "    main_session_returns = (daily_df['close'] / daily_df['open'] - 1) * 100\n",
    "    total_returns = (daily_df['close'] / daily_df['close'].shift(1) - 1) * 100\n",
    "    \n",
    "    return pd.DataFrame({\n",
    "        'gap_returns': gap_returns,\n",
    "        'main_session_returns': main_session_returns,\n",
    "        'total_returns': total_returns\n",
    "    }, index=daily_df.index).dropna()\n",
    "\n",
    "def analyze_return_statistics(returns_df, periods=None):\n",
    "    \"\"\"\n",
    "    Calculate summary statistics for each return type, optionally for specific periods\n",
    "    \"\"\"\n",
    "    if periods is None:\n",
    "        periods = {'Full Period': returns_df}\n",
    "    \n",
    "    all_stats = {}\n",
    "    for period_name, period_data in periods.items():\n",
    "        period_stats = {}\n",
    "        for col in period_data.columns:\n",
    "            period_stats[col] = {\n",
    "                'mean': period_data[col].mean(),\n",
    "                'median': period_data[col].median(),\n",
    "                'std': period_data[col].std(),\n",
    "                'skew': period_data[col].skew(),\n",
    "                'kurtosis': period_data[col].kurtosis(),\n",
    "                'min': period_data[col].min(),\n",
    "                'max': period_data[col].max(),\n",
    "                'Jarque-Bera': scipy_stats.jarque_bera(period_data[col].dropna())[0],\n",
    "                'JB p-value': scipy_stats.jarque_bera(period_data[col].dropna())[1]\n",
    "            }\n",
    "        all_stats[period_name] = pd.DataFrame(period_stats)\n",
    "    \n",
    "    return all_stats\n",
    "\n",
    "def plot_overall_distributions(returns_df):\n",
    "    \"\"\"\n",
    "    Create overall distribution plots using plotly\n",
    "    \"\"\"\n",
    "    # Create subplots\n",
    "    fig = make_subplots(rows=2, cols=2,\n",
    "                       subplot_titles=('Return Distributions', \n",
    "                                     'Box Plots',\n",
    "                                     'QQ Plots'),\n",
    "                       specs=[[{'colspan': 2}, None],\n",
    "                             [{'type': 'box'}, {'type': 'scatter'}]])\n",
    "    \n",
    "    colors = {'gap_returns': 'blue',\n",
    "              'main_session_returns': 'green',\n",
    "              'total_returns': 'red'}\n",
    "    \n",
    "    names = {'gap_returns': 'Gap Returns',\n",
    "             'main_session_returns': 'Main Session Returns',\n",
    "             'total_returns': 'Total Returns'}\n",
    "    \n",
    "    # Add histogram traces\n",
    "    for col, color in colors.items():\n",
    "        # Histogram\n",
    "        fig.add_trace(\n",
    "            go.Histogram(x=returns_df[col],\n",
    "                        name=f\"{names[col]} (Dist)\",\n",
    "                        opacity=0.7,\n",
    "                        nbinsx=50,\n",
    "                        showlegend=True),\n",
    "            row=1, col=1\n",
    "        )\n",
    "        \n",
    "        # Box plots\n",
    "        fig.add_trace(\n",
    "            go.Box(y=returns_df[col],\n",
    "                  name=f\"{names[col]} (Box)\",\n",
    "                  boxpoints='outliers',\n",
    "                  showlegend=True),\n",
    "            row=2, col=1\n",
    "        )\n",
    "        \n",
    "        # QQ plots\n",
    "        sorted_returns = np.sort(returns_df[col].dropna())\n",
    "        theoretical_quantiles = scipy_stats.norm.ppf(\n",
    "            np.linspace(0.01, 0.99, len(sorted_returns))\n",
    "        )\n",
    "        \n",
    "        fig.add_trace(\n",
    "            go.Scatter(x=theoretical_quantiles,\n",
    "                      y=sorted_returns,\n",
    "                      mode='markers',\n",
    "                      name=f\"{names[col]} (QQ)\",\n",
    "                      marker=dict(color=color),\n",
    "                      showlegend=True),\n",
    "            row=2, col=2\n",
    "        )\n",
    "\n",
    "    # Update layout\n",
    "    fig.update_layout(\n",
    "        height=800,\n",
    "        title_text='Overall Return Distribution Analysis',\n",
    "        showlegend=True,\n",
    "        barmode='overlay',\n",
    "        legend=dict(\n",
    "            yanchor=\"top\",\n",
    "            y=0.99,\n",
    "            xanchor=\"left\",\n",
    "            x=1.0\n",
    "        )\n",
    "    )\n",
    "    \n",
    "    fig.update_xaxes(title_text='Returns (%)', row=1, col=1)\n",
    "    fig.update_yaxes(title_text='Count', row=1, col=1)\n",
    "    fig.update_xaxes(title_text='Theoretical Quantiles', row=2, col=2)\n",
    "    fig.update_yaxes(title_text='Sample Quantiles', row=2, col=2)\n",
    "    \n",
    "    return fig\n",
    "\n",
    "def plot_return_components_evolution(returns_df, close_series):\n",
    "    \"\"\"\n",
    "    Plot the evolution of cumulative returns and their components with close price overlay\n",
    "    \"\"\"\n",
    "    # Calculate cumulative returns for each component\n",
    "    cum_returns = pd.DataFrame(index=returns_df.index)\n",
    "    \n",
    "    # Calculate cumulative contributions\n",
    "    cum_returns['gap'] = returns_df['gap_returns'].cumsum()\n",
    "    cum_returns['rth'] = returns_df['main_session_returns'].cumsum()\n",
    "    cum_returns['total'] = returns_df['total_returns'].cumsum()\n",
    "    \n",
    "    # Create figure with secondary y-axis\n",
    "    fig = go.Figure()\n",
    "    \n",
    "    # Add stacked areas for components\n",
    "    fig.add_trace(\n",
    "        go.Scatter(\n",
    "            x=cum_returns.index,\n",
    "            y=cum_returns['gap'],\n",
    "            name='Gap Returns',\n",
    "            fill=None,\n",
    "            line=dict(color='rgba(0, 0, 255, 0.5)', width=1),\n",
    "            mode='lines',\n",
    "            stackgroup='one'  # this makes it stacked\n",
    "        )\n",
    "    )\n",
    "    \n",
    "    fig.add_trace(\n",
    "        go.Scatter(\n",
    "            x=cum_returns.index,\n",
    "            y=cum_returns['rth'],\n",
    "            name='RTH Returns',\n",
    "            fill=None,\n",
    "            line=dict(color='rgba(0, 255, 0, 0.5)', width=1),\n",
    "            mode='lines',\n",
    "            stackgroup='one'  # this makes it stacked\n",
    "        )\n",
    "    )\n",
    "    \n",
    "    # Add total return line\n",
    "    fig.add_trace(\n",
    "        go.Scatter(\n",
    "            x=cum_returns.index,\n",
    "            y=cum_returns['total'],\n",
    "            name='Total Returns',\n",
    "            line=dict(color='red', width=2, dash='dash'),\n",
    "            mode='lines'\n",
    "        )\n",
    "    )\n",
    "    \n",
    "    # Add close price on secondary y-axis\n",
    "    fig.add_trace(\n",
    "        go.Scatter(\n",
    "            x=close_series.index,\n",
    "            y=close_series,\n",
    "            name='Close Price',\n",
    "            line=dict(color='black', width=1.5),\n",
    "            mode='lines',\n",
    "            yaxis='y2'\n",
    "        )\n",
    "    )\n",
    "    \n",
    "    # Update layout with secondary y-axis\n",
    "    fig.update_layout(\n",
    "        title='Return Components and Price Evolution',\n",
    "        xaxis_title='Date',\n",
    "        yaxis_title='Cumulative Return (%)',\n",
    "        yaxis2=dict(\n",
    "            title='Price',\n",
    "            overlaying='y',\n",
    "            side='right',\n",
    "            showgrid=False\n",
    "        ),\n",
    "        showlegend=True,\n",
    "        height=600,\n",
    "        legend=dict(\n",
    "            yanchor=\"top\",\n",
    "            y=0.99,\n",
    "            xanchor=\"left\",\n",
    "            x=1.0\n",
    "        ),\n",
    "        hovermode='x unified'\n",
    "    )\n",
    "    \n",
    "    # Add summary statistics at the end\n",
    "    final_returns = {\n",
    "        'gap': cum_returns['gap'].iloc[-1],\n",
    "        'rth': cum_returns['rth'].iloc[-1],\n",
    "        'total': cum_returns['total'].iloc[-1]\n",
    "    }\n",
    "    \n",
    "    print(\"\\nFinal Returns Breakdown:\")\n",
    "    print(f\"Gap Returns: {final_returns['gap']:.2f}%\")\n",
    "    print(f\"RTH Returns: {final_returns['rth']:.2f}%\")\n",
    "    print(f\"Total Returns: {final_returns['total']:.2f}%\")\n",
    "    print(f\"\\nContribution to Total Returns:\")\n",
    "    print(f\"Gap: {(final_returns['gap']/final_returns['total']*100):.1f}%\")\n",
    "    print(f\"RTH: {(final_returns['rth']/final_returns['total']*100):.1f}%\")\n",
    "    \n",
    "    return fig, final_returns\n",
    "\n",
    "def analyze_distributions_over_time(df, period_length='Y'):\n",
    "    \"\"\"\n",
    "    Analyze return distributions for different time periods\n",
    "    \"\"\"\n",
    "    returns_df = calculate_returns(df)\n",
    "    \n",
    "    # Split data into periods (e.g., yearly)\n",
    "    periods = {}\n",
    "    for name, group in returns_df.groupby(pd.Grouper(freq=period_length)):\n",
    "        if len(group) > 0:  # Only include non-empty periods\n",
    "            periods[str(name.year)] = group\n",
    "    \n",
    "    # Calculate statistics for each period\n",
    "    stats_by_period = analyze_return_statistics(returns_df, periods)\n",
    "    \n",
    "    return returns_df, stats_by_period\n",
    "\n",
    "def analyze_return_components(returns_df):\n",
    "    \"\"\"\n",
    "    Analyze and visualize the components of total returns (gaps vs RTH)\n",
    "    \"\"\"\n",
    "    # Calculate cumulative returns for each component\n",
    "    cum_returns = {\n",
    "        'total': (1 + returns_df['total_returns']/100).cumprod() - 1,\n",
    "        'gap': (1 + returns_df['gap_returns']/100).cumprod() - 1,\n",
    "        'rth': (1 + returns_df['main_session_returns']/100).cumprod() - 1\n",
    "    }\n",
    "    \n",
    "    # Get final values\n",
    "    final_returns = {\n",
    "        'total': cum_returns['total'].iloc[-1] * 100,\n",
    "        'gap': cum_returns['gap'].iloc[-1] * 100,\n",
    "        'rth': cum_returns['rth'].iloc[-1] * 100\n",
    "    }\n",
    "    \n",
    "    # Create figure with secondary y-axis\n",
    "    fig = make_subplots(rows=2, cols=1, \n",
    "                       subplot_titles=('Return Components Breakdown', 'Cumulative Returns Over Time'),\n",
    "                       row_heights=[0.4, 0.6],\n",
    "                       vertical_spacing=0.15)\n",
    "    \n",
    "    # Add bar chart for return components\n",
    "    colors = ['blue', 'green', 'red']\n",
    "    components = ['Gap Returns', 'RTH Returns', 'Total Returns']\n",
    "    values = [final_returns['gap'], final_returns['rth'], final_returns['total']]\n",
    "    \n",
    "    fig.add_trace(\n",
    "        go.Bar(x=components,\n",
    "               y=values,\n",
    "               marker_color=colors,\n",
    "               text=[f\"{v:.1f}%\" for v in values],\n",
    "               textposition='auto'),\n",
    "        row=1, col=1\n",
    "    )\n",
    "    \n",
    "    # Add lines for cumulative returns\n",
    "    fig.add_trace(\n",
    "        go.Scatter(x=returns_df.index,\n",
    "                  y=cum_returns['gap'] * 100,\n",
    "                  name='Cumulative Gap Returns',\n",
    "                  line=dict(color='blue', width=2)),\n",
    "        row=2, col=1\n",
    "    )\n",
    "    \n",
    "    fig.add_trace(\n",
    "        go.Scatter(x=returns_df.index,\n",
    "                  y=cum_returns['rth'] * 100,\n",
    "                  name='Cumulative RTH Returns',\n",
    "                  line=dict(color='green', width=2)),\n",
    "        row=2, col=1\n",
    "    )\n",
    "    \n",
    "    fig.add_trace(\n",
    "        go.Scatter(x=returns_df.index,\n",
    "                  y=cum_returns['total'] * 100,\n",
    "                  name='Cumulative Total Returns',\n",
    "                  line=dict(color='red', width=2)),\n",
    "        row=2, col=1\n",
    "    )\n",
    "    \n",
    "    # Update layout\n",
    "    fig.update_layout(\n",
    "        height=800,\n",
    "        title_text='Return Components Analysis',\n",
    "        showlegend=True,\n",
    "        legend=dict(\n",
    "            yanchor=\"top\",\n",
    "            y=0.99,\n",
    "            xanchor=\"left\",\n",
    "            x=1.0\n",
    "        )\n",
    "    )\n",
    "    \n",
    "    # Update axes labels\n",
    "    fig.update_yaxes(title_text='Return (%)', row=1, col=1)\n",
    "    fig.update_yaxes(title_text='Cumulative Return (%)', row=2, col=1)\n",
    "    \n",
    "    return fig, final_returns\n",
    "\n",
    "def plot_return_components_evolution_v2(returns_df):\n",
    "    \"\"\"\n",
    "    Plot the evolution of cumulative returns with separate components\n",
    "    \"\"\"\n",
    "    # Calculate cumulative returns\n",
    "    cum_returns = pd.DataFrame(index=returns_df.index)\n",
    "    cum_returns['gap'] = returns_df['gap_returns'].cumsum()\n",
    "    cum_returns['rth'] = returns_df['main_session_returns'].cumsum()\n",
    "    cum_returns['total'] = returns_df['total_returns'].cumsum()\n",
    "    \n",
    "    # Create figure with two subplots\n",
    "    fig = make_subplots(rows=2, cols=1, \n",
    "                       subplot_titles=('Cumulative Returns', \n",
    "                                     'Contribution to Total Return (%)'),\n",
    "                       vertical_spacing=0.15,\n",
    "                       row_heights=[0.6, 0.4])\n",
    "    \n",
    "    # Plot absolute cumulative returns\n",
    "    fig.add_trace(\n",
    "        go.Scatter(x=cum_returns.index, \n",
    "                  y=cum_returns['gap'],\n",
    "                  name='Gap Returns',\n",
    "                  line=dict(color='blue', width=2)),\n",
    "        row=1, col=1\n",
    "    )\n",
    "    \n",
    "    fig.add_trace(\n",
    "        go.Scatter(x=cum_returns.index, \n",
    "                  y=cum_returns['rth'],\n",
    "                  name='RTH Returns',\n",
    "                  line=dict(color='green', width=2)),\n",
    "        row=1, col=1\n",
    "    )\n",
    "    \n",
    "    fig.add_trace(\n",
    "        go.Scatter(x=cum_returns.index, \n",
    "                  y=cum_returns['total'],\n",
    "                  name='Total Returns',\n",
    "                  line=dict(color='red', width=2, dash='dash')),\n",
    "        row=1, col=1\n",
    "    )\n",
    "    \n",
    "    # Calculate and plot relative contribution\n",
    "    contribution_df = pd.DataFrame(index=returns_df.index)\n",
    "    # Handle the case where total return is zero\n",
    "    total_abs = np.abs(cum_returns['gap']) + np.abs(cum_returns['rth'])\n",
    "    contribution_df['gap_pct'] = (np.abs(cum_returns['gap']) / total_abs * 100).fillna(50)\n",
    "    contribution_df['rth_pct'] = (np.abs(cum_returns['rth']) / total_abs * 100).fillna(50)\n",
    "    \n",
    "    # Add contribution percentage area plot\n",
    "    fig.add_trace(\n",
    "        go.Scatter(x=contribution_df.index, \n",
    "                  y=contribution_df['gap_pct'],\n",
    "                  name='Gap Contribution',\n",
    "                  fill='tozeroy',\n",
    "                  fillcolor='rgba(0, 0, 255, 0.3)',\n",
    "                  line=dict(color='blue', width=1)),\n",
    "        row=2, col=1\n",
    "    )\n",
    "    \n",
    "    fig.add_trace(\n",
    "        go.Scatter(x=contribution_df.index, \n",
    "                  y=contribution_df['rth_pct'],\n",
    "                  name='RTH Contribution',\n",
    "                  fill='tozeroy',\n",
    "                  fillcolor='rgba(0, 255, 0, 0.3)',\n",
    "                  line=dict(color='green', width=1)),\n",
    "        row=2, col=1\n",
    "    )\n",
    "    \n",
    "    # Update layout\n",
    "    fig.update_layout(\n",
    "        height=800,\n",
    "        title_text='Return Components Analysis',\n",
    "        showlegend=True,\n",
    "        legend=dict(\n",
    "            yanchor=\"top\",\n",
    "            y=0.99,\n",
    "            xanchor=\"left\",\n",
    "            x=1.0\n",
    "        ),\n",
    "        hovermode='x unified'\n",
    "    )\n",
    "    \n",
    "    # Update axes labels\n",
    "    fig.update_yaxes(title_text='Cumulative Return (%)', row=1, col=1)\n",
    "    fig.update_yaxes(title_text='Contribution (%)', row=2, col=1)\n",
    "    fig.update_xaxes(title_text='Date', row=2, col=1)\n",
    "    \n",
    "    # Update y-axis range for contribution plot\n",
    "    fig.update_yaxes(range=[0, 100], row=2, col=1)\n",
    "    \n",
    "    return fig"
   ]
  },
  {
   "cell_type": "code",
   "execution_count": 14,
   "metadata": {},
   "outputs": [
    {
     "data": {
      "application/vnd.plotly.v1+json": {
       "config": {
        "plotlyServerURL": "https://plot.ly"
       },
       "data": [
        {
         "name": "Gap Returns (Dist)",
         "nbinsx": 50,
         "opacity": 0.7,
         "showlegend": true,
         "type": "histogram",
         "x": [
          0.17799054808813608,
          -0.42756589960268876,
          -0.008104384472007453,
          0.661217370139755,
          -0.005821785119919376,
          0.07422415695399476,
          0.03992255025251357,
          -1.2717616994090464,
          1.117443517199268,
          0.2943144995086744,
          0.02192982456139525,
          -0.5862320360327855,
          -0.2496677807755865,
          1.9314389725958225,
          0.30924992121021955,
          0.08959426596697462,
          -0.02367751228270487,
          -0.2674245339806869,
          0.3912347606157107,
          0.13574927698754014,
          -0.17740520518571,
          -0.6445331515918529,
          1.0649880238335685,
          0.7896442672219228,
          0.1476588303866322,
          -0.35331550488979513,
          0.44996576347453576,
          0.029015784586805538,
          0.23264241180325218,
          -0.45264759823622214,
          0.7626105197122257,
          -0.341696730530483,
          0.24927234826215283,
          0.5658727795017748,
          -0.1453516170367375,
          -0.3661107916427264,
          0.15853037538071657,
          0.3037702112933305,
          0.4646786612646281,
          -0.1410679222982658,
          -0.6927078842229317,
          -0.12153950033760852,
          0.9438224258717876,
          0.12456451079234654,
          0.1997626009669684,
          0.21975178234234782,
          -0.9452525174582282,
          0.3659011288439151,
          -0.8825342993679763,
          1.1109584470135658,
          0.05944831959416863,
          0.14446291458878324,
          0.15962328903786904,
          -0.07802652901985896,
          0.5412391954115803,
          0.2477274997502832,
          0.25431695611302096,
          -1.290252414897719,
          0.47025675622047736,
          0.1334903808402066,
          -0.021625022116500414,
          -0.6469894678437282,
          -0.3281864731816353,
          1.1797307996832984,
          0.44577394568596773,
          0.48732127847908036,
          -0.3770228727209557,
          -0.0019327779817945867,
          0.3944128059104157,
          0.3225372933745474,
          0.06048561306490896,
          0.47287196152825395,
          0.13795970820578152,
          -0.17367010231433833,
          0.08126393771026308,
          -0.19234395625117306,
          -0.04332347567292949,
          0.7876398226155823,
          0.47204827074252,
          0.24197512193278037,
          -0.5467582344817368,
          -0.42904050475710553,
          0.03056818616027357,
          1.2652897149748377,
          0.09411272613197852,
          0.6218127357864534,
          0.21542438604049696,
          -0.13660435262635717,
          -0.27121560705535286,
          -0.24280911468060884,
          1.069209382172387,
          0.3417761273993625,
          -0.2673832781916463,
          -0.018444059168520877,
          -0.18789105966910968,
          0.282903502527887,
          -0.44705301555084676,
          0,
          -0.020216871898548483,
          -0.2165837325263209,
          0.14690489744200175,
          0.2638570774164073,
          0.1652010784790381,
          -0.12307805352975709,
          0.12408759124087343,
          0.13974591651542134,
          0.19481925102822206,
          0.30293194850155025,
          0.2645788336933075,
          0.25177222648788966,
          0.15451631078344796,
          -0.06223328591750121,
          0.13876781298367558,
          -0.963268199743017,
          0.09857337443544001,
          0.15955325089749284,
          0.576541840205147,
          0.0054101819624508,
          -1.1205591986740648,
          -0.04800502206384616,
          -0.10132085551647352,
          0.34365524212074394,
          0.16135538523598392,
          1.3495301567375106,
          0.5733318772523921,
          -1.1039524451254445,
          -3.921863559807248,
          0.5295410321693783,
          0.33319094404100635,
          0.6184220634554816,
          0.09824481853049072,
          0.22325197456054546,
          0.6830678001088275,
          0.3159878778919323,
          1.178420180445583,
          -0.3010387191842212,
          0.1191185229303171,
          0.15583578132836173,
          0.17718120805370052,
          0.4643188799199782,
          0.6493740106490176,
          0.18322033352540235,
          -0.1428188463764024,
          -0.03918565092707604,
          0.3151016023632547,
          0.31124785346308137,
          -0.2420661054055473,
          -0.44151708164446024,
          0.04903563255964638,
          0.0837170364168971,
          0.6597915280549982,
          0.5021810050951148,
          0.010936132983396796,
          0.3063354508733518,
          0.16281894025593768,
          -0.01067995728015747,
          0.4907888185504028,
          0.2989004732590894,
          1.0100831416946843,
          -0.5477196329807366,
          0.20768797521826254,
          0.1808794605226094,
          0.10209312821232164,
          0.8285353180733201,
          0.2465121158082395,
          -0.2587865011365653,
          0.4383800729132803,
          -0.40437532345639626,
          -0.2952340784479035,
          1.018391048042644,
          -0.11539268480315057,
          0.5074353372330975,
          0.03141470906486976,
          -0.1664730174478546,
          0.09556907037358009,
          0.21639236850499177,
          0.020531421629854663,
          0.0776759359950141,
          0.6320526252511893,
          0.2781354622714449
         ],
         "xaxis": "x",
         "yaxis": "y"
        },
        {
         "boxpoints": "outliers",
         "name": "Gap Returns (Box)",
         "showlegend": true,
         "type": "box",
         "xaxis": "x2",
         "y": [
          0.17799054808813608,
          -0.42756589960268876,
          -0.008104384472007453,
          0.661217370139755,
          -0.005821785119919376,
          0.07422415695399476,
          0.03992255025251357,
          -1.2717616994090464,
          1.117443517199268,
          0.2943144995086744,
          0.02192982456139525,
          -0.5862320360327855,
          -0.2496677807755865,
          1.9314389725958225,
          0.30924992121021955,
          0.08959426596697462,
          -0.02367751228270487,
          -0.2674245339806869,
          0.3912347606157107,
          0.13574927698754014,
          -0.17740520518571,
          -0.6445331515918529,
          1.0649880238335685,
          0.7896442672219228,
          0.1476588303866322,
          -0.35331550488979513,
          0.44996576347453576,
          0.029015784586805538,
          0.23264241180325218,
          -0.45264759823622214,
          0.7626105197122257,
          -0.341696730530483,
          0.24927234826215283,
          0.5658727795017748,
          -0.1453516170367375,
          -0.3661107916427264,
          0.15853037538071657,
          0.3037702112933305,
          0.4646786612646281,
          -0.1410679222982658,
          -0.6927078842229317,
          -0.12153950033760852,
          0.9438224258717876,
          0.12456451079234654,
          0.1997626009669684,
          0.21975178234234782,
          -0.9452525174582282,
          0.3659011288439151,
          -0.8825342993679763,
          1.1109584470135658,
          0.05944831959416863,
          0.14446291458878324,
          0.15962328903786904,
          -0.07802652901985896,
          0.5412391954115803,
          0.2477274997502832,
          0.25431695611302096,
          -1.290252414897719,
          0.47025675622047736,
          0.1334903808402066,
          -0.021625022116500414,
          -0.6469894678437282,
          -0.3281864731816353,
          1.1797307996832984,
          0.44577394568596773,
          0.48732127847908036,
          -0.3770228727209557,
          -0.0019327779817945867,
          0.3944128059104157,
          0.3225372933745474,
          0.06048561306490896,
          0.47287196152825395,
          0.13795970820578152,
          -0.17367010231433833,
          0.08126393771026308,
          -0.19234395625117306,
          -0.04332347567292949,
          0.7876398226155823,
          0.47204827074252,
          0.24197512193278037,
          -0.5467582344817368,
          -0.42904050475710553,
          0.03056818616027357,
          1.2652897149748377,
          0.09411272613197852,
          0.6218127357864534,
          0.21542438604049696,
          -0.13660435262635717,
          -0.27121560705535286,
          -0.24280911468060884,
          1.069209382172387,
          0.3417761273993625,
          -0.2673832781916463,
          -0.018444059168520877,
          -0.18789105966910968,
          0.282903502527887,
          -0.44705301555084676,
          0,
          -0.020216871898548483,
          -0.2165837325263209,
          0.14690489744200175,
          0.2638570774164073,
          0.1652010784790381,
          -0.12307805352975709,
          0.12408759124087343,
          0.13974591651542134,
          0.19481925102822206,
          0.30293194850155025,
          0.2645788336933075,
          0.25177222648788966,
          0.15451631078344796,
          -0.06223328591750121,
          0.13876781298367558,
          -0.963268199743017,
          0.09857337443544001,
          0.15955325089749284,
          0.576541840205147,
          0.0054101819624508,
          -1.1205591986740648,
          -0.04800502206384616,
          -0.10132085551647352,
          0.34365524212074394,
          0.16135538523598392,
          1.3495301567375106,
          0.5733318772523921,
          -1.1039524451254445,
          -3.921863559807248,
          0.5295410321693783,
          0.33319094404100635,
          0.6184220634554816,
          0.09824481853049072,
          0.22325197456054546,
          0.6830678001088275,
          0.3159878778919323,
          1.178420180445583,
          -0.3010387191842212,
          0.1191185229303171,
          0.15583578132836173,
          0.17718120805370052,
          0.4643188799199782,
          0.6493740106490176,
          0.18322033352540235,
          -0.1428188463764024,
          -0.03918565092707604,
          0.3151016023632547,
          0.31124785346308137,
          -0.2420661054055473,
          -0.44151708164446024,
          0.04903563255964638,
          0.0837170364168971,
          0.6597915280549982,
          0.5021810050951148,
          0.010936132983396796,
          0.3063354508733518,
          0.16281894025593768,
          -0.01067995728015747,
          0.4907888185504028,
          0.2989004732590894,
          1.0100831416946843,
          -0.5477196329807366,
          0.20768797521826254,
          0.1808794605226094,
          0.10209312821232164,
          0.8285353180733201,
          0.2465121158082395,
          -0.2587865011365653,
          0.4383800729132803,
          -0.40437532345639626,
          -0.2952340784479035,
          1.018391048042644,
          -0.11539268480315057,
          0.5074353372330975,
          0.03141470906486976,
          -0.1664730174478546,
          0.09556907037358009,
          0.21639236850499177,
          0.020531421629854663,
          0.0776759359950141,
          0.6320526252511893,
          0.2781354622714449
         ],
         "yaxis": "y2"
        },
        {
         "marker": {
          "color": "blue"
         },
         "mode": "markers",
         "name": "Gap Returns (QQ)",
         "showlegend": true,
         "type": "scatter",
         "x": [
          -2.3263478740408408,
          -2.157718551901556,
          -2.0345175461580665,
          -1.9361513901351488,
          -1.8535827128847004,
          -1.7820038533749158,
          -1.7185391271918165,
          -1.6613257321762374,
          -1.6090849603547297,
          -1.5608994121923152,
          -1.516087586703417,
          -1.4741287561017653,
          -1.434615665506462,
          -1.3972235110844538,
          -1.3616888885591873,
          -1.3277950881531415,
          -1.295361563924409,
          -1.2642362276332495,
          -1.234289701515802,
          -1.205410959442322,
          -1.1775039712305242,
          -1.1504850843460983,
          -1.124280956076138,
          -1.0988269024213122,
          -1.074065566480226,
          -1.0499458346356556,
          -1.0264219469877955,
          -1.003452761545872,
          -0.9810011412288251,
          -0.9590334397756007,
          -0.9375190679347446,
          -0.9164301252825886,
          -0.8957410860544004,
          -0.8754285297086792,
          -0.8554709087577387,
          -0.8358483478161192,
          -0.8165424689363626,
          -0.7975362391891184,
          -0.7788138371536388,
          -0.7603605355548753,
          -0.7421625977445101,
          -0.7242071860983398,
          -0.706482280709085,
          -0.6889766070057505,
          -0.6716795711387534,
          -0.654581202142686,
          -0.6376721000323973,
          -0.6209433891084067,
          -0.604386675848724,
          -0.587994010849361,
          -0.5717578543479146,
          -0.5556710449258215,
          -0.5397267710370426,
          -0.5239185450555003,
          -0.5082401795718159,
          -0.49268576570273415,
          -0.47724965320495705,
          -0.46192643220959534,
          -0.44671091641466876,
          -0.4315981275915386,
          -0.41658328127721117,
          -0.40166177353848465,
          -0.3868291687061771,
          -0.372081187988432,
          -0.3574136988815527,
          -0.342822705305129,
          -0.32830433839555984,
          -0.3138548478985507,
          -0.2994705941068936,
          -0.28514804029491864,
          -0.27088374560550377,
          -0.25667435834953334,
          -0.24251660968124966,
          -0.22840730761610234,
          -0.21434333136052477,
          -0.20032162592556646,
          -0.1863391969985524,
          -0.17239310604892866,
          -0.15848046564622276,
          -0.14459843496963046,
          -0.13074421549013093,
          -0.11691504680727997,
          -0.10310820262392043,
          -0.0893209868430114,
          -0.07555072977162403,
          -0.061794784417873255,
          -0.04805052286719029,
          -0.0343153327248612,
          -0.020586613612203788,
          -0.006861773704103144,
          0.006861773704103144,
          0.020586613612203788,
          0.03431533272486134,
          0.048050522867190436,
          0.061794784417873394,
          0.07555072977162403,
          0.08932098684301168,
          0.10310820262392056,
          0.11691504680728013,
          0.13074421549013093,
          0.14459843496963046,
          0.15848046564622303,
          0.1723931060489288,
          0.18633919699855253,
          0.20032162592556646,
          0.21434333136052477,
          0.22840730761610262,
          0.2425166096812498,
          0.2566743583495335,
          0.27088374560550377,
          0.28514804029491864,
          0.2994705941068939,
          0.3138548478985509,
          0.32830433839555995,
          0.342822705305129,
          0.3574136988815527,
          0.3720811879884323,
          0.3868291687061773,
          0.4016617735384848,
          0.41658328127721117,
          0.4315981275915386,
          0.44671091641466903,
          0.4619264322095955,
          0.4772496532049572,
          0.49268576570273415,
          0.5082401795718159,
          0.5239185450555005,
          0.5397267710370428,
          0.5556710449258218,
          0.5717578543479146,
          0.587994010849361,
          0.6043866758487243,
          0.620943389108407,
          0.6376721000323975,
          0.654581202142686,
          0.6716795711387534,
          0.6889766070057508,
          0.7064822807090853,
          0.7242071860983398,
          0.7421625977445101,
          0.7603605355548753,
          0.7788138371536393,
          0.7975362391891185,
          0.8165424689363626,
          0.8358483478161192,
          0.8554709087577387,
          0.8754285297086798,
          0.8957410860544007,
          0.9164301252825886,
          0.9375190679347446,
          0.9590334397756007,
          0.9810011412288255,
          1.0034527615458724,
          1.0264219469877955,
          1.0499458346356556,
          1.074065566480226,
          1.0988269024213126,
          1.124280956076138,
          1.1504850843460983,
          1.1775039712305242,
          1.205410959442322,
          1.2342897015158028,
          1.2642362276332504,
          1.2953615639244092,
          1.3277950881531413,
          1.361688888559188,
          1.3972235110844542,
          1.434615665506462,
          1.4741287561017653,
          1.516087586703417,
          1.5608994121923159,
          1.6090849603547301,
          1.661325732176238,
          1.718539127191817,
          1.7820038533749158,
          1.8535827128847013,
          1.9361513901351501,
          2.034517546158067,
          2.1577185519015565,
          2.3263478740408408
         ],
         "xaxis": "x3",
         "y": [
          -3.921863559807248,
          -1.290252414897719,
          -1.2717616994090464,
          -1.1205591986740648,
          -1.1039524451254445,
          -0.963268199743017,
          -0.9452525174582282,
          -0.8825342993679763,
          -0.6927078842229317,
          -0.6469894678437282,
          -0.6445331515918529,
          -0.5862320360327855,
          -0.5477196329807366,
          -0.5467582344817368,
          -0.45264759823622214,
          -0.44705301555084676,
          -0.44151708164446024,
          -0.42904050475710553,
          -0.42756589960268876,
          -0.40437532345639626,
          -0.3770228727209557,
          -0.3661107916427264,
          -0.35331550488979513,
          -0.341696730530483,
          -0.3281864731816353,
          -0.3010387191842212,
          -0.2952340784479035,
          -0.27121560705535286,
          -0.2674245339806869,
          -0.2673832781916463,
          -0.2587865011365653,
          -0.2496677807755865,
          -0.24280911468060884,
          -0.2420661054055473,
          -0.2165837325263209,
          -0.19234395625117306,
          -0.18789105966910968,
          -0.17740520518571,
          -0.17367010231433833,
          -0.1664730174478546,
          -0.1453516170367375,
          -0.1428188463764024,
          -0.1410679222982658,
          -0.13660435262635717,
          -0.12307805352975709,
          -0.12153950033760852,
          -0.11539268480315057,
          -0.10132085551647352,
          -0.07802652901985896,
          -0.06223328591750121,
          -0.04800502206384616,
          -0.04332347567292949,
          -0.03918565092707604,
          -0.02367751228270487,
          -0.021625022116500414,
          -0.020216871898548483,
          -0.018444059168520877,
          -0.01067995728015747,
          -0.008104384472007453,
          -0.005821785119919376,
          -0.0019327779817945867,
          0,
          0.0054101819624508,
          0.010936132983396796,
          0.020531421629854663,
          0.02192982456139525,
          0.029015784586805538,
          0.03056818616027357,
          0.03141470906486976,
          0.03992255025251357,
          0.04903563255964638,
          0.05944831959416863,
          0.06048561306490896,
          0.07422415695399476,
          0.0776759359950141,
          0.08126393771026308,
          0.0837170364168971,
          0.08959426596697462,
          0.09411272613197852,
          0.09556907037358009,
          0.09824481853049072,
          0.09857337443544001,
          0.10209312821232164,
          0.1191185229303171,
          0.12408759124087343,
          0.12456451079234654,
          0.1334903808402066,
          0.13574927698754014,
          0.13795970820578152,
          0.13876781298367558,
          0.13974591651542134,
          0.14446291458878324,
          0.14690489744200175,
          0.1476588303866322,
          0.15451631078344796,
          0.15583578132836173,
          0.15853037538071657,
          0.15955325089749284,
          0.15962328903786904,
          0.16135538523598392,
          0.16281894025593768,
          0.1652010784790381,
          0.17718120805370052,
          0.17799054808813608,
          0.1808794605226094,
          0.18322033352540235,
          0.19481925102822206,
          0.1997626009669684,
          0.20768797521826254,
          0.21542438604049696,
          0.21639236850499177,
          0.21975178234234782,
          0.22325197456054546,
          0.23264241180325218,
          0.24197512193278037,
          0.2465121158082395,
          0.2477274997502832,
          0.24927234826215283,
          0.25177222648788966,
          0.25431695611302096,
          0.2638570774164073,
          0.2645788336933075,
          0.2781354622714449,
          0.282903502527887,
          0.2943144995086744,
          0.2989004732590894,
          0.30293194850155025,
          0.3037702112933305,
          0.3063354508733518,
          0.30924992121021955,
          0.31124785346308137,
          0.3151016023632547,
          0.3159878778919323,
          0.3225372933745474,
          0.33319094404100635,
          0.3417761273993625,
          0.34365524212074394,
          0.3659011288439151,
          0.3912347606157107,
          0.3944128059104157,
          0.4383800729132803,
          0.44577394568596773,
          0.44996576347453576,
          0.4643188799199782,
          0.4646786612646281,
          0.47025675622047736,
          0.47204827074252,
          0.47287196152825395,
          0.48732127847908036,
          0.4907888185504028,
          0.5021810050951148,
          0.5074353372330975,
          0.5295410321693783,
          0.5412391954115803,
          0.5658727795017748,
          0.5733318772523921,
          0.576541840205147,
          0.6184220634554816,
          0.6218127357864534,
          0.6320526252511893,
          0.6493740106490176,
          0.6597915280549982,
          0.661217370139755,
          0.6830678001088275,
          0.7626105197122257,
          0.7876398226155823,
          0.7896442672219228,
          0.8285353180733201,
          0.9438224258717876,
          1.0100831416946843,
          1.018391048042644,
          1.0649880238335685,
          1.069209382172387,
          1.1109584470135658,
          1.117443517199268,
          1.178420180445583,
          1.1797307996832984,
          1.2652897149748377,
          1.3495301567375106,
          1.9314389725958225
         ],
         "yaxis": "y3"
        },
        {
         "name": "Main Session Returns (Dist)",
         "nbinsx": 50,
         "opacity": 0.7,
         "showlegend": true,
         "type": "histogram",
         "x": [
          1.2600579994281658,
          -0.03038220817888071,
          -0.09928675636245998,
          0.37054947712023,
          0.0782975306163447,
          0.4229643587379206,
          -0.05786459684339329,
          -0.6491274190612906,
          0.210310191428964,
          0.4606449028640158,
          -0.21028083952880916,
          -0.21297114843686904,
          -0.1957934681684259,
          0.7301587301587364,
          -0.2758959253804538,
          -0.2931339759984275,
          -0.0009867966606846856,
          0.1503967704272524,
          0.04330111992443264,
          0.7799913552595461,
          0.29489883602842326,
          -0.9936500470366871,
          -0.28596611497405666,
          0.30987507551987203,
          -0.6149846738835341,
          0.1312490205297001,
          0.6836108676599562,
          -0.2591131480729536,
          -0.8569162620655102,
          -0.02547920504881729,
          -0.014397447371505834,
          0.45836180806404503,
          0.9025165768350885,
          -0.09744354006648859,
          -0.07852751335925001,
          0.11831701263971262,
          -0.2110392724900767,
          -0.17634317916085385,
          0.25993386976548294,
          -0.3751216997881057,
          0.019295706705269033,
          0.1748242293131419,
          -1.8585727383863104,
          0.7163268083121288,
          0.04020032745835067,
          -0.40730067243035517,
          0.06231985666431683,
          0.6360533664288015,
          -0.9545472218982054,
          -2.036379166424007,
          0.07525646611479253,
          -0.9623554984685367,
          -0.4283039164907021,
          -0.8569597949703578,
          0.5443515989072889,
          0.694513641164618,
          -0.16681143398610265,
          0.959554478254776,
          0.6023501530561859,
          -0.2764272271016277,
          -0.7698206701274191,
          0.883561370617092,
          0.20827134781316037,
          0.06064637295564168,
          0.25111435523115233,
          -0.06569413583227268,
          0.4133835345262682,
          0.46001005063975864,
          -0.18014219735151826,
          -0.33776672088795534,
          0.4327768182690317,
          0.6294810109731097,
          -0.02453431973880038,
          0.0605120835066586,
          0.13784768774665057,
          0.3041868198307096,
          -0.35144913880827966,
          -1.424121885319729,
          0.21407596855167466,
          -0.3187115754535452,
          0.2092718003348093,
          -0.20971554945474757,
          -0.22346155315330352,
          -0.5774828928962861,
          0.19564639288833785,
          0.5765209035929031,
          -0.11028449661669715,
          0.18176366975228841,
          0.4163697062905536,
          0.3388878487174507,
          -0.06461856583709347,
          -0.1491144088080376,
          0.240349060789824,
          1.1271399055490017,
          0.1334161853936644,
          -0.4595588235294268,
          -0.025713078773847986,
          -0.042253779876177955,
          0.1617860622437961,
          0.1618569405359649,
          0.06967746667398966,
          -0.4495513441400756,
          -0.23092571889375968,
          0.7908773220525855,
          0.42283298097252064,
          0.4693984812512486,
          -0.15483220509866502,
          -0.118649552367589,
          0.53135153571362,
          -0.8318431176973728,
          0.8554059143159431,
          0.007116804554763156,
          0.2407305416881389,
          -0.1485352279031349,
          -1.2479633310057192,
          -0.4688461677708866,
          0.27305605786618337,
          0.09737800699680665,
          -1.320919724519909,
          0.2733905975801365,
          0.3448403039020498,
          -0.11721182374271333,
          -0.840259217222572,
          0.08014863929468596,
          -1.968981305535944,
          -0.5945567564540566,
          0.9469548901571478,
          1.4454373868495018,
          -1.4759309718437863,
          1.0288222943309666,
          0.6077650478473418,
          -0.2489611021676552,
          0.8629526773898943,
          0.042367417613786706,
          0.6524112829845441,
          0.48057741830185297,
          0.6399509671371595,
          -0.07153715460966881,
          0.03930396255404922,
          -1.1803185437997743,
          0.46111915357531785,
          -0.5060553325993422,
          0.3467443564674877,
          -0.47397587355892945,
          -0.22666024165194365,
          0.18723920253933546,
          -1.3970417685157166,
          0.07633587786259888,
          -0.25776470801792684,
          -1.6092957285472553,
          0.17809602497016463,
          0.05106134656065464,
          0.841078913796256,
          0.6793030756202745,
          0.3769944076184917,
          0.11037134617439825,
          -0.5414779161947991,
          0.27672331216517243,
          -0.0074779776185973645,
          0.05635390250773309,
          0.017564197140562676,
          0.015338229880623722,
          -0.25562909269181144,
          -0.4213091922005474,
          -0.2598580372870085,
          0.08367518670453489,
          -0.5903383327520051,
          0.2342745415793157,
          -0.13747884940777944,
          -0.06814012404996461,
          -0.6546472956415195,
          0.4452703176495376,
          0.6228801730755906,
          -0.04689372492487909,
          0.67962850447012,
          0.5591686452634193,
          -0.8997759113224646,
          0.422574079823379,
          -0.5905343824136655,
          0.054787953498713904
         ],
         "xaxis": "x",
         "yaxis": "y"
        },
        {
         "boxpoints": "outliers",
         "name": "Main Session Returns (Box)",
         "showlegend": true,
         "type": "box",
         "xaxis": "x2",
         "y": [
          1.2600579994281658,
          -0.03038220817888071,
          -0.09928675636245998,
          0.37054947712023,
          0.0782975306163447,
          0.4229643587379206,
          -0.05786459684339329,
          -0.6491274190612906,
          0.210310191428964,
          0.4606449028640158,
          -0.21028083952880916,
          -0.21297114843686904,
          -0.1957934681684259,
          0.7301587301587364,
          -0.2758959253804538,
          -0.2931339759984275,
          -0.0009867966606846856,
          0.1503967704272524,
          0.04330111992443264,
          0.7799913552595461,
          0.29489883602842326,
          -0.9936500470366871,
          -0.28596611497405666,
          0.30987507551987203,
          -0.6149846738835341,
          0.1312490205297001,
          0.6836108676599562,
          -0.2591131480729536,
          -0.8569162620655102,
          -0.02547920504881729,
          -0.014397447371505834,
          0.45836180806404503,
          0.9025165768350885,
          -0.09744354006648859,
          -0.07852751335925001,
          0.11831701263971262,
          -0.2110392724900767,
          -0.17634317916085385,
          0.25993386976548294,
          -0.3751216997881057,
          0.019295706705269033,
          0.1748242293131419,
          -1.8585727383863104,
          0.7163268083121288,
          0.04020032745835067,
          -0.40730067243035517,
          0.06231985666431683,
          0.6360533664288015,
          -0.9545472218982054,
          -2.036379166424007,
          0.07525646611479253,
          -0.9623554984685367,
          -0.4283039164907021,
          -0.8569597949703578,
          0.5443515989072889,
          0.694513641164618,
          -0.16681143398610265,
          0.959554478254776,
          0.6023501530561859,
          -0.2764272271016277,
          -0.7698206701274191,
          0.883561370617092,
          0.20827134781316037,
          0.06064637295564168,
          0.25111435523115233,
          -0.06569413583227268,
          0.4133835345262682,
          0.46001005063975864,
          -0.18014219735151826,
          -0.33776672088795534,
          0.4327768182690317,
          0.6294810109731097,
          -0.02453431973880038,
          0.0605120835066586,
          0.13784768774665057,
          0.3041868198307096,
          -0.35144913880827966,
          -1.424121885319729,
          0.21407596855167466,
          -0.3187115754535452,
          0.2092718003348093,
          -0.20971554945474757,
          -0.22346155315330352,
          -0.5774828928962861,
          0.19564639288833785,
          0.5765209035929031,
          -0.11028449661669715,
          0.18176366975228841,
          0.4163697062905536,
          0.3388878487174507,
          -0.06461856583709347,
          -0.1491144088080376,
          0.240349060789824,
          1.1271399055490017,
          0.1334161853936644,
          -0.4595588235294268,
          -0.025713078773847986,
          -0.042253779876177955,
          0.1617860622437961,
          0.1618569405359649,
          0.06967746667398966,
          -0.4495513441400756,
          -0.23092571889375968,
          0.7908773220525855,
          0.42283298097252064,
          0.4693984812512486,
          -0.15483220509866502,
          -0.118649552367589,
          0.53135153571362,
          -0.8318431176973728,
          0.8554059143159431,
          0.007116804554763156,
          0.2407305416881389,
          -0.1485352279031349,
          -1.2479633310057192,
          -0.4688461677708866,
          0.27305605786618337,
          0.09737800699680665,
          -1.320919724519909,
          0.2733905975801365,
          0.3448403039020498,
          -0.11721182374271333,
          -0.840259217222572,
          0.08014863929468596,
          -1.968981305535944,
          -0.5945567564540566,
          0.9469548901571478,
          1.4454373868495018,
          -1.4759309718437863,
          1.0288222943309666,
          0.6077650478473418,
          -0.2489611021676552,
          0.8629526773898943,
          0.042367417613786706,
          0.6524112829845441,
          0.48057741830185297,
          0.6399509671371595,
          -0.07153715460966881,
          0.03930396255404922,
          -1.1803185437997743,
          0.46111915357531785,
          -0.5060553325993422,
          0.3467443564674877,
          -0.47397587355892945,
          -0.22666024165194365,
          0.18723920253933546,
          -1.3970417685157166,
          0.07633587786259888,
          -0.25776470801792684,
          -1.6092957285472553,
          0.17809602497016463,
          0.05106134656065464,
          0.841078913796256,
          0.6793030756202745,
          0.3769944076184917,
          0.11037134617439825,
          -0.5414779161947991,
          0.27672331216517243,
          -0.0074779776185973645,
          0.05635390250773309,
          0.017564197140562676,
          0.015338229880623722,
          -0.25562909269181144,
          -0.4213091922005474,
          -0.2598580372870085,
          0.08367518670453489,
          -0.5903383327520051,
          0.2342745415793157,
          -0.13747884940777944,
          -0.06814012404996461,
          -0.6546472956415195,
          0.4452703176495376,
          0.6228801730755906,
          -0.04689372492487909,
          0.67962850447012,
          0.5591686452634193,
          -0.8997759113224646,
          0.422574079823379,
          -0.5905343824136655,
          0.054787953498713904
         ],
         "yaxis": "y2"
        },
        {
         "marker": {
          "color": "green"
         },
         "mode": "markers",
         "name": "Main Session Returns (QQ)",
         "showlegend": true,
         "type": "scatter",
         "x": [
          -2.3263478740408408,
          -2.157718551901556,
          -2.0345175461580665,
          -1.9361513901351488,
          -1.8535827128847004,
          -1.7820038533749158,
          -1.7185391271918165,
          -1.6613257321762374,
          -1.6090849603547297,
          -1.5608994121923152,
          -1.516087586703417,
          -1.4741287561017653,
          -1.434615665506462,
          -1.3972235110844538,
          -1.3616888885591873,
          -1.3277950881531415,
          -1.295361563924409,
          -1.2642362276332495,
          -1.234289701515802,
          -1.205410959442322,
          -1.1775039712305242,
          -1.1504850843460983,
          -1.124280956076138,
          -1.0988269024213122,
          -1.074065566480226,
          -1.0499458346356556,
          -1.0264219469877955,
          -1.003452761545872,
          -0.9810011412288251,
          -0.9590334397756007,
          -0.9375190679347446,
          -0.9164301252825886,
          -0.8957410860544004,
          -0.8754285297086792,
          -0.8554709087577387,
          -0.8358483478161192,
          -0.8165424689363626,
          -0.7975362391891184,
          -0.7788138371536388,
          -0.7603605355548753,
          -0.7421625977445101,
          -0.7242071860983398,
          -0.706482280709085,
          -0.6889766070057505,
          -0.6716795711387534,
          -0.654581202142686,
          -0.6376721000323973,
          -0.6209433891084067,
          -0.604386675848724,
          -0.587994010849361,
          -0.5717578543479146,
          -0.5556710449258215,
          -0.5397267710370426,
          -0.5239185450555003,
          -0.5082401795718159,
          -0.49268576570273415,
          -0.47724965320495705,
          -0.46192643220959534,
          -0.44671091641466876,
          -0.4315981275915386,
          -0.41658328127721117,
          -0.40166177353848465,
          -0.3868291687061771,
          -0.372081187988432,
          -0.3574136988815527,
          -0.342822705305129,
          -0.32830433839555984,
          -0.3138548478985507,
          -0.2994705941068936,
          -0.28514804029491864,
          -0.27088374560550377,
          -0.25667435834953334,
          -0.24251660968124966,
          -0.22840730761610234,
          -0.21434333136052477,
          -0.20032162592556646,
          -0.1863391969985524,
          -0.17239310604892866,
          -0.15848046564622276,
          -0.14459843496963046,
          -0.13074421549013093,
          -0.11691504680727997,
          -0.10310820262392043,
          -0.0893209868430114,
          -0.07555072977162403,
          -0.061794784417873255,
          -0.04805052286719029,
          -0.0343153327248612,
          -0.020586613612203788,
          -0.006861773704103144,
          0.006861773704103144,
          0.020586613612203788,
          0.03431533272486134,
          0.048050522867190436,
          0.061794784417873394,
          0.07555072977162403,
          0.08932098684301168,
          0.10310820262392056,
          0.11691504680728013,
          0.13074421549013093,
          0.14459843496963046,
          0.15848046564622303,
          0.1723931060489288,
          0.18633919699855253,
          0.20032162592556646,
          0.21434333136052477,
          0.22840730761610262,
          0.2425166096812498,
          0.2566743583495335,
          0.27088374560550377,
          0.28514804029491864,
          0.2994705941068939,
          0.3138548478985509,
          0.32830433839555995,
          0.342822705305129,
          0.3574136988815527,
          0.3720811879884323,
          0.3868291687061773,
          0.4016617735384848,
          0.41658328127721117,
          0.4315981275915386,
          0.44671091641466903,
          0.4619264322095955,
          0.4772496532049572,
          0.49268576570273415,
          0.5082401795718159,
          0.5239185450555005,
          0.5397267710370428,
          0.5556710449258218,
          0.5717578543479146,
          0.587994010849361,
          0.6043866758487243,
          0.620943389108407,
          0.6376721000323975,
          0.654581202142686,
          0.6716795711387534,
          0.6889766070057508,
          0.7064822807090853,
          0.7242071860983398,
          0.7421625977445101,
          0.7603605355548753,
          0.7788138371536393,
          0.7975362391891185,
          0.8165424689363626,
          0.8358483478161192,
          0.8554709087577387,
          0.8754285297086798,
          0.8957410860544007,
          0.9164301252825886,
          0.9375190679347446,
          0.9590334397756007,
          0.9810011412288255,
          1.0034527615458724,
          1.0264219469877955,
          1.0499458346356556,
          1.074065566480226,
          1.0988269024213126,
          1.124280956076138,
          1.1504850843460983,
          1.1775039712305242,
          1.205410959442322,
          1.2342897015158028,
          1.2642362276332504,
          1.2953615639244092,
          1.3277950881531413,
          1.361688888559188,
          1.3972235110844542,
          1.434615665506462,
          1.4741287561017653,
          1.516087586703417,
          1.5608994121923159,
          1.6090849603547301,
          1.661325732176238,
          1.718539127191817,
          1.7820038533749158,
          1.8535827128847013,
          1.9361513901351501,
          2.034517546158067,
          2.1577185519015565,
          2.3263478740408408
         ],
         "xaxis": "x3",
         "y": [
          -2.036379166424007,
          -1.968981305535944,
          -1.8585727383863104,
          -1.6092957285472553,
          -1.4759309718437863,
          -1.424121885319729,
          -1.3970417685157166,
          -1.320919724519909,
          -1.2479633310057192,
          -1.1803185437997743,
          -0.9936500470366871,
          -0.9623554984685367,
          -0.9545472218982054,
          -0.8997759113224646,
          -0.8569597949703578,
          -0.8569162620655102,
          -0.840259217222572,
          -0.8318431176973728,
          -0.7698206701274191,
          -0.6546472956415195,
          -0.6491274190612906,
          -0.6149846738835341,
          -0.5945567564540566,
          -0.5905343824136655,
          -0.5903383327520051,
          -0.5774828928962861,
          -0.5414779161947991,
          -0.5060553325993422,
          -0.47397587355892945,
          -0.4688461677708866,
          -0.4595588235294268,
          -0.4495513441400756,
          -0.4283039164907021,
          -0.4213091922005474,
          -0.40730067243035517,
          -0.3751216997881057,
          -0.35144913880827966,
          -0.33776672088795534,
          -0.3187115754535452,
          -0.2931339759984275,
          -0.28596611497405666,
          -0.2764272271016277,
          -0.2758959253804538,
          -0.2598580372870085,
          -0.2591131480729536,
          -0.25776470801792684,
          -0.25562909269181144,
          -0.2489611021676552,
          -0.23092571889375968,
          -0.22666024165194365,
          -0.22346155315330352,
          -0.21297114843686904,
          -0.2110392724900767,
          -0.21028083952880916,
          -0.20971554945474757,
          -0.1957934681684259,
          -0.18014219735151826,
          -0.17634317916085385,
          -0.16681143398610265,
          -0.15483220509866502,
          -0.1491144088080376,
          -0.1485352279031349,
          -0.13747884940777944,
          -0.118649552367589,
          -0.11721182374271333,
          -0.11028449661669715,
          -0.09928675636245998,
          -0.09744354006648859,
          -0.07852751335925001,
          -0.07153715460966881,
          -0.06814012404996461,
          -0.06569413583227268,
          -0.06461856583709347,
          -0.05786459684339329,
          -0.04689372492487909,
          -0.042253779876177955,
          -0.03038220817888071,
          -0.025713078773847986,
          -0.02547920504881729,
          -0.02453431973880038,
          -0.014397447371505834,
          -0.0074779776185973645,
          -0.0009867966606846856,
          0.007116804554763156,
          0.015338229880623722,
          0.017564197140562676,
          0.019295706705269033,
          0.03930396255404922,
          0.04020032745835067,
          0.042367417613786706,
          0.04330111992443264,
          0.05106134656065464,
          0.054787953498713904,
          0.05635390250773309,
          0.0605120835066586,
          0.06064637295564168,
          0.06231985666431683,
          0.06967746667398966,
          0.07525646611479253,
          0.07633587786259888,
          0.0782975306163447,
          0.08014863929468596,
          0.08367518670453489,
          0.09737800699680665,
          0.11037134617439825,
          0.11831701263971262,
          0.1312490205297001,
          0.1334161853936644,
          0.13784768774665057,
          0.1503967704272524,
          0.1617860622437961,
          0.1618569405359649,
          0.1748242293131419,
          0.17809602497016463,
          0.18176366975228841,
          0.18723920253933546,
          0.19564639288833785,
          0.20827134781316037,
          0.2092718003348093,
          0.210310191428964,
          0.21407596855167466,
          0.2342745415793157,
          0.240349060789824,
          0.2407305416881389,
          0.25111435523115233,
          0.25993386976548294,
          0.27305605786618337,
          0.2733905975801365,
          0.27672331216517243,
          0.29489883602842326,
          0.3041868198307096,
          0.30987507551987203,
          0.3388878487174507,
          0.3448403039020498,
          0.3467443564674877,
          0.37054947712023,
          0.3769944076184917,
          0.4133835345262682,
          0.4163697062905536,
          0.422574079823379,
          0.42283298097252064,
          0.4229643587379206,
          0.4327768182690317,
          0.4452703176495376,
          0.45836180806404503,
          0.46001005063975864,
          0.4606449028640158,
          0.46111915357531785,
          0.4693984812512486,
          0.48057741830185297,
          0.53135153571362,
          0.5443515989072889,
          0.5591686452634193,
          0.5765209035929031,
          0.6023501530561859,
          0.6077650478473418,
          0.6228801730755906,
          0.6294810109731097,
          0.6360533664288015,
          0.6399509671371595,
          0.6524112829845441,
          0.6793030756202745,
          0.67962850447012,
          0.6836108676599562,
          0.694513641164618,
          0.7163268083121288,
          0.7301587301587364,
          0.7799913552595461,
          0.7908773220525855,
          0.841078913796256,
          0.8554059143159431,
          0.8629526773898943,
          0.883561370617092,
          0.9025165768350885,
          0.9469548901571478,
          0.959554478254776,
          1.0288222943309666,
          1.1271399055490017,
          1.2600579994281658,
          1.4454373868495018
         ],
         "yaxis": "y3"
        },
        {
         "name": "Total Returns (Dist)",
         "nbinsx": 50,
         "opacity": 0.7,
         "showlegend": true,
         "type": "histogram",
         "x": [
          1.4402913316557076,
          -0.4578182038198486,
          -0.10738309425399883,
          1.0342169847676663,
          0.0724711871824324,
          0.4975024574214171,
          -0.017965147613641097,
          -1.9126337645743452,
          1.3301038062283554,
          0.7563151471130736,
          -0.18839712918661267,
          -0.7979546793700165,
          -0.44497241573713264,
          2.6757002730306345,
          0.032500787897893346,
          -0.20380234126554653,
          -0.02466407529448933,
          -0.11742996141587136,
          0.4347052895730119,
          0.9167994648724198,
          0.11697046495757757,
          -1.6317787946645734,
          0.7759764039828143,
          1.1019662535111774,
          -0.46823392267342223,
          -0.22253020749966046,
          1.1366526459943405,
          -0.2301725471990257,
          -0.6262674009214542,
          -0.47801147227533036,
          0.7481032758924755,
          0.11509887022140841,
          1.154038649361766,
          0.46787783296666774,
          -0.22376498938549982,
          -0.24822695035462417,
          -0.05284345846023886,
          0.12689135408454622,
          0.7258203882563263,
          -0.5156604456983849,
          -0.6735458403993366,
          0.05307224848074554,
          -0.9322919388205508,
          0.8417836080889085,
          0.24004323364503755,
          -0.1884439405751781,
          -0.8835217408079132,
          1.0042818217205207,
          -1.8286573146292562,
          -0.9480440457730666,
          0.13474952441343557,
          -0.8192828306815447,
          -0.2693643002514068,
          -0.9343176680071119,
          1.0885370385329995,
          0.9439616421935693,
          0.08708129236554285,
          -0.3430786114708817,
          1.075439501567521,
          -0.14330585001962604,
          -0.7912792183537576,
          0.23085535376354827,
          -0.12059864375951745,
          1.2410926365795882,
          0.6980077032866072,
          0.42130700114417774,
          0.03480211132806943,
          0.4580683816850062,
          0.21356010466369035,
          -0.01631885115288556,
          0.4935241990456696,
          1.1053296117053968,
          0.11339154099103688,
          -0.11326311020500857,
          0.2192236459160002,
          0.11125777861589192,
          -0.3946203544990534,
          -0.6476990137955108,
          0.6871347812018147,
          -0.07750765624409128,
          -0.3386306449477128,
          -0.6378562895599127,
          -0.19296167513660478,
          0.6804999904289843,
          0.28994324717424025,
          1.2019185197823745,
          0.10490230972406422,
          0.04491102004153813,
          0.14402483960869183,
          0.09525588345162816,
          1.00389990856673,
          0.19215208113951832,
          -0.027676870599668835,
          1.1084879560293803,
          -0.0547255513599465,
          -0.1779554290094798,
          -0.47265114323065127,
          -0.042253779876177955,
          0.14153648226427062,
          -0.055077347793530684,
          0.21668472372697867,
          -0.18688043976179403,
          -0.06610613219280026,
          0.6668258721090448,
          0.5474452554744547,
          0.6098003629763982,
          0.03968540298724399,
          0.18392296873308567,
          0.7973362131029393,
          -0.5821652411478029,
          1.0112439667604,
          -0.05512091038405442,
          0.37983241117969246,
          -1.1103726350303544,
          -1.1506201161373686,
          -0.31004097617578497,
          0.8511721804921324,
          0.1027934572866318,
          -2.426677235713781,
          0.22525433429958497,
          0.24317005323948315,
          0.2260406138013371,
          -0.6802596354835266,
          1.4307604260896944,
          -1.4069382257653307,
          -1.6919455777289705,
          -3.0120469484149925,
          1.9826326030765618,
          -1.1476576961412688,
          1.6536068218483635,
          0.7066069640461858,
          -0.02626493818358444,
          1.551915029368156,
          0.3584891714095706,
          1.8385196096483147,
          0.17809197501288399,
          0.7598317902069995,
          0.08418714623485979,
          0.21655480984341668,
          -0.7214801057218501,
          1.1134875521657817,
          -0.3237621953421477,
          0.20343029380129884,
          -0.5129757939547175,
          0.08772715065794578,
          0.49906983400116456,
          -1.6357261093213338,
          -0.36551823972206243,
          -0.2088554720133584,
          -1.526925946821478,
          0.8390626155097225,
          0.5534987720391404,
          0.8521070282881515,
          0.9877194726331195,
          0.5404271661737292,
          0.09967960128161035,
          -0.053346610712012854,
          0.5764509127139439,
          1.0025296302848208,
          -0.4916743918609745,
          0.22528865108422114,
          0.19624543411069784,
          -0.1537969442168552,
          0.4037354304170959,
          -0.013986503024587815,
          -0.1753278545200243,
          -0.1545461854522645,
          -0.17104813031236787,
          -0.432307043441571,
          0.9495569910692225,
          -0.7692845653542335,
          0.9549651138205828,
          0.6544905581346683,
          -0.21328867697385512,
          0.7758470894874137,
          0.7767710120438309,
          -0.8794292264786896,
          0.5005782541901871,
          0.03778575477044743,
          0.333075800497884
         ],
         "xaxis": "x",
         "yaxis": "y"
        },
        {
         "boxpoints": "outliers",
         "name": "Total Returns (Box)",
         "showlegend": true,
         "type": "box",
         "xaxis": "x2",
         "y": [
          1.4402913316557076,
          -0.4578182038198486,
          -0.10738309425399883,
          1.0342169847676663,
          0.0724711871824324,
          0.4975024574214171,
          -0.017965147613641097,
          -1.9126337645743452,
          1.3301038062283554,
          0.7563151471130736,
          -0.18839712918661267,
          -0.7979546793700165,
          -0.44497241573713264,
          2.6757002730306345,
          0.032500787897893346,
          -0.20380234126554653,
          -0.02466407529448933,
          -0.11742996141587136,
          0.4347052895730119,
          0.9167994648724198,
          0.11697046495757757,
          -1.6317787946645734,
          0.7759764039828143,
          1.1019662535111774,
          -0.46823392267342223,
          -0.22253020749966046,
          1.1366526459943405,
          -0.2301725471990257,
          -0.6262674009214542,
          -0.47801147227533036,
          0.7481032758924755,
          0.11509887022140841,
          1.154038649361766,
          0.46787783296666774,
          -0.22376498938549982,
          -0.24822695035462417,
          -0.05284345846023886,
          0.12689135408454622,
          0.7258203882563263,
          -0.5156604456983849,
          -0.6735458403993366,
          0.05307224848074554,
          -0.9322919388205508,
          0.8417836080889085,
          0.24004323364503755,
          -0.1884439405751781,
          -0.8835217408079132,
          1.0042818217205207,
          -1.8286573146292562,
          -0.9480440457730666,
          0.13474952441343557,
          -0.8192828306815447,
          -0.2693643002514068,
          -0.9343176680071119,
          1.0885370385329995,
          0.9439616421935693,
          0.08708129236554285,
          -0.3430786114708817,
          1.075439501567521,
          -0.14330585001962604,
          -0.7912792183537576,
          0.23085535376354827,
          -0.12059864375951745,
          1.2410926365795882,
          0.6980077032866072,
          0.42130700114417774,
          0.03480211132806943,
          0.4580683816850062,
          0.21356010466369035,
          -0.01631885115288556,
          0.4935241990456696,
          1.1053296117053968,
          0.11339154099103688,
          -0.11326311020500857,
          0.2192236459160002,
          0.11125777861589192,
          -0.3946203544990534,
          -0.6476990137955108,
          0.6871347812018147,
          -0.07750765624409128,
          -0.3386306449477128,
          -0.6378562895599127,
          -0.19296167513660478,
          0.6804999904289843,
          0.28994324717424025,
          1.2019185197823745,
          0.10490230972406422,
          0.04491102004153813,
          0.14402483960869183,
          0.09525588345162816,
          1.00389990856673,
          0.19215208113951832,
          -0.027676870599668835,
          1.1084879560293803,
          -0.0547255513599465,
          -0.1779554290094798,
          -0.47265114323065127,
          -0.042253779876177955,
          0.14153648226427062,
          -0.055077347793530684,
          0.21668472372697867,
          -0.18688043976179403,
          -0.06610613219280026,
          0.6668258721090448,
          0.5474452554744547,
          0.6098003629763982,
          0.03968540298724399,
          0.18392296873308567,
          0.7973362131029393,
          -0.5821652411478029,
          1.0112439667604,
          -0.05512091038405442,
          0.37983241117969246,
          -1.1103726350303544,
          -1.1506201161373686,
          -0.31004097617578497,
          0.8511721804921324,
          0.1027934572866318,
          -2.426677235713781,
          0.22525433429958497,
          0.24317005323948315,
          0.2260406138013371,
          -0.6802596354835266,
          1.4307604260896944,
          -1.4069382257653307,
          -1.6919455777289705,
          -3.0120469484149925,
          1.9826326030765618,
          -1.1476576961412688,
          1.6536068218483635,
          0.7066069640461858,
          -0.02626493818358444,
          1.551915029368156,
          0.3584891714095706,
          1.8385196096483147,
          0.17809197501288399,
          0.7598317902069995,
          0.08418714623485979,
          0.21655480984341668,
          -0.7214801057218501,
          1.1134875521657817,
          -0.3237621953421477,
          0.20343029380129884,
          -0.5129757939547175,
          0.08772715065794578,
          0.49906983400116456,
          -1.6357261093213338,
          -0.36551823972206243,
          -0.2088554720133584,
          -1.526925946821478,
          0.8390626155097225,
          0.5534987720391404,
          0.8521070282881515,
          0.9877194726331195,
          0.5404271661737292,
          0.09967960128161035,
          -0.053346610712012854,
          0.5764509127139439,
          1.0025296302848208,
          -0.4916743918609745,
          0.22528865108422114,
          0.19624543411069784,
          -0.1537969442168552,
          0.4037354304170959,
          -0.013986503024587815,
          -0.1753278545200243,
          -0.1545461854522645,
          -0.17104813031236787,
          -0.432307043441571,
          0.9495569910692225,
          -0.7692845653542335,
          0.9549651138205828,
          0.6544905581346683,
          -0.21328867697385512,
          0.7758470894874137,
          0.7767710120438309,
          -0.8794292264786896,
          0.5005782541901871,
          0.03778575477044743,
          0.333075800497884
         ],
         "yaxis": "y2"
        },
        {
         "marker": {
          "color": "red"
         },
         "mode": "markers",
         "name": "Total Returns (QQ)",
         "showlegend": true,
         "type": "scatter",
         "x": [
          -2.3263478740408408,
          -2.157718551901556,
          -2.0345175461580665,
          -1.9361513901351488,
          -1.8535827128847004,
          -1.7820038533749158,
          -1.7185391271918165,
          -1.6613257321762374,
          -1.6090849603547297,
          -1.5608994121923152,
          -1.516087586703417,
          -1.4741287561017653,
          -1.434615665506462,
          -1.3972235110844538,
          -1.3616888885591873,
          -1.3277950881531415,
          -1.295361563924409,
          -1.2642362276332495,
          -1.234289701515802,
          -1.205410959442322,
          -1.1775039712305242,
          -1.1504850843460983,
          -1.124280956076138,
          -1.0988269024213122,
          -1.074065566480226,
          -1.0499458346356556,
          -1.0264219469877955,
          -1.003452761545872,
          -0.9810011412288251,
          -0.9590334397756007,
          -0.9375190679347446,
          -0.9164301252825886,
          -0.8957410860544004,
          -0.8754285297086792,
          -0.8554709087577387,
          -0.8358483478161192,
          -0.8165424689363626,
          -0.7975362391891184,
          -0.7788138371536388,
          -0.7603605355548753,
          -0.7421625977445101,
          -0.7242071860983398,
          -0.706482280709085,
          -0.6889766070057505,
          -0.6716795711387534,
          -0.654581202142686,
          -0.6376721000323973,
          -0.6209433891084067,
          -0.604386675848724,
          -0.587994010849361,
          -0.5717578543479146,
          -0.5556710449258215,
          -0.5397267710370426,
          -0.5239185450555003,
          -0.5082401795718159,
          -0.49268576570273415,
          -0.47724965320495705,
          -0.46192643220959534,
          -0.44671091641466876,
          -0.4315981275915386,
          -0.41658328127721117,
          -0.40166177353848465,
          -0.3868291687061771,
          -0.372081187988432,
          -0.3574136988815527,
          -0.342822705305129,
          -0.32830433839555984,
          -0.3138548478985507,
          -0.2994705941068936,
          -0.28514804029491864,
          -0.27088374560550377,
          -0.25667435834953334,
          -0.24251660968124966,
          -0.22840730761610234,
          -0.21434333136052477,
          -0.20032162592556646,
          -0.1863391969985524,
          -0.17239310604892866,
          -0.15848046564622276,
          -0.14459843496963046,
          -0.13074421549013093,
          -0.11691504680727997,
          -0.10310820262392043,
          -0.0893209868430114,
          -0.07555072977162403,
          -0.061794784417873255,
          -0.04805052286719029,
          -0.0343153327248612,
          -0.020586613612203788,
          -0.006861773704103144,
          0.006861773704103144,
          0.020586613612203788,
          0.03431533272486134,
          0.048050522867190436,
          0.061794784417873394,
          0.07555072977162403,
          0.08932098684301168,
          0.10310820262392056,
          0.11691504680728013,
          0.13074421549013093,
          0.14459843496963046,
          0.15848046564622303,
          0.1723931060489288,
          0.18633919699855253,
          0.20032162592556646,
          0.21434333136052477,
          0.22840730761610262,
          0.2425166096812498,
          0.2566743583495335,
          0.27088374560550377,
          0.28514804029491864,
          0.2994705941068939,
          0.3138548478985509,
          0.32830433839555995,
          0.342822705305129,
          0.3574136988815527,
          0.3720811879884323,
          0.3868291687061773,
          0.4016617735384848,
          0.41658328127721117,
          0.4315981275915386,
          0.44671091641466903,
          0.4619264322095955,
          0.4772496532049572,
          0.49268576570273415,
          0.5082401795718159,
          0.5239185450555005,
          0.5397267710370428,
          0.5556710449258218,
          0.5717578543479146,
          0.587994010849361,
          0.6043866758487243,
          0.620943389108407,
          0.6376721000323975,
          0.654581202142686,
          0.6716795711387534,
          0.6889766070057508,
          0.7064822807090853,
          0.7242071860983398,
          0.7421625977445101,
          0.7603605355548753,
          0.7788138371536393,
          0.7975362391891185,
          0.8165424689363626,
          0.8358483478161192,
          0.8554709087577387,
          0.8754285297086798,
          0.8957410860544007,
          0.9164301252825886,
          0.9375190679347446,
          0.9590334397756007,
          0.9810011412288255,
          1.0034527615458724,
          1.0264219469877955,
          1.0499458346356556,
          1.074065566480226,
          1.0988269024213126,
          1.124280956076138,
          1.1504850843460983,
          1.1775039712305242,
          1.205410959442322,
          1.2342897015158028,
          1.2642362276332504,
          1.2953615639244092,
          1.3277950881531413,
          1.361688888559188,
          1.3972235110844542,
          1.434615665506462,
          1.4741287561017653,
          1.516087586703417,
          1.5608994121923159,
          1.6090849603547301,
          1.661325732176238,
          1.718539127191817,
          1.7820038533749158,
          1.8535827128847013,
          1.9361513901351501,
          2.034517546158067,
          2.1577185519015565,
          2.3263478740408408
         ],
         "xaxis": "x3",
         "y": [
          -3.0120469484149925,
          -2.426677235713781,
          -1.9126337645743452,
          -1.8286573146292562,
          -1.6919455777289705,
          -1.6357261093213338,
          -1.6317787946645734,
          -1.526925946821478,
          -1.4069382257653307,
          -1.1506201161373686,
          -1.1476576961412688,
          -1.1103726350303544,
          -0.9480440457730666,
          -0.9343176680071119,
          -0.9322919388205508,
          -0.8835217408079132,
          -0.8794292264786896,
          -0.8192828306815447,
          -0.7979546793700165,
          -0.7912792183537576,
          -0.7692845653542335,
          -0.7214801057218501,
          -0.6802596354835266,
          -0.6735458403993366,
          -0.6476990137955108,
          -0.6378562895599127,
          -0.6262674009214542,
          -0.5821652411478029,
          -0.5156604456983849,
          -0.5129757939547175,
          -0.4916743918609745,
          -0.47801147227533036,
          -0.47265114323065127,
          -0.46823392267342223,
          -0.4578182038198486,
          -0.44497241573713264,
          -0.432307043441571,
          -0.3946203544990534,
          -0.36551823972206243,
          -0.3430786114708817,
          -0.3386306449477128,
          -0.3237621953421477,
          -0.31004097617578497,
          -0.2693643002514068,
          -0.24822695035462417,
          -0.2301725471990257,
          -0.22376498938549982,
          -0.22253020749966046,
          -0.21328867697385512,
          -0.2088554720133584,
          -0.20380234126554653,
          -0.19296167513660478,
          -0.1884439405751781,
          -0.18839712918661267,
          -0.18688043976179403,
          -0.1779554290094798,
          -0.1753278545200243,
          -0.17104813031236787,
          -0.1545461854522645,
          -0.1537969442168552,
          -0.14330585001962604,
          -0.12059864375951745,
          -0.11742996141587136,
          -0.11326311020500857,
          -0.10738309425399883,
          -0.07750765624409128,
          -0.06610613219280026,
          -0.05512091038405442,
          -0.055077347793530684,
          -0.0547255513599465,
          -0.053346610712012854,
          -0.05284345846023886,
          -0.042253779876177955,
          -0.027676870599668835,
          -0.02626493818358444,
          -0.02466407529448933,
          -0.017965147613641097,
          -0.01631885115288556,
          -0.013986503024587815,
          0.032500787897893346,
          0.03480211132806943,
          0.03778575477044743,
          0.03968540298724399,
          0.04491102004153813,
          0.05307224848074554,
          0.0724711871824324,
          0.08418714623485979,
          0.08708129236554285,
          0.08772715065794578,
          0.09525588345162816,
          0.09967960128161035,
          0.1027934572866318,
          0.10490230972406422,
          0.11125777861589192,
          0.11339154099103688,
          0.11509887022140841,
          0.11697046495757757,
          0.12689135408454622,
          0.13474952441343557,
          0.14153648226427062,
          0.14402483960869183,
          0.17809197501288399,
          0.18392296873308567,
          0.19215208113951832,
          0.19624543411069784,
          0.20343029380129884,
          0.21356010466369035,
          0.21655480984341668,
          0.21668472372697867,
          0.2192236459160002,
          0.22525433429958497,
          0.22528865108422114,
          0.2260406138013371,
          0.23085535376354827,
          0.24004323364503755,
          0.24317005323948315,
          0.28994324717424025,
          0.333075800497884,
          0.3584891714095706,
          0.37983241117969246,
          0.4037354304170959,
          0.42130700114417774,
          0.4347052895730119,
          0.4580683816850062,
          0.46787783296666774,
          0.4935241990456696,
          0.4975024574214171,
          0.49906983400116456,
          0.5005782541901871,
          0.5404271661737292,
          0.5474452554744547,
          0.5534987720391404,
          0.5764509127139439,
          0.6098003629763982,
          0.6544905581346683,
          0.6668258721090448,
          0.6804999904289843,
          0.6871347812018147,
          0.6980077032866072,
          0.7066069640461858,
          0.7258203882563263,
          0.7481032758924755,
          0.7563151471130736,
          0.7598317902069995,
          0.7758470894874137,
          0.7759764039828143,
          0.7767710120438309,
          0.7973362131029393,
          0.8390626155097225,
          0.8417836080889085,
          0.8511721804921324,
          0.8521070282881515,
          0.9167994648724198,
          0.9439616421935693,
          0.9495569910692225,
          0.9549651138205828,
          0.9877194726331195,
          1.0025296302848208,
          1.00389990856673,
          1.0042818217205207,
          1.0112439667604,
          1.0342169847676663,
          1.075439501567521,
          1.0885370385329995,
          1.1019662535111774,
          1.1053296117053968,
          1.1084879560293803,
          1.1134875521657817,
          1.1366526459943405,
          1.154038649361766,
          1.2019185197823745,
          1.2410926365795882,
          1.3301038062283554,
          1.4307604260896944,
          1.4402913316557076,
          1.551915029368156,
          1.6536068218483635,
          1.8385196096483147,
          1.9826326030765618,
          2.6757002730306345
         ],
         "yaxis": "y3"
        }
       ],
       "layout": {
        "annotations": [
         {
          "font": {
           "size": 16
          },
          "showarrow": false,
          "text": "Return Distributions",
          "x": 0.5,
          "xanchor": "center",
          "xref": "paper",
          "y": 1,
          "yanchor": "bottom",
          "yref": "paper"
         },
         {
          "font": {
           "size": 16
          },
          "showarrow": false,
          "text": "Box Plots",
          "x": 0.225,
          "xanchor": "center",
          "xref": "paper",
          "y": 0.375,
          "yanchor": "bottom",
          "yref": "paper"
         },
         {
          "font": {
           "size": 16
          },
          "showarrow": false,
          "text": "QQ Plots",
          "x": 0.775,
          "xanchor": "center",
          "xref": "paper",
          "y": 0.375,
          "yanchor": "bottom",
          "yref": "paper"
         }
        ],
        "barmode": "overlay",
        "height": 800,
        "legend": {
         "x": 1,
         "xanchor": "left",
         "y": 0.99,
         "yanchor": "top"
        },
        "showlegend": true,
        "template": {
         "data": {
          "bar": [
           {
            "error_x": {
             "color": "#2a3f5f"
            },
            "error_y": {
             "color": "#2a3f5f"
            },
            "marker": {
             "line": {
              "color": "#E5ECF6",
              "width": 0.5
             },
             "pattern": {
              "fillmode": "overlay",
              "size": 10,
              "solidity": 0.2
             }
            },
            "type": "bar"
           }
          ],
          "barpolar": [
           {
            "marker": {
             "line": {
              "color": "#E5ECF6",
              "width": 0.5
             },
             "pattern": {
              "fillmode": "overlay",
              "size": 10,
              "solidity": 0.2
             }
            },
            "type": "barpolar"
           }
          ],
          "carpet": [
           {
            "aaxis": {
             "endlinecolor": "#2a3f5f",
             "gridcolor": "white",
             "linecolor": "white",
             "minorgridcolor": "white",
             "startlinecolor": "#2a3f5f"
            },
            "baxis": {
             "endlinecolor": "#2a3f5f",
             "gridcolor": "white",
             "linecolor": "white",
             "minorgridcolor": "white",
             "startlinecolor": "#2a3f5f"
            },
            "type": "carpet"
           }
          ],
          "choropleth": [
           {
            "colorbar": {
             "outlinewidth": 0,
             "ticks": ""
            },
            "type": "choropleth"
           }
          ],
          "contour": [
           {
            "colorbar": {
             "outlinewidth": 0,
             "ticks": ""
            },
            "colorscale": [
             [
              0,
              "#0d0887"
             ],
             [
              0.1111111111111111,
              "#46039f"
             ],
             [
              0.2222222222222222,
              "#7201a8"
             ],
             [
              0.3333333333333333,
              "#9c179e"
             ],
             [
              0.4444444444444444,
              "#bd3786"
             ],
             [
              0.5555555555555556,
              "#d8576b"
             ],
             [
              0.6666666666666666,
              "#ed7953"
             ],
             [
              0.7777777777777778,
              "#fb9f3a"
             ],
             [
              0.8888888888888888,
              "#fdca26"
             ],
             [
              1,
              "#f0f921"
             ]
            ],
            "type": "contour"
           }
          ],
          "contourcarpet": [
           {
            "colorbar": {
             "outlinewidth": 0,
             "ticks": ""
            },
            "type": "contourcarpet"
           }
          ],
          "heatmap": [
           {
            "colorbar": {
             "outlinewidth": 0,
             "ticks": ""
            },
            "colorscale": [
             [
              0,
              "#0d0887"
             ],
             [
              0.1111111111111111,
              "#46039f"
             ],
             [
              0.2222222222222222,
              "#7201a8"
             ],
             [
              0.3333333333333333,
              "#9c179e"
             ],
             [
              0.4444444444444444,
              "#bd3786"
             ],
             [
              0.5555555555555556,
              "#d8576b"
             ],
             [
              0.6666666666666666,
              "#ed7953"
             ],
             [
              0.7777777777777778,
              "#fb9f3a"
             ],
             [
              0.8888888888888888,
              "#fdca26"
             ],
             [
              1,
              "#f0f921"
             ]
            ],
            "type": "heatmap"
           }
          ],
          "heatmapgl": [
           {
            "colorbar": {
             "outlinewidth": 0,
             "ticks": ""
            },
            "colorscale": [
             [
              0,
              "#0d0887"
             ],
             [
              0.1111111111111111,
              "#46039f"
             ],
             [
              0.2222222222222222,
              "#7201a8"
             ],
             [
              0.3333333333333333,
              "#9c179e"
             ],
             [
              0.4444444444444444,
              "#bd3786"
             ],
             [
              0.5555555555555556,
              "#d8576b"
             ],
             [
              0.6666666666666666,
              "#ed7953"
             ],
             [
              0.7777777777777778,
              "#fb9f3a"
             ],
             [
              0.8888888888888888,
              "#fdca26"
             ],
             [
              1,
              "#f0f921"
             ]
            ],
            "type": "heatmapgl"
           }
          ],
          "histogram": [
           {
            "marker": {
             "pattern": {
              "fillmode": "overlay",
              "size": 10,
              "solidity": 0.2
             }
            },
            "type": "histogram"
           }
          ],
          "histogram2d": [
           {
            "colorbar": {
             "outlinewidth": 0,
             "ticks": ""
            },
            "colorscale": [
             [
              0,
              "#0d0887"
             ],
             [
              0.1111111111111111,
              "#46039f"
             ],
             [
              0.2222222222222222,
              "#7201a8"
             ],
             [
              0.3333333333333333,
              "#9c179e"
             ],
             [
              0.4444444444444444,
              "#bd3786"
             ],
             [
              0.5555555555555556,
              "#d8576b"
             ],
             [
              0.6666666666666666,
              "#ed7953"
             ],
             [
              0.7777777777777778,
              "#fb9f3a"
             ],
             [
              0.8888888888888888,
              "#fdca26"
             ],
             [
              1,
              "#f0f921"
             ]
            ],
            "type": "histogram2d"
           }
          ],
          "histogram2dcontour": [
           {
            "colorbar": {
             "outlinewidth": 0,
             "ticks": ""
            },
            "colorscale": [
             [
              0,
              "#0d0887"
             ],
             [
              0.1111111111111111,
              "#46039f"
             ],
             [
              0.2222222222222222,
              "#7201a8"
             ],
             [
              0.3333333333333333,
              "#9c179e"
             ],
             [
              0.4444444444444444,
              "#bd3786"
             ],
             [
              0.5555555555555556,
              "#d8576b"
             ],
             [
              0.6666666666666666,
              "#ed7953"
             ],
             [
              0.7777777777777778,
              "#fb9f3a"
             ],
             [
              0.8888888888888888,
              "#fdca26"
             ],
             [
              1,
              "#f0f921"
             ]
            ],
            "type": "histogram2dcontour"
           }
          ],
          "mesh3d": [
           {
            "colorbar": {
             "outlinewidth": 0,
             "ticks": ""
            },
            "type": "mesh3d"
           }
          ],
          "parcoords": [
           {
            "line": {
             "colorbar": {
              "outlinewidth": 0,
              "ticks": ""
             }
            },
            "type": "parcoords"
           }
          ],
          "pie": [
           {
            "automargin": true,
            "type": "pie"
           }
          ],
          "scatter": [
           {
            "fillpattern": {
             "fillmode": "overlay",
             "size": 10,
             "solidity": 0.2
            },
            "type": "scatter"
           }
          ],
          "scatter3d": [
           {
            "line": {
             "colorbar": {
              "outlinewidth": 0,
              "ticks": ""
             }
            },
            "marker": {
             "colorbar": {
              "outlinewidth": 0,
              "ticks": ""
             }
            },
            "type": "scatter3d"
           }
          ],
          "scattercarpet": [
           {
            "marker": {
             "colorbar": {
              "outlinewidth": 0,
              "ticks": ""
             }
            },
            "type": "scattercarpet"
           }
          ],
          "scattergeo": [
           {
            "marker": {
             "colorbar": {
              "outlinewidth": 0,
              "ticks": ""
             }
            },
            "type": "scattergeo"
           }
          ],
          "scattergl": [
           {
            "marker": {
             "colorbar": {
              "outlinewidth": 0,
              "ticks": ""
             }
            },
            "type": "scattergl"
           }
          ],
          "scattermapbox": [
           {
            "marker": {
             "colorbar": {
              "outlinewidth": 0,
              "ticks": ""
             }
            },
            "type": "scattermapbox"
           }
          ],
          "scatterpolar": [
           {
            "marker": {
             "colorbar": {
              "outlinewidth": 0,
              "ticks": ""
             }
            },
            "type": "scatterpolar"
           }
          ],
          "scatterpolargl": [
           {
            "marker": {
             "colorbar": {
              "outlinewidth": 0,
              "ticks": ""
             }
            },
            "type": "scatterpolargl"
           }
          ],
          "scatterternary": [
           {
            "marker": {
             "colorbar": {
              "outlinewidth": 0,
              "ticks": ""
             }
            },
            "type": "scatterternary"
           }
          ],
          "surface": [
           {
            "colorbar": {
             "outlinewidth": 0,
             "ticks": ""
            },
            "colorscale": [
             [
              0,
              "#0d0887"
             ],
             [
              0.1111111111111111,
              "#46039f"
             ],
             [
              0.2222222222222222,
              "#7201a8"
             ],
             [
              0.3333333333333333,
              "#9c179e"
             ],
             [
              0.4444444444444444,
              "#bd3786"
             ],
             [
              0.5555555555555556,
              "#d8576b"
             ],
             [
              0.6666666666666666,
              "#ed7953"
             ],
             [
              0.7777777777777778,
              "#fb9f3a"
             ],
             [
              0.8888888888888888,
              "#fdca26"
             ],
             [
              1,
              "#f0f921"
             ]
            ],
            "type": "surface"
           }
          ],
          "table": [
           {
            "cells": {
             "fill": {
              "color": "#EBF0F8"
             },
             "line": {
              "color": "white"
             }
            },
            "header": {
             "fill": {
              "color": "#C8D4E3"
             },
             "line": {
              "color": "white"
             }
            },
            "type": "table"
           }
          ]
         },
         "layout": {
          "annotationdefaults": {
           "arrowcolor": "#2a3f5f",
           "arrowhead": 0,
           "arrowwidth": 1
          },
          "autotypenumbers": "strict",
          "coloraxis": {
           "colorbar": {
            "outlinewidth": 0,
            "ticks": ""
           }
          },
          "colorscale": {
           "diverging": [
            [
             0,
             "#8e0152"
            ],
            [
             0.1,
             "#c51b7d"
            ],
            [
             0.2,
             "#de77ae"
            ],
            [
             0.3,
             "#f1b6da"
            ],
            [
             0.4,
             "#fde0ef"
            ],
            [
             0.5,
             "#f7f7f7"
            ],
            [
             0.6,
             "#e6f5d0"
            ],
            [
             0.7,
             "#b8e186"
            ],
            [
             0.8,
             "#7fbc41"
            ],
            [
             0.9,
             "#4d9221"
            ],
            [
             1,
             "#276419"
            ]
           ],
           "sequential": [
            [
             0,
             "#0d0887"
            ],
            [
             0.1111111111111111,
             "#46039f"
            ],
            [
             0.2222222222222222,
             "#7201a8"
            ],
            [
             0.3333333333333333,
             "#9c179e"
            ],
            [
             0.4444444444444444,
             "#bd3786"
            ],
            [
             0.5555555555555556,
             "#d8576b"
            ],
            [
             0.6666666666666666,
             "#ed7953"
            ],
            [
             0.7777777777777778,
             "#fb9f3a"
            ],
            [
             0.8888888888888888,
             "#fdca26"
            ],
            [
             1,
             "#f0f921"
            ]
           ],
           "sequentialminus": [
            [
             0,
             "#0d0887"
            ],
            [
             0.1111111111111111,
             "#46039f"
            ],
            [
             0.2222222222222222,
             "#7201a8"
            ],
            [
             0.3333333333333333,
             "#9c179e"
            ],
            [
             0.4444444444444444,
             "#bd3786"
            ],
            [
             0.5555555555555556,
             "#d8576b"
            ],
            [
             0.6666666666666666,
             "#ed7953"
            ],
            [
             0.7777777777777778,
             "#fb9f3a"
            ],
            [
             0.8888888888888888,
             "#fdca26"
            ],
            [
             1,
             "#f0f921"
            ]
           ]
          },
          "colorway": [
           "#636efa",
           "#EF553B",
           "#00cc96",
           "#ab63fa",
           "#FFA15A",
           "#19d3f3",
           "#FF6692",
           "#B6E880",
           "#FF97FF",
           "#FECB52"
          ],
          "font": {
           "color": "#2a3f5f"
          },
          "geo": {
           "bgcolor": "white",
           "lakecolor": "white",
           "landcolor": "#E5ECF6",
           "showlakes": true,
           "showland": true,
           "subunitcolor": "white"
          },
          "hoverlabel": {
           "align": "left"
          },
          "hovermode": "closest",
          "mapbox": {
           "style": "light"
          },
          "paper_bgcolor": "white",
          "plot_bgcolor": "#E5ECF6",
          "polar": {
           "angularaxis": {
            "gridcolor": "white",
            "linecolor": "white",
            "ticks": ""
           },
           "bgcolor": "#E5ECF6",
           "radialaxis": {
            "gridcolor": "white",
            "linecolor": "white",
            "ticks": ""
           }
          },
          "scene": {
           "xaxis": {
            "backgroundcolor": "#E5ECF6",
            "gridcolor": "white",
            "gridwidth": 2,
            "linecolor": "white",
            "showbackground": true,
            "ticks": "",
            "zerolinecolor": "white"
           },
           "yaxis": {
            "backgroundcolor": "#E5ECF6",
            "gridcolor": "white",
            "gridwidth": 2,
            "linecolor": "white",
            "showbackground": true,
            "ticks": "",
            "zerolinecolor": "white"
           },
           "zaxis": {
            "backgroundcolor": "#E5ECF6",
            "gridcolor": "white",
            "gridwidth": 2,
            "linecolor": "white",
            "showbackground": true,
            "ticks": "",
            "zerolinecolor": "white"
           }
          },
          "shapedefaults": {
           "line": {
            "color": "#2a3f5f"
           }
          },
          "ternary": {
           "aaxis": {
            "gridcolor": "white",
            "linecolor": "white",
            "ticks": ""
           },
           "baxis": {
            "gridcolor": "white",
            "linecolor": "white",
            "ticks": ""
           },
           "bgcolor": "#E5ECF6",
           "caxis": {
            "gridcolor": "white",
            "linecolor": "white",
            "ticks": ""
           }
          },
          "title": {
           "x": 0.05
          },
          "xaxis": {
           "automargin": true,
           "gridcolor": "white",
           "linecolor": "white",
           "ticks": "",
           "title": {
            "standoff": 15
           },
           "zerolinecolor": "white",
           "zerolinewidth": 2
          },
          "yaxis": {
           "automargin": true,
           "gridcolor": "white",
           "linecolor": "white",
           "ticks": "",
           "title": {
            "standoff": 15
           },
           "zerolinecolor": "white",
           "zerolinewidth": 2
          }
         }
        },
        "title": {
         "text": "Overall Return Distribution Analysis"
        },
        "xaxis": {
         "anchor": "y",
         "domain": [
          0,
          1
         ],
         "title": {
          "text": "Returns (%)"
         }
        },
        "xaxis2": {
         "anchor": "y2",
         "domain": [
          0,
          0.45
         ]
        },
        "xaxis3": {
         "anchor": "y3",
         "domain": [
          0.55,
          1
         ],
         "title": {
          "text": "Theoretical Quantiles"
         }
        },
        "yaxis": {
         "anchor": "x",
         "domain": [
          0.625,
          1
         ],
         "title": {
          "text": "Count"
         }
        },
        "yaxis2": {
         "anchor": "x2",
         "domain": [
          0,
          0.375
         ]
        },
        "yaxis3": {
         "anchor": "x3",
         "domain": [
          0,
          0.375
         ],
         "title": {
          "text": "Sample Quantiles"
         }
        }
       }
      }
     },
     "metadata": {},
     "output_type": "display_data"
    },
    {
     "name": "stdout",
     "output_type": "stream",
     "text": [
      "\n",
      "Final Returns Breakdown:\n",
      "Gap Returns: 20.22%\n",
      "RTH Returns: -1.74%\n",
      "Total Returns: 18.44%\n",
      "\n",
      "Contribution to Total Returns:\n",
      "Gap: 109.7%\n",
      "RTH: -9.4%\n"
     ]
    },
    {
     "data": {
      "application/vnd.plotly.v1+json": {
       "config": {
        "plotlyServerURL": "https://plot.ly"
       },
       "data": [
        {
         "line": {
          "color": "rgba(0, 0, 255, 0.5)",
          "width": 1
         },
         "mode": "lines",
         "name": "Gap Returns",
         "stackgroup": "one",
         "type": "scatter",
         "x": [
          "2024-02-02T00:00:00-05:00",
          "2024-02-05T00:00:00-05:00",
          "2024-02-06T00:00:00-05:00",
          "2024-02-07T00:00:00-05:00",
          "2024-02-08T00:00:00-05:00",
          "2024-02-09T00:00:00-05:00",
          "2024-02-12T00:00:00-05:00",
          "2024-02-13T00:00:00-05:00",
          "2024-02-14T00:00:00-05:00",
          "2024-02-15T00:00:00-05:00",
          "2024-02-16T00:00:00-05:00",
          "2024-02-20T00:00:00-05:00",
          "2024-02-21T00:00:00-05:00",
          "2024-02-22T00:00:00-05:00",
          "2024-02-23T00:00:00-05:00",
          "2024-02-26T00:00:00-05:00",
          "2024-02-27T00:00:00-05:00",
          "2024-02-28T00:00:00-05:00",
          "2024-02-29T00:00:00-05:00",
          "2024-03-01T00:00:00-05:00",
          "2024-03-04T00:00:00-05:00",
          "2024-03-05T00:00:00-05:00",
          "2024-03-06T00:00:00-05:00",
          "2024-03-07T00:00:00-05:00",
          "2024-03-08T00:00:00-05:00",
          "2024-03-11T00:00:00-04:00",
          "2024-03-12T00:00:00-04:00",
          "2024-03-13T00:00:00-04:00",
          "2024-03-14T00:00:00-04:00",
          "2024-03-15T00:00:00-04:00",
          "2024-03-18T00:00:00-04:00",
          "2024-03-19T00:00:00-04:00",
          "2024-03-20T00:00:00-04:00",
          "2024-03-21T00:00:00-04:00",
          "2024-03-22T00:00:00-04:00",
          "2024-03-25T00:00:00-04:00",
          "2024-03-26T00:00:00-04:00",
          "2024-03-27T00:00:00-04:00",
          "2024-03-28T00:00:00-04:00",
          "2024-04-01T00:00:00-04:00",
          "2024-04-02T00:00:00-04:00",
          "2024-04-03T00:00:00-04:00",
          "2024-04-04T00:00:00-04:00",
          "2024-04-05T00:00:00-04:00",
          "2024-04-08T00:00:00-04:00",
          "2024-04-09T00:00:00-04:00",
          "2024-04-10T00:00:00-04:00",
          "2024-04-11T00:00:00-04:00",
          "2024-04-12T00:00:00-04:00",
          "2024-04-15T00:00:00-04:00",
          "2024-04-16T00:00:00-04:00",
          "2024-04-17T00:00:00-04:00",
          "2024-04-18T00:00:00-04:00",
          "2024-04-19T00:00:00-04:00",
          "2024-04-22T00:00:00-04:00",
          "2024-04-23T00:00:00-04:00",
          "2024-04-24T00:00:00-04:00",
          "2024-04-25T00:00:00-04:00",
          "2024-04-26T00:00:00-04:00",
          "2024-04-29T00:00:00-04:00",
          "2024-04-30T00:00:00-04:00",
          "2024-05-01T00:00:00-04:00",
          "2024-05-02T00:00:00-04:00",
          "2024-05-03T00:00:00-04:00",
          "2024-05-06T00:00:00-04:00",
          "2024-05-07T00:00:00-04:00",
          "2024-05-08T00:00:00-04:00",
          "2024-05-09T00:00:00-04:00",
          "2024-05-10T00:00:00-04:00",
          "2024-05-13T00:00:00-04:00",
          "2024-05-14T00:00:00-04:00",
          "2024-05-15T00:00:00-04:00",
          "2024-05-16T00:00:00-04:00",
          "2024-05-17T00:00:00-04:00",
          "2024-05-20T00:00:00-04:00",
          "2024-05-21T00:00:00-04:00",
          "2024-05-22T00:00:00-04:00",
          "2024-05-23T00:00:00-04:00",
          "2024-05-24T00:00:00-04:00",
          "2024-05-28T00:00:00-04:00",
          "2024-05-29T00:00:00-04:00",
          "2024-05-30T00:00:00-04:00",
          "2024-05-31T00:00:00-04:00",
          "2024-06-03T00:00:00-04:00",
          "2024-06-04T00:00:00-04:00",
          "2024-06-05T00:00:00-04:00",
          "2024-06-06T00:00:00-04:00",
          "2024-06-07T00:00:00-04:00",
          "2024-06-10T00:00:00-04:00",
          "2024-06-11T00:00:00-04:00",
          "2024-06-12T00:00:00-04:00",
          "2024-06-13T00:00:00-04:00",
          "2024-06-14T00:00:00-04:00",
          "2024-06-17T00:00:00-04:00",
          "2024-06-18T00:00:00-04:00",
          "2024-06-20T00:00:00-04:00",
          "2024-06-21T00:00:00-04:00",
          "2024-06-24T00:00:00-04:00",
          "2024-06-25T00:00:00-04:00",
          "2024-06-26T00:00:00-04:00",
          "2024-06-27T00:00:00-04:00",
          "2024-06-28T00:00:00-04:00",
          "2024-07-01T00:00:00-04:00",
          "2024-07-02T00:00:00-04:00",
          "2024-07-03T00:00:00-04:00",
          "2024-07-05T00:00:00-04:00",
          "2024-07-08T00:00:00-04:00",
          "2024-07-09T00:00:00-04:00",
          "2024-07-10T00:00:00-04:00",
          "2024-07-11T00:00:00-04:00",
          "2024-07-12T00:00:00-04:00",
          "2024-07-15T00:00:00-04:00",
          "2024-07-16T00:00:00-04:00",
          "2024-07-17T00:00:00-04:00",
          "2024-07-18T00:00:00-04:00",
          "2024-07-19T00:00:00-04:00",
          "2024-07-22T00:00:00-04:00",
          "2024-07-23T00:00:00-04:00",
          "2024-07-24T00:00:00-04:00",
          "2024-07-25T00:00:00-04:00",
          "2024-07-26T00:00:00-04:00",
          "2024-07-29T00:00:00-04:00",
          "2024-07-30T00:00:00-04:00",
          "2024-07-31T00:00:00-04:00",
          "2024-08-01T00:00:00-04:00",
          "2024-08-02T00:00:00-04:00",
          "2024-08-05T00:00:00-04:00",
          "2024-08-06T00:00:00-04:00",
          "2024-08-07T00:00:00-04:00",
          "2024-08-08T00:00:00-04:00",
          "2024-08-09T00:00:00-04:00",
          "2024-08-12T00:00:00-04:00",
          "2024-08-13T00:00:00-04:00",
          "2024-08-14T00:00:00-04:00",
          "2024-08-15T00:00:00-04:00",
          "2024-08-16T00:00:00-04:00",
          "2024-08-19T00:00:00-04:00",
          "2024-08-20T00:00:00-04:00",
          "2024-08-21T00:00:00-04:00",
          "2024-08-22T00:00:00-04:00",
          "2024-08-23T00:00:00-04:00",
          "2024-08-26T00:00:00-04:00",
          "2024-08-27T00:00:00-04:00",
          "2024-08-28T00:00:00-04:00",
          "2024-08-29T00:00:00-04:00",
          "2024-08-30T00:00:00-04:00",
          "2024-09-03T00:00:00-04:00",
          "2024-09-04T00:00:00-04:00",
          "2024-09-05T00:00:00-04:00",
          "2024-09-06T00:00:00-04:00",
          "2024-09-09T00:00:00-04:00",
          "2024-09-10T00:00:00-04:00",
          "2024-09-11T00:00:00-04:00",
          "2024-09-12T00:00:00-04:00",
          "2024-09-13T00:00:00-04:00",
          "2024-09-16T00:00:00-04:00",
          "2024-09-17T00:00:00-04:00",
          "2024-09-18T00:00:00-04:00",
          "2024-09-19T00:00:00-04:00",
          "2024-09-20T00:00:00-04:00",
          "2024-09-23T00:00:00-04:00",
          "2024-09-24T00:00:00-04:00",
          "2024-09-25T00:00:00-04:00",
          "2024-09-26T00:00:00-04:00",
          "2024-09-27T00:00:00-04:00",
          "2024-09-30T00:00:00-04:00",
          "2024-10-01T00:00:00-04:00",
          "2024-10-02T00:00:00-04:00",
          "2024-10-03T00:00:00-04:00",
          "2024-10-04T00:00:00-04:00",
          "2024-10-07T00:00:00-04:00",
          "2024-10-08T00:00:00-04:00",
          "2024-10-09T00:00:00-04:00",
          "2024-10-10T00:00:00-04:00",
          "2024-10-11T00:00:00-04:00",
          "2024-10-14T00:00:00-04:00",
          "2024-10-15T00:00:00-04:00",
          "2024-10-16T00:00:00-04:00",
          "2024-10-17T00:00:00-04:00",
          "2024-10-18T00:00:00-04:00"
         ],
         "y": [
          0.17799054808813608,
          -0.24957535151455268,
          -0.25767973598656013,
          0.4035376341531949,
          0.3977158490332755,
          0.47194000598727026,
          0.5118625562397838,
          -0.7598991431692625,
          0.3575443740300055,
          0.6518588735386799,
          0.6737886981000751,
          0.08755666206728963,
          -0.16211111870829686,
          1.7693278538875257,
          2.078577775097745,
          2.16817204106472,
          2.144494528782015,
          1.877069994801328,
          2.268304755417039,
          2.404054032404579,
          2.226648827218869,
          1.582115675627016,
          2.6471036994605845,
          3.4367479666825074,
          3.5844067970691396,
          3.2310912921793444,
          3.68105705565388,
          3.7100728402406857,
          3.942715252043938,
          3.4900676538077158,
          4.252678173519941,
          3.910981442989458,
          4.160253791251611,
          4.726126570753386,
          4.580774953716649,
          4.214664162073922,
          4.373194537454639,
          4.676964748747969,
          5.141643410012597,
          5.000575487714332,
          4.3078676034914,
          4.186328103153791,
          5.130150529025578,
          5.254715039817925,
          5.454477640784893,
          5.674229423127241,
          4.728976905669013,
          5.094878034512928,
          4.212343735144952,
          5.323302182158518,
          5.382750501752686,
          5.5272134163414695,
          5.6868367053793385,
          5.60881017635948,
          6.15004937177106,
          6.3977768715213434,
          6.652093827634364,
          5.361841412736645,
          5.832098168957122,
          5.965588549797329,
          5.943963527680829,
          5.296974059837101,
          4.968787586655466,
          6.148518386338765,
          6.594292332024732,
          7.081613610503813,
          6.704590737782857,
          6.702657959801062,
          7.097070765711478,
          7.419608059086025,
          7.480093672150934,
          7.952965633679188,
          8.090925341884969,
          7.917255239570631,
          7.998519177280894,
          7.80617522102972,
          7.762851745356791,
          8.550491567972372,
          9.022539838714891,
          9.264514960647672,
          8.717756726165934,
          8.288716221408828,
          8.319284407569102,
          9.58457412254394,
          9.678686848675918,
          10.300499584462372,
          10.515923970502868,
          10.379319617876511,
          10.108104010821158,
          9.865294896140549,
          10.934504278312936,
          11.2762804057123,
          11.008897127520653,
          10.990453068352132,
          10.802562008683022,
          11.08546551121091,
          10.638412495660063,
          10.638412495660063,
          10.618195623761515,
          10.401611891235195,
          10.548516788677198,
          10.812373866093605,
          10.977574944572643,
          10.854496891042885,
          10.978584482283757,
          11.118330398799179,
          11.313149649827402,
          11.616081598328952,
          11.88066043202226,
          12.132432658510151,
          12.286948969293599,
          12.224715683376097,
          12.363483496359773,
          11.400215296616757,
          11.498788671052196,
          11.658341921949688,
          12.234883762154835,
          12.240293944117287,
          11.119734745443221,
          11.071729723379375,
          10.970408867862902,
          11.314064109983647,
          11.475419495219631,
          12.82494965195714,
          13.398281529209534,
          12.29432908408409,
          8.372465524276842,
          8.90200655644622,
          9.235197500487228,
          9.85361956394271,
          9.9518643824732,
          10.175116357033746,
          10.858184157142574,
          11.174172035034506,
          12.352592215480088,
          12.051553496295867,
          12.170672019226185,
          12.326507800554547,
          12.503689008608248,
          12.968007888528227,
          13.617381899177245,
          13.800602232702648,
          13.657783386326246,
          13.61859773539917,
          13.933699337762425,
          14.244947191225506,
          14.00288108581996,
          13.561364004175498,
          13.610399636735146,
          13.694116673152042,
          14.353908201207041,
          14.856089206302155,
          14.86702533928555,
          15.173360790158902,
          15.336179730414841,
          15.325499773134684,
          15.816288591685087,
          16.115189064944175,
          17.12527220663886,
          16.577552573658124,
          16.785240548876388,
          16.966120009399,
          17.06821313761132,
          17.89674845568464,
          18.14326057149288,
          17.884474070356315,
          18.322854143269595,
          17.9184788198132,
          17.623244741365294,
          18.64163578940794,
          18.526243104604788,
          19.033678441837885,
          19.065093150902754,
          18.898620133454898,
          18.994189203828476,
          19.210581572333467,
          19.231112993963322,
          19.308788929958336,
          19.940841555209524,
          20.218977017480967
         ]
        },
        {
         "line": {
          "color": "rgba(0, 255, 0, 0.5)",
          "width": 1
         },
         "mode": "lines",
         "name": "RTH Returns",
         "stackgroup": "one",
         "type": "scatter",
         "x": [
          "2024-02-02T00:00:00-05:00",
          "2024-02-05T00:00:00-05:00",
          "2024-02-06T00:00:00-05:00",
          "2024-02-07T00:00:00-05:00",
          "2024-02-08T00:00:00-05:00",
          "2024-02-09T00:00:00-05:00",
          "2024-02-12T00:00:00-05:00",
          "2024-02-13T00:00:00-05:00",
          "2024-02-14T00:00:00-05:00",
          "2024-02-15T00:00:00-05:00",
          "2024-02-16T00:00:00-05:00",
          "2024-02-20T00:00:00-05:00",
          "2024-02-21T00:00:00-05:00",
          "2024-02-22T00:00:00-05:00",
          "2024-02-23T00:00:00-05:00",
          "2024-02-26T00:00:00-05:00",
          "2024-02-27T00:00:00-05:00",
          "2024-02-28T00:00:00-05:00",
          "2024-02-29T00:00:00-05:00",
          "2024-03-01T00:00:00-05:00",
          "2024-03-04T00:00:00-05:00",
          "2024-03-05T00:00:00-05:00",
          "2024-03-06T00:00:00-05:00",
          "2024-03-07T00:00:00-05:00",
          "2024-03-08T00:00:00-05:00",
          "2024-03-11T00:00:00-04:00",
          "2024-03-12T00:00:00-04:00",
          "2024-03-13T00:00:00-04:00",
          "2024-03-14T00:00:00-04:00",
          "2024-03-15T00:00:00-04:00",
          "2024-03-18T00:00:00-04:00",
          "2024-03-19T00:00:00-04:00",
          "2024-03-20T00:00:00-04:00",
          "2024-03-21T00:00:00-04:00",
          "2024-03-22T00:00:00-04:00",
          "2024-03-25T00:00:00-04:00",
          "2024-03-26T00:00:00-04:00",
          "2024-03-27T00:00:00-04:00",
          "2024-03-28T00:00:00-04:00",
          "2024-04-01T00:00:00-04:00",
          "2024-04-02T00:00:00-04:00",
          "2024-04-03T00:00:00-04:00",
          "2024-04-04T00:00:00-04:00",
          "2024-04-05T00:00:00-04:00",
          "2024-04-08T00:00:00-04:00",
          "2024-04-09T00:00:00-04:00",
          "2024-04-10T00:00:00-04:00",
          "2024-04-11T00:00:00-04:00",
          "2024-04-12T00:00:00-04:00",
          "2024-04-15T00:00:00-04:00",
          "2024-04-16T00:00:00-04:00",
          "2024-04-17T00:00:00-04:00",
          "2024-04-18T00:00:00-04:00",
          "2024-04-19T00:00:00-04:00",
          "2024-04-22T00:00:00-04:00",
          "2024-04-23T00:00:00-04:00",
          "2024-04-24T00:00:00-04:00",
          "2024-04-25T00:00:00-04:00",
          "2024-04-26T00:00:00-04:00",
          "2024-04-29T00:00:00-04:00",
          "2024-04-30T00:00:00-04:00",
          "2024-05-01T00:00:00-04:00",
          "2024-05-02T00:00:00-04:00",
          "2024-05-03T00:00:00-04:00",
          "2024-05-06T00:00:00-04:00",
          "2024-05-07T00:00:00-04:00",
          "2024-05-08T00:00:00-04:00",
          "2024-05-09T00:00:00-04:00",
          "2024-05-10T00:00:00-04:00",
          "2024-05-13T00:00:00-04:00",
          "2024-05-14T00:00:00-04:00",
          "2024-05-15T00:00:00-04:00",
          "2024-05-16T00:00:00-04:00",
          "2024-05-17T00:00:00-04:00",
          "2024-05-20T00:00:00-04:00",
          "2024-05-21T00:00:00-04:00",
          "2024-05-22T00:00:00-04:00",
          "2024-05-23T00:00:00-04:00",
          "2024-05-24T00:00:00-04:00",
          "2024-05-28T00:00:00-04:00",
          "2024-05-29T00:00:00-04:00",
          "2024-05-30T00:00:00-04:00",
          "2024-05-31T00:00:00-04:00",
          "2024-06-03T00:00:00-04:00",
          "2024-06-04T00:00:00-04:00",
          "2024-06-05T00:00:00-04:00",
          "2024-06-06T00:00:00-04:00",
          "2024-06-07T00:00:00-04:00",
          "2024-06-10T00:00:00-04:00",
          "2024-06-11T00:00:00-04:00",
          "2024-06-12T00:00:00-04:00",
          "2024-06-13T00:00:00-04:00",
          "2024-06-14T00:00:00-04:00",
          "2024-06-17T00:00:00-04:00",
          "2024-06-18T00:00:00-04:00",
          "2024-06-20T00:00:00-04:00",
          "2024-06-21T00:00:00-04:00",
          "2024-06-24T00:00:00-04:00",
          "2024-06-25T00:00:00-04:00",
          "2024-06-26T00:00:00-04:00",
          "2024-06-27T00:00:00-04:00",
          "2024-06-28T00:00:00-04:00",
          "2024-07-01T00:00:00-04:00",
          "2024-07-02T00:00:00-04:00",
          "2024-07-03T00:00:00-04:00",
          "2024-07-05T00:00:00-04:00",
          "2024-07-08T00:00:00-04:00",
          "2024-07-09T00:00:00-04:00",
          "2024-07-10T00:00:00-04:00",
          "2024-07-11T00:00:00-04:00",
          "2024-07-12T00:00:00-04:00",
          "2024-07-15T00:00:00-04:00",
          "2024-07-16T00:00:00-04:00",
          "2024-07-17T00:00:00-04:00",
          "2024-07-18T00:00:00-04:00",
          "2024-07-19T00:00:00-04:00",
          "2024-07-22T00:00:00-04:00",
          "2024-07-23T00:00:00-04:00",
          "2024-07-24T00:00:00-04:00",
          "2024-07-25T00:00:00-04:00",
          "2024-07-26T00:00:00-04:00",
          "2024-07-29T00:00:00-04:00",
          "2024-07-30T00:00:00-04:00",
          "2024-07-31T00:00:00-04:00",
          "2024-08-01T00:00:00-04:00",
          "2024-08-02T00:00:00-04:00",
          "2024-08-05T00:00:00-04:00",
          "2024-08-06T00:00:00-04:00",
          "2024-08-07T00:00:00-04:00",
          "2024-08-08T00:00:00-04:00",
          "2024-08-09T00:00:00-04:00",
          "2024-08-12T00:00:00-04:00",
          "2024-08-13T00:00:00-04:00",
          "2024-08-14T00:00:00-04:00",
          "2024-08-15T00:00:00-04:00",
          "2024-08-16T00:00:00-04:00",
          "2024-08-19T00:00:00-04:00",
          "2024-08-20T00:00:00-04:00",
          "2024-08-21T00:00:00-04:00",
          "2024-08-22T00:00:00-04:00",
          "2024-08-23T00:00:00-04:00",
          "2024-08-26T00:00:00-04:00",
          "2024-08-27T00:00:00-04:00",
          "2024-08-28T00:00:00-04:00",
          "2024-08-29T00:00:00-04:00",
          "2024-08-30T00:00:00-04:00",
          "2024-09-03T00:00:00-04:00",
          "2024-09-04T00:00:00-04:00",
          "2024-09-05T00:00:00-04:00",
          "2024-09-06T00:00:00-04:00",
          "2024-09-09T00:00:00-04:00",
          "2024-09-10T00:00:00-04:00",
          "2024-09-11T00:00:00-04:00",
          "2024-09-12T00:00:00-04:00",
          "2024-09-13T00:00:00-04:00",
          "2024-09-16T00:00:00-04:00",
          "2024-09-17T00:00:00-04:00",
          "2024-09-18T00:00:00-04:00",
          "2024-09-19T00:00:00-04:00",
          "2024-09-20T00:00:00-04:00",
          "2024-09-23T00:00:00-04:00",
          "2024-09-24T00:00:00-04:00",
          "2024-09-25T00:00:00-04:00",
          "2024-09-26T00:00:00-04:00",
          "2024-09-27T00:00:00-04:00",
          "2024-09-30T00:00:00-04:00",
          "2024-10-01T00:00:00-04:00",
          "2024-10-02T00:00:00-04:00",
          "2024-10-03T00:00:00-04:00",
          "2024-10-04T00:00:00-04:00",
          "2024-10-07T00:00:00-04:00",
          "2024-10-08T00:00:00-04:00",
          "2024-10-09T00:00:00-04:00",
          "2024-10-10T00:00:00-04:00",
          "2024-10-11T00:00:00-04:00",
          "2024-10-14T00:00:00-04:00",
          "2024-10-15T00:00:00-04:00",
          "2024-10-16T00:00:00-04:00",
          "2024-10-17T00:00:00-04:00",
          "2024-10-18T00:00:00-04:00"
         ],
         "y": [
          1.2600579994281658,
          1.229675791249285,
          1.130389034886825,
          1.500938512007055,
          1.5792360426233998,
          2.0022004013613204,
          1.944335804517927,
          1.2952083854566365,
          1.5055185768856005,
          1.9661634797496164,
          1.7558826402208072,
          1.5429114917839382,
          1.3471180236155123,
          2.0772767537742487,
          1.8013808283937949,
          1.5082468523953674,
          1.5072600557346827,
          1.657656826161935,
          1.7009579460863677,
          2.480949301345914,
          2.775848137374337,
          1.78219809033765,
          1.4962319753635933,
          1.8061070508834653,
          1.1911223769999313,
          1.3223713975296314,
          2.0059822651895876,
          1.746869117116634,
          0.8899528550511238,
          0.8644736500023065,
          0.8500762026308006,
          1.3084380106948457,
          2.210954587529934,
          2.1135110474634455,
          2.0349835341041955,
          2.153300546743908,
          1.9422612742538314,
          1.7659180950929776,
          2.0258519648584605,
          1.6507302650703548,
          1.6700259717756238,
          1.8448502010887657,
          -0.01372253729754469,
          0.7026042710145841,
          0.7428045984729348,
          0.3355039260425796,
          0.39782378270689644,
          1.033877149135698,
          0.07932992723749255,
          -1.9570492391865146,
          -1.881792773071722,
          -2.844148271540259,
          -3.272452188030961,
          -4.129411983001319,
          -3.58506038409403,
          -2.890546742929412,
          -3.0573581769155145,
          -2.0978036986607385,
          -1.4954535456045526,
          -1.7718807727061803,
          -2.5417014428335993,
          -1.6581400722165074,
          -1.449868724403347,
          -1.3892223514477053,
          -1.138107996216553,
          -1.2038021320488257,
          -0.7904185975225575,
          -0.33040854688279886,
          -0.5105507442343171,
          -0.8483174651222725,
          -0.41554064685324077,
          0.21394036411986894,
          0.18940604438106856,
          0.24991812788772716,
          0.38776581563437773,
          0.6919526354650873,
          0.3405034966568077,
          -1.0836183886629214,
          -0.8695424201112467,
          -1.188253995564792,
          -0.9789821952299826,
          -1.1886977446847302,
          -1.4121592978380337,
          -1.9896421907343198,
          -1.793995797845982,
          -1.2174748942530789,
          -1.327759390869776,
          -1.1459957211174876,
          -0.729626014826934,
          -0.3907381661094833,
          -0.4553567319465768,
          -0.6044711407546144,
          -0.3641220799647904,
          0.7630178255842113,
          0.8964340109778757,
          0.4368751874484489,
          0.4111621086746009,
          0.36890832879842295,
          0.530694391042219,
          0.6925513315781839,
          0.7622287982521736,
          0.312677454112098,
          0.08175173521833834,
          0.8726290572709239,
          1.2954620382434445,
          1.7648605194946931,
          1.6100283143960281,
          1.491378762028439,
          2.022730297742059,
          1.1908871800446863,
          2.0462930943606294,
          2.0534098989153926,
          2.2941404406035315,
          2.1456052127003966,
          0.8976418816946774,
          0.4287957139237908,
          0.7018517717899742,
          0.7992297787867808,
          -0.5216899457331281,
          -0.2482993481529916,
          0.09654095574905819,
          -0.02067086799365514,
          -0.8609300852162272,
          -0.7807814459215412,
          -2.749762751457485,
          -3.3443195079115418,
          -2.397364617754394,
          -0.9519272309048921,
          -2.4278582027486784,
          -1.3990359084177117,
          -0.79127086057037,
          -1.0402319627380252,
          -0.17727928534813087,
          -0.13491186773434416,
          0.5174994152501999,
          0.9980768335520529,
          1.6380278006892124,
          1.5664906460795436,
          1.6057946086335928,
          0.4254760648338185,
          0.8865952184091364,
          0.38053988580979414,
          0.7272842422772818,
          0.2533083687183524,
          0.026648127066408733,
          0.2138873296057442,
          -1.1831544389099724,
          -1.1068185610473735,
          -1.3645832690653004,
          -2.9738789976125557,
          -2.795782972642391,
          -2.7447216260817364,
          -1.9036427122854804,
          -1.224339636665206,
          -0.8473452290467143,
          -0.736973882872316,
          -1.2784517990671151,
          -1.0017284869019427,
          -1.00920646452054,
          -0.952852562012807,
          -0.9352883648722443,
          -0.9199501349916206,
          -1.175579227683432,
          -1.5968884198839794,
          -1.856746457170988,
          -1.773071270466453,
          -2.363409603218458,
          -2.1291350616391425,
          -2.266613911046922,
          -2.3347540350968865,
          -2.989401330738406,
          -2.5441310130888684,
          -1.9212508400132777,
          -1.9681445649381568,
          -1.2885160604680368,
          -0.7293474152046175,
          -1.6291233265270821,
          -1.2065492467037031,
          -1.7970836291173686,
          -1.7422956756186547
         ]
        },
        {
         "line": {
          "color": "red",
          "dash": "dash",
          "width": 2
         },
         "mode": "lines",
         "name": "Total Returns",
         "type": "scatter",
         "x": [
          "2024-02-02T00:00:00-05:00",
          "2024-02-05T00:00:00-05:00",
          "2024-02-06T00:00:00-05:00",
          "2024-02-07T00:00:00-05:00",
          "2024-02-08T00:00:00-05:00",
          "2024-02-09T00:00:00-05:00",
          "2024-02-12T00:00:00-05:00",
          "2024-02-13T00:00:00-05:00",
          "2024-02-14T00:00:00-05:00",
          "2024-02-15T00:00:00-05:00",
          "2024-02-16T00:00:00-05:00",
          "2024-02-20T00:00:00-05:00",
          "2024-02-21T00:00:00-05:00",
          "2024-02-22T00:00:00-05:00",
          "2024-02-23T00:00:00-05:00",
          "2024-02-26T00:00:00-05:00",
          "2024-02-27T00:00:00-05:00",
          "2024-02-28T00:00:00-05:00",
          "2024-02-29T00:00:00-05:00",
          "2024-03-01T00:00:00-05:00",
          "2024-03-04T00:00:00-05:00",
          "2024-03-05T00:00:00-05:00",
          "2024-03-06T00:00:00-05:00",
          "2024-03-07T00:00:00-05:00",
          "2024-03-08T00:00:00-05:00",
          "2024-03-11T00:00:00-04:00",
          "2024-03-12T00:00:00-04:00",
          "2024-03-13T00:00:00-04:00",
          "2024-03-14T00:00:00-04:00",
          "2024-03-15T00:00:00-04:00",
          "2024-03-18T00:00:00-04:00",
          "2024-03-19T00:00:00-04:00",
          "2024-03-20T00:00:00-04:00",
          "2024-03-21T00:00:00-04:00",
          "2024-03-22T00:00:00-04:00",
          "2024-03-25T00:00:00-04:00",
          "2024-03-26T00:00:00-04:00",
          "2024-03-27T00:00:00-04:00",
          "2024-03-28T00:00:00-04:00",
          "2024-04-01T00:00:00-04:00",
          "2024-04-02T00:00:00-04:00",
          "2024-04-03T00:00:00-04:00",
          "2024-04-04T00:00:00-04:00",
          "2024-04-05T00:00:00-04:00",
          "2024-04-08T00:00:00-04:00",
          "2024-04-09T00:00:00-04:00",
          "2024-04-10T00:00:00-04:00",
          "2024-04-11T00:00:00-04:00",
          "2024-04-12T00:00:00-04:00",
          "2024-04-15T00:00:00-04:00",
          "2024-04-16T00:00:00-04:00",
          "2024-04-17T00:00:00-04:00",
          "2024-04-18T00:00:00-04:00",
          "2024-04-19T00:00:00-04:00",
          "2024-04-22T00:00:00-04:00",
          "2024-04-23T00:00:00-04:00",
          "2024-04-24T00:00:00-04:00",
          "2024-04-25T00:00:00-04:00",
          "2024-04-26T00:00:00-04:00",
          "2024-04-29T00:00:00-04:00",
          "2024-04-30T00:00:00-04:00",
          "2024-05-01T00:00:00-04:00",
          "2024-05-02T00:00:00-04:00",
          "2024-05-03T00:00:00-04:00",
          "2024-05-06T00:00:00-04:00",
          "2024-05-07T00:00:00-04:00",
          "2024-05-08T00:00:00-04:00",
          "2024-05-09T00:00:00-04:00",
          "2024-05-10T00:00:00-04:00",
          "2024-05-13T00:00:00-04:00",
          "2024-05-14T00:00:00-04:00",
          "2024-05-15T00:00:00-04:00",
          "2024-05-16T00:00:00-04:00",
          "2024-05-17T00:00:00-04:00",
          "2024-05-20T00:00:00-04:00",
          "2024-05-21T00:00:00-04:00",
          "2024-05-22T00:00:00-04:00",
          "2024-05-23T00:00:00-04:00",
          "2024-05-24T00:00:00-04:00",
          "2024-05-28T00:00:00-04:00",
          "2024-05-29T00:00:00-04:00",
          "2024-05-30T00:00:00-04:00",
          "2024-05-31T00:00:00-04:00",
          "2024-06-03T00:00:00-04:00",
          "2024-06-04T00:00:00-04:00",
          "2024-06-05T00:00:00-04:00",
          "2024-06-06T00:00:00-04:00",
          "2024-06-07T00:00:00-04:00",
          "2024-06-10T00:00:00-04:00",
          "2024-06-11T00:00:00-04:00",
          "2024-06-12T00:00:00-04:00",
          "2024-06-13T00:00:00-04:00",
          "2024-06-14T00:00:00-04:00",
          "2024-06-17T00:00:00-04:00",
          "2024-06-18T00:00:00-04:00",
          "2024-06-20T00:00:00-04:00",
          "2024-06-21T00:00:00-04:00",
          "2024-06-24T00:00:00-04:00",
          "2024-06-25T00:00:00-04:00",
          "2024-06-26T00:00:00-04:00",
          "2024-06-27T00:00:00-04:00",
          "2024-06-28T00:00:00-04:00",
          "2024-07-01T00:00:00-04:00",
          "2024-07-02T00:00:00-04:00",
          "2024-07-03T00:00:00-04:00",
          "2024-07-05T00:00:00-04:00",
          "2024-07-08T00:00:00-04:00",
          "2024-07-09T00:00:00-04:00",
          "2024-07-10T00:00:00-04:00",
          "2024-07-11T00:00:00-04:00",
          "2024-07-12T00:00:00-04:00",
          "2024-07-15T00:00:00-04:00",
          "2024-07-16T00:00:00-04:00",
          "2024-07-17T00:00:00-04:00",
          "2024-07-18T00:00:00-04:00",
          "2024-07-19T00:00:00-04:00",
          "2024-07-22T00:00:00-04:00",
          "2024-07-23T00:00:00-04:00",
          "2024-07-24T00:00:00-04:00",
          "2024-07-25T00:00:00-04:00",
          "2024-07-26T00:00:00-04:00",
          "2024-07-29T00:00:00-04:00",
          "2024-07-30T00:00:00-04:00",
          "2024-07-31T00:00:00-04:00",
          "2024-08-01T00:00:00-04:00",
          "2024-08-02T00:00:00-04:00",
          "2024-08-05T00:00:00-04:00",
          "2024-08-06T00:00:00-04:00",
          "2024-08-07T00:00:00-04:00",
          "2024-08-08T00:00:00-04:00",
          "2024-08-09T00:00:00-04:00",
          "2024-08-12T00:00:00-04:00",
          "2024-08-13T00:00:00-04:00",
          "2024-08-14T00:00:00-04:00",
          "2024-08-15T00:00:00-04:00",
          "2024-08-16T00:00:00-04:00",
          "2024-08-19T00:00:00-04:00",
          "2024-08-20T00:00:00-04:00",
          "2024-08-21T00:00:00-04:00",
          "2024-08-22T00:00:00-04:00",
          "2024-08-23T00:00:00-04:00",
          "2024-08-26T00:00:00-04:00",
          "2024-08-27T00:00:00-04:00",
          "2024-08-28T00:00:00-04:00",
          "2024-08-29T00:00:00-04:00",
          "2024-08-30T00:00:00-04:00",
          "2024-09-03T00:00:00-04:00",
          "2024-09-04T00:00:00-04:00",
          "2024-09-05T00:00:00-04:00",
          "2024-09-06T00:00:00-04:00",
          "2024-09-09T00:00:00-04:00",
          "2024-09-10T00:00:00-04:00",
          "2024-09-11T00:00:00-04:00",
          "2024-09-12T00:00:00-04:00",
          "2024-09-13T00:00:00-04:00",
          "2024-09-16T00:00:00-04:00",
          "2024-09-17T00:00:00-04:00",
          "2024-09-18T00:00:00-04:00",
          "2024-09-19T00:00:00-04:00",
          "2024-09-20T00:00:00-04:00",
          "2024-09-23T00:00:00-04:00",
          "2024-09-24T00:00:00-04:00",
          "2024-09-25T00:00:00-04:00",
          "2024-09-26T00:00:00-04:00",
          "2024-09-27T00:00:00-04:00",
          "2024-09-30T00:00:00-04:00",
          "2024-10-01T00:00:00-04:00",
          "2024-10-02T00:00:00-04:00",
          "2024-10-03T00:00:00-04:00",
          "2024-10-04T00:00:00-04:00",
          "2024-10-07T00:00:00-04:00",
          "2024-10-08T00:00:00-04:00",
          "2024-10-09T00:00:00-04:00",
          "2024-10-10T00:00:00-04:00",
          "2024-10-11T00:00:00-04:00",
          "2024-10-14T00:00:00-04:00",
          "2024-10-15T00:00:00-04:00",
          "2024-10-16T00:00:00-04:00",
          "2024-10-17T00:00:00-04:00",
          "2024-10-18T00:00:00-04:00"
         ],
         "y": [
          1.4402913316557076,
          0.9824731278358589,
          0.8750900335818601,
          1.9093070183495264,
          1.9817782055319588,
          2.479280662953376,
          2.461315515339735,
          0.5486817507653896,
          1.878785556993745,
          2.6351007041068186,
          2.446703574920206,
          1.6487488955501894,
          1.2037764798130568,
          3.8794767528436913,
          3.9119775407415847,
          3.708175199476038,
          3.683511124181549,
          3.5660811627656774,
          4.000786452338689,
          4.917585917211109,
          5.034556382168686,
          3.402777587504113,
          4.178753991486927,
          5.280720244998104,
          4.812486322324682,
          4.589956114825021,
          5.726608760819362,
          5.496436213620337,
          4.870168812698882,
          4.392157340423552,
          5.140260616316027,
          5.255359486537436,
          6.409398135899202,
          6.877275968865869,
          6.6535109794803695,
          6.405284029125745,
          6.3524405706655065,
          6.479331924750053,
          7.205152313006379,
          6.689491867307995,
          6.015946026908658,
          6.0690182753894035,
          5.136726336568852,
          5.978509944657761,
          6.218553178302798,
          6.03010923772762,
          5.146587496919707,
          6.150869318640228,
          4.3222120040109715,
          3.374167958237905,
          3.5089174826513405,
          2.689634651969796,
          2.420270351718389,
          1.485952683711277,
          2.5744897222442766,
          3.518451364437846,
          3.6055326568033887,
          3.262454045332507,
          4.337893546900029,
          4.194587696880403,
          3.403308478526645,
          3.6341638322901932,
          3.513565188530676,
          4.7546578251102645,
          5.452665528396872,
          5.873972529541049,
          5.908774640869119,
          6.366843022554125,
          6.580403127217815,
          6.56408427606493,
          7.0576084751106,
          8.162938086815997,
          8.276329627807034,
          8.163066517602026,
          8.382290163518025,
          8.493547942133917,
          8.098927587634863,
          7.451228573839352,
          8.138363355041168,
          8.060855698797077,
          7.722225053849364,
          7.084368764289451,
          6.891407089152846,
          7.57190707958183,
          7.861850326756071,
          9.063768846538444,
          9.168671156262509,
          9.213582176304048,
          9.35760701591274,
          9.452862899364368,
          10.456762807931097,
          10.648914889070616,
          10.621238018470947,
          11.729725974500328,
          11.675000423140382,
          11.497044994130903,
          11.024393850900251,
          10.982140071024073,
          11.123676553288345,
          11.068599205494813,
          11.28528392922179,
          11.098403489459997,
          11.032297357267197,
          11.69912322937624,
          12.246568484850695,
          12.856368847827092,
          12.896054250814336,
          13.079977219547422,
          13.87731343265036,
          13.295148191502559,
          14.306392158262959,
          14.251271247878904,
          14.631103659058596,
          13.52073102402824,
          12.370110907890872,
          12.060069931715088,
          12.91124211220722,
          13.014035569493851,
          10.58735833378007,
          10.812612668079655,
          11.055782721319138,
          11.281823335120475,
          10.601563699636948,
          12.032324125726642,
          10.625385899961312,
          8.933440322232341,
          5.921393373817349,
          7.9040259768939105,
          6.756368280752642,
          8.409975102601006,
          9.116582066647192,
          9.090317128463607,
          10.642232157831764,
          11.000721329241333,
          12.839240938889649,
          13.017332913902532,
          13.77716470410953,
          13.861351850344391,
          14.077906660187807,
          13.356426554465957,
          14.469914106631737,
          14.14615191128959,
          14.349582205090888,
          13.83660641113617,
          13.924333561794116,
          14.42340339579528,
          12.787677286473945,
          12.422159046751883,
          12.213303574738525,
          10.686377627917047,
          11.525440243426768,
          12.07893901546591,
          12.931046043754062,
          13.918765516387182,
          14.45919268256091,
          14.558872283842522,
          14.50552567313051,
          15.081976585844455,
          16.084506216129277,
          15.592831824268302,
          15.818120475352522,
          16.01436590946322,
          15.860568965246364,
          16.26430439566346,
          16.250317892638872,
          16.074990038118848,
          15.920443852666583,
          15.749395722354215,
          15.317088678912643,
          16.266645669981866,
          15.497361104627632,
          16.452326218448214,
          17.106816776582882,
          16.89352809960903,
          17.669375189096442,
          18.446146201140273,
          17.566716974661585,
          18.067295228851773,
          18.10508098362222,
          18.438156784120103
         ]
        },
        {
         "line": {
          "color": "black",
          "width": 1.5
         },
         "mode": "lines",
         "name": "Close Price",
         "type": "scatter",
         "x": [
          "2024-02-01T00:00:00-05:00",
          "2024-02-02T00:00:00-05:00",
          "2024-02-05T00:00:00-05:00",
          "2024-02-06T00:00:00-05:00",
          "2024-02-07T00:00:00-05:00",
          "2024-02-08T00:00:00-05:00",
          "2024-02-09T00:00:00-05:00",
          "2024-02-12T00:00:00-05:00",
          "2024-02-13T00:00:00-05:00",
          "2024-02-14T00:00:00-05:00",
          "2024-02-15T00:00:00-05:00",
          "2024-02-16T00:00:00-05:00",
          "2024-02-20T00:00:00-05:00",
          "2024-02-21T00:00:00-05:00",
          "2024-02-22T00:00:00-05:00",
          "2024-02-23T00:00:00-05:00",
          "2024-02-26T00:00:00-05:00",
          "2024-02-27T00:00:00-05:00",
          "2024-02-28T00:00:00-05:00",
          "2024-02-29T00:00:00-05:00",
          "2024-03-01T00:00:00-05:00",
          "2024-03-04T00:00:00-05:00",
          "2024-03-05T00:00:00-05:00",
          "2024-03-06T00:00:00-05:00",
          "2024-03-07T00:00:00-05:00",
          "2024-03-08T00:00:00-05:00",
          "2024-03-11T00:00:00-04:00",
          "2024-03-12T00:00:00-04:00",
          "2024-03-13T00:00:00-04:00",
          "2024-03-14T00:00:00-04:00",
          "2024-03-15T00:00:00-04:00",
          "2024-03-18T00:00:00-04:00",
          "2024-03-19T00:00:00-04:00",
          "2024-03-20T00:00:00-04:00",
          "2024-03-21T00:00:00-04:00",
          "2024-03-22T00:00:00-04:00",
          "2024-03-25T00:00:00-04:00",
          "2024-03-26T00:00:00-04:00",
          "2024-03-27T00:00:00-04:00",
          "2024-03-28T00:00:00-04:00",
          "2024-04-01T00:00:00-04:00",
          "2024-04-02T00:00:00-04:00",
          "2024-04-03T00:00:00-04:00",
          "2024-04-04T00:00:00-04:00",
          "2024-04-05T00:00:00-04:00",
          "2024-04-08T00:00:00-04:00",
          "2024-04-09T00:00:00-04:00",
          "2024-04-10T00:00:00-04:00",
          "2024-04-11T00:00:00-04:00",
          "2024-04-12T00:00:00-04:00",
          "2024-04-15T00:00:00-04:00",
          "2024-04-16T00:00:00-04:00",
          "2024-04-17T00:00:00-04:00",
          "2024-04-18T00:00:00-04:00",
          "2024-04-19T00:00:00-04:00",
          "2024-04-22T00:00:00-04:00",
          "2024-04-23T00:00:00-04:00",
          "2024-04-24T00:00:00-04:00",
          "2024-04-25T00:00:00-04:00",
          "2024-04-26T00:00:00-04:00",
          "2024-04-29T00:00:00-04:00",
          "2024-04-30T00:00:00-04:00",
          "2024-05-01T00:00:00-04:00",
          "2024-05-02T00:00:00-04:00",
          "2024-05-03T00:00:00-04:00",
          "2024-05-06T00:00:00-04:00",
          "2024-05-07T00:00:00-04:00",
          "2024-05-08T00:00:00-04:00",
          "2024-05-09T00:00:00-04:00",
          "2024-05-10T00:00:00-04:00",
          "2024-05-13T00:00:00-04:00",
          "2024-05-14T00:00:00-04:00",
          "2024-05-15T00:00:00-04:00",
          "2024-05-16T00:00:00-04:00",
          "2024-05-17T00:00:00-04:00",
          "2024-05-20T00:00:00-04:00",
          "2024-05-21T00:00:00-04:00",
          "2024-05-22T00:00:00-04:00",
          "2024-05-23T00:00:00-04:00",
          "2024-05-24T00:00:00-04:00",
          "2024-05-28T00:00:00-04:00",
          "2024-05-29T00:00:00-04:00",
          "2024-05-30T00:00:00-04:00",
          "2024-05-31T00:00:00-04:00",
          "2024-06-03T00:00:00-04:00",
          "2024-06-04T00:00:00-04:00",
          "2024-06-05T00:00:00-04:00",
          "2024-06-06T00:00:00-04:00",
          "2024-06-07T00:00:00-04:00",
          "2024-06-10T00:00:00-04:00",
          "2024-06-11T00:00:00-04:00",
          "2024-06-12T00:00:00-04:00",
          "2024-06-13T00:00:00-04:00",
          "2024-06-14T00:00:00-04:00",
          "2024-06-17T00:00:00-04:00",
          "2024-06-18T00:00:00-04:00",
          "2024-06-20T00:00:00-04:00",
          "2024-06-21T00:00:00-04:00",
          "2024-06-24T00:00:00-04:00",
          "2024-06-25T00:00:00-04:00",
          "2024-06-26T00:00:00-04:00",
          "2024-06-27T00:00:00-04:00",
          "2024-06-28T00:00:00-04:00",
          "2024-07-01T00:00:00-04:00",
          "2024-07-02T00:00:00-04:00",
          "2024-07-03T00:00:00-04:00",
          "2024-07-05T00:00:00-04:00",
          "2024-07-08T00:00:00-04:00",
          "2024-07-09T00:00:00-04:00",
          "2024-07-10T00:00:00-04:00",
          "2024-07-11T00:00:00-04:00",
          "2024-07-12T00:00:00-04:00",
          "2024-07-15T00:00:00-04:00",
          "2024-07-16T00:00:00-04:00",
          "2024-07-17T00:00:00-04:00",
          "2024-07-18T00:00:00-04:00",
          "2024-07-19T00:00:00-04:00",
          "2024-07-22T00:00:00-04:00",
          "2024-07-23T00:00:00-04:00",
          "2024-07-24T00:00:00-04:00",
          "2024-07-25T00:00:00-04:00",
          "2024-07-26T00:00:00-04:00",
          "2024-07-29T00:00:00-04:00",
          "2024-07-30T00:00:00-04:00",
          "2024-07-31T00:00:00-04:00",
          "2024-08-01T00:00:00-04:00",
          "2024-08-02T00:00:00-04:00",
          "2024-08-05T00:00:00-04:00",
          "2024-08-06T00:00:00-04:00",
          "2024-08-07T00:00:00-04:00",
          "2024-08-08T00:00:00-04:00",
          "2024-08-09T00:00:00-04:00",
          "2024-08-12T00:00:00-04:00",
          "2024-08-13T00:00:00-04:00",
          "2024-08-14T00:00:00-04:00",
          "2024-08-15T00:00:00-04:00",
          "2024-08-16T00:00:00-04:00",
          "2024-08-19T00:00:00-04:00",
          "2024-08-20T00:00:00-04:00",
          "2024-08-21T00:00:00-04:00",
          "2024-08-22T00:00:00-04:00",
          "2024-08-23T00:00:00-04:00",
          "2024-08-26T00:00:00-04:00",
          "2024-08-27T00:00:00-04:00",
          "2024-08-28T00:00:00-04:00",
          "2024-08-29T00:00:00-04:00",
          "2024-08-30T00:00:00-04:00",
          "2024-09-03T00:00:00-04:00",
          "2024-09-04T00:00:00-04:00",
          "2024-09-05T00:00:00-04:00",
          "2024-09-06T00:00:00-04:00",
          "2024-09-09T00:00:00-04:00",
          "2024-09-10T00:00:00-04:00",
          "2024-09-11T00:00:00-04:00",
          "2024-09-12T00:00:00-04:00",
          "2024-09-13T00:00:00-04:00",
          "2024-09-16T00:00:00-04:00",
          "2024-09-17T00:00:00-04:00",
          "2024-09-18T00:00:00-04:00",
          "2024-09-19T00:00:00-04:00",
          "2024-09-20T00:00:00-04:00",
          "2024-09-23T00:00:00-04:00",
          "2024-09-24T00:00:00-04:00",
          "2024-09-25T00:00:00-04:00",
          "2024-09-26T00:00:00-04:00",
          "2024-09-27T00:00:00-04:00",
          "2024-09-30T00:00:00-04:00",
          "2024-10-01T00:00:00-04:00",
          "2024-10-02T00:00:00-04:00",
          "2024-10-03T00:00:00-04:00",
          "2024-10-04T00:00:00-04:00",
          "2024-10-07T00:00:00-04:00",
          "2024-10-08T00:00:00-04:00",
          "2024-10-09T00:00:00-04:00",
          "2024-10-10T00:00:00-04:00",
          "2024-10-11T00:00:00-04:00",
          "2024-10-14T00:00:00-04:00",
          "2024-10-15T00:00:00-04:00",
          "2024-10-16T00:00:00-04:00",
          "2024-10-17T00:00:00-04:00",
          "2024-10-18T00:00:00-04:00"
         ],
         "y": [
          488.79,
          495.83,
          493.56,
          493.03,
          498.129,
          498.49,
          500.97,
          500.88,
          491.3,
          497.8348,
          501.6,
          500.655,
          496.66,
          494.45,
          507.68,
          507.845,
          506.81,
          506.685,
          506.09,
          508.29,
          512.95,
          513.55,
          505.17,
          509.09,
          514.7,
          512.29,
          511.15,
          516.96,
          515.7701,
          512.54,
          510.09,
          513.906,
          514.4975,
          520.435,
          522.87,
          521.7,
          520.405,
          520.13,
          520.79,
          524.57,
          521.865,
          518.35,
          518.6251,
          513.79,
          518.115,
          519.3587,
          518.38,
          513.8,
          518.96,
          509.47,
          504.64,
          505.32,
          501.18,
          499.83,
          495.16,
          500.55,
          505.275,
          505.715,
          503.98,
          509.4,
          508.67,
          504.645,
          505.81,
          505.2,
          511.47,
          515.0401,
          517.21,
          517.39,
          519.76,
          520.87,
          520.785,
          523.3552,
          529.14,
          529.74,
          529.14,
          530.3,
          530.89,
          528.795,
          525.37,
          528.98,
          528.57,
          526.7801,
          523.42,
          522.41,
          525.965,
          527.49,
          533.83,
          534.39,
          534.63,
          535.4,
          535.91,
          541.29,
          542.3301,
          542.18,
          548.19,
          547.89,
          546.915,
          544.33,
          544.1,
          544.8701,
          544.57,
          545.75,
          544.7301,
          544.37,
          548,
          551,
          554.36,
          554.58,
          555.6,
          560.03,
          556.7697,
          562.4,
          562.09,
          564.225,
          557.96,
          551.54,
          549.83,
          554.51,
          555.08,
          541.61,
          542.83,
          544.15,
          545.38,
          541.67,
          549.42,
          541.69,
          532.5249,
          516.485,
          526.725,
          520.68,
          529.29,
          533.03,
          532.89,
          541.16,
          543.1,
          553.085,
          554.07,
          558.28,
          558.75,
          559.96,
          555.92,
          562.1101,
          560.2902,
          561.43,
          558.55,
          559.04,
          561.83,
          552.64,
          550.62,
          549.47,
          541.08,
          545.62,
          548.64,
          553.315,
          558.7802,
          561.8,
          562.36,
          562.06,
          565.3,
          570.9673,
          568.16,
          569.44,
          570.5575,
          569.68,
          571.98,
          571.9,
          570.8973,
          570.015,
          569.04,
          566.58,
          571.96,
          567.56,
          572.98,
          576.7301,
          575.5,
          579.965,
          584.47,
          579.33,
          582.23,
          582.45,
          584.39
         ],
         "yaxis": "y2"
        }
       ],
       "layout": {
        "height": 600,
        "hovermode": "x unified",
        "legend": {
         "x": 1,
         "xanchor": "left",
         "y": 0.99,
         "yanchor": "top"
        },
        "showlegend": true,
        "template": {
         "data": {
          "bar": [
           {
            "error_x": {
             "color": "#2a3f5f"
            },
            "error_y": {
             "color": "#2a3f5f"
            },
            "marker": {
             "line": {
              "color": "#E5ECF6",
              "width": 0.5
             },
             "pattern": {
              "fillmode": "overlay",
              "size": 10,
              "solidity": 0.2
             }
            },
            "type": "bar"
           }
          ],
          "barpolar": [
           {
            "marker": {
             "line": {
              "color": "#E5ECF6",
              "width": 0.5
             },
             "pattern": {
              "fillmode": "overlay",
              "size": 10,
              "solidity": 0.2
             }
            },
            "type": "barpolar"
           }
          ],
          "carpet": [
           {
            "aaxis": {
             "endlinecolor": "#2a3f5f",
             "gridcolor": "white",
             "linecolor": "white",
             "minorgridcolor": "white",
             "startlinecolor": "#2a3f5f"
            },
            "baxis": {
             "endlinecolor": "#2a3f5f",
             "gridcolor": "white",
             "linecolor": "white",
             "minorgridcolor": "white",
             "startlinecolor": "#2a3f5f"
            },
            "type": "carpet"
           }
          ],
          "choropleth": [
           {
            "colorbar": {
             "outlinewidth": 0,
             "ticks": ""
            },
            "type": "choropleth"
           }
          ],
          "contour": [
           {
            "colorbar": {
             "outlinewidth": 0,
             "ticks": ""
            },
            "colorscale": [
             [
              0,
              "#0d0887"
             ],
             [
              0.1111111111111111,
              "#46039f"
             ],
             [
              0.2222222222222222,
              "#7201a8"
             ],
             [
              0.3333333333333333,
              "#9c179e"
             ],
             [
              0.4444444444444444,
              "#bd3786"
             ],
             [
              0.5555555555555556,
              "#d8576b"
             ],
             [
              0.6666666666666666,
              "#ed7953"
             ],
             [
              0.7777777777777778,
              "#fb9f3a"
             ],
             [
              0.8888888888888888,
              "#fdca26"
             ],
             [
              1,
              "#f0f921"
             ]
            ],
            "type": "contour"
           }
          ],
          "contourcarpet": [
           {
            "colorbar": {
             "outlinewidth": 0,
             "ticks": ""
            },
            "type": "contourcarpet"
           }
          ],
          "heatmap": [
           {
            "colorbar": {
             "outlinewidth": 0,
             "ticks": ""
            },
            "colorscale": [
             [
              0,
              "#0d0887"
             ],
             [
              0.1111111111111111,
              "#46039f"
             ],
             [
              0.2222222222222222,
              "#7201a8"
             ],
             [
              0.3333333333333333,
              "#9c179e"
             ],
             [
              0.4444444444444444,
              "#bd3786"
             ],
             [
              0.5555555555555556,
              "#d8576b"
             ],
             [
              0.6666666666666666,
              "#ed7953"
             ],
             [
              0.7777777777777778,
              "#fb9f3a"
             ],
             [
              0.8888888888888888,
              "#fdca26"
             ],
             [
              1,
              "#f0f921"
             ]
            ],
            "type": "heatmap"
           }
          ],
          "heatmapgl": [
           {
            "colorbar": {
             "outlinewidth": 0,
             "ticks": ""
            },
            "colorscale": [
             [
              0,
              "#0d0887"
             ],
             [
              0.1111111111111111,
              "#46039f"
             ],
             [
              0.2222222222222222,
              "#7201a8"
             ],
             [
              0.3333333333333333,
              "#9c179e"
             ],
             [
              0.4444444444444444,
              "#bd3786"
             ],
             [
              0.5555555555555556,
              "#d8576b"
             ],
             [
              0.6666666666666666,
              "#ed7953"
             ],
             [
              0.7777777777777778,
              "#fb9f3a"
             ],
             [
              0.8888888888888888,
              "#fdca26"
             ],
             [
              1,
              "#f0f921"
             ]
            ],
            "type": "heatmapgl"
           }
          ],
          "histogram": [
           {
            "marker": {
             "pattern": {
              "fillmode": "overlay",
              "size": 10,
              "solidity": 0.2
             }
            },
            "type": "histogram"
           }
          ],
          "histogram2d": [
           {
            "colorbar": {
             "outlinewidth": 0,
             "ticks": ""
            },
            "colorscale": [
             [
              0,
              "#0d0887"
             ],
             [
              0.1111111111111111,
              "#46039f"
             ],
             [
              0.2222222222222222,
              "#7201a8"
             ],
             [
              0.3333333333333333,
              "#9c179e"
             ],
             [
              0.4444444444444444,
              "#bd3786"
             ],
             [
              0.5555555555555556,
              "#d8576b"
             ],
             [
              0.6666666666666666,
              "#ed7953"
             ],
             [
              0.7777777777777778,
              "#fb9f3a"
             ],
             [
              0.8888888888888888,
              "#fdca26"
             ],
             [
              1,
              "#f0f921"
             ]
            ],
            "type": "histogram2d"
           }
          ],
          "histogram2dcontour": [
           {
            "colorbar": {
             "outlinewidth": 0,
             "ticks": ""
            },
            "colorscale": [
             [
              0,
              "#0d0887"
             ],
             [
              0.1111111111111111,
              "#46039f"
             ],
             [
              0.2222222222222222,
              "#7201a8"
             ],
             [
              0.3333333333333333,
              "#9c179e"
             ],
             [
              0.4444444444444444,
              "#bd3786"
             ],
             [
              0.5555555555555556,
              "#d8576b"
             ],
             [
              0.6666666666666666,
              "#ed7953"
             ],
             [
              0.7777777777777778,
              "#fb9f3a"
             ],
             [
              0.8888888888888888,
              "#fdca26"
             ],
             [
              1,
              "#f0f921"
             ]
            ],
            "type": "histogram2dcontour"
           }
          ],
          "mesh3d": [
           {
            "colorbar": {
             "outlinewidth": 0,
             "ticks": ""
            },
            "type": "mesh3d"
           }
          ],
          "parcoords": [
           {
            "line": {
             "colorbar": {
              "outlinewidth": 0,
              "ticks": ""
             }
            },
            "type": "parcoords"
           }
          ],
          "pie": [
           {
            "automargin": true,
            "type": "pie"
           }
          ],
          "scatter": [
           {
            "fillpattern": {
             "fillmode": "overlay",
             "size": 10,
             "solidity": 0.2
            },
            "type": "scatter"
           }
          ],
          "scatter3d": [
           {
            "line": {
             "colorbar": {
              "outlinewidth": 0,
              "ticks": ""
             }
            },
            "marker": {
             "colorbar": {
              "outlinewidth": 0,
              "ticks": ""
             }
            },
            "type": "scatter3d"
           }
          ],
          "scattercarpet": [
           {
            "marker": {
             "colorbar": {
              "outlinewidth": 0,
              "ticks": ""
             }
            },
            "type": "scattercarpet"
           }
          ],
          "scattergeo": [
           {
            "marker": {
             "colorbar": {
              "outlinewidth": 0,
              "ticks": ""
             }
            },
            "type": "scattergeo"
           }
          ],
          "scattergl": [
           {
            "marker": {
             "colorbar": {
              "outlinewidth": 0,
              "ticks": ""
             }
            },
            "type": "scattergl"
           }
          ],
          "scattermapbox": [
           {
            "marker": {
             "colorbar": {
              "outlinewidth": 0,
              "ticks": ""
             }
            },
            "type": "scattermapbox"
           }
          ],
          "scatterpolar": [
           {
            "marker": {
             "colorbar": {
              "outlinewidth": 0,
              "ticks": ""
             }
            },
            "type": "scatterpolar"
           }
          ],
          "scatterpolargl": [
           {
            "marker": {
             "colorbar": {
              "outlinewidth": 0,
              "ticks": ""
             }
            },
            "type": "scatterpolargl"
           }
          ],
          "scatterternary": [
           {
            "marker": {
             "colorbar": {
              "outlinewidth": 0,
              "ticks": ""
             }
            },
            "type": "scatterternary"
           }
          ],
          "surface": [
           {
            "colorbar": {
             "outlinewidth": 0,
             "ticks": ""
            },
            "colorscale": [
             [
              0,
              "#0d0887"
             ],
             [
              0.1111111111111111,
              "#46039f"
             ],
             [
              0.2222222222222222,
              "#7201a8"
             ],
             [
              0.3333333333333333,
              "#9c179e"
             ],
             [
              0.4444444444444444,
              "#bd3786"
             ],
             [
              0.5555555555555556,
              "#d8576b"
             ],
             [
              0.6666666666666666,
              "#ed7953"
             ],
             [
              0.7777777777777778,
              "#fb9f3a"
             ],
             [
              0.8888888888888888,
              "#fdca26"
             ],
             [
              1,
              "#f0f921"
             ]
            ],
            "type": "surface"
           }
          ],
          "table": [
           {
            "cells": {
             "fill": {
              "color": "#EBF0F8"
             },
             "line": {
              "color": "white"
             }
            },
            "header": {
             "fill": {
              "color": "#C8D4E3"
             },
             "line": {
              "color": "white"
             }
            },
            "type": "table"
           }
          ]
         },
         "layout": {
          "annotationdefaults": {
           "arrowcolor": "#2a3f5f",
           "arrowhead": 0,
           "arrowwidth": 1
          },
          "autotypenumbers": "strict",
          "coloraxis": {
           "colorbar": {
            "outlinewidth": 0,
            "ticks": ""
           }
          },
          "colorscale": {
           "diverging": [
            [
             0,
             "#8e0152"
            ],
            [
             0.1,
             "#c51b7d"
            ],
            [
             0.2,
             "#de77ae"
            ],
            [
             0.3,
             "#f1b6da"
            ],
            [
             0.4,
             "#fde0ef"
            ],
            [
             0.5,
             "#f7f7f7"
            ],
            [
             0.6,
             "#e6f5d0"
            ],
            [
             0.7,
             "#b8e186"
            ],
            [
             0.8,
             "#7fbc41"
            ],
            [
             0.9,
             "#4d9221"
            ],
            [
             1,
             "#276419"
            ]
           ],
           "sequential": [
            [
             0,
             "#0d0887"
            ],
            [
             0.1111111111111111,
             "#46039f"
            ],
            [
             0.2222222222222222,
             "#7201a8"
            ],
            [
             0.3333333333333333,
             "#9c179e"
            ],
            [
             0.4444444444444444,
             "#bd3786"
            ],
            [
             0.5555555555555556,
             "#d8576b"
            ],
            [
             0.6666666666666666,
             "#ed7953"
            ],
            [
             0.7777777777777778,
             "#fb9f3a"
            ],
            [
             0.8888888888888888,
             "#fdca26"
            ],
            [
             1,
             "#f0f921"
            ]
           ],
           "sequentialminus": [
            [
             0,
             "#0d0887"
            ],
            [
             0.1111111111111111,
             "#46039f"
            ],
            [
             0.2222222222222222,
             "#7201a8"
            ],
            [
             0.3333333333333333,
             "#9c179e"
            ],
            [
             0.4444444444444444,
             "#bd3786"
            ],
            [
             0.5555555555555556,
             "#d8576b"
            ],
            [
             0.6666666666666666,
             "#ed7953"
            ],
            [
             0.7777777777777778,
             "#fb9f3a"
            ],
            [
             0.8888888888888888,
             "#fdca26"
            ],
            [
             1,
             "#f0f921"
            ]
           ]
          },
          "colorway": [
           "#636efa",
           "#EF553B",
           "#00cc96",
           "#ab63fa",
           "#FFA15A",
           "#19d3f3",
           "#FF6692",
           "#B6E880",
           "#FF97FF",
           "#FECB52"
          ],
          "font": {
           "color": "#2a3f5f"
          },
          "geo": {
           "bgcolor": "white",
           "lakecolor": "white",
           "landcolor": "#E5ECF6",
           "showlakes": true,
           "showland": true,
           "subunitcolor": "white"
          },
          "hoverlabel": {
           "align": "left"
          },
          "hovermode": "closest",
          "mapbox": {
           "style": "light"
          },
          "paper_bgcolor": "white",
          "plot_bgcolor": "#E5ECF6",
          "polar": {
           "angularaxis": {
            "gridcolor": "white",
            "linecolor": "white",
            "ticks": ""
           },
           "bgcolor": "#E5ECF6",
           "radialaxis": {
            "gridcolor": "white",
            "linecolor": "white",
            "ticks": ""
           }
          },
          "scene": {
           "xaxis": {
            "backgroundcolor": "#E5ECF6",
            "gridcolor": "white",
            "gridwidth": 2,
            "linecolor": "white",
            "showbackground": true,
            "ticks": "",
            "zerolinecolor": "white"
           },
           "yaxis": {
            "backgroundcolor": "#E5ECF6",
            "gridcolor": "white",
            "gridwidth": 2,
            "linecolor": "white",
            "showbackground": true,
            "ticks": "",
            "zerolinecolor": "white"
           },
           "zaxis": {
            "backgroundcolor": "#E5ECF6",
            "gridcolor": "white",
            "gridwidth": 2,
            "linecolor": "white",
            "showbackground": true,
            "ticks": "",
            "zerolinecolor": "white"
           }
          },
          "shapedefaults": {
           "line": {
            "color": "#2a3f5f"
           }
          },
          "ternary": {
           "aaxis": {
            "gridcolor": "white",
            "linecolor": "white",
            "ticks": ""
           },
           "baxis": {
            "gridcolor": "white",
            "linecolor": "white",
            "ticks": ""
           },
           "bgcolor": "#E5ECF6",
           "caxis": {
            "gridcolor": "white",
            "linecolor": "white",
            "ticks": ""
           }
          },
          "title": {
           "x": 0.05
          },
          "xaxis": {
           "automargin": true,
           "gridcolor": "white",
           "linecolor": "white",
           "ticks": "",
           "title": {
            "standoff": 15
           },
           "zerolinecolor": "white",
           "zerolinewidth": 2
          },
          "yaxis": {
           "automargin": true,
           "gridcolor": "white",
           "linecolor": "white",
           "ticks": "",
           "title": {
            "standoff": 15
           },
           "zerolinecolor": "white",
           "zerolinewidth": 2
          }
         }
        },
        "title": {
         "text": "Return Components and Price Evolution"
        },
        "xaxis": {
         "title": {
          "text": "Date"
         }
        },
        "yaxis": {
         "title": {
          "text": "Cumulative Return (%)"
         }
        },
        "yaxis2": {
         "overlaying": "y",
         "showgrid": false,
         "side": "right",
         "title": {
          "text": "Price"
         }
        }
       }
      }
     },
     "metadata": {},
     "output_type": "display_data"
    },
    {
     "data": {
      "application/vnd.plotly.v1+json": {
       "config": {
        "plotlyServerURL": "https://plot.ly"
       },
       "data": [
        {
         "line": {
          "color": "blue",
          "width": 2
         },
         "name": "Gap Returns",
         "type": "scatter",
         "x": [
          "2024-02-02T00:00:00-05:00",
          "2024-02-05T00:00:00-05:00",
          "2024-02-06T00:00:00-05:00",
          "2024-02-07T00:00:00-05:00",
          "2024-02-08T00:00:00-05:00",
          "2024-02-09T00:00:00-05:00",
          "2024-02-12T00:00:00-05:00",
          "2024-02-13T00:00:00-05:00",
          "2024-02-14T00:00:00-05:00",
          "2024-02-15T00:00:00-05:00",
          "2024-02-16T00:00:00-05:00",
          "2024-02-20T00:00:00-05:00",
          "2024-02-21T00:00:00-05:00",
          "2024-02-22T00:00:00-05:00",
          "2024-02-23T00:00:00-05:00",
          "2024-02-26T00:00:00-05:00",
          "2024-02-27T00:00:00-05:00",
          "2024-02-28T00:00:00-05:00",
          "2024-02-29T00:00:00-05:00",
          "2024-03-01T00:00:00-05:00",
          "2024-03-04T00:00:00-05:00",
          "2024-03-05T00:00:00-05:00",
          "2024-03-06T00:00:00-05:00",
          "2024-03-07T00:00:00-05:00",
          "2024-03-08T00:00:00-05:00",
          "2024-03-11T00:00:00-04:00",
          "2024-03-12T00:00:00-04:00",
          "2024-03-13T00:00:00-04:00",
          "2024-03-14T00:00:00-04:00",
          "2024-03-15T00:00:00-04:00",
          "2024-03-18T00:00:00-04:00",
          "2024-03-19T00:00:00-04:00",
          "2024-03-20T00:00:00-04:00",
          "2024-03-21T00:00:00-04:00",
          "2024-03-22T00:00:00-04:00",
          "2024-03-25T00:00:00-04:00",
          "2024-03-26T00:00:00-04:00",
          "2024-03-27T00:00:00-04:00",
          "2024-03-28T00:00:00-04:00",
          "2024-04-01T00:00:00-04:00",
          "2024-04-02T00:00:00-04:00",
          "2024-04-03T00:00:00-04:00",
          "2024-04-04T00:00:00-04:00",
          "2024-04-05T00:00:00-04:00",
          "2024-04-08T00:00:00-04:00",
          "2024-04-09T00:00:00-04:00",
          "2024-04-10T00:00:00-04:00",
          "2024-04-11T00:00:00-04:00",
          "2024-04-12T00:00:00-04:00",
          "2024-04-15T00:00:00-04:00",
          "2024-04-16T00:00:00-04:00",
          "2024-04-17T00:00:00-04:00",
          "2024-04-18T00:00:00-04:00",
          "2024-04-19T00:00:00-04:00",
          "2024-04-22T00:00:00-04:00",
          "2024-04-23T00:00:00-04:00",
          "2024-04-24T00:00:00-04:00",
          "2024-04-25T00:00:00-04:00",
          "2024-04-26T00:00:00-04:00",
          "2024-04-29T00:00:00-04:00",
          "2024-04-30T00:00:00-04:00",
          "2024-05-01T00:00:00-04:00",
          "2024-05-02T00:00:00-04:00",
          "2024-05-03T00:00:00-04:00",
          "2024-05-06T00:00:00-04:00",
          "2024-05-07T00:00:00-04:00",
          "2024-05-08T00:00:00-04:00",
          "2024-05-09T00:00:00-04:00",
          "2024-05-10T00:00:00-04:00",
          "2024-05-13T00:00:00-04:00",
          "2024-05-14T00:00:00-04:00",
          "2024-05-15T00:00:00-04:00",
          "2024-05-16T00:00:00-04:00",
          "2024-05-17T00:00:00-04:00",
          "2024-05-20T00:00:00-04:00",
          "2024-05-21T00:00:00-04:00",
          "2024-05-22T00:00:00-04:00",
          "2024-05-23T00:00:00-04:00",
          "2024-05-24T00:00:00-04:00",
          "2024-05-28T00:00:00-04:00",
          "2024-05-29T00:00:00-04:00",
          "2024-05-30T00:00:00-04:00",
          "2024-05-31T00:00:00-04:00",
          "2024-06-03T00:00:00-04:00",
          "2024-06-04T00:00:00-04:00",
          "2024-06-05T00:00:00-04:00",
          "2024-06-06T00:00:00-04:00",
          "2024-06-07T00:00:00-04:00",
          "2024-06-10T00:00:00-04:00",
          "2024-06-11T00:00:00-04:00",
          "2024-06-12T00:00:00-04:00",
          "2024-06-13T00:00:00-04:00",
          "2024-06-14T00:00:00-04:00",
          "2024-06-17T00:00:00-04:00",
          "2024-06-18T00:00:00-04:00",
          "2024-06-20T00:00:00-04:00",
          "2024-06-21T00:00:00-04:00",
          "2024-06-24T00:00:00-04:00",
          "2024-06-25T00:00:00-04:00",
          "2024-06-26T00:00:00-04:00",
          "2024-06-27T00:00:00-04:00",
          "2024-06-28T00:00:00-04:00",
          "2024-07-01T00:00:00-04:00",
          "2024-07-02T00:00:00-04:00",
          "2024-07-03T00:00:00-04:00",
          "2024-07-05T00:00:00-04:00",
          "2024-07-08T00:00:00-04:00",
          "2024-07-09T00:00:00-04:00",
          "2024-07-10T00:00:00-04:00",
          "2024-07-11T00:00:00-04:00",
          "2024-07-12T00:00:00-04:00",
          "2024-07-15T00:00:00-04:00",
          "2024-07-16T00:00:00-04:00",
          "2024-07-17T00:00:00-04:00",
          "2024-07-18T00:00:00-04:00",
          "2024-07-19T00:00:00-04:00",
          "2024-07-22T00:00:00-04:00",
          "2024-07-23T00:00:00-04:00",
          "2024-07-24T00:00:00-04:00",
          "2024-07-25T00:00:00-04:00",
          "2024-07-26T00:00:00-04:00",
          "2024-07-29T00:00:00-04:00",
          "2024-07-30T00:00:00-04:00",
          "2024-07-31T00:00:00-04:00",
          "2024-08-01T00:00:00-04:00",
          "2024-08-02T00:00:00-04:00",
          "2024-08-05T00:00:00-04:00",
          "2024-08-06T00:00:00-04:00",
          "2024-08-07T00:00:00-04:00",
          "2024-08-08T00:00:00-04:00",
          "2024-08-09T00:00:00-04:00",
          "2024-08-12T00:00:00-04:00",
          "2024-08-13T00:00:00-04:00",
          "2024-08-14T00:00:00-04:00",
          "2024-08-15T00:00:00-04:00",
          "2024-08-16T00:00:00-04:00",
          "2024-08-19T00:00:00-04:00",
          "2024-08-20T00:00:00-04:00",
          "2024-08-21T00:00:00-04:00",
          "2024-08-22T00:00:00-04:00",
          "2024-08-23T00:00:00-04:00",
          "2024-08-26T00:00:00-04:00",
          "2024-08-27T00:00:00-04:00",
          "2024-08-28T00:00:00-04:00",
          "2024-08-29T00:00:00-04:00",
          "2024-08-30T00:00:00-04:00",
          "2024-09-03T00:00:00-04:00",
          "2024-09-04T00:00:00-04:00",
          "2024-09-05T00:00:00-04:00",
          "2024-09-06T00:00:00-04:00",
          "2024-09-09T00:00:00-04:00",
          "2024-09-10T00:00:00-04:00",
          "2024-09-11T00:00:00-04:00",
          "2024-09-12T00:00:00-04:00",
          "2024-09-13T00:00:00-04:00",
          "2024-09-16T00:00:00-04:00",
          "2024-09-17T00:00:00-04:00",
          "2024-09-18T00:00:00-04:00",
          "2024-09-19T00:00:00-04:00",
          "2024-09-20T00:00:00-04:00",
          "2024-09-23T00:00:00-04:00",
          "2024-09-24T00:00:00-04:00",
          "2024-09-25T00:00:00-04:00",
          "2024-09-26T00:00:00-04:00",
          "2024-09-27T00:00:00-04:00",
          "2024-09-30T00:00:00-04:00",
          "2024-10-01T00:00:00-04:00",
          "2024-10-02T00:00:00-04:00",
          "2024-10-03T00:00:00-04:00",
          "2024-10-04T00:00:00-04:00",
          "2024-10-07T00:00:00-04:00",
          "2024-10-08T00:00:00-04:00",
          "2024-10-09T00:00:00-04:00",
          "2024-10-10T00:00:00-04:00",
          "2024-10-11T00:00:00-04:00",
          "2024-10-14T00:00:00-04:00",
          "2024-10-15T00:00:00-04:00",
          "2024-10-16T00:00:00-04:00",
          "2024-10-17T00:00:00-04:00",
          "2024-10-18T00:00:00-04:00"
         ],
         "xaxis": "x",
         "y": [
          0.17799054808813608,
          -0.24957535151455268,
          -0.25767973598656013,
          0.4035376341531949,
          0.3977158490332755,
          0.47194000598727026,
          0.5118625562397838,
          -0.7598991431692625,
          0.3575443740300055,
          0.6518588735386799,
          0.6737886981000751,
          0.08755666206728963,
          -0.16211111870829686,
          1.7693278538875257,
          2.078577775097745,
          2.16817204106472,
          2.144494528782015,
          1.877069994801328,
          2.268304755417039,
          2.404054032404579,
          2.226648827218869,
          1.582115675627016,
          2.6471036994605845,
          3.4367479666825074,
          3.5844067970691396,
          3.2310912921793444,
          3.68105705565388,
          3.7100728402406857,
          3.942715252043938,
          3.4900676538077158,
          4.252678173519941,
          3.910981442989458,
          4.160253791251611,
          4.726126570753386,
          4.580774953716649,
          4.214664162073922,
          4.373194537454639,
          4.676964748747969,
          5.141643410012597,
          5.000575487714332,
          4.3078676034914,
          4.186328103153791,
          5.130150529025578,
          5.254715039817925,
          5.454477640784893,
          5.674229423127241,
          4.728976905669013,
          5.094878034512928,
          4.212343735144952,
          5.323302182158518,
          5.382750501752686,
          5.5272134163414695,
          5.6868367053793385,
          5.60881017635948,
          6.15004937177106,
          6.3977768715213434,
          6.652093827634364,
          5.361841412736645,
          5.832098168957122,
          5.965588549797329,
          5.943963527680829,
          5.296974059837101,
          4.968787586655466,
          6.148518386338765,
          6.594292332024732,
          7.081613610503813,
          6.704590737782857,
          6.702657959801062,
          7.097070765711478,
          7.419608059086025,
          7.480093672150934,
          7.952965633679188,
          8.090925341884969,
          7.917255239570631,
          7.998519177280894,
          7.80617522102972,
          7.762851745356791,
          8.550491567972372,
          9.022539838714891,
          9.264514960647672,
          8.717756726165934,
          8.288716221408828,
          8.319284407569102,
          9.58457412254394,
          9.678686848675918,
          10.300499584462372,
          10.515923970502868,
          10.379319617876511,
          10.108104010821158,
          9.865294896140549,
          10.934504278312936,
          11.2762804057123,
          11.008897127520653,
          10.990453068352132,
          10.802562008683022,
          11.08546551121091,
          10.638412495660063,
          10.638412495660063,
          10.618195623761515,
          10.401611891235195,
          10.548516788677198,
          10.812373866093605,
          10.977574944572643,
          10.854496891042885,
          10.978584482283757,
          11.118330398799179,
          11.313149649827402,
          11.616081598328952,
          11.88066043202226,
          12.132432658510151,
          12.286948969293599,
          12.224715683376097,
          12.363483496359773,
          11.400215296616757,
          11.498788671052196,
          11.658341921949688,
          12.234883762154835,
          12.240293944117287,
          11.119734745443221,
          11.071729723379375,
          10.970408867862902,
          11.314064109983647,
          11.475419495219631,
          12.82494965195714,
          13.398281529209534,
          12.29432908408409,
          8.372465524276842,
          8.90200655644622,
          9.235197500487228,
          9.85361956394271,
          9.9518643824732,
          10.175116357033746,
          10.858184157142574,
          11.174172035034506,
          12.352592215480088,
          12.051553496295867,
          12.170672019226185,
          12.326507800554547,
          12.503689008608248,
          12.968007888528227,
          13.617381899177245,
          13.800602232702648,
          13.657783386326246,
          13.61859773539917,
          13.933699337762425,
          14.244947191225506,
          14.00288108581996,
          13.561364004175498,
          13.610399636735146,
          13.694116673152042,
          14.353908201207041,
          14.856089206302155,
          14.86702533928555,
          15.173360790158902,
          15.336179730414841,
          15.325499773134684,
          15.816288591685087,
          16.115189064944175,
          17.12527220663886,
          16.577552573658124,
          16.785240548876388,
          16.966120009399,
          17.06821313761132,
          17.89674845568464,
          18.14326057149288,
          17.884474070356315,
          18.322854143269595,
          17.9184788198132,
          17.623244741365294,
          18.64163578940794,
          18.526243104604788,
          19.033678441837885,
          19.065093150902754,
          18.898620133454898,
          18.994189203828476,
          19.210581572333467,
          19.231112993963322,
          19.308788929958336,
          19.940841555209524,
          20.218977017480967
         ],
         "yaxis": "y"
        },
        {
         "line": {
          "color": "green",
          "width": 2
         },
         "name": "RTH Returns",
         "type": "scatter",
         "x": [
          "2024-02-02T00:00:00-05:00",
          "2024-02-05T00:00:00-05:00",
          "2024-02-06T00:00:00-05:00",
          "2024-02-07T00:00:00-05:00",
          "2024-02-08T00:00:00-05:00",
          "2024-02-09T00:00:00-05:00",
          "2024-02-12T00:00:00-05:00",
          "2024-02-13T00:00:00-05:00",
          "2024-02-14T00:00:00-05:00",
          "2024-02-15T00:00:00-05:00",
          "2024-02-16T00:00:00-05:00",
          "2024-02-20T00:00:00-05:00",
          "2024-02-21T00:00:00-05:00",
          "2024-02-22T00:00:00-05:00",
          "2024-02-23T00:00:00-05:00",
          "2024-02-26T00:00:00-05:00",
          "2024-02-27T00:00:00-05:00",
          "2024-02-28T00:00:00-05:00",
          "2024-02-29T00:00:00-05:00",
          "2024-03-01T00:00:00-05:00",
          "2024-03-04T00:00:00-05:00",
          "2024-03-05T00:00:00-05:00",
          "2024-03-06T00:00:00-05:00",
          "2024-03-07T00:00:00-05:00",
          "2024-03-08T00:00:00-05:00",
          "2024-03-11T00:00:00-04:00",
          "2024-03-12T00:00:00-04:00",
          "2024-03-13T00:00:00-04:00",
          "2024-03-14T00:00:00-04:00",
          "2024-03-15T00:00:00-04:00",
          "2024-03-18T00:00:00-04:00",
          "2024-03-19T00:00:00-04:00",
          "2024-03-20T00:00:00-04:00",
          "2024-03-21T00:00:00-04:00",
          "2024-03-22T00:00:00-04:00",
          "2024-03-25T00:00:00-04:00",
          "2024-03-26T00:00:00-04:00",
          "2024-03-27T00:00:00-04:00",
          "2024-03-28T00:00:00-04:00",
          "2024-04-01T00:00:00-04:00",
          "2024-04-02T00:00:00-04:00",
          "2024-04-03T00:00:00-04:00",
          "2024-04-04T00:00:00-04:00",
          "2024-04-05T00:00:00-04:00",
          "2024-04-08T00:00:00-04:00",
          "2024-04-09T00:00:00-04:00",
          "2024-04-10T00:00:00-04:00",
          "2024-04-11T00:00:00-04:00",
          "2024-04-12T00:00:00-04:00",
          "2024-04-15T00:00:00-04:00",
          "2024-04-16T00:00:00-04:00",
          "2024-04-17T00:00:00-04:00",
          "2024-04-18T00:00:00-04:00",
          "2024-04-19T00:00:00-04:00",
          "2024-04-22T00:00:00-04:00",
          "2024-04-23T00:00:00-04:00",
          "2024-04-24T00:00:00-04:00",
          "2024-04-25T00:00:00-04:00",
          "2024-04-26T00:00:00-04:00",
          "2024-04-29T00:00:00-04:00",
          "2024-04-30T00:00:00-04:00",
          "2024-05-01T00:00:00-04:00",
          "2024-05-02T00:00:00-04:00",
          "2024-05-03T00:00:00-04:00",
          "2024-05-06T00:00:00-04:00",
          "2024-05-07T00:00:00-04:00",
          "2024-05-08T00:00:00-04:00",
          "2024-05-09T00:00:00-04:00",
          "2024-05-10T00:00:00-04:00",
          "2024-05-13T00:00:00-04:00",
          "2024-05-14T00:00:00-04:00",
          "2024-05-15T00:00:00-04:00",
          "2024-05-16T00:00:00-04:00",
          "2024-05-17T00:00:00-04:00",
          "2024-05-20T00:00:00-04:00",
          "2024-05-21T00:00:00-04:00",
          "2024-05-22T00:00:00-04:00",
          "2024-05-23T00:00:00-04:00",
          "2024-05-24T00:00:00-04:00",
          "2024-05-28T00:00:00-04:00",
          "2024-05-29T00:00:00-04:00",
          "2024-05-30T00:00:00-04:00",
          "2024-05-31T00:00:00-04:00",
          "2024-06-03T00:00:00-04:00",
          "2024-06-04T00:00:00-04:00",
          "2024-06-05T00:00:00-04:00",
          "2024-06-06T00:00:00-04:00",
          "2024-06-07T00:00:00-04:00",
          "2024-06-10T00:00:00-04:00",
          "2024-06-11T00:00:00-04:00",
          "2024-06-12T00:00:00-04:00",
          "2024-06-13T00:00:00-04:00",
          "2024-06-14T00:00:00-04:00",
          "2024-06-17T00:00:00-04:00",
          "2024-06-18T00:00:00-04:00",
          "2024-06-20T00:00:00-04:00",
          "2024-06-21T00:00:00-04:00",
          "2024-06-24T00:00:00-04:00",
          "2024-06-25T00:00:00-04:00",
          "2024-06-26T00:00:00-04:00",
          "2024-06-27T00:00:00-04:00",
          "2024-06-28T00:00:00-04:00",
          "2024-07-01T00:00:00-04:00",
          "2024-07-02T00:00:00-04:00",
          "2024-07-03T00:00:00-04:00",
          "2024-07-05T00:00:00-04:00",
          "2024-07-08T00:00:00-04:00",
          "2024-07-09T00:00:00-04:00",
          "2024-07-10T00:00:00-04:00",
          "2024-07-11T00:00:00-04:00",
          "2024-07-12T00:00:00-04:00",
          "2024-07-15T00:00:00-04:00",
          "2024-07-16T00:00:00-04:00",
          "2024-07-17T00:00:00-04:00",
          "2024-07-18T00:00:00-04:00",
          "2024-07-19T00:00:00-04:00",
          "2024-07-22T00:00:00-04:00",
          "2024-07-23T00:00:00-04:00",
          "2024-07-24T00:00:00-04:00",
          "2024-07-25T00:00:00-04:00",
          "2024-07-26T00:00:00-04:00",
          "2024-07-29T00:00:00-04:00",
          "2024-07-30T00:00:00-04:00",
          "2024-07-31T00:00:00-04:00",
          "2024-08-01T00:00:00-04:00",
          "2024-08-02T00:00:00-04:00",
          "2024-08-05T00:00:00-04:00",
          "2024-08-06T00:00:00-04:00",
          "2024-08-07T00:00:00-04:00",
          "2024-08-08T00:00:00-04:00",
          "2024-08-09T00:00:00-04:00",
          "2024-08-12T00:00:00-04:00",
          "2024-08-13T00:00:00-04:00",
          "2024-08-14T00:00:00-04:00",
          "2024-08-15T00:00:00-04:00",
          "2024-08-16T00:00:00-04:00",
          "2024-08-19T00:00:00-04:00",
          "2024-08-20T00:00:00-04:00",
          "2024-08-21T00:00:00-04:00",
          "2024-08-22T00:00:00-04:00",
          "2024-08-23T00:00:00-04:00",
          "2024-08-26T00:00:00-04:00",
          "2024-08-27T00:00:00-04:00",
          "2024-08-28T00:00:00-04:00",
          "2024-08-29T00:00:00-04:00",
          "2024-08-30T00:00:00-04:00",
          "2024-09-03T00:00:00-04:00",
          "2024-09-04T00:00:00-04:00",
          "2024-09-05T00:00:00-04:00",
          "2024-09-06T00:00:00-04:00",
          "2024-09-09T00:00:00-04:00",
          "2024-09-10T00:00:00-04:00",
          "2024-09-11T00:00:00-04:00",
          "2024-09-12T00:00:00-04:00",
          "2024-09-13T00:00:00-04:00",
          "2024-09-16T00:00:00-04:00",
          "2024-09-17T00:00:00-04:00",
          "2024-09-18T00:00:00-04:00",
          "2024-09-19T00:00:00-04:00",
          "2024-09-20T00:00:00-04:00",
          "2024-09-23T00:00:00-04:00",
          "2024-09-24T00:00:00-04:00",
          "2024-09-25T00:00:00-04:00",
          "2024-09-26T00:00:00-04:00",
          "2024-09-27T00:00:00-04:00",
          "2024-09-30T00:00:00-04:00",
          "2024-10-01T00:00:00-04:00",
          "2024-10-02T00:00:00-04:00",
          "2024-10-03T00:00:00-04:00",
          "2024-10-04T00:00:00-04:00",
          "2024-10-07T00:00:00-04:00",
          "2024-10-08T00:00:00-04:00",
          "2024-10-09T00:00:00-04:00",
          "2024-10-10T00:00:00-04:00",
          "2024-10-11T00:00:00-04:00",
          "2024-10-14T00:00:00-04:00",
          "2024-10-15T00:00:00-04:00",
          "2024-10-16T00:00:00-04:00",
          "2024-10-17T00:00:00-04:00",
          "2024-10-18T00:00:00-04:00"
         ],
         "xaxis": "x",
         "y": [
          1.2600579994281658,
          1.229675791249285,
          1.130389034886825,
          1.500938512007055,
          1.5792360426233998,
          2.0022004013613204,
          1.944335804517927,
          1.2952083854566365,
          1.5055185768856005,
          1.9661634797496164,
          1.7558826402208072,
          1.5429114917839382,
          1.3471180236155123,
          2.0772767537742487,
          1.8013808283937949,
          1.5082468523953674,
          1.5072600557346827,
          1.657656826161935,
          1.7009579460863677,
          2.480949301345914,
          2.775848137374337,
          1.78219809033765,
          1.4962319753635933,
          1.8061070508834653,
          1.1911223769999313,
          1.3223713975296314,
          2.0059822651895876,
          1.746869117116634,
          0.8899528550511238,
          0.8644736500023065,
          0.8500762026308006,
          1.3084380106948457,
          2.210954587529934,
          2.1135110474634455,
          2.0349835341041955,
          2.153300546743908,
          1.9422612742538314,
          1.7659180950929776,
          2.0258519648584605,
          1.6507302650703548,
          1.6700259717756238,
          1.8448502010887657,
          -0.01372253729754469,
          0.7026042710145841,
          0.7428045984729348,
          0.3355039260425796,
          0.39782378270689644,
          1.033877149135698,
          0.07932992723749255,
          -1.9570492391865146,
          -1.881792773071722,
          -2.844148271540259,
          -3.272452188030961,
          -4.129411983001319,
          -3.58506038409403,
          -2.890546742929412,
          -3.0573581769155145,
          -2.0978036986607385,
          -1.4954535456045526,
          -1.7718807727061803,
          -2.5417014428335993,
          -1.6581400722165074,
          -1.449868724403347,
          -1.3892223514477053,
          -1.138107996216553,
          -1.2038021320488257,
          -0.7904185975225575,
          -0.33040854688279886,
          -0.5105507442343171,
          -0.8483174651222725,
          -0.41554064685324077,
          0.21394036411986894,
          0.18940604438106856,
          0.24991812788772716,
          0.38776581563437773,
          0.6919526354650873,
          0.3405034966568077,
          -1.0836183886629214,
          -0.8695424201112467,
          -1.188253995564792,
          -0.9789821952299826,
          -1.1886977446847302,
          -1.4121592978380337,
          -1.9896421907343198,
          -1.793995797845982,
          -1.2174748942530789,
          -1.327759390869776,
          -1.1459957211174876,
          -0.729626014826934,
          -0.3907381661094833,
          -0.4553567319465768,
          -0.6044711407546144,
          -0.3641220799647904,
          0.7630178255842113,
          0.8964340109778757,
          0.4368751874484489,
          0.4111621086746009,
          0.36890832879842295,
          0.530694391042219,
          0.6925513315781839,
          0.7622287982521736,
          0.312677454112098,
          0.08175173521833834,
          0.8726290572709239,
          1.2954620382434445,
          1.7648605194946931,
          1.6100283143960281,
          1.491378762028439,
          2.022730297742059,
          1.1908871800446863,
          2.0462930943606294,
          2.0534098989153926,
          2.2941404406035315,
          2.1456052127003966,
          0.8976418816946774,
          0.4287957139237908,
          0.7018517717899742,
          0.7992297787867808,
          -0.5216899457331281,
          -0.2482993481529916,
          0.09654095574905819,
          -0.02067086799365514,
          -0.8609300852162272,
          -0.7807814459215412,
          -2.749762751457485,
          -3.3443195079115418,
          -2.397364617754394,
          -0.9519272309048921,
          -2.4278582027486784,
          -1.3990359084177117,
          -0.79127086057037,
          -1.0402319627380252,
          -0.17727928534813087,
          -0.13491186773434416,
          0.5174994152501999,
          0.9980768335520529,
          1.6380278006892124,
          1.5664906460795436,
          1.6057946086335928,
          0.4254760648338185,
          0.8865952184091364,
          0.38053988580979414,
          0.7272842422772818,
          0.2533083687183524,
          0.026648127066408733,
          0.2138873296057442,
          -1.1831544389099724,
          -1.1068185610473735,
          -1.3645832690653004,
          -2.9738789976125557,
          -2.795782972642391,
          -2.7447216260817364,
          -1.9036427122854804,
          -1.224339636665206,
          -0.8473452290467143,
          -0.736973882872316,
          -1.2784517990671151,
          -1.0017284869019427,
          -1.00920646452054,
          -0.952852562012807,
          -0.9352883648722443,
          -0.9199501349916206,
          -1.175579227683432,
          -1.5968884198839794,
          -1.856746457170988,
          -1.773071270466453,
          -2.363409603218458,
          -2.1291350616391425,
          -2.266613911046922,
          -2.3347540350968865,
          -2.989401330738406,
          -2.5441310130888684,
          -1.9212508400132777,
          -1.9681445649381568,
          -1.2885160604680368,
          -0.7293474152046175,
          -1.6291233265270821,
          -1.2065492467037031,
          -1.7970836291173686,
          -1.7422956756186547
         ],
         "yaxis": "y"
        },
        {
         "line": {
          "color": "red",
          "dash": "dash",
          "width": 2
         },
         "name": "Total Returns",
         "type": "scatter",
         "x": [
          "2024-02-02T00:00:00-05:00",
          "2024-02-05T00:00:00-05:00",
          "2024-02-06T00:00:00-05:00",
          "2024-02-07T00:00:00-05:00",
          "2024-02-08T00:00:00-05:00",
          "2024-02-09T00:00:00-05:00",
          "2024-02-12T00:00:00-05:00",
          "2024-02-13T00:00:00-05:00",
          "2024-02-14T00:00:00-05:00",
          "2024-02-15T00:00:00-05:00",
          "2024-02-16T00:00:00-05:00",
          "2024-02-20T00:00:00-05:00",
          "2024-02-21T00:00:00-05:00",
          "2024-02-22T00:00:00-05:00",
          "2024-02-23T00:00:00-05:00",
          "2024-02-26T00:00:00-05:00",
          "2024-02-27T00:00:00-05:00",
          "2024-02-28T00:00:00-05:00",
          "2024-02-29T00:00:00-05:00",
          "2024-03-01T00:00:00-05:00",
          "2024-03-04T00:00:00-05:00",
          "2024-03-05T00:00:00-05:00",
          "2024-03-06T00:00:00-05:00",
          "2024-03-07T00:00:00-05:00",
          "2024-03-08T00:00:00-05:00",
          "2024-03-11T00:00:00-04:00",
          "2024-03-12T00:00:00-04:00",
          "2024-03-13T00:00:00-04:00",
          "2024-03-14T00:00:00-04:00",
          "2024-03-15T00:00:00-04:00",
          "2024-03-18T00:00:00-04:00",
          "2024-03-19T00:00:00-04:00",
          "2024-03-20T00:00:00-04:00",
          "2024-03-21T00:00:00-04:00",
          "2024-03-22T00:00:00-04:00",
          "2024-03-25T00:00:00-04:00",
          "2024-03-26T00:00:00-04:00",
          "2024-03-27T00:00:00-04:00",
          "2024-03-28T00:00:00-04:00",
          "2024-04-01T00:00:00-04:00",
          "2024-04-02T00:00:00-04:00",
          "2024-04-03T00:00:00-04:00",
          "2024-04-04T00:00:00-04:00",
          "2024-04-05T00:00:00-04:00",
          "2024-04-08T00:00:00-04:00",
          "2024-04-09T00:00:00-04:00",
          "2024-04-10T00:00:00-04:00",
          "2024-04-11T00:00:00-04:00",
          "2024-04-12T00:00:00-04:00",
          "2024-04-15T00:00:00-04:00",
          "2024-04-16T00:00:00-04:00",
          "2024-04-17T00:00:00-04:00",
          "2024-04-18T00:00:00-04:00",
          "2024-04-19T00:00:00-04:00",
          "2024-04-22T00:00:00-04:00",
          "2024-04-23T00:00:00-04:00",
          "2024-04-24T00:00:00-04:00",
          "2024-04-25T00:00:00-04:00",
          "2024-04-26T00:00:00-04:00",
          "2024-04-29T00:00:00-04:00",
          "2024-04-30T00:00:00-04:00",
          "2024-05-01T00:00:00-04:00",
          "2024-05-02T00:00:00-04:00",
          "2024-05-03T00:00:00-04:00",
          "2024-05-06T00:00:00-04:00",
          "2024-05-07T00:00:00-04:00",
          "2024-05-08T00:00:00-04:00",
          "2024-05-09T00:00:00-04:00",
          "2024-05-10T00:00:00-04:00",
          "2024-05-13T00:00:00-04:00",
          "2024-05-14T00:00:00-04:00",
          "2024-05-15T00:00:00-04:00",
          "2024-05-16T00:00:00-04:00",
          "2024-05-17T00:00:00-04:00",
          "2024-05-20T00:00:00-04:00",
          "2024-05-21T00:00:00-04:00",
          "2024-05-22T00:00:00-04:00",
          "2024-05-23T00:00:00-04:00",
          "2024-05-24T00:00:00-04:00",
          "2024-05-28T00:00:00-04:00",
          "2024-05-29T00:00:00-04:00",
          "2024-05-30T00:00:00-04:00",
          "2024-05-31T00:00:00-04:00",
          "2024-06-03T00:00:00-04:00",
          "2024-06-04T00:00:00-04:00",
          "2024-06-05T00:00:00-04:00",
          "2024-06-06T00:00:00-04:00",
          "2024-06-07T00:00:00-04:00",
          "2024-06-10T00:00:00-04:00",
          "2024-06-11T00:00:00-04:00",
          "2024-06-12T00:00:00-04:00",
          "2024-06-13T00:00:00-04:00",
          "2024-06-14T00:00:00-04:00",
          "2024-06-17T00:00:00-04:00",
          "2024-06-18T00:00:00-04:00",
          "2024-06-20T00:00:00-04:00",
          "2024-06-21T00:00:00-04:00",
          "2024-06-24T00:00:00-04:00",
          "2024-06-25T00:00:00-04:00",
          "2024-06-26T00:00:00-04:00",
          "2024-06-27T00:00:00-04:00",
          "2024-06-28T00:00:00-04:00",
          "2024-07-01T00:00:00-04:00",
          "2024-07-02T00:00:00-04:00",
          "2024-07-03T00:00:00-04:00",
          "2024-07-05T00:00:00-04:00",
          "2024-07-08T00:00:00-04:00",
          "2024-07-09T00:00:00-04:00",
          "2024-07-10T00:00:00-04:00",
          "2024-07-11T00:00:00-04:00",
          "2024-07-12T00:00:00-04:00",
          "2024-07-15T00:00:00-04:00",
          "2024-07-16T00:00:00-04:00",
          "2024-07-17T00:00:00-04:00",
          "2024-07-18T00:00:00-04:00",
          "2024-07-19T00:00:00-04:00",
          "2024-07-22T00:00:00-04:00",
          "2024-07-23T00:00:00-04:00",
          "2024-07-24T00:00:00-04:00",
          "2024-07-25T00:00:00-04:00",
          "2024-07-26T00:00:00-04:00",
          "2024-07-29T00:00:00-04:00",
          "2024-07-30T00:00:00-04:00",
          "2024-07-31T00:00:00-04:00",
          "2024-08-01T00:00:00-04:00",
          "2024-08-02T00:00:00-04:00",
          "2024-08-05T00:00:00-04:00",
          "2024-08-06T00:00:00-04:00",
          "2024-08-07T00:00:00-04:00",
          "2024-08-08T00:00:00-04:00",
          "2024-08-09T00:00:00-04:00",
          "2024-08-12T00:00:00-04:00",
          "2024-08-13T00:00:00-04:00",
          "2024-08-14T00:00:00-04:00",
          "2024-08-15T00:00:00-04:00",
          "2024-08-16T00:00:00-04:00",
          "2024-08-19T00:00:00-04:00",
          "2024-08-20T00:00:00-04:00",
          "2024-08-21T00:00:00-04:00",
          "2024-08-22T00:00:00-04:00",
          "2024-08-23T00:00:00-04:00",
          "2024-08-26T00:00:00-04:00",
          "2024-08-27T00:00:00-04:00",
          "2024-08-28T00:00:00-04:00",
          "2024-08-29T00:00:00-04:00",
          "2024-08-30T00:00:00-04:00",
          "2024-09-03T00:00:00-04:00",
          "2024-09-04T00:00:00-04:00",
          "2024-09-05T00:00:00-04:00",
          "2024-09-06T00:00:00-04:00",
          "2024-09-09T00:00:00-04:00",
          "2024-09-10T00:00:00-04:00",
          "2024-09-11T00:00:00-04:00",
          "2024-09-12T00:00:00-04:00",
          "2024-09-13T00:00:00-04:00",
          "2024-09-16T00:00:00-04:00",
          "2024-09-17T00:00:00-04:00",
          "2024-09-18T00:00:00-04:00",
          "2024-09-19T00:00:00-04:00",
          "2024-09-20T00:00:00-04:00",
          "2024-09-23T00:00:00-04:00",
          "2024-09-24T00:00:00-04:00",
          "2024-09-25T00:00:00-04:00",
          "2024-09-26T00:00:00-04:00",
          "2024-09-27T00:00:00-04:00",
          "2024-09-30T00:00:00-04:00",
          "2024-10-01T00:00:00-04:00",
          "2024-10-02T00:00:00-04:00",
          "2024-10-03T00:00:00-04:00",
          "2024-10-04T00:00:00-04:00",
          "2024-10-07T00:00:00-04:00",
          "2024-10-08T00:00:00-04:00",
          "2024-10-09T00:00:00-04:00",
          "2024-10-10T00:00:00-04:00",
          "2024-10-11T00:00:00-04:00",
          "2024-10-14T00:00:00-04:00",
          "2024-10-15T00:00:00-04:00",
          "2024-10-16T00:00:00-04:00",
          "2024-10-17T00:00:00-04:00",
          "2024-10-18T00:00:00-04:00"
         ],
         "xaxis": "x",
         "y": [
          1.4402913316557076,
          0.9824731278358589,
          0.8750900335818601,
          1.9093070183495264,
          1.9817782055319588,
          2.479280662953376,
          2.461315515339735,
          0.5486817507653896,
          1.878785556993745,
          2.6351007041068186,
          2.446703574920206,
          1.6487488955501894,
          1.2037764798130568,
          3.8794767528436913,
          3.9119775407415847,
          3.708175199476038,
          3.683511124181549,
          3.5660811627656774,
          4.000786452338689,
          4.917585917211109,
          5.034556382168686,
          3.402777587504113,
          4.178753991486927,
          5.280720244998104,
          4.812486322324682,
          4.589956114825021,
          5.726608760819362,
          5.496436213620337,
          4.870168812698882,
          4.392157340423552,
          5.140260616316027,
          5.255359486537436,
          6.409398135899202,
          6.877275968865869,
          6.6535109794803695,
          6.405284029125745,
          6.3524405706655065,
          6.479331924750053,
          7.205152313006379,
          6.689491867307995,
          6.015946026908658,
          6.0690182753894035,
          5.136726336568852,
          5.978509944657761,
          6.218553178302798,
          6.03010923772762,
          5.146587496919707,
          6.150869318640228,
          4.3222120040109715,
          3.374167958237905,
          3.5089174826513405,
          2.689634651969796,
          2.420270351718389,
          1.485952683711277,
          2.5744897222442766,
          3.518451364437846,
          3.6055326568033887,
          3.262454045332507,
          4.337893546900029,
          4.194587696880403,
          3.403308478526645,
          3.6341638322901932,
          3.513565188530676,
          4.7546578251102645,
          5.452665528396872,
          5.873972529541049,
          5.908774640869119,
          6.366843022554125,
          6.580403127217815,
          6.56408427606493,
          7.0576084751106,
          8.162938086815997,
          8.276329627807034,
          8.163066517602026,
          8.382290163518025,
          8.493547942133917,
          8.098927587634863,
          7.451228573839352,
          8.138363355041168,
          8.060855698797077,
          7.722225053849364,
          7.084368764289451,
          6.891407089152846,
          7.57190707958183,
          7.861850326756071,
          9.063768846538444,
          9.168671156262509,
          9.213582176304048,
          9.35760701591274,
          9.452862899364368,
          10.456762807931097,
          10.648914889070616,
          10.621238018470947,
          11.729725974500328,
          11.675000423140382,
          11.497044994130903,
          11.024393850900251,
          10.982140071024073,
          11.123676553288345,
          11.068599205494813,
          11.28528392922179,
          11.098403489459997,
          11.032297357267197,
          11.69912322937624,
          12.246568484850695,
          12.856368847827092,
          12.896054250814336,
          13.079977219547422,
          13.87731343265036,
          13.295148191502559,
          14.306392158262959,
          14.251271247878904,
          14.631103659058596,
          13.52073102402824,
          12.370110907890872,
          12.060069931715088,
          12.91124211220722,
          13.014035569493851,
          10.58735833378007,
          10.812612668079655,
          11.055782721319138,
          11.281823335120475,
          10.601563699636948,
          12.032324125726642,
          10.625385899961312,
          8.933440322232341,
          5.921393373817349,
          7.9040259768939105,
          6.756368280752642,
          8.409975102601006,
          9.116582066647192,
          9.090317128463607,
          10.642232157831764,
          11.000721329241333,
          12.839240938889649,
          13.017332913902532,
          13.77716470410953,
          13.861351850344391,
          14.077906660187807,
          13.356426554465957,
          14.469914106631737,
          14.14615191128959,
          14.349582205090888,
          13.83660641113617,
          13.924333561794116,
          14.42340339579528,
          12.787677286473945,
          12.422159046751883,
          12.213303574738525,
          10.686377627917047,
          11.525440243426768,
          12.07893901546591,
          12.931046043754062,
          13.918765516387182,
          14.45919268256091,
          14.558872283842522,
          14.50552567313051,
          15.081976585844455,
          16.084506216129277,
          15.592831824268302,
          15.818120475352522,
          16.01436590946322,
          15.860568965246364,
          16.26430439566346,
          16.250317892638872,
          16.074990038118848,
          15.920443852666583,
          15.749395722354215,
          15.317088678912643,
          16.266645669981866,
          15.497361104627632,
          16.452326218448214,
          17.106816776582882,
          16.89352809960903,
          17.669375189096442,
          18.446146201140273,
          17.566716974661585,
          18.067295228851773,
          18.10508098362222,
          18.438156784120103
         ],
         "yaxis": "y"
        },
        {
         "fill": "tozeroy",
         "fillcolor": "rgba(0, 0, 255, 0.3)",
         "line": {
          "color": "blue",
          "width": 1
         },
         "name": "Gap Contribution",
         "type": "scatter",
         "x": [
          "2024-02-02T00:00:00-05:00",
          "2024-02-05T00:00:00-05:00",
          "2024-02-06T00:00:00-05:00",
          "2024-02-07T00:00:00-05:00",
          "2024-02-08T00:00:00-05:00",
          "2024-02-09T00:00:00-05:00",
          "2024-02-12T00:00:00-05:00",
          "2024-02-13T00:00:00-05:00",
          "2024-02-14T00:00:00-05:00",
          "2024-02-15T00:00:00-05:00",
          "2024-02-16T00:00:00-05:00",
          "2024-02-20T00:00:00-05:00",
          "2024-02-21T00:00:00-05:00",
          "2024-02-22T00:00:00-05:00",
          "2024-02-23T00:00:00-05:00",
          "2024-02-26T00:00:00-05:00",
          "2024-02-27T00:00:00-05:00",
          "2024-02-28T00:00:00-05:00",
          "2024-02-29T00:00:00-05:00",
          "2024-03-01T00:00:00-05:00",
          "2024-03-04T00:00:00-05:00",
          "2024-03-05T00:00:00-05:00",
          "2024-03-06T00:00:00-05:00",
          "2024-03-07T00:00:00-05:00",
          "2024-03-08T00:00:00-05:00",
          "2024-03-11T00:00:00-04:00",
          "2024-03-12T00:00:00-04:00",
          "2024-03-13T00:00:00-04:00",
          "2024-03-14T00:00:00-04:00",
          "2024-03-15T00:00:00-04:00",
          "2024-03-18T00:00:00-04:00",
          "2024-03-19T00:00:00-04:00",
          "2024-03-20T00:00:00-04:00",
          "2024-03-21T00:00:00-04:00",
          "2024-03-22T00:00:00-04:00",
          "2024-03-25T00:00:00-04:00",
          "2024-03-26T00:00:00-04:00",
          "2024-03-27T00:00:00-04:00",
          "2024-03-28T00:00:00-04:00",
          "2024-04-01T00:00:00-04:00",
          "2024-04-02T00:00:00-04:00",
          "2024-04-03T00:00:00-04:00",
          "2024-04-04T00:00:00-04:00",
          "2024-04-05T00:00:00-04:00",
          "2024-04-08T00:00:00-04:00",
          "2024-04-09T00:00:00-04:00",
          "2024-04-10T00:00:00-04:00",
          "2024-04-11T00:00:00-04:00",
          "2024-04-12T00:00:00-04:00",
          "2024-04-15T00:00:00-04:00",
          "2024-04-16T00:00:00-04:00",
          "2024-04-17T00:00:00-04:00",
          "2024-04-18T00:00:00-04:00",
          "2024-04-19T00:00:00-04:00",
          "2024-04-22T00:00:00-04:00",
          "2024-04-23T00:00:00-04:00",
          "2024-04-24T00:00:00-04:00",
          "2024-04-25T00:00:00-04:00",
          "2024-04-26T00:00:00-04:00",
          "2024-04-29T00:00:00-04:00",
          "2024-04-30T00:00:00-04:00",
          "2024-05-01T00:00:00-04:00",
          "2024-05-02T00:00:00-04:00",
          "2024-05-03T00:00:00-04:00",
          "2024-05-06T00:00:00-04:00",
          "2024-05-07T00:00:00-04:00",
          "2024-05-08T00:00:00-04:00",
          "2024-05-09T00:00:00-04:00",
          "2024-05-10T00:00:00-04:00",
          "2024-05-13T00:00:00-04:00",
          "2024-05-14T00:00:00-04:00",
          "2024-05-15T00:00:00-04:00",
          "2024-05-16T00:00:00-04:00",
          "2024-05-17T00:00:00-04:00",
          "2024-05-20T00:00:00-04:00",
          "2024-05-21T00:00:00-04:00",
          "2024-05-22T00:00:00-04:00",
          "2024-05-23T00:00:00-04:00",
          "2024-05-24T00:00:00-04:00",
          "2024-05-28T00:00:00-04:00",
          "2024-05-29T00:00:00-04:00",
          "2024-05-30T00:00:00-04:00",
          "2024-05-31T00:00:00-04:00",
          "2024-06-03T00:00:00-04:00",
          "2024-06-04T00:00:00-04:00",
          "2024-06-05T00:00:00-04:00",
          "2024-06-06T00:00:00-04:00",
          "2024-06-07T00:00:00-04:00",
          "2024-06-10T00:00:00-04:00",
          "2024-06-11T00:00:00-04:00",
          "2024-06-12T00:00:00-04:00",
          "2024-06-13T00:00:00-04:00",
          "2024-06-14T00:00:00-04:00",
          "2024-06-17T00:00:00-04:00",
          "2024-06-18T00:00:00-04:00",
          "2024-06-20T00:00:00-04:00",
          "2024-06-21T00:00:00-04:00",
          "2024-06-24T00:00:00-04:00",
          "2024-06-25T00:00:00-04:00",
          "2024-06-26T00:00:00-04:00",
          "2024-06-27T00:00:00-04:00",
          "2024-06-28T00:00:00-04:00",
          "2024-07-01T00:00:00-04:00",
          "2024-07-02T00:00:00-04:00",
          "2024-07-03T00:00:00-04:00",
          "2024-07-05T00:00:00-04:00",
          "2024-07-08T00:00:00-04:00",
          "2024-07-09T00:00:00-04:00",
          "2024-07-10T00:00:00-04:00",
          "2024-07-11T00:00:00-04:00",
          "2024-07-12T00:00:00-04:00",
          "2024-07-15T00:00:00-04:00",
          "2024-07-16T00:00:00-04:00",
          "2024-07-17T00:00:00-04:00",
          "2024-07-18T00:00:00-04:00",
          "2024-07-19T00:00:00-04:00",
          "2024-07-22T00:00:00-04:00",
          "2024-07-23T00:00:00-04:00",
          "2024-07-24T00:00:00-04:00",
          "2024-07-25T00:00:00-04:00",
          "2024-07-26T00:00:00-04:00",
          "2024-07-29T00:00:00-04:00",
          "2024-07-30T00:00:00-04:00",
          "2024-07-31T00:00:00-04:00",
          "2024-08-01T00:00:00-04:00",
          "2024-08-02T00:00:00-04:00",
          "2024-08-05T00:00:00-04:00",
          "2024-08-06T00:00:00-04:00",
          "2024-08-07T00:00:00-04:00",
          "2024-08-08T00:00:00-04:00",
          "2024-08-09T00:00:00-04:00",
          "2024-08-12T00:00:00-04:00",
          "2024-08-13T00:00:00-04:00",
          "2024-08-14T00:00:00-04:00",
          "2024-08-15T00:00:00-04:00",
          "2024-08-16T00:00:00-04:00",
          "2024-08-19T00:00:00-04:00",
          "2024-08-20T00:00:00-04:00",
          "2024-08-21T00:00:00-04:00",
          "2024-08-22T00:00:00-04:00",
          "2024-08-23T00:00:00-04:00",
          "2024-08-26T00:00:00-04:00",
          "2024-08-27T00:00:00-04:00",
          "2024-08-28T00:00:00-04:00",
          "2024-08-29T00:00:00-04:00",
          "2024-08-30T00:00:00-04:00",
          "2024-09-03T00:00:00-04:00",
          "2024-09-04T00:00:00-04:00",
          "2024-09-05T00:00:00-04:00",
          "2024-09-06T00:00:00-04:00",
          "2024-09-09T00:00:00-04:00",
          "2024-09-10T00:00:00-04:00",
          "2024-09-11T00:00:00-04:00",
          "2024-09-12T00:00:00-04:00",
          "2024-09-13T00:00:00-04:00",
          "2024-09-16T00:00:00-04:00",
          "2024-09-17T00:00:00-04:00",
          "2024-09-18T00:00:00-04:00",
          "2024-09-19T00:00:00-04:00",
          "2024-09-20T00:00:00-04:00",
          "2024-09-23T00:00:00-04:00",
          "2024-09-24T00:00:00-04:00",
          "2024-09-25T00:00:00-04:00",
          "2024-09-26T00:00:00-04:00",
          "2024-09-27T00:00:00-04:00",
          "2024-09-30T00:00:00-04:00",
          "2024-10-01T00:00:00-04:00",
          "2024-10-02T00:00:00-04:00",
          "2024-10-03T00:00:00-04:00",
          "2024-10-04T00:00:00-04:00",
          "2024-10-07T00:00:00-04:00",
          "2024-10-08T00:00:00-04:00",
          "2024-10-09T00:00:00-04:00",
          "2024-10-10T00:00:00-04:00",
          "2024-10-11T00:00:00-04:00",
          "2024-10-14T00:00:00-04:00",
          "2024-10-15T00:00:00-04:00",
          "2024-10-16T00:00:00-04:00",
          "2024-10-17T00:00:00-04:00",
          "2024-10-18T00:00:00-04:00"
         ],
         "xaxis": "x2",
         "y": [
          12.377228042512826,
          16.87173626570572,
          18.563902696580787,
          21.188904621714265,
          20.117629099208465,
          19.0749079795768,
          20.839626164471493,
          36.97612570556596,
          19.191212720659255,
          24.898904041821115,
          27.731680720476486,
          5.370032027947155,
          10.741319138503323,
          45.99713342939717,
          53.5721637139956,
          58.97510876471777,
          58.72504515704837,
          53.1036792905484,
          57.14675308736534,
          49.21294558378225,
          44.51074819192691,
          47.02640079628151,
          63.88822695551729,
          65.55107770800113,
          75.05779289408015,
          70.95899345967524,
          64.72712509939052,
          67.98813088415906,
          81.5846477488379,
          80.14776782009321,
          83.34083634117512,
          74.93134969692386,
          65.29771974036791,
          69.09907855594166,
          69.24035939566929,
          66.18541959313632,
          69.24590509123668,
          72.59118103038143,
          71.73556648587437,
          75.18186163101511,
          72.06330372482374,
          69.41144651964561,
          99.73322558467886,
          88.20603304346972,
          88.0140266362648,
          94.41732425467886,
          92.24031112407218,
          83.1307154853557,
          98.15153868914037,
          73.11875312160477,
          74.09619983140362,
          66.02526115127232,
          63.474197260924335,
          57.59583304400229,
          63.17390893375243,
          68.87978000214909,
          68.51152695864991,
          71.87796916162186,
          79.59136142795535,
          77.09999615051298,
          70.04711532136399,
          76.15941247355325,
          77.41164732709956,
          81.56977800412297,
          85.2813104869932,
          85.47083007716462,
          89.45406787154657,
          95.30206992115323,
          93.28895708643167,
          89.73965763675037,
          94.73708343035761,
          97.38039884164792,
          97.71257893500224,
          96.9399678855415,
          95.37619081676854,
          91.85758737512695,
          95.7979937138706,
          88.75227298068566,
          91.20971300723461,
          88.63216052567039,
          89.90400583984115,
          87.45757282590567,
          85.48869684101047,
          82.80970273165063,
          84.36289180900636,
          89.42978301868177,
          88.78930354386058,
          90.05670832068083,
          93.26772291706628,
          96.19016276821789,
          96.00208701812595,
          94.91218094755654,
          96.79836925163079,
          93.50814893345374,
          92.33751332617463,
          96.2084510528379,
          96.27893268838326,
          96.64851842985533,
          95.23993518334514,
          93.75751629330583,
          93.26102074886204,
          97.18942910812284,
          99.26078921813816,
          92.55888389775164,
          89.44551793838401,
          86.30106057817845,
          87.54154497559938,
          88.62190904243349,
          85.45153238474549,
          91.06163332806501,
          85.72344564284201,
          85.61849111719438,
          84.34848342084823,
          84.16038946312189,
          92.75886814454203,
          96.4524627182935,
          94.5747381945903,
          93.87071341123506,
          95.5186761107638,
          97.80654849396619,
          99.12766428611538,
          99.8176325425004,
          93.02119253671628,
          94.26137823609291,
          82.97154315616044,
          78.61503512763069,
          77.73999602465189,
          90.33962221131601,
          79.18334384637234,
          87.56705995438921,
          92.63463744363885,
          90.72492504843405,
          98.39354924900083,
          98.80704866199363,
          95.9790541505194,
          92.3516850031438,
          88.13771157276669,
          88.72460360449358,
          88.61904055318293,
          96.82326072651907,
          93.88722685356335,
          97.31657801163259,
          94.94417224128209,
          98.17394691964384,
          99.80911558875204,
          98.52071528104433,
          92.20893144242126,
          92.45428971090423,
          90.88758045568962,
          82.15814872793197,
          83.69776490841119,
          84.40570919021697,
          88.648975065086,
          92.53346746924113,
          94.76414915063779,
          95.41182822362666,
          92.52137341752952,
          94.14772850387479,
          94.43487467811494,
          94.56457192724005,
          94.72200649639419,
          94.85661116407881,
          93.5562781896173,
          91.80815550183272,
          90.7162709767556,
          90.98020002128993,
          88.57498080764006,
          89.37960859467182,
          88.60417285684417,
          88.86960981069582,
          86.10591776731636,
          88.20950283019586,
          90.84523325813731,
          90.56804160402632,
          93.64721794416546,
          96.34227676708157,
          92.19029304607234,
          94.11879425864763,
          91.73295696862058,
          92.06650862194294
         ],
         "yaxis": "y2"
        },
        {
         "fill": "tozeroy",
         "fillcolor": "rgba(0, 255, 0, 0.3)",
         "line": {
          "color": "green",
          "width": 1
         },
         "name": "RTH Contribution",
         "type": "scatter",
         "x": [
          "2024-02-02T00:00:00-05:00",
          "2024-02-05T00:00:00-05:00",
          "2024-02-06T00:00:00-05:00",
          "2024-02-07T00:00:00-05:00",
          "2024-02-08T00:00:00-05:00",
          "2024-02-09T00:00:00-05:00",
          "2024-02-12T00:00:00-05:00",
          "2024-02-13T00:00:00-05:00",
          "2024-02-14T00:00:00-05:00",
          "2024-02-15T00:00:00-05:00",
          "2024-02-16T00:00:00-05:00",
          "2024-02-20T00:00:00-05:00",
          "2024-02-21T00:00:00-05:00",
          "2024-02-22T00:00:00-05:00",
          "2024-02-23T00:00:00-05:00",
          "2024-02-26T00:00:00-05:00",
          "2024-02-27T00:00:00-05:00",
          "2024-02-28T00:00:00-05:00",
          "2024-02-29T00:00:00-05:00",
          "2024-03-01T00:00:00-05:00",
          "2024-03-04T00:00:00-05:00",
          "2024-03-05T00:00:00-05:00",
          "2024-03-06T00:00:00-05:00",
          "2024-03-07T00:00:00-05:00",
          "2024-03-08T00:00:00-05:00",
          "2024-03-11T00:00:00-04:00",
          "2024-03-12T00:00:00-04:00",
          "2024-03-13T00:00:00-04:00",
          "2024-03-14T00:00:00-04:00",
          "2024-03-15T00:00:00-04:00",
          "2024-03-18T00:00:00-04:00",
          "2024-03-19T00:00:00-04:00",
          "2024-03-20T00:00:00-04:00",
          "2024-03-21T00:00:00-04:00",
          "2024-03-22T00:00:00-04:00",
          "2024-03-25T00:00:00-04:00",
          "2024-03-26T00:00:00-04:00",
          "2024-03-27T00:00:00-04:00",
          "2024-03-28T00:00:00-04:00",
          "2024-04-01T00:00:00-04:00",
          "2024-04-02T00:00:00-04:00",
          "2024-04-03T00:00:00-04:00",
          "2024-04-04T00:00:00-04:00",
          "2024-04-05T00:00:00-04:00",
          "2024-04-08T00:00:00-04:00",
          "2024-04-09T00:00:00-04:00",
          "2024-04-10T00:00:00-04:00",
          "2024-04-11T00:00:00-04:00",
          "2024-04-12T00:00:00-04:00",
          "2024-04-15T00:00:00-04:00",
          "2024-04-16T00:00:00-04:00",
          "2024-04-17T00:00:00-04:00",
          "2024-04-18T00:00:00-04:00",
          "2024-04-19T00:00:00-04:00",
          "2024-04-22T00:00:00-04:00",
          "2024-04-23T00:00:00-04:00",
          "2024-04-24T00:00:00-04:00",
          "2024-04-25T00:00:00-04:00",
          "2024-04-26T00:00:00-04:00",
          "2024-04-29T00:00:00-04:00",
          "2024-04-30T00:00:00-04:00",
          "2024-05-01T00:00:00-04:00",
          "2024-05-02T00:00:00-04:00",
          "2024-05-03T00:00:00-04:00",
          "2024-05-06T00:00:00-04:00",
          "2024-05-07T00:00:00-04:00",
          "2024-05-08T00:00:00-04:00",
          "2024-05-09T00:00:00-04:00",
          "2024-05-10T00:00:00-04:00",
          "2024-05-13T00:00:00-04:00",
          "2024-05-14T00:00:00-04:00",
          "2024-05-15T00:00:00-04:00",
          "2024-05-16T00:00:00-04:00",
          "2024-05-17T00:00:00-04:00",
          "2024-05-20T00:00:00-04:00",
          "2024-05-21T00:00:00-04:00",
          "2024-05-22T00:00:00-04:00",
          "2024-05-23T00:00:00-04:00",
          "2024-05-24T00:00:00-04:00",
          "2024-05-28T00:00:00-04:00",
          "2024-05-29T00:00:00-04:00",
          "2024-05-30T00:00:00-04:00",
          "2024-05-31T00:00:00-04:00",
          "2024-06-03T00:00:00-04:00",
          "2024-06-04T00:00:00-04:00",
          "2024-06-05T00:00:00-04:00",
          "2024-06-06T00:00:00-04:00",
          "2024-06-07T00:00:00-04:00",
          "2024-06-10T00:00:00-04:00",
          "2024-06-11T00:00:00-04:00",
          "2024-06-12T00:00:00-04:00",
          "2024-06-13T00:00:00-04:00",
          "2024-06-14T00:00:00-04:00",
          "2024-06-17T00:00:00-04:00",
          "2024-06-18T00:00:00-04:00",
          "2024-06-20T00:00:00-04:00",
          "2024-06-21T00:00:00-04:00",
          "2024-06-24T00:00:00-04:00",
          "2024-06-25T00:00:00-04:00",
          "2024-06-26T00:00:00-04:00",
          "2024-06-27T00:00:00-04:00",
          "2024-06-28T00:00:00-04:00",
          "2024-07-01T00:00:00-04:00",
          "2024-07-02T00:00:00-04:00",
          "2024-07-03T00:00:00-04:00",
          "2024-07-05T00:00:00-04:00",
          "2024-07-08T00:00:00-04:00",
          "2024-07-09T00:00:00-04:00",
          "2024-07-10T00:00:00-04:00",
          "2024-07-11T00:00:00-04:00",
          "2024-07-12T00:00:00-04:00",
          "2024-07-15T00:00:00-04:00",
          "2024-07-16T00:00:00-04:00",
          "2024-07-17T00:00:00-04:00",
          "2024-07-18T00:00:00-04:00",
          "2024-07-19T00:00:00-04:00",
          "2024-07-22T00:00:00-04:00",
          "2024-07-23T00:00:00-04:00",
          "2024-07-24T00:00:00-04:00",
          "2024-07-25T00:00:00-04:00",
          "2024-07-26T00:00:00-04:00",
          "2024-07-29T00:00:00-04:00",
          "2024-07-30T00:00:00-04:00",
          "2024-07-31T00:00:00-04:00",
          "2024-08-01T00:00:00-04:00",
          "2024-08-02T00:00:00-04:00",
          "2024-08-05T00:00:00-04:00",
          "2024-08-06T00:00:00-04:00",
          "2024-08-07T00:00:00-04:00",
          "2024-08-08T00:00:00-04:00",
          "2024-08-09T00:00:00-04:00",
          "2024-08-12T00:00:00-04:00",
          "2024-08-13T00:00:00-04:00",
          "2024-08-14T00:00:00-04:00",
          "2024-08-15T00:00:00-04:00",
          "2024-08-16T00:00:00-04:00",
          "2024-08-19T00:00:00-04:00",
          "2024-08-20T00:00:00-04:00",
          "2024-08-21T00:00:00-04:00",
          "2024-08-22T00:00:00-04:00",
          "2024-08-23T00:00:00-04:00",
          "2024-08-26T00:00:00-04:00",
          "2024-08-27T00:00:00-04:00",
          "2024-08-28T00:00:00-04:00",
          "2024-08-29T00:00:00-04:00",
          "2024-08-30T00:00:00-04:00",
          "2024-09-03T00:00:00-04:00",
          "2024-09-04T00:00:00-04:00",
          "2024-09-05T00:00:00-04:00",
          "2024-09-06T00:00:00-04:00",
          "2024-09-09T00:00:00-04:00",
          "2024-09-10T00:00:00-04:00",
          "2024-09-11T00:00:00-04:00",
          "2024-09-12T00:00:00-04:00",
          "2024-09-13T00:00:00-04:00",
          "2024-09-16T00:00:00-04:00",
          "2024-09-17T00:00:00-04:00",
          "2024-09-18T00:00:00-04:00",
          "2024-09-19T00:00:00-04:00",
          "2024-09-20T00:00:00-04:00",
          "2024-09-23T00:00:00-04:00",
          "2024-09-24T00:00:00-04:00",
          "2024-09-25T00:00:00-04:00",
          "2024-09-26T00:00:00-04:00",
          "2024-09-27T00:00:00-04:00",
          "2024-09-30T00:00:00-04:00",
          "2024-10-01T00:00:00-04:00",
          "2024-10-02T00:00:00-04:00",
          "2024-10-03T00:00:00-04:00",
          "2024-10-04T00:00:00-04:00",
          "2024-10-07T00:00:00-04:00",
          "2024-10-08T00:00:00-04:00",
          "2024-10-09T00:00:00-04:00",
          "2024-10-10T00:00:00-04:00",
          "2024-10-11T00:00:00-04:00",
          "2024-10-14T00:00:00-04:00",
          "2024-10-15T00:00:00-04:00",
          "2024-10-16T00:00:00-04:00",
          "2024-10-17T00:00:00-04:00",
          "2024-10-18T00:00:00-04:00"
         ],
         "xaxis": "x2",
         "y": [
          87.62277195748717,
          83.12826373429428,
          81.4360973034192,
          78.81109537828573,
          79.88237090079153,
          80.9250920204232,
          79.1603738355285,
          63.02387429443404,
          80.80878727934075,
          75.10109595817889,
          72.26831927952352,
          94.62996797205284,
          89.25868086149667,
          54.00286657060283,
          46.42783628600441,
          41.02489123528223,
          41.27495484295163,
          46.89632070945161,
          42.85324691263466,
          50.78705441621775,
          55.48925180807309,
          52.97359920371849,
          36.11177304448272,
          34.44892229199887,
          24.94220710591985,
          29.04100654032476,
          35.27287490060949,
          32.011869115840945,
          18.41535225116211,
          19.852232179906803,
          16.65916365882488,
          25.06865030307615,
          34.7022802596321,
          30.900921444058334,
          30.759640604330706,
          33.81458040686368,
          30.754094908763314,
          27.40881896961857,
          28.264433514125642,
          24.818138368984876,
          27.936696275176264,
          30.588553480354392,
          0.2667744153211319,
          11.79396695653029,
          11.985973363735186,
          5.5826757453211435,
          7.759688875927822,
          16.869284514644306,
          1.8484613108596424,
          26.88124687839524,
          25.90380016859638,
          33.97473884872768,
          36.525802739075665,
          42.40416695599771,
          36.82609106624757,
          31.120219997850906,
          31.48847304135009,
          28.122030838378127,
          20.40863857204464,
          22.900003849487014,
          29.952884678636018,
          23.840587526446743,
          22.588352672900452,
          18.430221995877027,
          14.718689513006794,
          14.529169922835381,
          10.54593212845343,
          4.6979300788467695,
          6.7110429135683285,
          10.260342363249624,
          5.2629165696423765,
          2.6196011583520717,
          2.287421064997738,
          3.0600321144584965,
          4.623809183231455,
          8.142412624873058,
          4.2020062861294,
          11.247727019314343,
          8.79028699276539,
          11.367839474329616,
          10.095994160158856,
          12.542427174094337,
          14.511303158989532,
          17.19029726834937,
          15.63710819099364,
          10.570216981318215,
          11.21069645613941,
          9.94329167931918,
          6.732277082933727,
          3.809837231782097,
          3.997912981874058,
          5.087819052443457,
          3.2016307483692117,
          6.491851066546266,
          7.662486673825361,
          3.7915489471620987,
          3.721067311616731,
          3.3514815701446743,
          4.7600648166548565,
          6.242483706694188,
          6.738979251137966,
          2.8105708918771675,
          0.7392107818618432,
          7.441116102248355,
          10.554482061615985,
          13.698939421821551,
          12.458455024400623,
          11.37809095756651,
          14.548467615254507,
          8.938366671934975,
          14.27655435715799,
          14.381508882805624,
          15.651516579151782,
          15.839610536878116,
          7.2411318554579625,
          3.547537281706512,
          5.425261805409714,
          6.1292865887649315,
          4.481323889236207,
          2.193451506033808,
          0.872335713884621,
          0.1823674574996008,
          6.978807463283718,
          5.738621763907091,
          17.028456843839557,
          21.3849648723693,
          22.260003975348127,
          9.66037778868397,
          20.81665615362765,
          12.43294004561078,
          7.365362556361155,
          9.275074951565959,
          1.6064507509991708,
          1.1929513380063714,
          4.0209458494806025,
          7.648314996856194,
          11.86228842723332,
          11.275396395506423,
          11.380959446817075,
          3.1767392734809308,
          6.1127731464366475,
          2.6834219883674053,
          5.055827758717914,
          1.8260530803561614,
          0.19088441124796504,
          1.4792847189556717,
          7.791068557578748,
          7.545710289095767,
          9.112419544310395,
          17.84185127206802,
          16.30223509158881,
          15.594290809783024,
          11.35102493491398,
          7.466532530758857,
          5.235850849362218,
          4.588171776373339,
          7.478626582470498,
          5.852271496125205,
          5.565125321885076,
          5.435428072759934,
          5.277993503605823,
          5.143388835921193,
          6.4437218103827005,
          8.191844498167297,
          9.283729023244401,
          9.019799978710063,
          11.42501919235995,
          10.620391405328174,
          11.395827143155842,
          11.130390189304187,
          13.894082232683644,
          11.790497169804137,
          9.154766741862678,
          9.431958395973686,
          6.352782055834541,
          3.657723232918432,
          7.809706953927659,
          5.881205741352374,
          8.267043031379423,
          7.933491378057045
         ],
         "yaxis": "y2"
        }
       ],
       "layout": {
        "annotations": [
         {
          "font": {
           "size": 16
          },
          "showarrow": false,
          "text": "Cumulative Returns",
          "x": 0.5,
          "xanchor": "center",
          "xref": "paper",
          "y": 1,
          "yanchor": "bottom",
          "yref": "paper"
         },
         {
          "font": {
           "size": 16
          },
          "showarrow": false,
          "text": "Contribution to Total Return (%)",
          "x": 0.5,
          "xanchor": "center",
          "xref": "paper",
          "y": 0.34,
          "yanchor": "bottom",
          "yref": "paper"
         }
        ],
        "height": 800,
        "hovermode": "x unified",
        "legend": {
         "x": 1,
         "xanchor": "left",
         "y": 0.99,
         "yanchor": "top"
        },
        "showlegend": true,
        "template": {
         "data": {
          "bar": [
           {
            "error_x": {
             "color": "#2a3f5f"
            },
            "error_y": {
             "color": "#2a3f5f"
            },
            "marker": {
             "line": {
              "color": "#E5ECF6",
              "width": 0.5
             },
             "pattern": {
              "fillmode": "overlay",
              "size": 10,
              "solidity": 0.2
             }
            },
            "type": "bar"
           }
          ],
          "barpolar": [
           {
            "marker": {
             "line": {
              "color": "#E5ECF6",
              "width": 0.5
             },
             "pattern": {
              "fillmode": "overlay",
              "size": 10,
              "solidity": 0.2
             }
            },
            "type": "barpolar"
           }
          ],
          "carpet": [
           {
            "aaxis": {
             "endlinecolor": "#2a3f5f",
             "gridcolor": "white",
             "linecolor": "white",
             "minorgridcolor": "white",
             "startlinecolor": "#2a3f5f"
            },
            "baxis": {
             "endlinecolor": "#2a3f5f",
             "gridcolor": "white",
             "linecolor": "white",
             "minorgridcolor": "white",
             "startlinecolor": "#2a3f5f"
            },
            "type": "carpet"
           }
          ],
          "choropleth": [
           {
            "colorbar": {
             "outlinewidth": 0,
             "ticks": ""
            },
            "type": "choropleth"
           }
          ],
          "contour": [
           {
            "colorbar": {
             "outlinewidth": 0,
             "ticks": ""
            },
            "colorscale": [
             [
              0,
              "#0d0887"
             ],
             [
              0.1111111111111111,
              "#46039f"
             ],
             [
              0.2222222222222222,
              "#7201a8"
             ],
             [
              0.3333333333333333,
              "#9c179e"
             ],
             [
              0.4444444444444444,
              "#bd3786"
             ],
             [
              0.5555555555555556,
              "#d8576b"
             ],
             [
              0.6666666666666666,
              "#ed7953"
             ],
             [
              0.7777777777777778,
              "#fb9f3a"
             ],
             [
              0.8888888888888888,
              "#fdca26"
             ],
             [
              1,
              "#f0f921"
             ]
            ],
            "type": "contour"
           }
          ],
          "contourcarpet": [
           {
            "colorbar": {
             "outlinewidth": 0,
             "ticks": ""
            },
            "type": "contourcarpet"
           }
          ],
          "heatmap": [
           {
            "colorbar": {
             "outlinewidth": 0,
             "ticks": ""
            },
            "colorscale": [
             [
              0,
              "#0d0887"
             ],
             [
              0.1111111111111111,
              "#46039f"
             ],
             [
              0.2222222222222222,
              "#7201a8"
             ],
             [
              0.3333333333333333,
              "#9c179e"
             ],
             [
              0.4444444444444444,
              "#bd3786"
             ],
             [
              0.5555555555555556,
              "#d8576b"
             ],
             [
              0.6666666666666666,
              "#ed7953"
             ],
             [
              0.7777777777777778,
              "#fb9f3a"
             ],
             [
              0.8888888888888888,
              "#fdca26"
             ],
             [
              1,
              "#f0f921"
             ]
            ],
            "type": "heatmap"
           }
          ],
          "heatmapgl": [
           {
            "colorbar": {
             "outlinewidth": 0,
             "ticks": ""
            },
            "colorscale": [
             [
              0,
              "#0d0887"
             ],
             [
              0.1111111111111111,
              "#46039f"
             ],
             [
              0.2222222222222222,
              "#7201a8"
             ],
             [
              0.3333333333333333,
              "#9c179e"
             ],
             [
              0.4444444444444444,
              "#bd3786"
             ],
             [
              0.5555555555555556,
              "#d8576b"
             ],
             [
              0.6666666666666666,
              "#ed7953"
             ],
             [
              0.7777777777777778,
              "#fb9f3a"
             ],
             [
              0.8888888888888888,
              "#fdca26"
             ],
             [
              1,
              "#f0f921"
             ]
            ],
            "type": "heatmapgl"
           }
          ],
          "histogram": [
           {
            "marker": {
             "pattern": {
              "fillmode": "overlay",
              "size": 10,
              "solidity": 0.2
             }
            },
            "type": "histogram"
           }
          ],
          "histogram2d": [
           {
            "colorbar": {
             "outlinewidth": 0,
             "ticks": ""
            },
            "colorscale": [
             [
              0,
              "#0d0887"
             ],
             [
              0.1111111111111111,
              "#46039f"
             ],
             [
              0.2222222222222222,
              "#7201a8"
             ],
             [
              0.3333333333333333,
              "#9c179e"
             ],
             [
              0.4444444444444444,
              "#bd3786"
             ],
             [
              0.5555555555555556,
              "#d8576b"
             ],
             [
              0.6666666666666666,
              "#ed7953"
             ],
             [
              0.7777777777777778,
              "#fb9f3a"
             ],
             [
              0.8888888888888888,
              "#fdca26"
             ],
             [
              1,
              "#f0f921"
             ]
            ],
            "type": "histogram2d"
           }
          ],
          "histogram2dcontour": [
           {
            "colorbar": {
             "outlinewidth": 0,
             "ticks": ""
            },
            "colorscale": [
             [
              0,
              "#0d0887"
             ],
             [
              0.1111111111111111,
              "#46039f"
             ],
             [
              0.2222222222222222,
              "#7201a8"
             ],
             [
              0.3333333333333333,
              "#9c179e"
             ],
             [
              0.4444444444444444,
              "#bd3786"
             ],
             [
              0.5555555555555556,
              "#d8576b"
             ],
             [
              0.6666666666666666,
              "#ed7953"
             ],
             [
              0.7777777777777778,
              "#fb9f3a"
             ],
             [
              0.8888888888888888,
              "#fdca26"
             ],
             [
              1,
              "#f0f921"
             ]
            ],
            "type": "histogram2dcontour"
           }
          ],
          "mesh3d": [
           {
            "colorbar": {
             "outlinewidth": 0,
             "ticks": ""
            },
            "type": "mesh3d"
           }
          ],
          "parcoords": [
           {
            "line": {
             "colorbar": {
              "outlinewidth": 0,
              "ticks": ""
             }
            },
            "type": "parcoords"
           }
          ],
          "pie": [
           {
            "automargin": true,
            "type": "pie"
           }
          ],
          "scatter": [
           {
            "fillpattern": {
             "fillmode": "overlay",
             "size": 10,
             "solidity": 0.2
            },
            "type": "scatter"
           }
          ],
          "scatter3d": [
           {
            "line": {
             "colorbar": {
              "outlinewidth": 0,
              "ticks": ""
             }
            },
            "marker": {
             "colorbar": {
              "outlinewidth": 0,
              "ticks": ""
             }
            },
            "type": "scatter3d"
           }
          ],
          "scattercarpet": [
           {
            "marker": {
             "colorbar": {
              "outlinewidth": 0,
              "ticks": ""
             }
            },
            "type": "scattercarpet"
           }
          ],
          "scattergeo": [
           {
            "marker": {
             "colorbar": {
              "outlinewidth": 0,
              "ticks": ""
             }
            },
            "type": "scattergeo"
           }
          ],
          "scattergl": [
           {
            "marker": {
             "colorbar": {
              "outlinewidth": 0,
              "ticks": ""
             }
            },
            "type": "scattergl"
           }
          ],
          "scattermapbox": [
           {
            "marker": {
             "colorbar": {
              "outlinewidth": 0,
              "ticks": ""
             }
            },
            "type": "scattermapbox"
           }
          ],
          "scatterpolar": [
           {
            "marker": {
             "colorbar": {
              "outlinewidth": 0,
              "ticks": ""
             }
            },
            "type": "scatterpolar"
           }
          ],
          "scatterpolargl": [
           {
            "marker": {
             "colorbar": {
              "outlinewidth": 0,
              "ticks": ""
             }
            },
            "type": "scatterpolargl"
           }
          ],
          "scatterternary": [
           {
            "marker": {
             "colorbar": {
              "outlinewidth": 0,
              "ticks": ""
             }
            },
            "type": "scatterternary"
           }
          ],
          "surface": [
           {
            "colorbar": {
             "outlinewidth": 0,
             "ticks": ""
            },
            "colorscale": [
             [
              0,
              "#0d0887"
             ],
             [
              0.1111111111111111,
              "#46039f"
             ],
             [
              0.2222222222222222,
              "#7201a8"
             ],
             [
              0.3333333333333333,
              "#9c179e"
             ],
             [
              0.4444444444444444,
              "#bd3786"
             ],
             [
              0.5555555555555556,
              "#d8576b"
             ],
             [
              0.6666666666666666,
              "#ed7953"
             ],
             [
              0.7777777777777778,
              "#fb9f3a"
             ],
             [
              0.8888888888888888,
              "#fdca26"
             ],
             [
              1,
              "#f0f921"
             ]
            ],
            "type": "surface"
           }
          ],
          "table": [
           {
            "cells": {
             "fill": {
              "color": "#EBF0F8"
             },
             "line": {
              "color": "white"
             }
            },
            "header": {
             "fill": {
              "color": "#C8D4E3"
             },
             "line": {
              "color": "white"
             }
            },
            "type": "table"
           }
          ]
         },
         "layout": {
          "annotationdefaults": {
           "arrowcolor": "#2a3f5f",
           "arrowhead": 0,
           "arrowwidth": 1
          },
          "autotypenumbers": "strict",
          "coloraxis": {
           "colorbar": {
            "outlinewidth": 0,
            "ticks": ""
           }
          },
          "colorscale": {
           "diverging": [
            [
             0,
             "#8e0152"
            ],
            [
             0.1,
             "#c51b7d"
            ],
            [
             0.2,
             "#de77ae"
            ],
            [
             0.3,
             "#f1b6da"
            ],
            [
             0.4,
             "#fde0ef"
            ],
            [
             0.5,
             "#f7f7f7"
            ],
            [
             0.6,
             "#e6f5d0"
            ],
            [
             0.7,
             "#b8e186"
            ],
            [
             0.8,
             "#7fbc41"
            ],
            [
             0.9,
             "#4d9221"
            ],
            [
             1,
             "#276419"
            ]
           ],
           "sequential": [
            [
             0,
             "#0d0887"
            ],
            [
             0.1111111111111111,
             "#46039f"
            ],
            [
             0.2222222222222222,
             "#7201a8"
            ],
            [
             0.3333333333333333,
             "#9c179e"
            ],
            [
             0.4444444444444444,
             "#bd3786"
            ],
            [
             0.5555555555555556,
             "#d8576b"
            ],
            [
             0.6666666666666666,
             "#ed7953"
            ],
            [
             0.7777777777777778,
             "#fb9f3a"
            ],
            [
             0.8888888888888888,
             "#fdca26"
            ],
            [
             1,
             "#f0f921"
            ]
           ],
           "sequentialminus": [
            [
             0,
             "#0d0887"
            ],
            [
             0.1111111111111111,
             "#46039f"
            ],
            [
             0.2222222222222222,
             "#7201a8"
            ],
            [
             0.3333333333333333,
             "#9c179e"
            ],
            [
             0.4444444444444444,
             "#bd3786"
            ],
            [
             0.5555555555555556,
             "#d8576b"
            ],
            [
             0.6666666666666666,
             "#ed7953"
            ],
            [
             0.7777777777777778,
             "#fb9f3a"
            ],
            [
             0.8888888888888888,
             "#fdca26"
            ],
            [
             1,
             "#f0f921"
            ]
           ]
          },
          "colorway": [
           "#636efa",
           "#EF553B",
           "#00cc96",
           "#ab63fa",
           "#FFA15A",
           "#19d3f3",
           "#FF6692",
           "#B6E880",
           "#FF97FF",
           "#FECB52"
          ],
          "font": {
           "color": "#2a3f5f"
          },
          "geo": {
           "bgcolor": "white",
           "lakecolor": "white",
           "landcolor": "#E5ECF6",
           "showlakes": true,
           "showland": true,
           "subunitcolor": "white"
          },
          "hoverlabel": {
           "align": "left"
          },
          "hovermode": "closest",
          "mapbox": {
           "style": "light"
          },
          "paper_bgcolor": "white",
          "plot_bgcolor": "#E5ECF6",
          "polar": {
           "angularaxis": {
            "gridcolor": "white",
            "linecolor": "white",
            "ticks": ""
           },
           "bgcolor": "#E5ECF6",
           "radialaxis": {
            "gridcolor": "white",
            "linecolor": "white",
            "ticks": ""
           }
          },
          "scene": {
           "xaxis": {
            "backgroundcolor": "#E5ECF6",
            "gridcolor": "white",
            "gridwidth": 2,
            "linecolor": "white",
            "showbackground": true,
            "ticks": "",
            "zerolinecolor": "white"
           },
           "yaxis": {
            "backgroundcolor": "#E5ECF6",
            "gridcolor": "white",
            "gridwidth": 2,
            "linecolor": "white",
            "showbackground": true,
            "ticks": "",
            "zerolinecolor": "white"
           },
           "zaxis": {
            "backgroundcolor": "#E5ECF6",
            "gridcolor": "white",
            "gridwidth": 2,
            "linecolor": "white",
            "showbackground": true,
            "ticks": "",
            "zerolinecolor": "white"
           }
          },
          "shapedefaults": {
           "line": {
            "color": "#2a3f5f"
           }
          },
          "ternary": {
           "aaxis": {
            "gridcolor": "white",
            "linecolor": "white",
            "ticks": ""
           },
           "baxis": {
            "gridcolor": "white",
            "linecolor": "white",
            "ticks": ""
           },
           "bgcolor": "#E5ECF6",
           "caxis": {
            "gridcolor": "white",
            "linecolor": "white",
            "ticks": ""
           }
          },
          "title": {
           "x": 0.05
          },
          "xaxis": {
           "automargin": true,
           "gridcolor": "white",
           "linecolor": "white",
           "ticks": "",
           "title": {
            "standoff": 15
           },
           "zerolinecolor": "white",
           "zerolinewidth": 2
          },
          "yaxis": {
           "automargin": true,
           "gridcolor": "white",
           "linecolor": "white",
           "ticks": "",
           "title": {
            "standoff": 15
           },
           "zerolinecolor": "white",
           "zerolinewidth": 2
          }
         }
        },
        "title": {
         "text": "Return Components Analysis"
        },
        "xaxis": {
         "anchor": "y",
         "domain": [
          0,
          1
         ]
        },
        "xaxis2": {
         "anchor": "y2",
         "domain": [
          0,
          1
         ],
         "title": {
          "text": "Date"
         }
        },
        "yaxis": {
         "anchor": "x",
         "domain": [
          0.49,
          1
         ],
         "title": {
          "text": "Cumulative Return (%)"
         }
        },
        "yaxis2": {
         "anchor": "x2",
         "domain": [
          0,
          0.34
         ],
         "range": [
          0,
          100
         ],
         "title": {
          "text": "Contribution (%)"
         }
        }
       }
      }
     },
     "metadata": {},
     "output_type": "display_data"
    },
    {
     "name": "stdout",
     "output_type": "stream",
     "text": [
      "\n",
      "Statistics for 2024:\n",
      "             gap_returns  main_session_returns  total_returns\n",
      "mean            0.112328         -9.679420e-03       0.102434\n",
      "median          0.139257          4.283427e-02       0.097468\n",
      "std             0.565305          5.914967e-01       0.794481\n",
      "skew           -1.924296         -7.978903e-01      -0.442806\n",
      "kurtosis       14.385021          1.456108e+00       1.741532\n",
      "min            -3.921864         -2.036379e+00      -3.012047\n",
      "max             1.931439          1.445437e+00       2.675700\n",
      "Jarque-Bera  1569.884888          3.312267e+01      26.460985\n",
      "JB p-value      0.000000          6.419526e-08       0.000002\n"
     ]
    },
    {
     "data": {
      "application/vnd.plotly.v1+json": {
       "config": {
        "plotlyServerURL": "https://plot.ly"
       },
       "data": [
        {
         "marker": {
          "color": [
           "blue",
           "green",
           "red"
          ]
         },
         "text": [
          "22.0%",
          "-2.0%",
          "19.6%"
         ],
         "textposition": "auto",
         "type": "bar",
         "x": [
          "Gap Returns",
          "RTH Returns",
          "Total Returns"
         ],
         "xaxis": "x",
         "y": [
          22.042765348204817,
          -2.0355682166900313,
          19.558501606006786
         ],
         "yaxis": "y"
        },
        {
         "line": {
          "color": "blue",
          "width": 2
         },
         "name": "Cumulative Gap Returns",
         "type": "scatter",
         "x": [
          "2024-02-02T00:00:00-05:00",
          "2024-02-05T00:00:00-05:00",
          "2024-02-06T00:00:00-05:00",
          "2024-02-07T00:00:00-05:00",
          "2024-02-08T00:00:00-05:00",
          "2024-02-09T00:00:00-05:00",
          "2024-02-12T00:00:00-05:00",
          "2024-02-13T00:00:00-05:00",
          "2024-02-14T00:00:00-05:00",
          "2024-02-15T00:00:00-05:00",
          "2024-02-16T00:00:00-05:00",
          "2024-02-20T00:00:00-05:00",
          "2024-02-21T00:00:00-05:00",
          "2024-02-22T00:00:00-05:00",
          "2024-02-23T00:00:00-05:00",
          "2024-02-26T00:00:00-05:00",
          "2024-02-27T00:00:00-05:00",
          "2024-02-28T00:00:00-05:00",
          "2024-02-29T00:00:00-05:00",
          "2024-03-01T00:00:00-05:00",
          "2024-03-04T00:00:00-05:00",
          "2024-03-05T00:00:00-05:00",
          "2024-03-06T00:00:00-05:00",
          "2024-03-07T00:00:00-05:00",
          "2024-03-08T00:00:00-05:00",
          "2024-03-11T00:00:00-04:00",
          "2024-03-12T00:00:00-04:00",
          "2024-03-13T00:00:00-04:00",
          "2024-03-14T00:00:00-04:00",
          "2024-03-15T00:00:00-04:00",
          "2024-03-18T00:00:00-04:00",
          "2024-03-19T00:00:00-04:00",
          "2024-03-20T00:00:00-04:00",
          "2024-03-21T00:00:00-04:00",
          "2024-03-22T00:00:00-04:00",
          "2024-03-25T00:00:00-04:00",
          "2024-03-26T00:00:00-04:00",
          "2024-03-27T00:00:00-04:00",
          "2024-03-28T00:00:00-04:00",
          "2024-04-01T00:00:00-04:00",
          "2024-04-02T00:00:00-04:00",
          "2024-04-03T00:00:00-04:00",
          "2024-04-04T00:00:00-04:00",
          "2024-04-05T00:00:00-04:00",
          "2024-04-08T00:00:00-04:00",
          "2024-04-09T00:00:00-04:00",
          "2024-04-10T00:00:00-04:00",
          "2024-04-11T00:00:00-04:00",
          "2024-04-12T00:00:00-04:00",
          "2024-04-15T00:00:00-04:00",
          "2024-04-16T00:00:00-04:00",
          "2024-04-17T00:00:00-04:00",
          "2024-04-18T00:00:00-04:00",
          "2024-04-19T00:00:00-04:00",
          "2024-04-22T00:00:00-04:00",
          "2024-04-23T00:00:00-04:00",
          "2024-04-24T00:00:00-04:00",
          "2024-04-25T00:00:00-04:00",
          "2024-04-26T00:00:00-04:00",
          "2024-04-29T00:00:00-04:00",
          "2024-04-30T00:00:00-04:00",
          "2024-05-01T00:00:00-04:00",
          "2024-05-02T00:00:00-04:00",
          "2024-05-03T00:00:00-04:00",
          "2024-05-06T00:00:00-04:00",
          "2024-05-07T00:00:00-04:00",
          "2024-05-08T00:00:00-04:00",
          "2024-05-09T00:00:00-04:00",
          "2024-05-10T00:00:00-04:00",
          "2024-05-13T00:00:00-04:00",
          "2024-05-14T00:00:00-04:00",
          "2024-05-15T00:00:00-04:00",
          "2024-05-16T00:00:00-04:00",
          "2024-05-17T00:00:00-04:00",
          "2024-05-20T00:00:00-04:00",
          "2024-05-21T00:00:00-04:00",
          "2024-05-22T00:00:00-04:00",
          "2024-05-23T00:00:00-04:00",
          "2024-05-24T00:00:00-04:00",
          "2024-05-28T00:00:00-04:00",
          "2024-05-29T00:00:00-04:00",
          "2024-05-30T00:00:00-04:00",
          "2024-05-31T00:00:00-04:00",
          "2024-06-03T00:00:00-04:00",
          "2024-06-04T00:00:00-04:00",
          "2024-06-05T00:00:00-04:00",
          "2024-06-06T00:00:00-04:00",
          "2024-06-07T00:00:00-04:00",
          "2024-06-10T00:00:00-04:00",
          "2024-06-11T00:00:00-04:00",
          "2024-06-12T00:00:00-04:00",
          "2024-06-13T00:00:00-04:00",
          "2024-06-14T00:00:00-04:00",
          "2024-06-17T00:00:00-04:00",
          "2024-06-18T00:00:00-04:00",
          "2024-06-20T00:00:00-04:00",
          "2024-06-21T00:00:00-04:00",
          "2024-06-24T00:00:00-04:00",
          "2024-06-25T00:00:00-04:00",
          "2024-06-26T00:00:00-04:00",
          "2024-06-27T00:00:00-04:00",
          "2024-06-28T00:00:00-04:00",
          "2024-07-01T00:00:00-04:00",
          "2024-07-02T00:00:00-04:00",
          "2024-07-03T00:00:00-04:00",
          "2024-07-05T00:00:00-04:00",
          "2024-07-08T00:00:00-04:00",
          "2024-07-09T00:00:00-04:00",
          "2024-07-10T00:00:00-04:00",
          "2024-07-11T00:00:00-04:00",
          "2024-07-12T00:00:00-04:00",
          "2024-07-15T00:00:00-04:00",
          "2024-07-16T00:00:00-04:00",
          "2024-07-17T00:00:00-04:00",
          "2024-07-18T00:00:00-04:00",
          "2024-07-19T00:00:00-04:00",
          "2024-07-22T00:00:00-04:00",
          "2024-07-23T00:00:00-04:00",
          "2024-07-24T00:00:00-04:00",
          "2024-07-25T00:00:00-04:00",
          "2024-07-26T00:00:00-04:00",
          "2024-07-29T00:00:00-04:00",
          "2024-07-30T00:00:00-04:00",
          "2024-07-31T00:00:00-04:00",
          "2024-08-01T00:00:00-04:00",
          "2024-08-02T00:00:00-04:00",
          "2024-08-05T00:00:00-04:00",
          "2024-08-06T00:00:00-04:00",
          "2024-08-07T00:00:00-04:00",
          "2024-08-08T00:00:00-04:00",
          "2024-08-09T00:00:00-04:00",
          "2024-08-12T00:00:00-04:00",
          "2024-08-13T00:00:00-04:00",
          "2024-08-14T00:00:00-04:00",
          "2024-08-15T00:00:00-04:00",
          "2024-08-16T00:00:00-04:00",
          "2024-08-19T00:00:00-04:00",
          "2024-08-20T00:00:00-04:00",
          "2024-08-21T00:00:00-04:00",
          "2024-08-22T00:00:00-04:00",
          "2024-08-23T00:00:00-04:00",
          "2024-08-26T00:00:00-04:00",
          "2024-08-27T00:00:00-04:00",
          "2024-08-28T00:00:00-04:00",
          "2024-08-29T00:00:00-04:00",
          "2024-08-30T00:00:00-04:00",
          "2024-09-03T00:00:00-04:00",
          "2024-09-04T00:00:00-04:00",
          "2024-09-05T00:00:00-04:00",
          "2024-09-06T00:00:00-04:00",
          "2024-09-09T00:00:00-04:00",
          "2024-09-10T00:00:00-04:00",
          "2024-09-11T00:00:00-04:00",
          "2024-09-12T00:00:00-04:00",
          "2024-09-13T00:00:00-04:00",
          "2024-09-16T00:00:00-04:00",
          "2024-09-17T00:00:00-04:00",
          "2024-09-18T00:00:00-04:00",
          "2024-09-19T00:00:00-04:00",
          "2024-09-20T00:00:00-04:00",
          "2024-09-23T00:00:00-04:00",
          "2024-09-24T00:00:00-04:00",
          "2024-09-25T00:00:00-04:00",
          "2024-09-26T00:00:00-04:00",
          "2024-09-27T00:00:00-04:00",
          "2024-09-30T00:00:00-04:00",
          "2024-10-01T00:00:00-04:00",
          "2024-10-02T00:00:00-04:00",
          "2024-10-03T00:00:00-04:00",
          "2024-10-04T00:00:00-04:00",
          "2024-10-07T00:00:00-04:00",
          "2024-10-08T00:00:00-04:00",
          "2024-10-09T00:00:00-04:00",
          "2024-10-10T00:00:00-04:00",
          "2024-10-11T00:00:00-04:00",
          "2024-10-14T00:00:00-04:00",
          "2024-10-15T00:00:00-04:00",
          "2024-10-16T00:00:00-04:00",
          "2024-10-17T00:00:00-04:00",
          "2024-10-18T00:00:00-04:00"
         ],
         "xaxis": "x2",
         "y": [
          0.17799054808813608,
          -0.2503363784026935,
          -0.25842047465212126,
          0.401088174421238,
          0.39524303880966727,
          0.4697605615771483,
          0.5098706522259189,
          -0.7683753868546583,
          0.3404819693964445,
          0.635798556709255,
          0.6578678107787006,
          0.06777914288438325,
          -0.1820578605730705,
          1.7458647755509649,
          2.060513782204021,
          2.1519541503693063,
          2.12776710887832,
          1.8546524036225254,
          2.253143209129793,
          2.391951111733226,
          2.2103024607698085,
          1.5515231770678373,
          2.633034736924178,
          3.443470612000188,
          3.596214030817202,
          3.2301925441674983,
          3.6946930681850843,
          3.7247808969536944,
          3.9660887288700097,
          3.495488725258644,
          4.284756209705054,
          3.9284186072948035,
          4.18748341686892,
          4.777052025172912,
          4.624756885770909,
          4.241714360082138,
          4.406969141160477,
          4.724126411925544,
          5.21075708055756,
          5.06233845150974,
          4.334563349707143,
          4.20775564273248,
          5.191291809986254,
          5.322322828025516,
          5.532717439505608,
          5.764627467033234,
          4.76488466332079,
          5.148220558935912,
          4.220251447328205,
          5.378095134281069,
          5.44074064105875,
          5.593063408152821,
          5.761614528960757,
          5.679092412108444,
          6.251069081598004,
          6.514282198491794,
          6.785166078804639,
          5.407367894720316,
          5.903053163799421,
          6.04442355278918,
          6.021491422742575,
          5.335543539586585,
          4.989846534237308,
          6.228444090341934,
          6.701982817004271,
          7.2219642838306175,
          6.817712953899879,
          6.815648404663244,
          7.23694300068749,
          7.582822134139522,
          7.647894263659882,
          8.156930972808318,
          8.306143959182744,
          8.118048568156123,
          8.205909551798097,
          7.9977820244685915,
          7.950993631645908,
          8.801258646397958,
          9.31485310638438,
          9.579367855479193,
          8.980233638436319,
          8.512664293948502,
          8.545834647177353,
          9.91925392900168,
          10.022701935418187,
          10.706837108308997,
          10.945326632454421,
          10.793770487238952,
          10.493280490032465,
          10.224992733893057,
          11.403528697702669,
          11.784279363871919,
          11.485386893205884,
          11.464824462483048,
          11.255392022642186,
          11.570137423425365,
          11.071359759619725,
          11.071359759619725,
          11.04890460510115,
          10.808390742577823,
          10.97117369535534,
          11.263978991042588,
          11.447788284294491,
          11.310620515772207,
          11.448743183565501,
          11.604488251172285,
          11.821915279297102,
          12.160659586104439,
          12.457412951100078,
          12.740549483537734,
          12.91475202135668,
          12.84448146088819,
          13.001073279884245,
          11.912569875610824,
          12.022885872154632,
          12.201622028312853,
          12.848511324694911,
          12.854616634499493,
          11.590013846673264,
          11.536445035905118,
          11.423435355582079,
          11.806347832132547,
          11.986753395395366,
          13.498048404017492,
          14.14876889557708,
          12.888620770273773,
          8.461283089115401,
          9.035630087089652,
          9.398926932317874,
          10.075474033650877,
          10.183617483361807,
          10.429604585035657,
          11.183913655743538,
          11.53524134506152,
          12.84959513738042,
          12.509874161574274,
          12.643894261826304,
          12.81943375456791,
          13.019328590213597,
          13.544098670816762,
          14.281424538210729,
          14.490811345407216,
          14.327296889436724,
          14.282496993963267,
          14.642602973211982,
          14.999425614120309,
          14.721050983297456,
          14.214537946964146,
          14.270543768121513,
          14.366207680861653,
          15.12078623009776,
          15.69890095146147,
          15.71155393712984,
          16.066019447595714,
          16.254996910457532,
          16.242580926451456,
          16.813086516032882,
          17.162241384457854,
          18.345677433113906,
          17.69747492302869,
          17.941918425579352,
          18.155251131357563,
          18.275879523384695,
          19.255836957997797,
          19.54981704490779,
          19.240438256262117,
          19.763164576432036,
          19.278871892294468,
          18.9267200140802,
          20.13785908443433,
          19.99922878337177,
          20.608147274625786,
          20.64603597320065,
          20.44519287668485,
          20.56030122782677,
          20.82118451913042,
          20.84599082594223,
          20.939859080428725,
          21.704262634721672,
          22.042765348204817
         ],
         "yaxis": "y2"
        },
        {
         "line": {
          "color": "green",
          "width": 2
         },
         "name": "Cumulative RTH Returns",
         "type": "scatter",
         "x": [
          "2024-02-02T00:00:00-05:00",
          "2024-02-05T00:00:00-05:00",
          "2024-02-06T00:00:00-05:00",
          "2024-02-07T00:00:00-05:00",
          "2024-02-08T00:00:00-05:00",
          "2024-02-09T00:00:00-05:00",
          "2024-02-12T00:00:00-05:00",
          "2024-02-13T00:00:00-05:00",
          "2024-02-14T00:00:00-05:00",
          "2024-02-15T00:00:00-05:00",
          "2024-02-16T00:00:00-05:00",
          "2024-02-20T00:00:00-05:00",
          "2024-02-21T00:00:00-05:00",
          "2024-02-22T00:00:00-05:00",
          "2024-02-23T00:00:00-05:00",
          "2024-02-26T00:00:00-05:00",
          "2024-02-27T00:00:00-05:00",
          "2024-02-28T00:00:00-05:00",
          "2024-02-29T00:00:00-05:00",
          "2024-03-01T00:00:00-05:00",
          "2024-03-04T00:00:00-05:00",
          "2024-03-05T00:00:00-05:00",
          "2024-03-06T00:00:00-05:00",
          "2024-03-07T00:00:00-05:00",
          "2024-03-08T00:00:00-05:00",
          "2024-03-11T00:00:00-04:00",
          "2024-03-12T00:00:00-04:00",
          "2024-03-13T00:00:00-04:00",
          "2024-03-14T00:00:00-04:00",
          "2024-03-15T00:00:00-04:00",
          "2024-03-18T00:00:00-04:00",
          "2024-03-19T00:00:00-04:00",
          "2024-03-20T00:00:00-04:00",
          "2024-03-21T00:00:00-04:00",
          "2024-03-22T00:00:00-04:00",
          "2024-03-25T00:00:00-04:00",
          "2024-03-26T00:00:00-04:00",
          "2024-03-27T00:00:00-04:00",
          "2024-03-28T00:00:00-04:00",
          "2024-04-01T00:00:00-04:00",
          "2024-04-02T00:00:00-04:00",
          "2024-04-03T00:00:00-04:00",
          "2024-04-04T00:00:00-04:00",
          "2024-04-05T00:00:00-04:00",
          "2024-04-08T00:00:00-04:00",
          "2024-04-09T00:00:00-04:00",
          "2024-04-10T00:00:00-04:00",
          "2024-04-11T00:00:00-04:00",
          "2024-04-12T00:00:00-04:00",
          "2024-04-15T00:00:00-04:00",
          "2024-04-16T00:00:00-04:00",
          "2024-04-17T00:00:00-04:00",
          "2024-04-18T00:00:00-04:00",
          "2024-04-19T00:00:00-04:00",
          "2024-04-22T00:00:00-04:00",
          "2024-04-23T00:00:00-04:00",
          "2024-04-24T00:00:00-04:00",
          "2024-04-25T00:00:00-04:00",
          "2024-04-26T00:00:00-04:00",
          "2024-04-29T00:00:00-04:00",
          "2024-04-30T00:00:00-04:00",
          "2024-05-01T00:00:00-04:00",
          "2024-05-02T00:00:00-04:00",
          "2024-05-03T00:00:00-04:00",
          "2024-05-06T00:00:00-04:00",
          "2024-05-07T00:00:00-04:00",
          "2024-05-08T00:00:00-04:00",
          "2024-05-09T00:00:00-04:00",
          "2024-05-10T00:00:00-04:00",
          "2024-05-13T00:00:00-04:00",
          "2024-05-14T00:00:00-04:00",
          "2024-05-15T00:00:00-04:00",
          "2024-05-16T00:00:00-04:00",
          "2024-05-17T00:00:00-04:00",
          "2024-05-20T00:00:00-04:00",
          "2024-05-21T00:00:00-04:00",
          "2024-05-22T00:00:00-04:00",
          "2024-05-23T00:00:00-04:00",
          "2024-05-24T00:00:00-04:00",
          "2024-05-28T00:00:00-04:00",
          "2024-05-29T00:00:00-04:00",
          "2024-05-30T00:00:00-04:00",
          "2024-05-31T00:00:00-04:00",
          "2024-06-03T00:00:00-04:00",
          "2024-06-04T00:00:00-04:00",
          "2024-06-05T00:00:00-04:00",
          "2024-06-06T00:00:00-04:00",
          "2024-06-07T00:00:00-04:00",
          "2024-06-10T00:00:00-04:00",
          "2024-06-11T00:00:00-04:00",
          "2024-06-12T00:00:00-04:00",
          "2024-06-13T00:00:00-04:00",
          "2024-06-14T00:00:00-04:00",
          "2024-06-17T00:00:00-04:00",
          "2024-06-18T00:00:00-04:00",
          "2024-06-20T00:00:00-04:00",
          "2024-06-21T00:00:00-04:00",
          "2024-06-24T00:00:00-04:00",
          "2024-06-25T00:00:00-04:00",
          "2024-06-26T00:00:00-04:00",
          "2024-06-27T00:00:00-04:00",
          "2024-06-28T00:00:00-04:00",
          "2024-07-01T00:00:00-04:00",
          "2024-07-02T00:00:00-04:00",
          "2024-07-03T00:00:00-04:00",
          "2024-07-05T00:00:00-04:00",
          "2024-07-08T00:00:00-04:00",
          "2024-07-09T00:00:00-04:00",
          "2024-07-10T00:00:00-04:00",
          "2024-07-11T00:00:00-04:00",
          "2024-07-12T00:00:00-04:00",
          "2024-07-15T00:00:00-04:00",
          "2024-07-16T00:00:00-04:00",
          "2024-07-17T00:00:00-04:00",
          "2024-07-18T00:00:00-04:00",
          "2024-07-19T00:00:00-04:00",
          "2024-07-22T00:00:00-04:00",
          "2024-07-23T00:00:00-04:00",
          "2024-07-24T00:00:00-04:00",
          "2024-07-25T00:00:00-04:00",
          "2024-07-26T00:00:00-04:00",
          "2024-07-29T00:00:00-04:00",
          "2024-07-30T00:00:00-04:00",
          "2024-07-31T00:00:00-04:00",
          "2024-08-01T00:00:00-04:00",
          "2024-08-02T00:00:00-04:00",
          "2024-08-05T00:00:00-04:00",
          "2024-08-06T00:00:00-04:00",
          "2024-08-07T00:00:00-04:00",
          "2024-08-08T00:00:00-04:00",
          "2024-08-09T00:00:00-04:00",
          "2024-08-12T00:00:00-04:00",
          "2024-08-13T00:00:00-04:00",
          "2024-08-14T00:00:00-04:00",
          "2024-08-15T00:00:00-04:00",
          "2024-08-16T00:00:00-04:00",
          "2024-08-19T00:00:00-04:00",
          "2024-08-20T00:00:00-04:00",
          "2024-08-21T00:00:00-04:00",
          "2024-08-22T00:00:00-04:00",
          "2024-08-23T00:00:00-04:00",
          "2024-08-26T00:00:00-04:00",
          "2024-08-27T00:00:00-04:00",
          "2024-08-28T00:00:00-04:00",
          "2024-08-29T00:00:00-04:00",
          "2024-08-30T00:00:00-04:00",
          "2024-09-03T00:00:00-04:00",
          "2024-09-04T00:00:00-04:00",
          "2024-09-05T00:00:00-04:00",
          "2024-09-06T00:00:00-04:00",
          "2024-09-09T00:00:00-04:00",
          "2024-09-10T00:00:00-04:00",
          "2024-09-11T00:00:00-04:00",
          "2024-09-12T00:00:00-04:00",
          "2024-09-13T00:00:00-04:00",
          "2024-09-16T00:00:00-04:00",
          "2024-09-17T00:00:00-04:00",
          "2024-09-18T00:00:00-04:00",
          "2024-09-19T00:00:00-04:00",
          "2024-09-20T00:00:00-04:00",
          "2024-09-23T00:00:00-04:00",
          "2024-09-24T00:00:00-04:00",
          "2024-09-25T00:00:00-04:00",
          "2024-09-26T00:00:00-04:00",
          "2024-09-27T00:00:00-04:00",
          "2024-09-30T00:00:00-04:00",
          "2024-10-01T00:00:00-04:00",
          "2024-10-02T00:00:00-04:00",
          "2024-10-03T00:00:00-04:00",
          "2024-10-04T00:00:00-04:00",
          "2024-10-07T00:00:00-04:00",
          "2024-10-08T00:00:00-04:00",
          "2024-10-09T00:00:00-04:00",
          "2024-10-10T00:00:00-04:00",
          "2024-10-11T00:00:00-04:00",
          "2024-10-14T00:00:00-04:00",
          "2024-10-15T00:00:00-04:00",
          "2024-10-16T00:00:00-04:00",
          "2024-10-17T00:00:00-04:00",
          "2024-10-18T00:00:00-04:00"
         ],
         "xaxis": "x2",
         "y": [
          1.2600579994281658,
          1.2292929578047174,
          1.1287856763382509,
          1.5035178628799661,
          1.5829926108553272,
          2.01265246413862,
          1.9536232540609877,
          1.2918143307924401,
          1.5048413394133986,
          1.9724182172036198,
          1.7579897600886518,
          1.5412746006703282,
          1.3424634175072558,
          2.082424261508109,
          1.8007830124410207,
          1.502370329599123,
          1.5013687075982052,
          1.6540234880738858,
          1.69804081869247,
          2.491276745546589,
          2.793522327699871,
          1.772114444740014,
          1.4810806829354428,
          1.79554525834007,
          1.169518256305091,
          1.3023022580911148,
          1.9948158055171694,
          1.730533827412284,
          0.8587883395591245,
          0.8330903220683306,
          0.8185729309561518,
          1.280686764706851,
          2.1947617518907503,
          2.095179558277205,
          2.0150067525104287,
          2.1357078609441915,
          1.9201614061218564,
          1.740432153292426,
          2.0048899957046062,
          1.6222475184857421,
          1.6418562493142108,
          1.8195508411616546,
          -0.07283957311956524,
          0.6429654658032469,
          0.6834242674842894,
          0.273340003416922,
          0.33583020517957696,
          0.9740196309339089,
          0.010174931707873647,
          -2.0264114349056284,
          -1.9526799744256973,
          -2.8962437497928595,
          -3.312142940872087,
          -4.140719002487225,
          -3.618907473676236,
          -2.9495276385774205,
          -3.1114189232137934,
          -2.181720204573978,
          -1.592511646509298,
          -1.8645367378252065,
          -2.620003818742722,
          -1.7595917897767377,
          -1.5549851675001558,
          -1.4952818366485987,
          -1.247922348760433,
          -1.3127966727898288,
          -0.9048400235506793,
          -0.4489923279614616,
          -0.6283257006674536,
          -0.9639701464397632,
          -0.5353651674995574,
          0.09074582140478071,
          0.06618923779599939,
          0.12674137378949624,
          0.26476377158932696,
          0.5697559679169073,
          0.21630442666606964,
          -1.21089789733273,
          -0.999414170182944,
          -1.3149404969893919,
          -1.1084204963059618,
          -1.3158115156266081,
          -1.5363327359305234,
          -2.1049435700988495,
          -1.91341542337774,
          -1.3479257596731853,
          -1.4567237031510638,
          -1.2776078278597724,
          -0.8665576935296238,
          -0.5306065035376673,
          -0.5948821990619413,
          -0.7431095527957399,
          -0.504546548836704,
          0.6169064112182987,
          0.7511456496132496,
          0.2881348699734776,
          0.26234770285353815,
          0.21998307115649318,
          0.38212503534871267,
          0.5446004717759134,
          0.614657402262142,
          0.16234285750833521,
          -0.06895775279619487,
          0.7213741980277355,
          1.1472573870257463,
          1.6220410770277471,
          1.4646974299619142,
          1.3443100206501413,
          1.8828045683032313,
          1.035299470384743,
          1.8995613976012349,
          1.9068133902280682,
          2.1521342141194832,
          2.0004023087566214,
          0.7274746904650353,
          0.2552177854864057,
          0.528970730976619,
          0.6268638391288439,
          -0.7023362534880007,
          -0.430865777188294,
          -0.08751127214170484,
          -0.20462052232635974,
          -1.0431603967497538,
          -0.9638478363187208,
          -2.913851158143732,
          -3.4910834156640314,
          -2.577187510630974,
          -1.1690017555893495,
          -2.6276790684609974,
          -1.6258909222098272,
          -1.0280074711037979,
          -1.2744092345410296,
          -0.4224541057615161,
          -0.3802656710429453,
          0.26966471579839,
          0.7515380818295059,
          1.396298524189743,
          1.3237624973460038,
          1.3635867510163102,
          0.16717353993349615,
          0.629063562721166,
          0.11982482041723586,
          0.4669846626871754,
          -0.00920460550610791,
          -0.23584398397696882,
          -0.04904637383247312,
          -1.4454029440198024,
          -1.3701704271831705,
          -1.624403319400125,
          -3.2075575947138946,
          -3.0351741023185386,
          -2.985662556524993,
          -2.1696954209287744,
          -1.5051311530344669,
          -1.133811005690244,
          -1.024691061985894,
          -1.560620502370813,
          -1.2882157909501313,
          -1.295597436080198,
          -1.2399736532884842,
          -1.222627247564878,
          -1.2074765470620696,
          -1.4600189784121587,
          -1.875176976448778,
          -2.130162215649134,
          -2.0482694461556483,
          -2.62651605920895,
          -2.398394776086854,
          -2.5325763399522083,
          -2.598990763342468,
          -3.2366238362377953,
          -2.805765243824998,
          -2.200361626156244,
          -2.2462235195528035,
          -1.5818609903956782,
          -1.0315376158022027,
          -1.9220320001414493,
          -1.507579929356584,
          -2.0892115339450346,
          -2.0355682166900313
         ],
         "yaxis": "y2"
        },
        {
         "line": {
          "color": "red",
          "width": 2
         },
         "name": "Cumulative Total Returns",
         "type": "scatter",
         "x": [
          "2024-02-02T00:00:00-05:00",
          "2024-02-05T00:00:00-05:00",
          "2024-02-06T00:00:00-05:00",
          "2024-02-07T00:00:00-05:00",
          "2024-02-08T00:00:00-05:00",
          "2024-02-09T00:00:00-05:00",
          "2024-02-12T00:00:00-05:00",
          "2024-02-13T00:00:00-05:00",
          "2024-02-14T00:00:00-05:00",
          "2024-02-15T00:00:00-05:00",
          "2024-02-16T00:00:00-05:00",
          "2024-02-20T00:00:00-05:00",
          "2024-02-21T00:00:00-05:00",
          "2024-02-22T00:00:00-05:00",
          "2024-02-23T00:00:00-05:00",
          "2024-02-26T00:00:00-05:00",
          "2024-02-27T00:00:00-05:00",
          "2024-02-28T00:00:00-05:00",
          "2024-02-29T00:00:00-05:00",
          "2024-03-01T00:00:00-05:00",
          "2024-03-04T00:00:00-05:00",
          "2024-03-05T00:00:00-05:00",
          "2024-03-06T00:00:00-05:00",
          "2024-03-07T00:00:00-05:00",
          "2024-03-08T00:00:00-05:00",
          "2024-03-11T00:00:00-04:00",
          "2024-03-12T00:00:00-04:00",
          "2024-03-13T00:00:00-04:00",
          "2024-03-14T00:00:00-04:00",
          "2024-03-15T00:00:00-04:00",
          "2024-03-18T00:00:00-04:00",
          "2024-03-19T00:00:00-04:00",
          "2024-03-20T00:00:00-04:00",
          "2024-03-21T00:00:00-04:00",
          "2024-03-22T00:00:00-04:00",
          "2024-03-25T00:00:00-04:00",
          "2024-03-26T00:00:00-04:00",
          "2024-03-27T00:00:00-04:00",
          "2024-03-28T00:00:00-04:00",
          "2024-04-01T00:00:00-04:00",
          "2024-04-02T00:00:00-04:00",
          "2024-04-03T00:00:00-04:00",
          "2024-04-04T00:00:00-04:00",
          "2024-04-05T00:00:00-04:00",
          "2024-04-08T00:00:00-04:00",
          "2024-04-09T00:00:00-04:00",
          "2024-04-10T00:00:00-04:00",
          "2024-04-11T00:00:00-04:00",
          "2024-04-12T00:00:00-04:00",
          "2024-04-15T00:00:00-04:00",
          "2024-04-16T00:00:00-04:00",
          "2024-04-17T00:00:00-04:00",
          "2024-04-18T00:00:00-04:00",
          "2024-04-19T00:00:00-04:00",
          "2024-04-22T00:00:00-04:00",
          "2024-04-23T00:00:00-04:00",
          "2024-04-24T00:00:00-04:00",
          "2024-04-25T00:00:00-04:00",
          "2024-04-26T00:00:00-04:00",
          "2024-04-29T00:00:00-04:00",
          "2024-04-30T00:00:00-04:00",
          "2024-05-01T00:00:00-04:00",
          "2024-05-02T00:00:00-04:00",
          "2024-05-03T00:00:00-04:00",
          "2024-05-06T00:00:00-04:00",
          "2024-05-07T00:00:00-04:00",
          "2024-05-08T00:00:00-04:00",
          "2024-05-09T00:00:00-04:00",
          "2024-05-10T00:00:00-04:00",
          "2024-05-13T00:00:00-04:00",
          "2024-05-14T00:00:00-04:00",
          "2024-05-15T00:00:00-04:00",
          "2024-05-16T00:00:00-04:00",
          "2024-05-17T00:00:00-04:00",
          "2024-05-20T00:00:00-04:00",
          "2024-05-21T00:00:00-04:00",
          "2024-05-22T00:00:00-04:00",
          "2024-05-23T00:00:00-04:00",
          "2024-05-24T00:00:00-04:00",
          "2024-05-28T00:00:00-04:00",
          "2024-05-29T00:00:00-04:00",
          "2024-05-30T00:00:00-04:00",
          "2024-05-31T00:00:00-04:00",
          "2024-06-03T00:00:00-04:00",
          "2024-06-04T00:00:00-04:00",
          "2024-06-05T00:00:00-04:00",
          "2024-06-06T00:00:00-04:00",
          "2024-06-07T00:00:00-04:00",
          "2024-06-10T00:00:00-04:00",
          "2024-06-11T00:00:00-04:00",
          "2024-06-12T00:00:00-04:00",
          "2024-06-13T00:00:00-04:00",
          "2024-06-14T00:00:00-04:00",
          "2024-06-17T00:00:00-04:00",
          "2024-06-18T00:00:00-04:00",
          "2024-06-20T00:00:00-04:00",
          "2024-06-21T00:00:00-04:00",
          "2024-06-24T00:00:00-04:00",
          "2024-06-25T00:00:00-04:00",
          "2024-06-26T00:00:00-04:00",
          "2024-06-27T00:00:00-04:00",
          "2024-06-28T00:00:00-04:00",
          "2024-07-01T00:00:00-04:00",
          "2024-07-02T00:00:00-04:00",
          "2024-07-03T00:00:00-04:00",
          "2024-07-05T00:00:00-04:00",
          "2024-07-08T00:00:00-04:00",
          "2024-07-09T00:00:00-04:00",
          "2024-07-10T00:00:00-04:00",
          "2024-07-11T00:00:00-04:00",
          "2024-07-12T00:00:00-04:00",
          "2024-07-15T00:00:00-04:00",
          "2024-07-16T00:00:00-04:00",
          "2024-07-17T00:00:00-04:00",
          "2024-07-18T00:00:00-04:00",
          "2024-07-19T00:00:00-04:00",
          "2024-07-22T00:00:00-04:00",
          "2024-07-23T00:00:00-04:00",
          "2024-07-24T00:00:00-04:00",
          "2024-07-25T00:00:00-04:00",
          "2024-07-26T00:00:00-04:00",
          "2024-07-29T00:00:00-04:00",
          "2024-07-30T00:00:00-04:00",
          "2024-07-31T00:00:00-04:00",
          "2024-08-01T00:00:00-04:00",
          "2024-08-02T00:00:00-04:00",
          "2024-08-05T00:00:00-04:00",
          "2024-08-06T00:00:00-04:00",
          "2024-08-07T00:00:00-04:00",
          "2024-08-08T00:00:00-04:00",
          "2024-08-09T00:00:00-04:00",
          "2024-08-12T00:00:00-04:00",
          "2024-08-13T00:00:00-04:00",
          "2024-08-14T00:00:00-04:00",
          "2024-08-15T00:00:00-04:00",
          "2024-08-16T00:00:00-04:00",
          "2024-08-19T00:00:00-04:00",
          "2024-08-20T00:00:00-04:00",
          "2024-08-21T00:00:00-04:00",
          "2024-08-22T00:00:00-04:00",
          "2024-08-23T00:00:00-04:00",
          "2024-08-26T00:00:00-04:00",
          "2024-08-27T00:00:00-04:00",
          "2024-08-28T00:00:00-04:00",
          "2024-08-29T00:00:00-04:00",
          "2024-08-30T00:00:00-04:00",
          "2024-09-03T00:00:00-04:00",
          "2024-09-04T00:00:00-04:00",
          "2024-09-05T00:00:00-04:00",
          "2024-09-06T00:00:00-04:00",
          "2024-09-09T00:00:00-04:00",
          "2024-09-10T00:00:00-04:00",
          "2024-09-11T00:00:00-04:00",
          "2024-09-12T00:00:00-04:00",
          "2024-09-13T00:00:00-04:00",
          "2024-09-16T00:00:00-04:00",
          "2024-09-17T00:00:00-04:00",
          "2024-09-18T00:00:00-04:00",
          "2024-09-19T00:00:00-04:00",
          "2024-09-20T00:00:00-04:00",
          "2024-09-23T00:00:00-04:00",
          "2024-09-24T00:00:00-04:00",
          "2024-09-25T00:00:00-04:00",
          "2024-09-26T00:00:00-04:00",
          "2024-09-27T00:00:00-04:00",
          "2024-09-30T00:00:00-04:00",
          "2024-10-01T00:00:00-04:00",
          "2024-10-02T00:00:00-04:00",
          "2024-10-03T00:00:00-04:00",
          "2024-10-04T00:00:00-04:00",
          "2024-10-07T00:00:00-04:00",
          "2024-10-08T00:00:00-04:00",
          "2024-10-09T00:00:00-04:00",
          "2024-10-10T00:00:00-04:00",
          "2024-10-11T00:00:00-04:00",
          "2024-10-14T00:00:00-04:00",
          "2024-10-15T00:00:00-04:00",
          "2024-10-16T00:00:00-04:00",
          "2024-10-17T00:00:00-04:00",
          "2024-10-18T00:00:00-04:00"
         ],
         "xaxis": "x2",
         "y": [
          1.4402913316557076,
          0.9758792119314963,
          0.867448188383535,
          1.9106364696495293,
          1.9844923177642526,
          2.491867673233883,
          2.4734548579144144,
          0.5135129605760902,
          1.850447022238555,
          2.620757380470118,
          2.4274228196157432,
          1.610098406268512,
          1.157961496757265,
          3.864645348718221,
          3.8984021768039057,
          3.6866548006300848,
          3.6610814460197094,
          3.5393522780743814,
          3.989443319216801,
          4.942817979091196,
          5.065570081220927,
          3.3511323881421085,
          4.153112788723123,
          5.300844943636296,
          4.807790666748457,
          4.574561672701938,
          5.76321119499168,
          5.519773317784682,
          4.858937375969186,
          4.35769962560606,
          5.138402995151248,
          5.259416109167492,
          6.474150453159799,
          6.972319400969718,
          6.732952801816716,
          6.468012848053317,
          6.411751467910509,
          6.546778780253226,
          7.32011702367068,
          6.766709629902401,
          6.04758689825895,
          6.103868737085438,
          5.11467092207285,
          5.999508991591451,
          6.253953640622734,
          6.053724503365432,
          5.116716790441678,
          6.17238486875753,
          4.230855786738674,
          3.2427013645941916,
          3.3818204136745633,
          2.534830908979302,
          2.2586386791873636,
          1.3032181509441632,
          2.405941201743067,
          3.372614006014829,
          3.462632214243322,
          3.1076740522514745,
          4.216534708156883,
          4.067186317232352,
          3.2437242987786163,
          3.482067963747215,
          3.357269993248635,
          4.6400294605045245,
          5.370424926860218,
          5.814357904212453,
          5.851183534851367,
          6.336054338263897,
          6.563145727203934,
          6.545755846068868,
          7.071584934225328,
          8.255078868225606,
          8.37783097035536,
          8.255078868225606,
          8.492399599009781,
          8.613105832770707,
          8.184496409500985,
          7.483786493177003,
          8.222344974324326,
          8.138464371202335,
          7.772274391865586,
          7.084842161255311,
          6.87820945600357,
          7.605515661122353,
          7.917510587368803,
          9.214591133206484,
          9.329159761860906,
          9.378260602712807,
          9.535792467112646,
          9.640131753922931,
          10.740808936353009,
          10.953599705394957,
          10.922891221178821,
          12.152458110845155,
          12.091082059780266,
          11.89160989381941,
          11.362752920477082,
          11.315697947994007,
          11.473250271077529,
          11.411853761328983,
          11.653266228850834,
          11.444608113913946,
          11.370936393952412,
          12.113586611837391,
          12.727347122486133,
          13.414758894412726,
          13.459767998526996,
          13.668446572147563,
          14.574766259538862,
          13.907751795249478,
          15.059637062951348,
          14.996215143517656,
          15.433008040262663,
          14.151271507191199,
          12.837824014402877,
          12.487980523333109,
          13.445446919945137,
          13.56206141696843,
          10.80627672415555,
          11.05587266515271,
          11.325927289838145,
          11.577569099204133,
          10.818551934368514,
          12.40409992021112,
          10.822643671106214,
          8.9475848523906,
          5.6660324474723245,
          7.761001657153366,
          6.524274228196125,
          8.28576689375804,
          9.050921663700162,
          9.022279506536556,
          10.714212647558252,
          11.111111111111116,
          13.153910677387026,
          13.35542871171671,
          14.216739294993763,
          14.312895108328739,
          14.560445180957093,
          13.733914359950106,
          15.000327338939034,
          14.627999754495825,
          14.861187831174938,
          14.271977740952146,
          14.372225291024776,
          14.943022565928121,
          13.06286953497413,
          12.649604124470649,
          12.4143292620553,
          10.697845700607655,
          11.6266699400561,
          12.244522187442497,
          13.200965649870145,
          14.319073630802649,
          14.936884960821661,
          15.051453589476104,
          14.990077538411217,
          15.65293888991186,
          16.812393870578425,
          16.23805724339702,
          16.499928394607167,
          16.728554184823818,
          16.549029235459045,
          17.019578960289785,
          17.00321201333914,
          16.79807279199663,
          16.61756582581484,
          16.418093659853984,
          15.91481004112203,
          17.015487223552107,
          16.115305141267267,
          17.224165797172695,
          17.991386894167327,
          17.73972462611766,
          18.653204852799888,
          19.574868552957426,
          18.52329221137925,
          19.116594038339695,
          19.16160314245394,
          19.558501606006786
         ],
         "yaxis": "y2"
        }
       ],
       "layout": {
        "annotations": [
         {
          "font": {
           "size": 16
          },
          "showarrow": false,
          "text": "Return Components Breakdown",
          "x": 0.5,
          "xanchor": "center",
          "xref": "paper",
          "y": 1,
          "yanchor": "bottom",
          "yref": "paper"
         },
         {
          "font": {
           "size": 16
          },
          "showarrow": false,
          "text": "Cumulative Returns Over Time",
          "x": 0.5,
          "xanchor": "center",
          "xref": "paper",
          "y": 0.51,
          "yanchor": "bottom",
          "yref": "paper"
         }
        ],
        "height": 800,
        "legend": {
         "x": 1,
         "xanchor": "left",
         "y": 0.99,
         "yanchor": "top"
        },
        "showlegend": true,
        "template": {
         "data": {
          "bar": [
           {
            "error_x": {
             "color": "#2a3f5f"
            },
            "error_y": {
             "color": "#2a3f5f"
            },
            "marker": {
             "line": {
              "color": "#E5ECF6",
              "width": 0.5
             },
             "pattern": {
              "fillmode": "overlay",
              "size": 10,
              "solidity": 0.2
             }
            },
            "type": "bar"
           }
          ],
          "barpolar": [
           {
            "marker": {
             "line": {
              "color": "#E5ECF6",
              "width": 0.5
             },
             "pattern": {
              "fillmode": "overlay",
              "size": 10,
              "solidity": 0.2
             }
            },
            "type": "barpolar"
           }
          ],
          "carpet": [
           {
            "aaxis": {
             "endlinecolor": "#2a3f5f",
             "gridcolor": "white",
             "linecolor": "white",
             "minorgridcolor": "white",
             "startlinecolor": "#2a3f5f"
            },
            "baxis": {
             "endlinecolor": "#2a3f5f",
             "gridcolor": "white",
             "linecolor": "white",
             "minorgridcolor": "white",
             "startlinecolor": "#2a3f5f"
            },
            "type": "carpet"
           }
          ],
          "choropleth": [
           {
            "colorbar": {
             "outlinewidth": 0,
             "ticks": ""
            },
            "type": "choropleth"
           }
          ],
          "contour": [
           {
            "colorbar": {
             "outlinewidth": 0,
             "ticks": ""
            },
            "colorscale": [
             [
              0,
              "#0d0887"
             ],
             [
              0.1111111111111111,
              "#46039f"
             ],
             [
              0.2222222222222222,
              "#7201a8"
             ],
             [
              0.3333333333333333,
              "#9c179e"
             ],
             [
              0.4444444444444444,
              "#bd3786"
             ],
             [
              0.5555555555555556,
              "#d8576b"
             ],
             [
              0.6666666666666666,
              "#ed7953"
             ],
             [
              0.7777777777777778,
              "#fb9f3a"
             ],
             [
              0.8888888888888888,
              "#fdca26"
             ],
             [
              1,
              "#f0f921"
             ]
            ],
            "type": "contour"
           }
          ],
          "contourcarpet": [
           {
            "colorbar": {
             "outlinewidth": 0,
             "ticks": ""
            },
            "type": "contourcarpet"
           }
          ],
          "heatmap": [
           {
            "colorbar": {
             "outlinewidth": 0,
             "ticks": ""
            },
            "colorscale": [
             [
              0,
              "#0d0887"
             ],
             [
              0.1111111111111111,
              "#46039f"
             ],
             [
              0.2222222222222222,
              "#7201a8"
             ],
             [
              0.3333333333333333,
              "#9c179e"
             ],
             [
              0.4444444444444444,
              "#bd3786"
             ],
             [
              0.5555555555555556,
              "#d8576b"
             ],
             [
              0.6666666666666666,
              "#ed7953"
             ],
             [
              0.7777777777777778,
              "#fb9f3a"
             ],
             [
              0.8888888888888888,
              "#fdca26"
             ],
             [
              1,
              "#f0f921"
             ]
            ],
            "type": "heatmap"
           }
          ],
          "heatmapgl": [
           {
            "colorbar": {
             "outlinewidth": 0,
             "ticks": ""
            },
            "colorscale": [
             [
              0,
              "#0d0887"
             ],
             [
              0.1111111111111111,
              "#46039f"
             ],
             [
              0.2222222222222222,
              "#7201a8"
             ],
             [
              0.3333333333333333,
              "#9c179e"
             ],
             [
              0.4444444444444444,
              "#bd3786"
             ],
             [
              0.5555555555555556,
              "#d8576b"
             ],
             [
              0.6666666666666666,
              "#ed7953"
             ],
             [
              0.7777777777777778,
              "#fb9f3a"
             ],
             [
              0.8888888888888888,
              "#fdca26"
             ],
             [
              1,
              "#f0f921"
             ]
            ],
            "type": "heatmapgl"
           }
          ],
          "histogram": [
           {
            "marker": {
             "pattern": {
              "fillmode": "overlay",
              "size": 10,
              "solidity": 0.2
             }
            },
            "type": "histogram"
           }
          ],
          "histogram2d": [
           {
            "colorbar": {
             "outlinewidth": 0,
             "ticks": ""
            },
            "colorscale": [
             [
              0,
              "#0d0887"
             ],
             [
              0.1111111111111111,
              "#46039f"
             ],
             [
              0.2222222222222222,
              "#7201a8"
             ],
             [
              0.3333333333333333,
              "#9c179e"
             ],
             [
              0.4444444444444444,
              "#bd3786"
             ],
             [
              0.5555555555555556,
              "#d8576b"
             ],
             [
              0.6666666666666666,
              "#ed7953"
             ],
             [
              0.7777777777777778,
              "#fb9f3a"
             ],
             [
              0.8888888888888888,
              "#fdca26"
             ],
             [
              1,
              "#f0f921"
             ]
            ],
            "type": "histogram2d"
           }
          ],
          "histogram2dcontour": [
           {
            "colorbar": {
             "outlinewidth": 0,
             "ticks": ""
            },
            "colorscale": [
             [
              0,
              "#0d0887"
             ],
             [
              0.1111111111111111,
              "#46039f"
             ],
             [
              0.2222222222222222,
              "#7201a8"
             ],
             [
              0.3333333333333333,
              "#9c179e"
             ],
             [
              0.4444444444444444,
              "#bd3786"
             ],
             [
              0.5555555555555556,
              "#d8576b"
             ],
             [
              0.6666666666666666,
              "#ed7953"
             ],
             [
              0.7777777777777778,
              "#fb9f3a"
             ],
             [
              0.8888888888888888,
              "#fdca26"
             ],
             [
              1,
              "#f0f921"
             ]
            ],
            "type": "histogram2dcontour"
           }
          ],
          "mesh3d": [
           {
            "colorbar": {
             "outlinewidth": 0,
             "ticks": ""
            },
            "type": "mesh3d"
           }
          ],
          "parcoords": [
           {
            "line": {
             "colorbar": {
              "outlinewidth": 0,
              "ticks": ""
             }
            },
            "type": "parcoords"
           }
          ],
          "pie": [
           {
            "automargin": true,
            "type": "pie"
           }
          ],
          "scatter": [
           {
            "fillpattern": {
             "fillmode": "overlay",
             "size": 10,
             "solidity": 0.2
            },
            "type": "scatter"
           }
          ],
          "scatter3d": [
           {
            "line": {
             "colorbar": {
              "outlinewidth": 0,
              "ticks": ""
             }
            },
            "marker": {
             "colorbar": {
              "outlinewidth": 0,
              "ticks": ""
             }
            },
            "type": "scatter3d"
           }
          ],
          "scattercarpet": [
           {
            "marker": {
             "colorbar": {
              "outlinewidth": 0,
              "ticks": ""
             }
            },
            "type": "scattercarpet"
           }
          ],
          "scattergeo": [
           {
            "marker": {
             "colorbar": {
              "outlinewidth": 0,
              "ticks": ""
             }
            },
            "type": "scattergeo"
           }
          ],
          "scattergl": [
           {
            "marker": {
             "colorbar": {
              "outlinewidth": 0,
              "ticks": ""
             }
            },
            "type": "scattergl"
           }
          ],
          "scattermapbox": [
           {
            "marker": {
             "colorbar": {
              "outlinewidth": 0,
              "ticks": ""
             }
            },
            "type": "scattermapbox"
           }
          ],
          "scatterpolar": [
           {
            "marker": {
             "colorbar": {
              "outlinewidth": 0,
              "ticks": ""
             }
            },
            "type": "scatterpolar"
           }
          ],
          "scatterpolargl": [
           {
            "marker": {
             "colorbar": {
              "outlinewidth": 0,
              "ticks": ""
             }
            },
            "type": "scatterpolargl"
           }
          ],
          "scatterternary": [
           {
            "marker": {
             "colorbar": {
              "outlinewidth": 0,
              "ticks": ""
             }
            },
            "type": "scatterternary"
           }
          ],
          "surface": [
           {
            "colorbar": {
             "outlinewidth": 0,
             "ticks": ""
            },
            "colorscale": [
             [
              0,
              "#0d0887"
             ],
             [
              0.1111111111111111,
              "#46039f"
             ],
             [
              0.2222222222222222,
              "#7201a8"
             ],
             [
              0.3333333333333333,
              "#9c179e"
             ],
             [
              0.4444444444444444,
              "#bd3786"
             ],
             [
              0.5555555555555556,
              "#d8576b"
             ],
             [
              0.6666666666666666,
              "#ed7953"
             ],
             [
              0.7777777777777778,
              "#fb9f3a"
             ],
             [
              0.8888888888888888,
              "#fdca26"
             ],
             [
              1,
              "#f0f921"
             ]
            ],
            "type": "surface"
           }
          ],
          "table": [
           {
            "cells": {
             "fill": {
              "color": "#EBF0F8"
             },
             "line": {
              "color": "white"
             }
            },
            "header": {
             "fill": {
              "color": "#C8D4E3"
             },
             "line": {
              "color": "white"
             }
            },
            "type": "table"
           }
          ]
         },
         "layout": {
          "annotationdefaults": {
           "arrowcolor": "#2a3f5f",
           "arrowhead": 0,
           "arrowwidth": 1
          },
          "autotypenumbers": "strict",
          "coloraxis": {
           "colorbar": {
            "outlinewidth": 0,
            "ticks": ""
           }
          },
          "colorscale": {
           "diverging": [
            [
             0,
             "#8e0152"
            ],
            [
             0.1,
             "#c51b7d"
            ],
            [
             0.2,
             "#de77ae"
            ],
            [
             0.3,
             "#f1b6da"
            ],
            [
             0.4,
             "#fde0ef"
            ],
            [
             0.5,
             "#f7f7f7"
            ],
            [
             0.6,
             "#e6f5d0"
            ],
            [
             0.7,
             "#b8e186"
            ],
            [
             0.8,
             "#7fbc41"
            ],
            [
             0.9,
             "#4d9221"
            ],
            [
             1,
             "#276419"
            ]
           ],
           "sequential": [
            [
             0,
             "#0d0887"
            ],
            [
             0.1111111111111111,
             "#46039f"
            ],
            [
             0.2222222222222222,
             "#7201a8"
            ],
            [
             0.3333333333333333,
             "#9c179e"
            ],
            [
             0.4444444444444444,
             "#bd3786"
            ],
            [
             0.5555555555555556,
             "#d8576b"
            ],
            [
             0.6666666666666666,
             "#ed7953"
            ],
            [
             0.7777777777777778,
             "#fb9f3a"
            ],
            [
             0.8888888888888888,
             "#fdca26"
            ],
            [
             1,
             "#f0f921"
            ]
           ],
           "sequentialminus": [
            [
             0,
             "#0d0887"
            ],
            [
             0.1111111111111111,
             "#46039f"
            ],
            [
             0.2222222222222222,
             "#7201a8"
            ],
            [
             0.3333333333333333,
             "#9c179e"
            ],
            [
             0.4444444444444444,
             "#bd3786"
            ],
            [
             0.5555555555555556,
             "#d8576b"
            ],
            [
             0.6666666666666666,
             "#ed7953"
            ],
            [
             0.7777777777777778,
             "#fb9f3a"
            ],
            [
             0.8888888888888888,
             "#fdca26"
            ],
            [
             1,
             "#f0f921"
            ]
           ]
          },
          "colorway": [
           "#636efa",
           "#EF553B",
           "#00cc96",
           "#ab63fa",
           "#FFA15A",
           "#19d3f3",
           "#FF6692",
           "#B6E880",
           "#FF97FF",
           "#FECB52"
          ],
          "font": {
           "color": "#2a3f5f"
          },
          "geo": {
           "bgcolor": "white",
           "lakecolor": "white",
           "landcolor": "#E5ECF6",
           "showlakes": true,
           "showland": true,
           "subunitcolor": "white"
          },
          "hoverlabel": {
           "align": "left"
          },
          "hovermode": "closest",
          "mapbox": {
           "style": "light"
          },
          "paper_bgcolor": "white",
          "plot_bgcolor": "#E5ECF6",
          "polar": {
           "angularaxis": {
            "gridcolor": "white",
            "linecolor": "white",
            "ticks": ""
           },
           "bgcolor": "#E5ECF6",
           "radialaxis": {
            "gridcolor": "white",
            "linecolor": "white",
            "ticks": ""
           }
          },
          "scene": {
           "xaxis": {
            "backgroundcolor": "#E5ECF6",
            "gridcolor": "white",
            "gridwidth": 2,
            "linecolor": "white",
            "showbackground": true,
            "ticks": "",
            "zerolinecolor": "white"
           },
           "yaxis": {
            "backgroundcolor": "#E5ECF6",
            "gridcolor": "white",
            "gridwidth": 2,
            "linecolor": "white",
            "showbackground": true,
            "ticks": "",
            "zerolinecolor": "white"
           },
           "zaxis": {
            "backgroundcolor": "#E5ECF6",
            "gridcolor": "white",
            "gridwidth": 2,
            "linecolor": "white",
            "showbackground": true,
            "ticks": "",
            "zerolinecolor": "white"
           }
          },
          "shapedefaults": {
           "line": {
            "color": "#2a3f5f"
           }
          },
          "ternary": {
           "aaxis": {
            "gridcolor": "white",
            "linecolor": "white",
            "ticks": ""
           },
           "baxis": {
            "gridcolor": "white",
            "linecolor": "white",
            "ticks": ""
           },
           "bgcolor": "#E5ECF6",
           "caxis": {
            "gridcolor": "white",
            "linecolor": "white",
            "ticks": ""
           }
          },
          "title": {
           "x": 0.05
          },
          "xaxis": {
           "automargin": true,
           "gridcolor": "white",
           "linecolor": "white",
           "ticks": "",
           "title": {
            "standoff": 15
           },
           "zerolinecolor": "white",
           "zerolinewidth": 2
          },
          "yaxis": {
           "automargin": true,
           "gridcolor": "white",
           "linecolor": "white",
           "ticks": "",
           "title": {
            "standoff": 15
           },
           "zerolinecolor": "white",
           "zerolinewidth": 2
          }
         }
        },
        "title": {
         "text": "Return Components Analysis"
        },
        "xaxis": {
         "anchor": "y",
         "domain": [
          0,
          1
         ]
        },
        "xaxis2": {
         "anchor": "y2",
         "domain": [
          0,
          1
         ]
        },
        "yaxis": {
         "anchor": "x",
         "domain": [
          0.66,
          1
         ],
         "title": {
          "text": "Return (%)"
         }
        },
        "yaxis2": {
         "anchor": "x2",
         "domain": [
          0,
          0.51
         ],
         "title": {
          "text": "Cumulative Return (%)"
         }
        }
       }
      }
     },
     "metadata": {},
     "output_type": "display_data"
    },
    {
     "name": "stdout",
     "output_type": "stream",
     "text": [
      "\n",
      "Final Returns Breakdown:\n",
      "Gap Returns: 22.04%\n",
      "RTH Returns: -2.04%\n",
      "Total Returns: 19.56%\n",
      "Gap Contribution: 112.7% of total\n",
      "RTH Contribution: -10.4% of total\n"
     ]
    }
   ],
   "source": [
    "#df = df_local\n",
    "# Assuming df is your OHLCV dataframe with datetime index\n",
    "returns_df, stats_by_period = analyze_distributions_over_time(df)\n",
    "\n",
    "# Plot overall distributions\n",
    "fig_overall = plot_overall_distributions(returns_df)\n",
    "fig_overall.show()\n",
    "\n",
    "# Plot time evolution\n",
    "daily_df = df.resample('D').agg({\n",
    "    'open': 'first',\n",
    "    'high': 'max',\n",
    "    'low': 'min',\n",
    "    'close': 'last'\n",
    "}).dropna()\n",
    "close_series = daily_df['close']\n",
    "fig, final_returns = plot_return_components_evolution(returns_df, close_series)\n",
    "fig.show()\n",
    "\n",
    "fig = plot_return_components_evolution_v2(returns_df)\n",
    "fig.show()\n",
    "\n",
    "# Print statistics for all periods\n",
    "for period, stats in stats_by_period.items():\n",
    "    print(f\"\\nStatistics for {period}:\")\n",
    "    print(stats)\n",
    "\n",
    "# Create and display the plot\n",
    "fig, final_returns = analyze_return_components(returns_df)\n",
    "fig.show()\n",
    "\n",
    "# Print detailed breakdown\n",
    "print(\"\\nFinal Returns Breakdown:\")\n",
    "print(f\"Gap Returns: {final_returns['gap']:.2f}%\")\n",
    "print(f\"RTH Returns: {final_returns['rth']:.2f}%\")\n",
    "print(f\"Total Returns: {final_returns['total']:.2f}%\")\n",
    "print(f\"Gap Contribution: {(final_returns['gap']/final_returns['total']*100):.1f}% of total\")\n",
    "print(f\"RTH Contribution: {(final_returns['rth']/final_returns['total']*100):.1f}% of total\")"
   ]
  }
 ],
 "metadata": {
  "kernelspec": {
   "display_name": ".venv",
   "language": "python",
   "name": "python3"
  },
  "language_info": {
   "codemirror_mode": {
    "name": "ipython",
    "version": 3
   },
   "file_extension": ".py",
   "mimetype": "text/x-python",
   "name": "python",
   "nbconvert_exporter": "python",
   "pygments_lexer": "ipython3",
   "version": "3.10.11"
  }
 },
 "nbformat": 4,
 "nbformat_minor": 2
}
