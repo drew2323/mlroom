{
 "cells": [
  {
   "cell_type": "code",
   "execution_count": 1,
   "metadata": {},
   "outputs": [],
   "source": [
    "import pandas as pd\n",
    "import numpy as np\n",
    "from sklearn.preprocessing import StandardScaler\n",
    "from sklearn.metrics import mean_squared_error, mean_absolute_error, r2_score\n",
    "import xgboost as xgb\n",
    "import optuna\n",
    "import matplotlib.pyplot as plt\n",
    "from tqdm import tqdm\n",
    "\n",
    "class RollingWindowPredictor:\n",
    "    def __init__(self, window_size=5):\n",
    "        \"\"\"\n",
    "        Initialize the predictor\n",
    "        window_size: number of days to use for prediction (default: 5)\n",
    "        \"\"\"\n",
    "        self.window_size = window_size\n",
    "        self.scaler = StandardScaler()\n",
    "        self.model = None\n",
    "        \n",
    "    def prepare_rolling_window_data(self, df, start_idx, end_idx):\n",
    "        \"\"\"\n",
    "        Prepare data for a single rolling window\n",
    "        \"\"\"\n",
    "        # Get window data\n",
    "        window_data = df.iloc[start_idx:end_idx]\n",
    "        \n",
    "        # Get target (next day)\n",
    "        if end_idx < len(df):\n",
    "            target = df.iloc[end_idx]['target']\n",
    "        else:\n",
    "            target = None\n",
    "            \n",
    "        # Scale the window data\n",
    "        scaled_data = self.scaler.fit_transform(window_data)\n",
    "        \n",
    "        # Flatten the window into a single feature vector\n",
    "        X = scaled_data.reshape(1, -1)\n",
    "        \n",
    "        return X, target\n",
    "\n",
    "    def objective(self, trial, X_train, y_train, X_val, y_val):\n",
    "        \"\"\"Optuna objective for hyperparameter optimization\"\"\"\n",
    "        params = {\n",
    "            'max_depth': trial.suggest_int('max_depth', 3, 8),\n",
    "            'learning_rate': trial.suggest_float('learning_rate', 0.01, 0.1),\n",
    "            'n_estimators': trial.suggest_int('n_estimators', 50, 300),\n",
    "            'min_child_weight': trial.suggest_int('min_child_weight', 1, 7),\n",
    "            'subsample': trial.suggest_float('subsample', 0.6, 1.0),\n",
    "            'colsample_bytree': trial.suggest_float('colsample_bytree', 0.6, 1.0),\n",
    "            'gamma': trial.suggest_float('gamma', 0, 0.5)\n",
    "        }\n",
    "        \n",
    "        model = xgb.XGBRegressor(\n",
    "            **params,\n",
    "            random_state=42,\n",
    "            early_stopping_rounds=20\n",
    "        )\n",
    "        \n",
    "        model.fit(\n",
    "            X_train, y_train,\n",
    "            eval_set=[(X_val, y_val)],\n",
    "            verbose=False\n",
    "        )\n",
    "        \n",
    "        preds = model.predict(X_val)\n",
    "        return mean_squared_error(y_val, preds, squared=False)  # RMSE\n",
    "\n",
    "    def create_training_windows(self, df, validation_size=0.2):\n",
    "        \"\"\"Create training and validation windows\"\"\"\n",
    "        X_list, y_list = [], []\n",
    "        \n",
    "        # Calculate the number of possible windows\n",
    "        n_windows = len(df) - self.window_size\n",
    "        \n",
    "        # Create windows\n",
    "        for i in range(n_windows):\n",
    "            X, y = self.prepare_rolling_window_data(df, i, i + self.window_size)\n",
    "            if y is not None:  # Skip if we don't have a target\n",
    "                X_list.append(X)\n",
    "                y_list.append(y)\n",
    "        \n",
    "        # Convert to numpy arrays\n",
    "        X = np.vstack(X_list)\n",
    "        y = np.array(y_list)\n",
    "        \n",
    "        # Split into train and validation\n",
    "        split_idx = int(len(X) * (1 - validation_size))\n",
    "        X_train, X_val = X[:split_idx], X[split_idx:]\n",
    "        y_train, y_val = y[:split_idx], y[split_idx:]\n",
    "        \n",
    "        return X_train, y_train, X_val, y_val\n",
    "\n",
    "    def train(self, df, n_trials=5):\n",
    "        \"\"\"Train the model with hyperparameter optimization\"\"\"\n",
    "        print(\"Creating training windows...\")\n",
    "        X_train, y_train, X_val, y_val = self.create_training_windows(df)\n",
    "        \n",
    "        print(f\"Training data shape: {X_train.shape}\")\n",
    "        print(f\"Validation data shape: {X_val.shape}\")\n",
    "        \n",
    "        print(\"\\nOptimizing hyperparameters...\")\n",
    "        study = optuna.create_study(direction='minimize')\n",
    "        study.optimize(lambda trial: self.objective(trial, X_train, y_train, X_val, y_val),\n",
    "                      n_trials=n_trials)\n",
    "        \n",
    "        print(\"\\nBest parameters:\", study.best_params)\n",
    "        \n",
    "        # Train final model on all data\n",
    "        self.model = xgb.XGBRegressor(**study.best_params, random_state=42)\n",
    "        self.model.fit(np.vstack((X_train, X_val)), np.hstack((y_train, y_val)))\n",
    "        \n",
    "        return study.best_value\n",
    "\n",
    "    def predict_next_day(self, window_data):\n",
    "        \"\"\"Predict the next day's value given a window of data\"\"\"\n",
    "        X, _ = self.prepare_rolling_window_data(window_data, 0, len(window_data))\n",
    "        return self.model.predict(X)[0]\n",
    "\n",
    "    def backtest(self, df, start_date=None):\n",
    "        \"\"\"\n",
    "        Perform backtesting on the data\n",
    "        Returns predictions and actual values\n",
    "        \"\"\"\n",
    "        predictions = []\n",
    "        actuals = []\n",
    "        dates = []\n",
    "        \n",
    "        # If no start_date is provided, use the first possible date for prediction\n",
    "        if start_date is None:\n",
    "            start_idx = self.window_size\n",
    "        else:\n",
    "            start_idx = df.index.get_loc(start_date)\n",
    "            \n",
    "        # Iterate through the data\n",
    "        for i in tqdm(range(start_idx, len(df)), desc=\"Backtesting\"):\n",
    "            # Get window data\n",
    "            window_data = df.iloc[i - self.window_size:i]\n",
    "            \n",
    "            print(\"predict\",df.index[i])\n",
    "\n",
    "            # Make prediction\n",
    "            pred = self.predict_next_day(window_data)\n",
    "            actual = df.iloc[i]['target']\n",
    "            \n",
    "            predictions.append(pred)\n",
    "            actuals.append(actual)\n",
    "            dates.append(df.index[i])\n",
    "            \n",
    "        return pd.DataFrame({\n",
    "            'date': dates,\n",
    "            'predicted': predictions,\n",
    "            'actual': actuals\n",
    "        }).set_index('date')\n",
    "\n",
    "    def evaluate(self, df, start_date=None, show_plots=True):\n",
    "        \"\"\"Evaluate model performance\"\"\"\n",
    "        results = self.backtest(df, start_date)\n",
    "        \n",
    "        # Calculate metrics\n",
    "        rmse = mean_squared_error(results['actual'], results['predicted'], squared=False)\n",
    "        mae = mean_absolute_error(results['actual'], results['predicted'])\n",
    "        r2 = r2_score(results['actual'], results['predicted'])\n",
    "        \n",
    "        print(\"\\nPerformance Metrics:\")\n",
    "        print(f\"RMSE: {rmse:.4f}\")\n",
    "        print(f\"MAE: {mae:.4f}\")\n",
    "        print(f\"R2 Score: {r2:.4f}\")\n",
    "        \n",
    "        if show_plots:\n",
    "            # Plot predictions vs actual over time\n",
    "            plt.figure(figsize=(15, 6))\n",
    "            plt.plot(results.index, results['actual'], label='Actual', alpha=0.7)\n",
    "            plt.plot(results.index, results['predicted'], label='Predicted', alpha=0.7)\n",
    "            plt.title('Predictions vs Actual Over Time')\n",
    "            plt.legend()\n",
    "            plt.tight_layout()\n",
    "            plt.show()\n",
    "            \n",
    "            # Plot actual vs predicted scatter\n",
    "            plt.figure(figsize=(10, 6))\n",
    "            plt.scatter(results['actual'], results['predicted'], alpha=0.5)\n",
    "            plt.plot([results['actual'].min(), results['actual'].max()], \n",
    "                    [results['actual'].min(), results['actual'].max()], \n",
    "                    'r--', lw=2)\n",
    "            plt.xlabel('Actual')\n",
    "            plt.ylabel('Predicted')\n",
    "            plt.title('Actual vs Predicted Values')\n",
    "            plt.show()\n",
    "            \n",
    "            # Plot prediction error distribution\n",
    "            plt.figure(figsize=(10, 6))\n",
    "            errors = results['predicted'] - results['actual']\n",
    "            plt.hist(errors, bins=50)\n",
    "            plt.title('Prediction Error Distribution')\n",
    "            plt.xlabel('Prediction Error')\n",
    "            plt.ylabel('Frequency')\n",
    "            plt.show()\n",
    "        \n",
    "        return results\n",
    "\n"
   ]
  },
  {
   "cell_type": "code",
   "execution_count": 3,
   "metadata": {},
   "outputs": [
    {
     "name": "stdout",
     "output_type": "stream",
     "text": [
      "Training model...\n",
      "Creating training windows...\n"
     ]
    },
    {
     "name": "stderr",
     "output_type": "stream",
     "text": [
      "[I 2024-11-05 11:46:20,270] A new study created in memory with name: no-name-01e94b0b-5d18-4dd3-ad5b-240dbe49b018\n"
     ]
    },
    {
     "name": "stdout",
     "output_type": "stream",
     "text": [
      "Training data shape: (3672, 395)\n",
      "Validation data shape: (919, 395)\n",
      "\n",
      "Optimizing hyperparameters...\n"
     ]
    },
    {
     "name": "stderr",
     "output_type": "stream",
     "text": [
      "[I 2024-11-05 11:46:35,613] Trial 0 finished with value: 0.20054115554729482 and parameters: {'max_depth': 8, 'learning_rate': 0.0185265442827746, 'n_estimators': 206, 'min_child_weight': 1, 'subsample': 0.7830545640287101, 'colsample_bytree': 0.8038338174725567, 'gamma': 0.31435633100878835}. Best is trial 0 with value: 0.20054115554729482.\n",
      "[I 2024-11-05 11:46:38,087] Trial 1 finished with value: 0.2092700697102592 and parameters: {'max_depth': 4, 'learning_rate': 0.027416521492297542, 'n_estimators': 53, 'min_child_weight': 3, 'subsample': 0.6366850500365776, 'colsample_bytree': 0.6524359142370433, 'gamma': 0.013236111973150833}. Best is trial 0 with value: 0.20054115554729482.\n",
      "[I 2024-11-05 11:46:39,898] Trial 2 finished with value: 0.20442254253750158 and parameters: {'max_depth': 3, 'learning_rate': 0.047482489823538844, 'n_estimators': 55, 'min_child_weight': 6, 'subsample': 0.9461853382234253, 'colsample_bytree': 0.7631342430183345, 'gamma': 0.28980729658151144}. Best is trial 0 with value: 0.20054115554729482.\n",
      "[I 2024-11-05 11:46:46,880] Trial 3 finished with value: 0.2010158722018075 and parameters: {'max_depth': 8, 'learning_rate': 0.04092302866300303, 'n_estimators': 186, 'min_child_weight': 1, 'subsample': 0.7554997317924668, 'colsample_bytree': 0.8046892581902918, 'gamma': 0.3862445605347216}. Best is trial 0 with value: 0.20054115554729482.\n",
      "[I 2024-11-05 11:46:48,679] Trial 4 finished with value: 0.20217157581882858 and parameters: {'max_depth': 3, 'learning_rate': 0.0846897086513129, 'n_estimators': 68, 'min_child_weight': 2, 'subsample': 0.6422662901389685, 'colsample_bytree': 0.8145818585860827, 'gamma': 0.3120835906007124}. Best is trial 0 with value: 0.20054115554729482.\n"
     ]
    },
    {
     "name": "stdout",
     "output_type": "stream",
     "text": [
      "\n",
      "Best parameters: {'max_depth': 8, 'learning_rate': 0.0185265442827746, 'n_estimators': 206, 'min_child_weight': 1, 'subsample': 0.7830545640287101, 'colsample_bytree': 0.8038338174725567, 'gamma': 0.31435633100878835}\n",
      "\n",
      "Best validation RMSE: 0.2005\n",
      "\n",
      "Performing backtest on test set...\n"
     ]
    },
    {
     "name": "stderr",
     "output_type": "stream",
     "text": [
      "Backtesting:   1%|          | 6/1145 [00:00<00:20, 56.15it/s]"
     ]
    },
    {
     "name": "stdout",
     "output_type": "stream",
     "text": [
      "predict 2024-05-02 14:45:00\n",
      "predict 2024-05-03 08:30:00\n",
      "predict 2024-05-03 08:45:00\n",
      "predict 2024-05-03 09:00:00\n",
      "predict 2024-05-03 09:15:00\n",
      "predict 2024-05-03 09:30:00\n",
      "predict 2024-05-03 09:45:00\n",
      "predict 2024-05-03 10:00:00\n",
      "predict 2024-05-03 10:15:00\n",
      "predict 2024-05-03 10:30:00\n",
      "predict 2024-05-03 10:45:00\n",
      "predict 2024-05-03 11:00:00\n"
     ]
    },
    {
     "name": "stderr",
     "output_type": "stream",
     "text": [
      "Backtesting:   1%|          | 12/1145 [00:00<00:20, 56.35it/s]"
     ]
    },
    {
     "name": "stdout",
     "output_type": "stream",
     "text": [
      "predict 2024-05-03 11:15:00\n"
     ]
    },
    {
     "name": "stderr",
     "output_type": "stream",
     "text": [
      "Backtesting:   2%|▏         | 18/1145 [00:00<00:19, 56.75it/s]"
     ]
    },
    {
     "name": "stdout",
     "output_type": "stream",
     "text": [
      "predict 2024-05-03 11:30:00\n",
      "predict 2024-05-03 11:45:00\n",
      "predict 2024-05-03 12:00:00\n",
      "predict 2024-05-03 12:15:00\n",
      "predict 2024-05-03 12:30:00\n",
      "predict 2024-05-03 12:45:00\n",
      "predict 2024-05-03 13:00:00\n",
      "predict 2024-05-03 13:15:00\n",
      "predict 2024-05-03 13:30:00\n",
      "predict 2024-05-03 13:45:00\n",
      "predict 2024-05-03 14:00:00\n"
     ]
    },
    {
     "name": "stderr",
     "output_type": "stream",
     "text": [
      "Backtesting:   2%|▏         | 24/1145 [00:00<00:19, 56.09it/s]"
     ]
    },
    {
     "name": "stdout",
     "output_type": "stream",
     "text": [
      "predict 2024-05-03 14:15:00\n"
     ]
    },
    {
     "name": "stderr",
     "output_type": "stream",
     "text": [
      "Backtesting:   3%|▎         | 36/1145 [00:00<00:19, 55.66it/s]"
     ]
    },
    {
     "name": "stdout",
     "output_type": "stream",
     "text": [
      "predict 2024-05-03 14:30:00\n",
      "predict 2024-05-03 14:45:00\n",
      "predict 2024-05-06 08:30:00\n",
      "predict 2024-05-06 08:45:00\n",
      "predict 2024-05-06 09:00:00\n",
      "predict 2024-05-06 09:15:00\n",
      "predict 2024-05-06 09:30:00\n",
      "predict 2024-05-06 09:45:00\n",
      "predict 2024-05-06 10:00:00\n",
      "predict 2024-05-06 10:15:00\n",
      "predict 2024-05-06 10:30:00\n",
      "predict 2024-05-06 10:45:00\n"
     ]
    },
    {
     "name": "stderr",
     "output_type": "stream",
     "text": [
      "Backtesting:   4%|▎         | 42/1145 [00:00<00:20, 54.21it/s]"
     ]
    },
    {
     "name": "stdout",
     "output_type": "stream",
     "text": [
      "predict 2024-05-06 11:00:00\n",
      "predict 2024-05-06 11:15:00\n",
      "predict 2024-05-06 11:30:00\n",
      "predict 2024-05-06 11:45:00\n",
      "predict 2024-05-06 12:00:00\n",
      "predict 2024-05-06 12:15:00\n",
      "predict 2024-05-06 12:30:00\n",
      "predict 2024-05-06 12:45:00\n",
      "predict 2024-05-06 13:00:00\n"
     ]
    },
    {
     "name": "stderr",
     "output_type": "stream",
     "text": [
      "Backtesting:   5%|▍         | 53/1145 [00:01<00:25, 42.09it/s]"
     ]
    },
    {
     "name": "stdout",
     "output_type": "stream",
     "text": [
      "predict 2024-05-06 13:15:00\n",
      "predict 2024-05-06 13:30:00\n",
      "predict 2024-05-06 13:45:00\n",
      "predict 2024-05-06 14:00:00\n",
      "predict 2024-05-06 14:15:00\n",
      "predict 2024-05-06 14:30:00\n",
      "predict 2024-05-06 14:45:00\n",
      "predict 2024-05-07 08:30:00\n"
     ]
    },
    {
     "name": "stderr",
     "output_type": "stream",
     "text": [
      "Backtesting:   6%|▌         | 65/1145 [00:01<00:22, 48.74it/s]"
     ]
    },
    {
     "name": "stdout",
     "output_type": "stream",
     "text": [
      "predict 2024-05-07 08:45:00\n",
      "predict 2024-05-07 09:00:00\n",
      "predict 2024-05-07 09:15:00\n",
      "predict 2024-05-07 09:30:00\n",
      "predict 2024-05-07 09:45:00\n",
      "predict 2024-05-07 10:00:00\n",
      "predict 2024-05-07 10:15:00\n",
      "predict 2024-05-07 10:30:00\n",
      "predict 2024-05-07 10:45:00\n",
      "predict 2024-05-07 11:00:00\n",
      "predict 2024-05-07 11:15:00\n",
      "predict 2024-05-07 11:30:00\n"
     ]
    },
    {
     "name": "stderr",
     "output_type": "stream",
     "text": [
      "Backtesting:   7%|▋         | 77/1145 [00:01<00:20, 52.19it/s]"
     ]
    },
    {
     "name": "stdout",
     "output_type": "stream",
     "text": [
      "predict 2024-05-07 11:45:00\n",
      "predict 2024-05-07 12:00:00\n",
      "predict 2024-05-07 12:15:00\n",
      "predict 2024-05-07 12:30:00\n",
      "predict 2024-05-07 12:45:00\n",
      "predict 2024-05-07 13:00:00\n",
      "predict 2024-05-07 13:15:00\n",
      "predict 2024-05-07 13:30:00\n",
      "predict 2024-05-07 13:45:00\n",
      "predict 2024-05-07 14:00:00\n",
      "predict 2024-05-07 14:15:00\n",
      "predict 2024-05-07 14:30:00\n"
     ]
    },
    {
     "name": "stderr",
     "output_type": "stream",
     "text": [
      "Backtesting:   8%|▊         | 89/1145 [00:01<00:19, 54.76it/s]"
     ]
    },
    {
     "name": "stdout",
     "output_type": "stream",
     "text": [
      "predict 2024-05-07 14:45:00\n",
      "predict 2024-05-08 08:30:00\n",
      "predict 2024-05-08 08:45:00\n",
      "predict 2024-05-08 09:00:00\n",
      "predict 2024-05-08 09:15:00\n",
      "predict 2024-05-08 09:30:00\n",
      "predict 2024-05-08 09:45:00\n",
      "predict 2024-05-08 10:00:00\n",
      "predict 2024-05-08 10:15:00\n",
      "predict 2024-05-08 10:30:00\n",
      "predict 2024-05-08 10:45:00\n",
      "predict 2024-05-08 11:00:00\n",
      "predict 2024-05-08 11:15:00\n"
     ]
    },
    {
     "name": "stderr",
     "output_type": "stream",
     "text": [
      "Backtesting:   8%|▊         | 95/1145 [00:01<00:19, 53.69it/s]"
     ]
    },
    {
     "name": "stdout",
     "output_type": "stream",
     "text": [
      "predict 2024-05-08 11:30:00\n",
      "predict 2024-05-08 11:45:00\n",
      "predict 2024-05-08 12:00:00\n",
      "predict 2024-05-08 12:15:00\n",
      "predict 2024-05-08 12:30:00\n",
      "predict 2024-05-08 12:45:00\n",
      "predict 2024-05-08 13:00:00\n",
      "predict 2024-05-08 13:15:00\n",
      "predict 2024-05-08 13:30:00\n",
      "predict 2024-05-08 13:45:00\n"
     ]
    },
    {
     "name": "stderr",
     "output_type": "stream",
     "text": [
      "Backtesting:   9%|▉         | 107/1145 [00:02<00:21, 49.26it/s]"
     ]
    },
    {
     "name": "stdout",
     "output_type": "stream",
     "text": [
      "predict 2024-05-08 14:00:00\n",
      "predict 2024-05-08 14:15:00\n",
      "predict 2024-05-08 14:30:00\n",
      "predict 2024-05-08 14:45:00\n",
      "predict 2024-05-09 08:30:00\n",
      "predict 2024-05-09 08:45:00\n",
      "predict 2024-05-09 09:00:00\n",
      "predict 2024-05-09 09:15:00\n",
      "predict 2024-05-09 09:30:00\n",
      "predict 2024-05-09 09:45:00\n",
      "predict 2024-05-09 10:00:00\n"
     ]
    },
    {
     "name": "stderr",
     "output_type": "stream",
     "text": [
      "Backtesting:  10%|█         | 118/1145 [00:02<00:21, 48.65it/s]"
     ]
    },
    {
     "name": "stdout",
     "output_type": "stream",
     "text": [
      "predict 2024-05-09 10:15:00\n",
      "predict 2024-05-09 10:30:00\n",
      "predict 2024-05-09 10:45:00\n",
      "predict 2024-05-09 11:00:00\n",
      "predict 2024-05-09 11:15:00\n",
      "predict 2024-05-09 11:30:00\n",
      "predict 2024-05-09 11:45:00\n",
      "predict 2024-05-09 12:00:00\n",
      "predict 2024-05-09 12:15:00\n",
      "predict 2024-05-09 12:30:00\n",
      "predict 2024-05-09 12:45:00\n",
      "predict 2024-05-09 13:00:00\n"
     ]
    },
    {
     "name": "stderr",
     "output_type": "stream",
     "text": [
      "Backtesting:  12%|█▏        | 136/1145 [00:02<00:18, 54.09it/s]"
     ]
    },
    {
     "name": "stdout",
     "output_type": "stream",
     "text": [
      "predict 2024-05-09 13:15:00\n",
      "predict 2024-05-09 13:30:00\n",
      "predict 2024-05-09 13:45:00\n",
      "predict 2024-05-09 14:00:00\n",
      "predict 2024-05-09 14:15:00\n",
      "predict 2024-05-09 14:30:00\n",
      "predict 2024-05-09 14:45:00\n",
      "predict 2024-05-10 08:30:00\n",
      "predict 2024-05-10 08:45:00\n",
      "predict 2024-05-10 09:00:00\n",
      "predict 2024-05-10 09:15:00\n",
      "predict 2024-05-10 09:30:00\n",
      "predict 2024-05-10 09:45:00\n"
     ]
    },
    {
     "name": "stderr",
     "output_type": "stream",
     "text": [
      "Backtesting:  13%|█▎        | 148/1145 [00:02<00:17, 55.45it/s]"
     ]
    },
    {
     "name": "stdout",
     "output_type": "stream",
     "text": [
      "predict 2024-05-10 10:00:00\n",
      "predict 2024-05-10 10:15:00\n",
      "predict 2024-05-10 10:30:00\n",
      "predict 2024-05-10 10:45:00\n",
      "predict 2024-05-10 11:00:00\n",
      "predict 2024-05-10 11:15:00\n",
      "predict 2024-05-10 11:30:00\n",
      "predict 2024-05-10 11:45:00\n",
      "predict 2024-05-10 12:00:00\n",
      "predict 2024-05-10 12:15:00\n",
      "predict 2024-05-10 12:30:00\n",
      "predict 2024-05-10 12:45:00\n",
      "predict 2024-05-10 13:00:00\n"
     ]
    },
    {
     "name": "stderr",
     "output_type": "stream",
     "text": [
      "Backtesting:  14%|█▍        | 160/1145 [00:03<00:18, 54.03it/s]"
     ]
    },
    {
     "name": "stdout",
     "output_type": "stream",
     "text": [
      "predict 2024-05-10 13:15:00\n",
      "predict 2024-05-10 13:30:00\n",
      "predict 2024-05-10 13:45:00\n",
      "predict 2024-05-10 14:00:00\n",
      "predict 2024-05-10 14:15:00\n",
      "predict 2024-05-10 14:30:00\n",
      "predict 2024-05-10 14:45:00\n",
      "predict 2024-05-13 08:30:00\n",
      "predict 2024-05-13 08:45:00\n",
      "predict 2024-05-13 09:00:00\n",
      "predict 2024-05-13 09:15:00\n"
     ]
    },
    {
     "name": "stderr",
     "output_type": "stream",
     "text": [
      "Backtesting:  15%|█▌        | 172/1145 [00:03<00:17, 55.32it/s]"
     ]
    },
    {
     "name": "stdout",
     "output_type": "stream",
     "text": [
      "predict 2024-05-13 09:30:00\n",
      "predict 2024-05-13 09:45:00\n",
      "predict 2024-05-13 10:00:00\n",
      "predict 2024-05-13 10:15:00\n",
      "predict 2024-05-13 10:30:00\n",
      "predict 2024-05-13 10:45:00\n",
      "predict 2024-05-13 11:00:00\n",
      "predict 2024-05-13 11:15:00\n",
      "predict 2024-05-13 11:30:00\n",
      "predict 2024-05-13 11:45:00\n",
      "predict 2024-05-13 12:00:00\n",
      "predict 2024-05-13 12:15:00\n"
     ]
    },
    {
     "name": "stderr",
     "output_type": "stream",
     "text": [
      "Backtesting:  16%|█▌        | 184/1145 [00:03<00:16, 56.97it/s]"
     ]
    },
    {
     "name": "stdout",
     "output_type": "stream",
     "text": [
      "predict 2024-05-13 12:30:00\n",
      "predict 2024-05-13 12:45:00\n",
      "predict 2024-05-13 13:00:00\n",
      "predict 2024-05-13 13:15:00\n",
      "predict 2024-05-13 13:30:00\n",
      "predict 2024-05-13 13:45:00\n",
      "predict 2024-05-13 14:00:00\n",
      "predict 2024-05-13 14:15:00\n",
      "predict 2024-05-13 14:30:00\n",
      "predict 2024-05-13 14:45:00\n",
      "predict 2024-05-14 08:30:00\n",
      "predict 2024-05-14 08:45:00\n",
      "predict 2024-05-14 09:00:00\n"
     ]
    },
    {
     "name": "stderr",
     "output_type": "stream",
     "text": [
      "Backtesting:  17%|█▋        | 197/1145 [00:03<00:16, 58.32it/s]"
     ]
    },
    {
     "name": "stdout",
     "output_type": "stream",
     "text": [
      "predict 2024-05-14 09:15:00\n",
      "predict 2024-05-14 09:30:00\n",
      "predict 2024-05-14 09:45:00\n",
      "predict 2024-05-14 10:00:00\n",
      "predict 2024-05-14 10:15:00\n",
      "predict 2024-05-14 10:30:00\n",
      "predict 2024-05-14 10:45:00\n",
      "predict 2024-05-14 11:00:00\n",
      "predict 2024-05-14 11:15:00\n",
      "predict 2024-05-14 11:30:00\n",
      "predict 2024-05-14 11:45:00\n",
      "predict 2024-05-14 12:00:00\n",
      "predict 2024-05-14 12:15:00\n"
     ]
    },
    {
     "name": "stderr",
     "output_type": "stream",
     "text": [
      "Backtesting:  18%|█▊        | 209/1145 [00:03<00:16, 58.26it/s]"
     ]
    },
    {
     "name": "stdout",
     "output_type": "stream",
     "text": [
      "predict 2024-05-14 12:30:00\n",
      "predict 2024-05-14 12:45:00\n",
      "predict 2024-05-14 13:00:00\n",
      "predict 2024-05-14 13:15:00\n",
      "predict 2024-05-14 13:30:00\n",
      "predict 2024-05-14 13:45:00\n",
      "predict 2024-05-14 14:00:00\n",
      "predict 2024-05-14 14:15:00\n",
      "predict 2024-05-14 14:30:00\n",
      "predict 2024-05-14 14:45:00\n",
      "predict 2024-05-15 08:30:00\n",
      "predict 2024-05-15 08:45:00\n",
      "predict 2024-05-15 09:00:00\n"
     ]
    },
    {
     "name": "stderr",
     "output_type": "stream",
     "text": [
      "Backtesting:  19%|█▉        | 221/1145 [00:04<00:15, 58.39it/s]"
     ]
    },
    {
     "name": "stdout",
     "output_type": "stream",
     "text": [
      "predict 2024-05-15 09:15:00\n",
      "predict 2024-05-15 09:30:00\n",
      "predict 2024-05-15 09:45:00\n",
      "predict 2024-05-15 10:00:00\n",
      "predict 2024-05-15 10:15:00\n",
      "predict 2024-05-15 10:30:00\n",
      "predict 2024-05-15 10:45:00\n",
      "predict 2024-05-15 11:00:00\n",
      "predict 2024-05-15 11:15:00\n",
      "predict 2024-05-15 11:30:00\n",
      "predict 2024-05-15 11:45:00\n",
      "predict 2024-05-15 12:00:00\n",
      "predict 2024-05-15 12:15:00\n"
     ]
    },
    {
     "name": "stderr",
     "output_type": "stream",
     "text": [
      "Backtesting:  20%|██        | 233/1145 [00:04<00:15, 57.94it/s]"
     ]
    },
    {
     "name": "stdout",
     "output_type": "stream",
     "text": [
      "predict 2024-05-15 12:30:00\n",
      "predict 2024-05-15 12:45:00\n",
      "predict 2024-05-15 13:00:00\n",
      "predict 2024-05-15 13:15:00\n",
      "predict 2024-05-15 13:30:00\n",
      "predict 2024-05-15 13:45:00\n",
      "predict 2024-05-15 14:00:00\n",
      "predict 2024-05-15 14:15:00\n",
      "predict 2024-05-15 14:30:00\n",
      "predict 2024-05-15 14:45:00\n",
      "predict 2024-05-16 08:30:00\n",
      "predict 2024-05-16 08:45:00\n"
     ]
    },
    {
     "name": "stderr",
     "output_type": "stream",
     "text": [
      "Backtesting:  21%|██▏       | 245/1145 [00:04<00:16, 53.41it/s]"
     ]
    },
    {
     "name": "stdout",
     "output_type": "stream",
     "text": [
      "predict 2024-05-16 09:00:00\n",
      "predict 2024-05-16 09:15:00\n",
      "predict 2024-05-16 09:30:00\n",
      "predict 2024-05-16 09:45:00\n",
      "predict 2024-05-16 10:00:00\n",
      "predict 2024-05-16 10:15:00\n",
      "predict 2024-05-16 10:30:00\n",
      "predict 2024-05-16 10:45:00\n",
      "predict 2024-05-16 11:00:00\n",
      "predict 2024-05-16 11:15:00\n",
      "predict 2024-05-16 11:30:00\n"
     ]
    },
    {
     "name": "stderr",
     "output_type": "stream",
     "text": [
      "Backtesting:  22%|██▏       | 257/1145 [00:04<00:16, 54.64it/s]"
     ]
    },
    {
     "name": "stdout",
     "output_type": "stream",
     "text": [
      "predict 2024-05-16 11:45:00\n",
      "predict 2024-05-16 12:00:00\n",
      "predict 2024-05-16 12:15:00\n",
      "predict 2024-05-16 12:30:00\n",
      "predict 2024-05-16 12:45:00\n",
      "predict 2024-05-16 13:00:00\n",
      "predict 2024-05-16 13:15:00\n",
      "predict 2024-05-16 13:30:00\n",
      "predict 2024-05-16 13:45:00\n",
      "predict 2024-05-16 14:00:00\n",
      "predict 2024-05-16 14:15:00\n",
      "predict 2024-05-16 14:30:00\n"
     ]
    },
    {
     "name": "stderr",
     "output_type": "stream",
     "text": [
      "Backtesting:  23%|██▎       | 263/1145 [00:04<00:19, 44.11it/s]"
     ]
    },
    {
     "name": "stdout",
     "output_type": "stream",
     "text": [
      "predict 2024-05-16 14:45:00\n",
      "predict 2024-05-17 08:30:00\n",
      "predict 2024-05-17 08:45:00\n",
      "predict 2024-05-17 09:00:00\n",
      "predict 2024-05-17 09:15:00\n"
     ]
    },
    {
     "name": "stderr",
     "output_type": "stream",
     "text": [
      "Backtesting:  24%|██▍       | 273/1145 [00:05<00:19, 44.19it/s]"
     ]
    },
    {
     "name": "stdout",
     "output_type": "stream",
     "text": [
      "predict 2024-05-17 09:30:00\n",
      "predict 2024-05-17 09:45:00\n",
      "predict 2024-05-17 10:00:00\n",
      "predict 2024-05-17 10:15:00\n",
      "predict 2024-05-17 10:30:00\n",
      "predict 2024-05-17 10:45:00\n",
      "predict 2024-05-17 11:00:00\n",
      "predict 2024-05-17 11:15:00\n",
      "predict 2024-05-17 11:30:00\n",
      "predict 2024-05-17 11:45:00\n"
     ]
    },
    {
     "name": "stderr",
     "output_type": "stream",
     "text": [
      "Backtesting:  25%|██▍       | 283/1145 [00:05<00:19, 43.73it/s]"
     ]
    },
    {
     "name": "stdout",
     "output_type": "stream",
     "text": [
      "predict 2024-05-17 12:00:00\n",
      "predict 2024-05-17 12:15:00\n",
      "predict 2024-05-17 12:30:00\n",
      "predict 2024-05-17 12:45:00\n",
      "predict 2024-05-17 13:00:00\n",
      "predict 2024-05-17 13:15:00\n",
      "predict 2024-05-17 13:30:00\n",
      "predict 2024-05-17 13:45:00\n",
      "predict 2024-05-17 14:00:00\n",
      "predict 2024-05-17 14:15:00\n"
     ]
    },
    {
     "name": "stderr",
     "output_type": "stream",
     "text": [
      "Backtesting:  26%|██▌       | 293/1145 [00:05<00:18, 44.85it/s]"
     ]
    },
    {
     "name": "stdout",
     "output_type": "stream",
     "text": [
      "predict 2024-05-17 14:30:00\n",
      "predict 2024-05-17 14:45:00\n",
      "predict 2024-05-20 08:30:00\n",
      "predict 2024-05-20 08:45:00\n",
      "predict 2024-05-20 09:00:00\n",
      "predict 2024-05-20 09:15:00\n",
      "predict 2024-05-20 09:30:00\n",
      "predict 2024-05-20 09:45:00\n",
      "predict 2024-05-20 10:00:00\n",
      "predict 2024-05-20 10:15:00\n"
     ]
    },
    {
     "name": "stderr",
     "output_type": "stream",
     "text": [
      "Backtesting:  27%|██▋       | 304/1145 [00:05<00:17, 47.46it/s]"
     ]
    },
    {
     "name": "stdout",
     "output_type": "stream",
     "text": [
      "predict 2024-05-20 10:30:00\n",
      "predict 2024-05-20 10:45:00\n",
      "predict 2024-05-20 11:00:00\n",
      "predict 2024-05-20 11:15:00\n",
      "predict 2024-05-20 11:30:00\n",
      "predict 2024-05-20 11:45:00\n",
      "predict 2024-05-20 12:00:00\n",
      "predict 2024-05-20 12:15:00\n",
      "predict 2024-05-20 12:30:00\n",
      "predict 2024-05-20 12:45:00\n",
      "predict 2024-05-20 13:00:00\n"
     ]
    },
    {
     "name": "stderr",
     "output_type": "stream",
     "text": [
      "Backtesting:  27%|██▋       | 309/1145 [00:06<00:22, 37.34it/s]"
     ]
    },
    {
     "name": "stdout",
     "output_type": "stream",
     "text": [
      "predict 2024-05-20 13:15:00\n",
      "predict 2024-05-20 13:30:00\n",
      "predict 2024-05-20 13:45:00\n",
      "predict 2024-05-20 14:00:00\n",
      "predict 2024-05-20 14:15:00\n",
      "predict 2024-05-20 14:30:00\n"
     ]
    },
    {
     "name": "stderr",
     "output_type": "stream",
     "text": [
      "Backtesting:  28%|██▊       | 319/1145 [00:06<00:22, 37.47it/s]"
     ]
    },
    {
     "name": "stdout",
     "output_type": "stream",
     "text": [
      "predict 2024-05-20 14:45:00\n",
      "predict 2024-05-21 08:30:00\n",
      "predict 2024-05-21 08:45:00\n",
      "predict 2024-05-21 09:00:00\n",
      "predict 2024-05-21 09:15:00\n",
      "predict 2024-05-21 09:30:00\n",
      "predict 2024-05-21 09:45:00\n"
     ]
    },
    {
     "name": "stderr",
     "output_type": "stream",
     "text": [
      "Backtesting:  28%|██▊       | 323/1145 [00:06<00:22, 35.78it/s]"
     ]
    },
    {
     "name": "stdout",
     "output_type": "stream",
     "text": [
      "predict 2024-05-21 10:00:00\n",
      "predict 2024-05-21 10:15:00\n",
      "predict 2024-05-21 10:30:00\n",
      "predict 2024-05-21 10:45:00\n",
      "predict 2024-05-21 11:00:00\n",
      "predict 2024-05-21 11:15:00\n",
      "predict 2024-05-21 11:30:00\n"
     ]
    },
    {
     "name": "stderr",
     "output_type": "stream",
     "text": [
      "Backtesting:  29%|██▊       | 327/1145 [00:06<00:25, 31.73it/s]"
     ]
    },
    {
     "name": "stdout",
     "output_type": "stream",
     "text": [
      "predict 2024-05-21 11:45:00\n",
      "predict 2024-05-21 12:00:00\n",
      "predict 2024-05-21 12:15:00\n",
      "predict 2024-05-21 12:30:00\n"
     ]
    },
    {
     "name": "stderr",
     "output_type": "stream",
     "text": [
      "Backtesting:  29%|██▉       | 334/1145 [00:07<00:31, 25.49it/s]"
     ]
    },
    {
     "name": "stdout",
     "output_type": "stream",
     "text": [
      "predict 2024-05-21 12:45:00\n",
      "predict 2024-05-21 13:00:00\n",
      "predict 2024-05-21 13:15:00\n",
      "predict 2024-05-21 13:30:00\n",
      "predict 2024-05-21 13:45:00\n",
      "predict 2024-05-21 14:00:00\n",
      "predict 2024-05-21 14:15:00\n",
      "predict 2024-05-21 14:30:00\n"
     ]
    },
    {
     "name": "stderr",
     "output_type": "stream",
     "text": [
      "Backtesting:  30%|███       | 344/1145 [00:07<00:24, 33.09it/s]"
     ]
    },
    {
     "name": "stdout",
     "output_type": "stream",
     "text": [
      "predict 2024-05-21 14:45:00\n",
      "predict 2024-05-22 08:30:00\n",
      "predict 2024-05-22 08:45:00\n",
      "predict 2024-05-22 09:00:00\n",
      "predict 2024-05-22 09:15:00\n",
      "predict 2024-05-22 09:30:00\n",
      "predict 2024-05-22 09:45:00\n",
      "predict 2024-05-22 10:00:00\n",
      "predict 2024-05-22 10:15:00\n"
     ]
    },
    {
     "name": "stderr",
     "output_type": "stream",
     "text": [
      "Backtesting:  31%|███       | 352/1145 [00:07<00:26, 30.45it/s]"
     ]
    },
    {
     "name": "stdout",
     "output_type": "stream",
     "text": [
      "predict 2024-05-22 10:30:00\n",
      "predict 2024-05-22 10:45:00\n",
      "predict 2024-05-22 11:00:00\n",
      "predict 2024-05-22 11:15:00\n",
      "predict 2024-05-22 11:30:00\n",
      "predict 2024-05-22 11:45:00\n"
     ]
    },
    {
     "name": "stderr",
     "output_type": "stream",
     "text": [
      "Backtesting:  31%|███       | 356/1145 [00:07<00:27, 28.89it/s]"
     ]
    },
    {
     "name": "stdout",
     "output_type": "stream",
     "text": [
      "predict 2024-05-22 12:00:00\n",
      "predict 2024-05-22 12:15:00\n",
      "predict 2024-05-22 12:30:00\n",
      "predict 2024-05-22 12:45:00\n",
      "predict 2024-05-22 13:00:00\n",
      "predict 2024-05-22 13:15:00\n"
     ]
    },
    {
     "name": "stderr",
     "output_type": "stream",
     "text": [
      "Backtesting:  32%|███▏      | 365/1145 [00:07<00:22, 34.05it/s]"
     ]
    },
    {
     "name": "stdout",
     "output_type": "stream",
     "text": [
      "predict 2024-05-22 13:30:00\n",
      "predict 2024-05-22 13:45:00\n",
      "predict 2024-05-22 14:00:00\n",
      "predict 2024-05-22 14:15:00\n",
      "predict 2024-05-22 14:30:00\n",
      "predict 2024-05-22 14:45:00\n",
      "predict 2024-05-23 08:30:00\n",
      "predict 2024-05-23 08:45:00\n",
      "predict 2024-05-23 09:00:00\n"
     ]
    },
    {
     "name": "stderr",
     "output_type": "stream",
     "text": [
      "Backtesting:  32%|███▏      | 369/1145 [00:08<00:26, 28.81it/s]"
     ]
    },
    {
     "name": "stdout",
     "output_type": "stream",
     "text": [
      "predict 2024-05-23 09:15:00\n",
      "predict 2024-05-23 09:30:00\n",
      "predict 2024-05-23 09:45:00\n"
     ]
    },
    {
     "name": "stderr",
     "output_type": "stream",
     "text": [
      "Backtesting:  33%|███▎      | 378/1145 [00:08<00:24, 31.27it/s]"
     ]
    },
    {
     "name": "stdout",
     "output_type": "stream",
     "text": [
      "predict 2024-05-23 10:00:00\n",
      "predict 2024-05-23 10:15:00\n",
      "predict 2024-05-23 10:30:00\n",
      "predict 2024-05-23 10:45:00\n",
      "predict 2024-05-23 11:00:00\n",
      "predict 2024-05-23 11:15:00\n",
      "predict 2024-05-23 11:30:00\n",
      "predict 2024-05-23 11:45:00\n",
      "predict 2024-05-23 12:00:00\n"
     ]
    },
    {
     "name": "stderr",
     "output_type": "stream",
     "text": [
      "Backtesting:  34%|███▍      | 387/1145 [00:08<00:21, 34.49it/s]"
     ]
    },
    {
     "name": "stdout",
     "output_type": "stream",
     "text": [
      "predict 2024-05-23 12:15:00\n",
      "predict 2024-05-23 12:30:00\n",
      "predict 2024-05-23 12:45:00\n",
      "predict 2024-05-23 13:00:00\n",
      "predict 2024-05-23 13:15:00\n",
      "predict 2024-05-23 13:30:00\n",
      "predict 2024-05-23 13:45:00\n",
      "predict 2024-05-23 14:00:00\n"
     ]
    },
    {
     "name": "stderr",
     "output_type": "stream",
     "text": [
      "Backtesting:  35%|███▍      | 397/1145 [00:08<00:18, 39.81it/s]"
     ]
    },
    {
     "name": "stdout",
     "output_type": "stream",
     "text": [
      "predict 2024-05-23 14:15:00\n",
      "predict 2024-05-23 14:30:00\n",
      "predict 2024-05-23 14:45:00\n",
      "predict 2024-05-24 08:30:00\n",
      "predict 2024-05-24 08:45:00\n",
      "predict 2024-05-24 09:00:00\n",
      "predict 2024-05-24 09:15:00\n",
      "predict 2024-05-24 09:30:00\n",
      "predict 2024-05-24 09:45:00\n",
      "predict 2024-05-24 10:00:00\n"
     ]
    },
    {
     "name": "stderr",
     "output_type": "stream",
     "text": [
      "Backtesting:  36%|███▌      | 407/1145 [00:09<00:17, 42.33it/s]"
     ]
    },
    {
     "name": "stdout",
     "output_type": "stream",
     "text": [
      "predict 2024-05-24 10:15:00\n",
      "predict 2024-05-24 10:30:00\n",
      "predict 2024-05-24 10:45:00\n",
      "predict 2024-05-24 11:00:00\n",
      "predict 2024-05-24 11:15:00\n",
      "predict 2024-05-24 11:30:00\n",
      "predict 2024-05-24 11:45:00\n",
      "predict 2024-05-24 12:00:00\n",
      "predict 2024-05-24 12:15:00\n",
      "predict 2024-05-24 12:30:00\n"
     ]
    },
    {
     "name": "stderr",
     "output_type": "stream",
     "text": [
      "Backtesting:  36%|███▋      | 417/1145 [00:09<00:16, 44.19it/s]"
     ]
    },
    {
     "name": "stdout",
     "output_type": "stream",
     "text": [
      "predict 2024-05-24 12:45:00\n",
      "predict 2024-05-24 13:00:00\n",
      "predict 2024-05-24 13:15:00\n",
      "predict 2024-05-24 13:30:00\n",
      "predict 2024-05-24 13:45:00\n",
      "predict 2024-05-24 14:00:00\n",
      "predict 2024-05-24 14:15:00\n",
      "predict 2024-05-24 14:30:00\n",
      "predict 2024-05-24 14:45:00\n",
      "predict 2024-05-28 08:30:00\n"
     ]
    },
    {
     "name": "stderr",
     "output_type": "stream",
     "text": [
      "Backtesting:  37%|███▋      | 427/1145 [00:09<00:15, 45.35it/s]"
     ]
    },
    {
     "name": "stdout",
     "output_type": "stream",
     "text": [
      "predict 2024-05-28 08:45:00\n",
      "predict 2024-05-28 09:00:00\n",
      "predict 2024-05-28 09:15:00\n",
      "predict 2024-05-28 09:30:00\n",
      "predict 2024-05-28 09:45:00\n",
      "predict 2024-05-28 10:00:00\n",
      "predict 2024-05-28 10:15:00\n",
      "predict 2024-05-28 10:30:00\n",
      "predict 2024-05-28 10:45:00\n",
      "predict 2024-05-28 11:00:00\n",
      "predict 2024-05-28 11:15:00\n"
     ]
    },
    {
     "name": "stderr",
     "output_type": "stream",
     "text": [
      "Backtesting:  38%|███▊      | 432/1145 [00:09<00:15, 45.45it/s]"
     ]
    },
    {
     "name": "stdout",
     "output_type": "stream",
     "text": [
      "predict 2024-05-28 11:30:00\n",
      "predict 2024-05-28 11:45:00\n",
      "predict 2024-05-28 12:00:00\n",
      "predict 2024-05-28 12:15:00\n",
      "predict 2024-05-28 12:30:00\n",
      "predict 2024-05-28 12:45:00\n",
      "predict 2024-05-28 13:00:00\n",
      "predict 2024-05-28 13:15:00\n"
     ]
    },
    {
     "name": "stderr",
     "output_type": "stream",
     "text": [
      "Backtesting:  39%|███▊      | 442/1145 [00:09<00:18, 38.53it/s]"
     ]
    },
    {
     "name": "stdout",
     "output_type": "stream",
     "text": [
      "predict 2024-05-28 13:30:00\n",
      "predict 2024-05-28 13:45:00\n",
      "predict 2024-05-28 14:00:00\n",
      "predict 2024-05-28 14:15:00\n",
      "predict 2024-05-28 14:30:00\n",
      "predict 2024-05-28 14:45:00\n",
      "predict 2024-05-29 08:30:00\n",
      "predict 2024-05-29 08:45:00\n"
     ]
    },
    {
     "name": "stderr",
     "output_type": "stream",
     "text": [
      "Backtesting:  39%|███▉      | 450/1145 [00:10<00:19, 36.50it/s]"
     ]
    },
    {
     "name": "stdout",
     "output_type": "stream",
     "text": [
      "predict 2024-05-29 09:00:00\n",
      "predict 2024-05-29 09:15:00\n",
      "predict 2024-05-29 09:30:00\n",
      "predict 2024-05-29 09:45:00\n",
      "predict 2024-05-29 10:00:00\n",
      "predict 2024-05-29 10:15:00\n",
      "predict 2024-05-29 10:30:00\n",
      "predict 2024-05-29 10:45:00\n"
     ]
    },
    {
     "name": "stderr",
     "output_type": "stream",
     "text": [
      "Backtesting:  40%|████      | 458/1145 [00:10<00:19, 35.36it/s]"
     ]
    },
    {
     "name": "stdout",
     "output_type": "stream",
     "text": [
      "predict 2024-05-29 11:00:00\n",
      "predict 2024-05-29 11:15:00\n",
      "predict 2024-05-29 11:30:00\n",
      "predict 2024-05-29 11:45:00\n",
      "predict 2024-05-29 12:00:00\n",
      "predict 2024-05-29 12:15:00\n",
      "predict 2024-05-29 12:30:00\n",
      "predict 2024-05-29 12:45:00\n"
     ]
    },
    {
     "name": "stderr",
     "output_type": "stream",
     "text": [
      "Backtesting:  41%|████      | 467/1145 [00:10<00:18, 36.49it/s]"
     ]
    },
    {
     "name": "stdout",
     "output_type": "stream",
     "text": [
      "predict 2024-05-29 13:00:00\n",
      "predict 2024-05-29 13:15:00\n",
      "predict 2024-05-29 13:30:00\n",
      "predict 2024-05-29 13:45:00\n",
      "predict 2024-05-29 14:00:00\n",
      "predict 2024-05-29 14:15:00\n",
      "predict 2024-05-29 14:30:00\n",
      "predict 2024-05-29 14:45:00\n"
     ]
    },
    {
     "name": "stderr",
     "output_type": "stream",
     "text": [
      "Backtesting:  42%|████▏     | 477/1145 [00:10<00:16, 41.39it/s]"
     ]
    },
    {
     "name": "stdout",
     "output_type": "stream",
     "text": [
      "predict 2024-05-30 08:30:00\n",
      "predict 2024-05-30 08:45:00\n",
      "predict 2024-05-30 09:00:00\n",
      "predict 2024-05-30 09:15:00\n",
      "predict 2024-05-30 09:30:00\n",
      "predict 2024-05-30 09:45:00\n",
      "predict 2024-05-30 10:00:00\n",
      "predict 2024-05-30 10:15:00\n",
      "predict 2024-05-30 10:30:00\n",
      "predict 2024-05-30 10:45:00\n"
     ]
    },
    {
     "name": "stderr",
     "output_type": "stream",
     "text": [
      "Backtesting:  43%|████▎     | 487/1145 [00:11<00:15, 42.81it/s]"
     ]
    },
    {
     "name": "stdout",
     "output_type": "stream",
     "text": [
      "predict 2024-05-30 11:00:00\n",
      "predict 2024-05-30 11:15:00\n",
      "predict 2024-05-30 11:30:00\n",
      "predict 2024-05-30 11:45:00\n",
      "predict 2024-05-30 12:00:00\n",
      "predict 2024-05-30 12:15:00\n",
      "predict 2024-05-30 12:30:00\n",
      "predict 2024-05-30 12:45:00\n",
      "predict 2024-05-30 13:00:00\n",
      "predict 2024-05-30 13:15:00\n"
     ]
    },
    {
     "name": "stderr",
     "output_type": "stream",
     "text": [
      "Backtesting:  43%|████▎     | 497/1145 [00:11<00:14, 44.59it/s]"
     ]
    },
    {
     "name": "stdout",
     "output_type": "stream",
     "text": [
      "predict 2024-05-30 13:30:00\n",
      "predict 2024-05-30 13:45:00\n",
      "predict 2024-05-30 14:00:00\n",
      "predict 2024-05-30 14:15:00\n",
      "predict 2024-05-30 14:30:00\n",
      "predict 2024-05-30 14:45:00\n",
      "predict 2024-05-31 08:30:00\n",
      "predict 2024-05-31 08:45:00\n",
      "predict 2024-05-31 09:00:00\n",
      "predict 2024-05-31 09:15:00\n"
     ]
    },
    {
     "name": "stderr",
     "output_type": "stream",
     "text": [
      "Backtesting:  44%|████▍     | 507/1145 [00:11<00:13, 45.89it/s]"
     ]
    },
    {
     "name": "stdout",
     "output_type": "stream",
     "text": [
      "predict 2024-05-31 09:30:00\n",
      "predict 2024-05-31 09:45:00\n",
      "predict 2024-05-31 10:00:00\n",
      "predict 2024-05-31 10:15:00\n",
      "predict 2024-05-31 10:30:00\n",
      "predict 2024-05-31 10:45:00\n",
      "predict 2024-05-31 11:00:00\n",
      "predict 2024-05-31 11:15:00\n",
      "predict 2024-05-31 11:30:00\n",
      "predict 2024-05-31 11:45:00\n",
      "predict 2024-05-31 12:00:00\n"
     ]
    },
    {
     "name": "stderr",
     "output_type": "stream",
     "text": [
      "Backtesting:  45%|████▌     | 517/1145 [00:11<00:14, 44.76it/s]"
     ]
    },
    {
     "name": "stdout",
     "output_type": "stream",
     "text": [
      "predict 2024-05-31 12:15:00\n",
      "predict 2024-05-31 12:30:00\n",
      "predict 2024-05-31 12:45:00\n",
      "predict 2024-05-31 13:00:00\n",
      "predict 2024-05-31 13:15:00\n",
      "predict 2024-05-31 13:30:00\n",
      "predict 2024-05-31 13:45:00\n",
      "predict 2024-05-31 14:00:00\n",
      "predict 2024-05-31 14:15:00\n"
     ]
    },
    {
     "name": "stderr",
     "output_type": "stream",
     "text": [
      "Backtesting:  46%|████▌     | 528/1145 [00:11<00:13, 46.91it/s]"
     ]
    },
    {
     "name": "stdout",
     "output_type": "stream",
     "text": [
      "predict 2024-05-31 14:30:00\n",
      "predict 2024-05-31 14:45:00\n",
      "predict 2024-06-03 08:30:00\n",
      "predict 2024-06-03 08:45:00\n",
      "predict 2024-06-03 09:00:00\n",
      "predict 2024-06-03 09:15:00\n",
      "predict 2024-06-03 09:30:00\n",
      "predict 2024-06-03 09:45:00\n",
      "predict 2024-06-03 10:00:00\n",
      "predict 2024-06-03 10:15:00\n",
      "predict 2024-06-03 10:30:00\n",
      "predict 2024-06-03 10:45:00\n",
      "predict 2024-06-03 11:00:00\n"
     ]
    },
    {
     "name": "stderr",
     "output_type": "stream",
     "text": [
      "Backtesting:  47%|████▋     | 539/1145 [00:12<00:16, 36.32it/s]"
     ]
    },
    {
     "name": "stdout",
     "output_type": "stream",
     "text": [
      "predict 2024-06-03 11:15:00\n",
      "predict 2024-06-03 11:30:00\n",
      "predict 2024-06-03 11:45:00\n",
      "predict 2024-06-03 12:00:00\n",
      "predict 2024-06-03 12:15:00\n",
      "predict 2024-06-03 12:30:00\n",
      "predict 2024-06-03 12:45:00\n",
      "predict 2024-06-03 13:00:00\n",
      "predict 2024-06-03 13:15:00\n",
      "predict 2024-06-03 13:30:00\n",
      "predict 2024-06-03 13:45:00\n",
      "predict 2024-06-03 14:00:00\n"
     ]
    },
    {
     "name": "stderr",
     "output_type": "stream",
     "text": [
      "Backtesting:  48%|████▊     | 551/1145 [00:12<00:13, 45.11it/s]"
     ]
    },
    {
     "name": "stdout",
     "output_type": "stream",
     "text": [
      "predict 2024-06-03 14:15:00\n",
      "predict 2024-06-03 14:30:00\n",
      "predict 2024-06-03 14:45:00\n",
      "predict 2024-06-04 08:30:00\n",
      "predict 2024-06-04 08:45:00\n",
      "predict 2024-06-04 09:00:00\n",
      "predict 2024-06-04 09:15:00\n",
      "predict 2024-06-04 09:30:00\n",
      "predict 2024-06-04 09:45:00\n",
      "predict 2024-06-04 10:00:00\n",
      "predict 2024-06-04 10:15:00\n",
      "predict 2024-06-04 10:30:00\n",
      "predict 2024-06-04 10:45:00\n"
     ]
    },
    {
     "name": "stderr",
     "output_type": "stream",
     "text": [
      "Backtesting:  49%|████▉     | 563/1145 [00:12<00:11, 51.10it/s]"
     ]
    },
    {
     "name": "stdout",
     "output_type": "stream",
     "text": [
      "predict 2024-06-04 11:00:00\n",
      "predict 2024-06-04 11:15:00\n",
      "predict 2024-06-04 11:30:00\n",
      "predict 2024-06-04 11:45:00\n",
      "predict 2024-06-04 12:00:00\n",
      "predict 2024-06-04 12:15:00\n",
      "predict 2024-06-04 12:30:00\n",
      "predict 2024-06-04 12:45:00\n",
      "predict 2024-06-04 13:00:00\n",
      "predict 2024-06-04 13:15:00\n",
      "predict 2024-06-04 13:30:00\n",
      "predict 2024-06-04 13:45:00\n",
      "predict 2024-06-04 14:00:00\n"
     ]
    },
    {
     "name": "stderr",
     "output_type": "stream",
     "text": [
      "Backtesting:  50%|█████     | 576/1145 [00:12<00:10, 53.39it/s]"
     ]
    },
    {
     "name": "stdout",
     "output_type": "stream",
     "text": [
      "predict 2024-06-04 14:15:00\n",
      "predict 2024-06-04 14:30:00\n",
      "predict 2024-06-04 14:45:00\n",
      "predict 2024-06-05 08:30:00\n",
      "predict 2024-06-05 08:45:00\n",
      "predict 2024-06-05 09:00:00\n",
      "predict 2024-06-05 09:15:00\n",
      "predict 2024-06-05 09:30:00\n",
      "predict 2024-06-05 09:45:00\n",
      "predict 2024-06-05 10:00:00\n",
      "predict 2024-06-05 10:15:00\n",
      "predict 2024-06-05 10:30:00\n"
     ]
    },
    {
     "name": "stderr",
     "output_type": "stream",
     "text": [
      "Backtesting:  52%|█████▏    | 594/1145 [00:13<00:09, 56.65it/s]"
     ]
    },
    {
     "name": "stdout",
     "output_type": "stream",
     "text": [
      "predict 2024-06-05 10:45:00\n",
      "predict 2024-06-05 11:00:00\n",
      "predict 2024-06-05 11:15:00\n",
      "predict 2024-06-05 11:30:00\n",
      "predict 2024-06-05 11:45:00\n",
      "predict 2024-06-05 12:00:00\n",
      "predict 2024-06-05 12:15:00\n",
      "predict 2024-06-05 12:30:00\n",
      "predict 2024-06-05 12:45:00\n",
      "predict 2024-06-05 13:00:00\n",
      "predict 2024-06-05 13:15:00\n",
      "predict 2024-06-05 13:30:00\n",
      "predict 2024-06-05 13:45:00\n"
     ]
    },
    {
     "name": "stderr",
     "output_type": "stream",
     "text": [
      "Backtesting:  53%|█████▎    | 606/1145 [00:13<00:09, 56.72it/s]"
     ]
    },
    {
     "name": "stdout",
     "output_type": "stream",
     "text": [
      "predict 2024-06-05 14:00:00\n",
      "predict 2024-06-05 14:15:00\n",
      "predict 2024-06-05 14:30:00\n",
      "predict 2024-06-05 14:45:00\n",
      "predict 2024-06-06 08:30:00\n",
      "predict 2024-06-06 08:45:00\n",
      "predict 2024-06-06 09:00:00\n",
      "predict 2024-06-06 09:15:00\n",
      "predict 2024-06-06 09:30:00\n",
      "predict 2024-06-06 09:45:00\n",
      "predict 2024-06-06 10:00:00\n",
      "predict 2024-06-06 10:15:00\n",
      "predict 2024-06-06 10:30:00\n"
     ]
    },
    {
     "name": "stderr",
     "output_type": "stream",
     "text": [
      "Backtesting:  54%|█████▍    | 618/1145 [00:13<00:09, 57.44it/s]"
     ]
    },
    {
     "name": "stdout",
     "output_type": "stream",
     "text": [
      "predict 2024-06-06 10:45:00\n",
      "predict 2024-06-06 11:00:00\n",
      "predict 2024-06-06 11:15:00\n",
      "predict 2024-06-06 11:30:00\n",
      "predict 2024-06-06 11:45:00\n",
      "predict 2024-06-06 12:00:00\n",
      "predict 2024-06-06 12:15:00\n",
      "predict 2024-06-06 12:30:00\n",
      "predict 2024-06-06 12:45:00\n",
      "predict 2024-06-06 13:00:00\n",
      "predict 2024-06-06 13:15:00\n",
      "predict 2024-06-06 13:30:00\n",
      "predict 2024-06-06 13:45:00\n"
     ]
    },
    {
     "name": "stderr",
     "output_type": "stream",
     "text": [
      "Backtesting:  55%|█████▌    | 630/1145 [00:13<00:09, 57.13it/s]"
     ]
    },
    {
     "name": "stdout",
     "output_type": "stream",
     "text": [
      "predict 2024-06-06 14:00:00\n",
      "predict 2024-06-06 14:15:00\n",
      "predict 2024-06-06 14:30:00\n",
      "predict 2024-06-06 14:45:00\n",
      "predict 2024-06-07 08:30:00\n",
      "predict 2024-06-07 08:45:00\n",
      "predict 2024-06-07 09:00:00\n",
      "predict 2024-06-07 09:15:00\n",
      "predict 2024-06-07 09:30:00\n",
      "predict 2024-06-07 09:45:00\n",
      "predict 2024-06-07 10:00:00\n",
      "predict 2024-06-07 10:15:00\n"
     ]
    },
    {
     "name": "stderr",
     "output_type": "stream",
     "text": [
      "Backtesting:  56%|█████▌    | 642/1145 [00:14<00:09, 50.57it/s]"
     ]
    },
    {
     "name": "stdout",
     "output_type": "stream",
     "text": [
      "predict 2024-06-07 10:30:00\n",
      "predict 2024-06-07 10:45:00\n",
      "predict 2024-06-07 11:00:00\n",
      "predict 2024-06-07 11:15:00\n",
      "predict 2024-06-07 11:30:00\n",
      "predict 2024-06-07 11:45:00\n",
      "predict 2024-06-07 12:00:00\n",
      "predict 2024-06-07 12:15:00\n",
      "predict 2024-06-07 12:30:00\n",
      "predict 2024-06-07 12:45:00\n"
     ]
    },
    {
     "name": "stderr",
     "output_type": "stream",
     "text": [
      "Backtesting:  57%|█████▋    | 648/1145 [00:14<00:10, 47.37it/s]"
     ]
    },
    {
     "name": "stdout",
     "output_type": "stream",
     "text": [
      "predict 2024-06-07 13:00:00\n",
      "predict 2024-06-07 13:15:00\n",
      "predict 2024-06-07 13:30:00\n",
      "predict 2024-06-07 13:45:00\n",
      "predict 2024-06-07 14:00:00\n",
      "predict 2024-06-07 14:15:00\n",
      "predict 2024-06-07 14:30:00\n",
      "predict 2024-06-07 14:45:00\n",
      "predict 2024-06-10 08:30:00\n",
      "predict 2024-06-10 08:45:00\n"
     ]
    },
    {
     "name": "stderr",
     "output_type": "stream",
     "text": [
      "Backtesting:  57%|█████▋    | 658/1145 [00:14<00:10, 45.79it/s]"
     ]
    },
    {
     "name": "stdout",
     "output_type": "stream",
     "text": [
      "predict 2024-06-10 09:00:00\n",
      "predict 2024-06-10 09:15:00\n",
      "predict 2024-06-10 09:30:00\n",
      "predict 2024-06-10 09:45:00\n",
      "predict 2024-06-10 10:00:00\n",
      "predict 2024-06-10 10:15:00\n",
      "predict 2024-06-10 10:30:00\n",
      "predict 2024-06-10 10:45:00\n",
      "predict 2024-06-10 11:00:00\n",
      "predict 2024-06-10 11:15:00\n",
      "predict 2024-06-10 11:30:00\n"
     ]
    },
    {
     "name": "stderr",
     "output_type": "stream",
     "text": [
      "Backtesting:  58%|█████▊    | 669/1145 [00:14<00:10, 47.40it/s]"
     ]
    },
    {
     "name": "stdout",
     "output_type": "stream",
     "text": [
      "predict 2024-06-10 11:45:00\n",
      "predict 2024-06-10 12:00:00\n",
      "predict 2024-06-10 12:15:00\n",
      "predict 2024-06-10 12:30:00\n",
      "predict 2024-06-10 12:45:00\n",
      "predict 2024-06-10 13:00:00\n",
      "predict 2024-06-10 13:15:00\n",
      "predict 2024-06-10 13:30:00\n",
      "predict 2024-06-10 13:45:00\n",
      "predict 2024-06-10 14:00:00\n"
     ]
    },
    {
     "name": "stderr",
     "output_type": "stream",
     "text": [
      "Backtesting:  59%|█████▉    | 679/1145 [00:15<00:11, 39.70it/s]"
     ]
    },
    {
     "name": "stdout",
     "output_type": "stream",
     "text": [
      "predict 2024-06-10 14:15:00\n",
      "predict 2024-06-10 14:30:00\n",
      "predict 2024-06-10 14:45:00\n",
      "predict 2024-06-11 08:30:00\n",
      "predict 2024-06-11 08:45:00\n",
      "predict 2024-06-11 09:00:00\n",
      "predict 2024-06-11 09:15:00\n",
      "predict 2024-06-11 09:30:00\n",
      "predict 2024-06-11 09:45:00\n"
     ]
    },
    {
     "name": "stderr",
     "output_type": "stream",
     "text": [
      "Backtesting:  60%|██████    | 688/1145 [00:15<00:13, 34.78it/s]"
     ]
    },
    {
     "name": "stdout",
     "output_type": "stream",
     "text": [
      "predict 2024-06-11 10:00:00\n",
      "predict 2024-06-11 10:15:00\n",
      "predict 2024-06-11 10:30:00\n",
      "predict 2024-06-11 10:45:00\n",
      "predict 2024-06-11 11:00:00\n",
      "predict 2024-06-11 11:15:00\n",
      "predict 2024-06-11 11:30:00\n"
     ]
    },
    {
     "name": "stderr",
     "output_type": "stream",
     "text": [
      "Backtesting:  61%|██████    | 696/1145 [00:15<00:12, 35.51it/s]"
     ]
    },
    {
     "name": "stdout",
     "output_type": "stream",
     "text": [
      "predict 2024-06-11 11:45:00\n",
      "predict 2024-06-11 12:00:00\n",
      "predict 2024-06-11 12:15:00\n",
      "predict 2024-06-11 12:30:00\n",
      "predict 2024-06-11 12:45:00\n",
      "predict 2024-06-11 13:00:00\n",
      "predict 2024-06-11 13:15:00\n",
      "predict 2024-06-11 13:30:00\n"
     ]
    },
    {
     "name": "stderr",
     "output_type": "stream",
     "text": [
      "Backtesting:  62%|██████▏   | 706/1145 [00:15<00:10, 40.98it/s]"
     ]
    },
    {
     "name": "stdout",
     "output_type": "stream",
     "text": [
      "predict 2024-06-11 13:45:00\n",
      "predict 2024-06-11 14:00:00\n",
      "predict 2024-06-11 14:15:00\n",
      "predict 2024-06-11 14:30:00\n",
      "predict 2024-06-11 14:45:00\n",
      "predict 2024-06-12 08:30:00\n",
      "predict 2024-06-12 08:45:00\n",
      "predict 2024-06-12 09:00:00\n",
      "predict 2024-06-12 09:15:00\n",
      "predict 2024-06-12 09:30:00\n"
     ]
    },
    {
     "name": "stderr",
     "output_type": "stream",
     "text": [
      "Backtesting:  62%|██████▏   | 711/1145 [00:15<00:11, 38.56it/s]"
     ]
    },
    {
     "name": "stdout",
     "output_type": "stream",
     "text": [
      "predict 2024-06-12 09:45:00\n",
      "predict 2024-06-12 10:00:00\n",
      "predict 2024-06-12 10:15:00\n",
      "predict 2024-06-12 10:30:00\n",
      "predict 2024-06-12 10:45:00\n",
      "predict 2024-06-12 11:00:00\n",
      "predict 2024-06-12 11:15:00\n"
     ]
    },
    {
     "name": "stderr",
     "output_type": "stream",
     "text": [
      "Backtesting:  63%|██████▎   | 719/1145 [00:16<00:11, 37.21it/s]"
     ]
    },
    {
     "name": "stdout",
     "output_type": "stream",
     "text": [
      "predict 2024-06-12 11:30:00\n",
      "predict 2024-06-12 11:45:00\n",
      "predict 2024-06-12 12:00:00\n",
      "predict 2024-06-12 12:15:00\n",
      "predict 2024-06-12 12:30:00\n",
      "predict 2024-06-12 12:45:00\n",
      "predict 2024-06-12 13:00:00\n"
     ]
    },
    {
     "name": "stderr",
     "output_type": "stream",
     "text": [
      "Backtesting:  63%|██████▎   | 723/1145 [00:16<00:13, 30.69it/s]"
     ]
    },
    {
     "name": "stdout",
     "output_type": "stream",
     "text": [
      "predict 2024-06-12 13:15:00\n",
      "predict 2024-06-12 13:30:00\n",
      "predict 2024-06-12 13:45:00\n",
      "predict 2024-06-12 14:00:00\n",
      "predict 2024-06-12 14:15:00\n"
     ]
    },
    {
     "name": "stderr",
     "output_type": "stream",
     "text": [
      "Backtesting:  64%|██████▍   | 731/1145 [00:16<00:13, 29.70it/s]"
     ]
    },
    {
     "name": "stdout",
     "output_type": "stream",
     "text": [
      "predict 2024-06-12 14:30:00\n",
      "predict 2024-06-12 14:45:00\n",
      "predict 2024-06-13 08:30:00\n",
      "predict 2024-06-13 08:45:00\n",
      "predict 2024-06-13 09:00:00\n",
      "predict 2024-06-13 09:15:00\n",
      "predict 2024-06-13 09:30:00\n",
      "predict 2024-06-13 09:45:00\n"
     ]
    },
    {
     "name": "stderr",
     "output_type": "stream",
     "text": [
      "Backtesting:  65%|██████▍   | 740/1145 [00:16<00:11, 34.88it/s]"
     ]
    },
    {
     "name": "stdout",
     "output_type": "stream",
     "text": [
      "predict 2024-06-13 10:00:00\n",
      "predict 2024-06-13 10:15:00\n",
      "predict 2024-06-13 10:30:00\n",
      "predict 2024-06-13 10:45:00\n",
      "predict 2024-06-13 11:00:00\n",
      "predict 2024-06-13 11:15:00\n",
      "predict 2024-06-13 11:30:00\n",
      "predict 2024-06-13 11:45:00\n",
      "predict 2024-06-13 12:00:00\n",
      "predict 2024-06-13 12:15:00\n"
     ]
    },
    {
     "name": "stderr",
     "output_type": "stream",
     "text": [
      "Backtesting:  65%|██████▌   | 749/1145 [00:17<00:10, 37.03it/s]"
     ]
    },
    {
     "name": "stdout",
     "output_type": "stream",
     "text": [
      "predict 2024-06-13 12:30:00\n",
      "predict 2024-06-13 12:45:00\n",
      "predict 2024-06-13 13:00:00\n",
      "predict 2024-06-13 13:15:00\n",
      "predict 2024-06-13 13:30:00\n",
      "predict 2024-06-13 13:45:00\n",
      "predict 2024-06-13 14:00:00\n",
      "predict 2024-06-13 14:15:00\n",
      "predict 2024-06-13 14:30:00\n"
     ]
    },
    {
     "name": "stderr",
     "output_type": "stream",
     "text": [
      "Backtesting:  66%|██████▋   | 759/1145 [00:17<00:09, 40.19it/s]"
     ]
    },
    {
     "name": "stdout",
     "output_type": "stream",
     "text": [
      "predict 2024-06-13 14:45:00\n",
      "predict 2024-06-14 08:30:00\n",
      "predict 2024-06-14 08:45:00\n",
      "predict 2024-06-14 09:00:00\n",
      "predict 2024-06-14 09:15:00\n",
      "predict 2024-06-14 09:30:00\n",
      "predict 2024-06-14 09:45:00\n",
      "predict 2024-06-14 10:00:00\n",
      "predict 2024-06-14 10:15:00\n",
      "predict 2024-06-14 10:30:00\n"
     ]
    },
    {
     "name": "stderr",
     "output_type": "stream",
     "text": [
      "Backtesting:  67%|██████▋   | 769/1145 [00:17<00:08, 42.60it/s]"
     ]
    },
    {
     "name": "stdout",
     "output_type": "stream",
     "text": [
      "predict 2024-06-14 10:45:00\n",
      "predict 2024-06-14 11:00:00\n",
      "predict 2024-06-14 11:15:00\n",
      "predict 2024-06-14 11:30:00\n",
      "predict 2024-06-14 11:45:00\n",
      "predict 2024-06-14 12:00:00\n",
      "predict 2024-06-14 12:15:00\n",
      "predict 2024-06-14 12:30:00\n",
      "predict 2024-06-14 12:45:00\n",
      "predict 2024-06-14 13:00:00\n",
      "predict 2024-06-14 13:15:00\n"
     ]
    },
    {
     "name": "stderr",
     "output_type": "stream",
     "text": [
      "Backtesting:  68%|██████▊   | 780/1145 [00:17<00:07, 45.90it/s]"
     ]
    },
    {
     "name": "stdout",
     "output_type": "stream",
     "text": [
      "predict 2024-06-14 13:30:00\n",
      "predict 2024-06-14 13:45:00\n",
      "predict 2024-06-14 14:00:00\n",
      "predict 2024-06-14 14:15:00\n",
      "predict 2024-06-14 14:30:00\n",
      "predict 2024-06-14 14:45:00\n",
      "predict 2024-06-17 08:30:00\n",
      "predict 2024-06-17 08:45:00\n",
      "predict 2024-06-17 09:00:00\n",
      "predict 2024-06-17 09:15:00\n",
      "predict 2024-06-17 09:30:00\n"
     ]
    },
    {
     "name": "stderr",
     "output_type": "stream",
     "text": [
      "Backtesting:  69%|██████▉   | 792/1145 [00:18<00:07, 48.91it/s]"
     ]
    },
    {
     "name": "stdout",
     "output_type": "stream",
     "text": [
      "predict 2024-06-17 09:45:00\n",
      "predict 2024-06-17 10:00:00\n",
      "predict 2024-06-17 10:15:00\n",
      "predict 2024-06-17 10:30:00\n",
      "predict 2024-06-17 10:45:00\n",
      "predict 2024-06-17 11:00:00\n",
      "predict 2024-06-17 11:15:00\n",
      "predict 2024-06-17 11:30:00\n",
      "predict 2024-06-17 11:45:00\n",
      "predict 2024-06-17 12:00:00\n"
     ]
    },
    {
     "name": "stderr",
     "output_type": "stream",
     "text": [
      "Backtesting:  70%|███████   | 803/1145 [00:18<00:06, 49.35it/s]"
     ]
    },
    {
     "name": "stdout",
     "output_type": "stream",
     "text": [
      "predict 2024-06-17 12:15:00\n",
      "predict 2024-06-17 12:30:00\n",
      "predict 2024-06-17 12:45:00\n",
      "predict 2024-06-17 13:00:00\n",
      "predict 2024-06-17 13:15:00\n",
      "predict 2024-06-17 13:30:00\n",
      "predict 2024-06-17 13:45:00\n",
      "predict 2024-06-17 14:00:00\n",
      "predict 2024-06-17 14:15:00\n",
      "predict 2024-06-17 14:30:00\n",
      "predict 2024-06-17 14:45:00\n",
      "predict 2024-06-18 08:30:00\n"
     ]
    },
    {
     "name": "stderr",
     "output_type": "stream",
     "text": [
      "Backtesting:  71%|███████   | 815/1145 [00:18<00:06, 53.01it/s]"
     ]
    },
    {
     "name": "stdout",
     "output_type": "stream",
     "text": [
      "predict 2024-06-18 08:45:00\n",
      "predict 2024-06-18 09:00:00\n",
      "predict 2024-06-18 09:15:00\n",
      "predict 2024-06-18 09:30:00\n",
      "predict 2024-06-18 09:45:00\n",
      "predict 2024-06-18 10:00:00\n",
      "predict 2024-06-18 10:15:00\n",
      "predict 2024-06-18 10:30:00\n",
      "predict 2024-06-18 10:45:00\n",
      "predict 2024-06-18 11:00:00\n",
      "predict 2024-06-18 11:15:00\n",
      "predict 2024-06-18 11:30:00\n"
     ]
    },
    {
     "name": "stderr",
     "output_type": "stream",
     "text": [
      "Backtesting:  72%|███████▏  | 827/1145 [00:18<00:05, 54.68it/s]"
     ]
    },
    {
     "name": "stdout",
     "output_type": "stream",
     "text": [
      "predict 2024-06-18 11:45:00\n",
      "predict 2024-06-18 12:00:00\n",
      "predict 2024-06-18 12:15:00\n",
      "predict 2024-06-18 12:30:00\n",
      "predict 2024-06-18 12:45:00\n",
      "predict 2024-06-18 13:00:00\n",
      "predict 2024-06-18 13:15:00\n",
      "predict 2024-06-18 13:30:00\n",
      "predict 2024-06-18 13:45:00\n",
      "predict 2024-06-18 14:00:00\n",
      "predict 2024-06-18 14:15:00\n",
      "predict 2024-06-18 14:30:00\n"
     ]
    },
    {
     "name": "stderr",
     "output_type": "stream",
     "text": [
      "Backtesting:  73%|███████▎  | 833/1145 [00:18<00:05, 53.28it/s]"
     ]
    },
    {
     "name": "stdout",
     "output_type": "stream",
     "text": [
      "predict 2024-06-18 14:45:00\n",
      "predict 2024-06-20 08:30:00\n",
      "predict 2024-06-20 08:45:00\n",
      "predict 2024-06-20 09:00:00\n",
      "predict 2024-06-20 09:15:00\n",
      "predict 2024-06-20 09:30:00\n",
      "predict 2024-06-20 09:45:00\n"
     ]
    },
    {
     "name": "stderr",
     "output_type": "stream",
     "text": [
      "Backtesting:  74%|███████▎  | 844/1145 [00:19<00:06, 43.54it/s]"
     ]
    },
    {
     "name": "stdout",
     "output_type": "stream",
     "text": [
      "predict 2024-06-20 10:00:00\n",
      "predict 2024-06-20 10:15:00\n",
      "predict 2024-06-20 10:30:00\n",
      "predict 2024-06-20 10:45:00\n",
      "predict 2024-06-20 11:00:00\n",
      "predict 2024-06-20 11:15:00\n",
      "predict 2024-06-20 11:30:00\n",
      "predict 2024-06-20 11:45:00\n",
      "predict 2024-06-20 12:00:00\n"
     ]
    },
    {
     "name": "stderr",
     "output_type": "stream",
     "text": [
      "Backtesting:  75%|███████▍  | 854/1145 [00:19<00:06, 43.10it/s]"
     ]
    },
    {
     "name": "stdout",
     "output_type": "stream",
     "text": [
      "predict 2024-06-20 12:15:00\n",
      "predict 2024-06-20 12:30:00\n",
      "predict 2024-06-20 12:45:00\n",
      "predict 2024-06-20 13:00:00\n",
      "predict 2024-06-20 13:15:00\n",
      "predict 2024-06-20 13:30:00\n",
      "predict 2024-06-20 13:45:00\n",
      "predict 2024-06-20 14:00:00\n",
      "predict 2024-06-20 14:15:00\n",
      "predict 2024-06-20 14:30:00\n"
     ]
    },
    {
     "name": "stderr",
     "output_type": "stream",
     "text": [
      "Backtesting:  76%|███████▌  | 865/1145 [00:19<00:06, 45.28it/s]"
     ]
    },
    {
     "name": "stdout",
     "output_type": "stream",
     "text": [
      "predict 2024-06-20 14:45:00\n",
      "predict 2024-06-21 08:30:00\n",
      "predict 2024-06-21 08:45:00\n",
      "predict 2024-06-21 09:00:00\n",
      "predict 2024-06-21 09:15:00\n",
      "predict 2024-06-21 09:30:00\n",
      "predict 2024-06-21 09:45:00\n",
      "predict 2024-06-21 10:00:00\n",
      "predict 2024-06-21 10:15:00\n",
      "predict 2024-06-21 10:30:00\n"
     ]
    },
    {
     "name": "stderr",
     "output_type": "stream",
     "text": [
      "Backtesting:  76%|███████▋  | 875/1145 [00:19<00:06, 44.17it/s]"
     ]
    },
    {
     "name": "stdout",
     "output_type": "stream",
     "text": [
      "predict 2024-06-21 10:45:00\n",
      "predict 2024-06-21 11:00:00\n",
      "predict 2024-06-21 11:15:00\n",
      "predict 2024-06-21 11:30:00\n",
      "predict 2024-06-21 11:45:00\n",
      "predict 2024-06-21 12:00:00\n",
      "predict 2024-06-21 12:15:00\n",
      "predict 2024-06-21 12:30:00\n",
      "predict 2024-06-21 12:45:00\n"
     ]
    },
    {
     "name": "stderr",
     "output_type": "stream",
     "text": [
      "Backtesting:  77%|███████▋  | 885/1145 [00:20<00:05, 44.37it/s]"
     ]
    },
    {
     "name": "stdout",
     "output_type": "stream",
     "text": [
      "predict 2024-06-21 13:00:00\n",
      "predict 2024-06-21 13:15:00\n",
      "predict 2024-06-21 13:30:00\n",
      "predict 2024-06-21 13:45:00\n",
      "predict 2024-06-21 14:00:00\n",
      "predict 2024-06-21 14:15:00\n",
      "predict 2024-06-21 14:30:00\n",
      "predict 2024-06-21 14:45:00\n",
      "predict 2024-06-24 08:30:00\n",
      "predict 2024-06-24 08:45:00\n"
     ]
    },
    {
     "name": "stderr",
     "output_type": "stream",
     "text": [
      "Backtesting:  78%|███████▊  | 896/1145 [00:20<00:05, 47.12it/s]"
     ]
    },
    {
     "name": "stdout",
     "output_type": "stream",
     "text": [
      "predict 2024-06-24 09:00:00\n",
      "predict 2024-06-24 09:15:00\n",
      "predict 2024-06-24 09:30:00\n",
      "predict 2024-06-24 09:45:00\n",
      "predict 2024-06-24 10:00:00\n",
      "predict 2024-06-24 10:15:00\n",
      "predict 2024-06-24 10:30:00\n",
      "predict 2024-06-24 10:45:00\n",
      "predict 2024-06-24 11:00:00\n",
      "predict 2024-06-24 11:15:00\n",
      "predict 2024-06-24 11:30:00\n"
     ]
    },
    {
     "name": "stderr",
     "output_type": "stream",
     "text": [
      "Backtesting:  79%|███████▉  | 902/1145 [00:20<00:04, 50.10it/s]"
     ]
    },
    {
     "name": "stdout",
     "output_type": "stream",
     "text": [
      "predict 2024-06-24 11:45:00\n",
      "predict 2024-06-24 12:00:00\n",
      "predict 2024-06-24 12:15:00\n",
      "predict 2024-06-24 12:30:00\n",
      "predict 2024-06-24 12:45:00\n",
      "predict 2024-06-24 13:00:00\n"
     ]
    },
    {
     "name": "stderr",
     "output_type": "stream",
     "text": [
      "Backtesting:  80%|███████▉  | 914/1145 [00:20<00:05, 40.02it/s]"
     ]
    },
    {
     "name": "stdout",
     "output_type": "stream",
     "text": [
      "predict 2024-06-24 13:15:00\n",
      "predict 2024-06-24 13:30:00\n",
      "predict 2024-06-24 13:45:00\n",
      "predict 2024-06-24 14:00:00\n",
      "predict 2024-06-24 14:15:00\n",
      "predict 2024-06-24 14:30:00\n",
      "predict 2024-06-24 14:45:00\n",
      "predict 2024-06-25 08:30:00\n",
      "predict 2024-06-25 08:45:00\n",
      "predict 2024-06-25 09:00:00\n",
      "predict 2024-06-25 09:15:00\n"
     ]
    },
    {
     "name": "stderr",
     "output_type": "stream",
     "text": [
      "Backtesting:  81%|████████  | 926/1145 [00:20<00:04, 46.93it/s]"
     ]
    },
    {
     "name": "stdout",
     "output_type": "stream",
     "text": [
      "predict 2024-06-25 09:30:00\n",
      "predict 2024-06-25 09:45:00\n",
      "predict 2024-06-25 10:00:00\n",
      "predict 2024-06-25 10:15:00\n",
      "predict 2024-06-25 10:30:00\n",
      "predict 2024-06-25 10:45:00\n",
      "predict 2024-06-25 11:00:00\n",
      "predict 2024-06-25 11:15:00\n",
      "predict 2024-06-25 11:30:00\n",
      "predict 2024-06-25 11:45:00\n",
      "predict 2024-06-25 12:00:00\n",
      "predict 2024-06-25 12:15:00\n"
     ]
    },
    {
     "name": "stderr",
     "output_type": "stream",
     "text": [
      "Backtesting:  82%|████████▏ | 938/1145 [00:21<00:04, 50.78it/s]"
     ]
    },
    {
     "name": "stdout",
     "output_type": "stream",
     "text": [
      "predict 2024-06-25 12:30:00\n",
      "predict 2024-06-25 12:45:00\n",
      "predict 2024-06-25 13:00:00\n",
      "predict 2024-06-25 13:15:00\n",
      "predict 2024-06-25 13:30:00\n",
      "predict 2024-06-25 13:45:00\n",
      "predict 2024-06-25 14:00:00\n",
      "predict 2024-06-25 14:15:00\n",
      "predict 2024-06-25 14:30:00\n",
      "predict 2024-06-25 14:45:00\n",
      "predict 2024-06-26 08:30:00\n",
      "predict 2024-06-26 08:45:00\n"
     ]
    },
    {
     "name": "stderr",
     "output_type": "stream",
     "text": [
      "Backtesting:  83%|████████▎ | 950/1145 [00:21<00:03, 54.01it/s]"
     ]
    },
    {
     "name": "stdout",
     "output_type": "stream",
     "text": [
      "predict 2024-06-26 09:00:00\n",
      "predict 2024-06-26 09:15:00\n",
      "predict 2024-06-26 09:30:00\n",
      "predict 2024-06-26 09:45:00\n",
      "predict 2024-06-26 10:00:00\n",
      "predict 2024-06-26 10:15:00\n",
      "predict 2024-06-26 10:30:00\n",
      "predict 2024-06-26 10:45:00\n",
      "predict 2024-06-26 11:00:00\n",
      "predict 2024-06-26 11:15:00\n",
      "predict 2024-06-26 11:30:00\n",
      "predict 2024-06-26 11:45:00\n",
      "predict 2024-06-26 12:00:00\n"
     ]
    },
    {
     "name": "stderr",
     "output_type": "stream",
     "text": [
      "Backtesting:  84%|████████▍ | 962/1145 [00:21<00:03, 54.97it/s]"
     ]
    },
    {
     "name": "stdout",
     "output_type": "stream",
     "text": [
      "predict 2024-06-26 12:15:00\n",
      "predict 2024-06-26 12:30:00\n",
      "predict 2024-06-26 12:45:00\n",
      "predict 2024-06-26 13:00:00\n",
      "predict 2024-06-26 13:15:00\n",
      "predict 2024-06-26 13:30:00\n",
      "predict 2024-06-26 13:45:00\n",
      "predict 2024-06-26 14:00:00\n",
      "predict 2024-06-26 14:15:00\n",
      "predict 2024-06-26 14:30:00\n",
      "predict 2024-06-26 14:45:00\n",
      "predict 2024-06-27 08:30:00\n"
     ]
    },
    {
     "name": "stderr",
     "output_type": "stream",
     "text": [
      "Backtesting:  85%|████████▌ | 974/1145 [00:21<00:03, 53.36it/s]"
     ]
    },
    {
     "name": "stdout",
     "output_type": "stream",
     "text": [
      "predict 2024-06-27 08:45:00\n",
      "predict 2024-06-27 09:00:00\n",
      "predict 2024-06-27 09:15:00\n",
      "predict 2024-06-27 09:30:00\n",
      "predict 2024-06-27 09:45:00\n",
      "predict 2024-06-27 10:00:00\n",
      "predict 2024-06-27 10:15:00\n",
      "predict 2024-06-27 10:30:00\n",
      "predict 2024-06-27 10:45:00\n",
      "predict 2024-06-27 11:00:00\n",
      "predict 2024-06-27 11:15:00\n"
     ]
    },
    {
     "name": "stderr",
     "output_type": "stream",
     "text": [
      "Backtesting:  86%|████████▌ | 980/1145 [00:21<00:03, 48.51it/s]"
     ]
    },
    {
     "name": "stdout",
     "output_type": "stream",
     "text": [
      "predict 2024-06-27 11:30:00\n",
      "predict 2024-06-27 11:45:00\n",
      "predict 2024-06-27 12:00:00\n",
      "predict 2024-06-27 12:15:00\n",
      "predict 2024-06-27 12:30:00\n",
      "predict 2024-06-27 12:45:00\n",
      "predict 2024-06-27 13:00:00\n",
      "predict 2024-06-27 13:15:00\n",
      "predict 2024-06-27 13:30:00\n",
      "predict 2024-06-27 13:45:00\n"
     ]
    },
    {
     "name": "stderr",
     "output_type": "stream",
     "text": [
      "Backtesting:  86%|████████▋ | 990/1145 [00:22<00:03, 43.15it/s]"
     ]
    },
    {
     "name": "stdout",
     "output_type": "stream",
     "text": [
      "predict 2024-06-27 14:00:00\n",
      "predict 2024-06-27 14:15:00\n",
      "predict 2024-06-27 14:30:00\n",
      "predict 2024-06-27 14:45:00\n",
      "predict 2024-06-28 08:30:00\n",
      "predict 2024-06-28 08:45:00\n"
     ]
    },
    {
     "name": "stderr",
     "output_type": "stream",
     "text": [
      "Backtesting:  87%|████████▋ | 995/1145 [00:22<00:05, 27.97it/s]"
     ]
    },
    {
     "name": "stdout",
     "output_type": "stream",
     "text": [
      "predict 2024-06-28 09:00:00\n",
      "predict 2024-06-28 09:15:00\n",
      "predict 2024-06-28 09:30:00\n",
      "predict 2024-06-28 09:45:00\n",
      "predict 2024-06-28 10:00:00\n",
      "predict 2024-06-28 10:15:00\n",
      "predict 2024-06-28 10:30:00\n"
     ]
    },
    {
     "name": "stderr",
     "output_type": "stream",
     "text": [
      "Backtesting:  88%|████████▊ | 1006/1145 [00:22<00:03, 35.76it/s]"
     ]
    },
    {
     "name": "stdout",
     "output_type": "stream",
     "text": [
      "predict 2024-06-28 10:45:00\n",
      "predict 2024-06-28 11:00:00\n",
      "predict 2024-06-28 11:15:00\n",
      "predict 2024-06-28 11:30:00\n",
      "predict 2024-06-28 11:45:00\n",
      "predict 2024-06-28 12:00:00\n",
      "predict 2024-06-28 12:15:00\n",
      "predict 2024-06-28 12:30:00\n",
      "predict 2024-06-28 12:45:00\n",
      "predict 2024-06-28 13:00:00\n"
     ]
    },
    {
     "name": "stderr",
     "output_type": "stream",
     "text": [
      "Backtesting:  88%|████████▊ | 1011/1145 [00:22<00:03, 34.07it/s]"
     ]
    },
    {
     "name": "stdout",
     "output_type": "stream",
     "text": [
      "predict 2024-06-28 13:15:00\n",
      "predict 2024-06-28 13:30:00\n",
      "predict 2024-06-28 13:45:00\n",
      "predict 2024-06-28 14:00:00\n",
      "predict 2024-06-28 14:15:00\n",
      "predict 2024-06-28 14:30:00\n",
      "predict 2024-06-28 14:45:00\n"
     ]
    },
    {
     "name": "stderr",
     "output_type": "stream",
     "text": [
      "Backtesting:  89%|████████▉ | 1019/1145 [00:23<00:03, 32.92it/s]"
     ]
    },
    {
     "name": "stdout",
     "output_type": "stream",
     "text": [
      "predict 2024-07-01 08:30:00\n",
      "predict 2024-07-01 08:45:00\n",
      "predict 2024-07-01 09:00:00\n",
      "predict 2024-07-01 09:15:00\n",
      "predict 2024-07-01 09:30:00\n",
      "predict 2024-07-01 09:45:00\n",
      "predict 2024-07-01 10:00:00\n",
      "predict 2024-07-01 10:15:00\n"
     ]
    },
    {
     "name": "stderr",
     "output_type": "stream",
     "text": [
      "Backtesting:  90%|████████▉ | 1029/1145 [00:23<00:03, 38.27it/s]"
     ]
    },
    {
     "name": "stdout",
     "output_type": "stream",
     "text": [
      "predict 2024-07-01 10:30:00\n",
      "predict 2024-07-01 10:45:00\n",
      "predict 2024-07-01 11:00:00\n",
      "predict 2024-07-01 11:15:00\n",
      "predict 2024-07-01 11:30:00\n",
      "predict 2024-07-01 11:45:00\n",
      "predict 2024-07-01 12:00:00\n",
      "predict 2024-07-01 12:15:00\n",
      "predict 2024-07-01 12:30:00\n",
      "predict 2024-07-01 12:45:00\n"
     ]
    },
    {
     "name": "stderr",
     "output_type": "stream",
     "text": [
      "Backtesting:  91%|█████████ | 1038/1145 [00:23<00:02, 38.28it/s]"
     ]
    },
    {
     "name": "stdout",
     "output_type": "stream",
     "text": [
      "predict 2024-07-01 13:00:00\n",
      "predict 2024-07-01 13:15:00\n",
      "predict 2024-07-01 13:30:00\n",
      "predict 2024-07-01 13:45:00\n",
      "predict 2024-07-01 14:00:00\n",
      "predict 2024-07-01 14:15:00\n",
      "predict 2024-07-01 14:30:00\n",
      "predict 2024-07-01 14:45:00\n"
     ]
    },
    {
     "name": "stderr",
     "output_type": "stream",
     "text": [
      "Backtesting:  91%|█████████▏| 1046/1145 [00:23<00:02, 36.46it/s]"
     ]
    },
    {
     "name": "stdout",
     "output_type": "stream",
     "text": [
      "predict 2024-07-02 08:30:00\n",
      "predict 2024-07-02 08:45:00\n",
      "predict 2024-07-02 09:00:00\n",
      "predict 2024-07-02 09:15:00\n",
      "predict 2024-07-02 09:30:00\n",
      "predict 2024-07-02 09:45:00\n",
      "predict 2024-07-02 10:00:00\n"
     ]
    },
    {
     "name": "stderr",
     "output_type": "stream",
     "text": [
      "Backtesting:  92%|█████████▏| 1055/1145 [00:24<00:03, 25.34it/s]"
     ]
    },
    {
     "name": "stdout",
     "output_type": "stream",
     "text": [
      "predict 2024-07-02 10:15:00\n",
      "predict 2024-07-02 10:30:00\n",
      "predict 2024-07-02 10:45:00\n",
      "predict 2024-07-02 11:00:00\n",
      "predict 2024-07-02 11:15:00\n",
      "predict 2024-07-02 11:30:00\n",
      "predict 2024-07-02 11:45:00\n",
      "predict 2024-07-02 12:00:00\n",
      "predict 2024-07-02 12:15:00\n",
      "predict 2024-07-02 12:30:00\n"
     ]
    },
    {
     "name": "stderr",
     "output_type": "stream",
     "text": [
      "Backtesting:  93%|█████████▎| 1065/1145 [00:24<00:02, 32.27it/s]"
     ]
    },
    {
     "name": "stdout",
     "output_type": "stream",
     "text": [
      "predict 2024-07-02 12:45:00\n",
      "predict 2024-07-02 13:00:00\n",
      "predict 2024-07-02 13:15:00\n",
      "predict 2024-07-02 13:30:00\n",
      "predict 2024-07-02 13:45:00\n",
      "predict 2024-07-02 14:00:00\n",
      "predict 2024-07-02 14:15:00\n",
      "predict 2024-07-02 14:30:00\n",
      "predict 2024-07-02 14:45:00\n"
     ]
    },
    {
     "name": "stderr",
     "output_type": "stream",
     "text": [
      "Backtesting:  93%|█████████▎| 1070/1145 [00:24<00:02, 35.35it/s]"
     ]
    },
    {
     "name": "stdout",
     "output_type": "stream",
     "text": [
      "predict 2024-07-05 08:30:00\n",
      "predict 2024-07-05 08:45:00\n",
      "predict 2024-07-05 09:00:00\n",
      "predict 2024-07-05 09:15:00\n",
      "predict 2024-07-05 09:30:00\n",
      "predict 2024-07-05 09:45:00\n",
      "predict 2024-07-05 10:00:00\n",
      "predict 2024-07-05 10:15:00\n"
     ]
    },
    {
     "name": "stderr",
     "output_type": "stream",
     "text": [
      "Backtesting:  94%|█████████▍| 1080/1145 [00:25<00:01, 35.17it/s]"
     ]
    },
    {
     "name": "stdout",
     "output_type": "stream",
     "text": [
      "predict 2024-07-05 10:30:00\n",
      "predict 2024-07-05 10:45:00\n",
      "predict 2024-07-05 11:00:00\n",
      "predict 2024-07-05 11:15:00\n",
      "predict 2024-07-05 11:30:00\n",
      "predict 2024-07-05 11:45:00\n",
      "predict 2024-07-05 12:00:00\n",
      "predict 2024-07-05 12:15:00\n",
      "predict 2024-07-05 12:30:00\n",
      "predict 2024-07-05 12:45:00\n"
     ]
    },
    {
     "name": "stderr",
     "output_type": "stream",
     "text": [
      "Backtesting:  95%|█████████▌| 1090/1145 [00:25<00:01, 39.79it/s]"
     ]
    },
    {
     "name": "stdout",
     "output_type": "stream",
     "text": [
      "predict 2024-07-05 13:00:00\n",
      "predict 2024-07-05 13:15:00\n",
      "predict 2024-07-05 13:30:00\n",
      "predict 2024-07-05 13:45:00\n",
      "predict 2024-07-05 14:00:00\n",
      "predict 2024-07-05 14:15:00\n",
      "predict 2024-07-05 14:30:00\n",
      "predict 2024-07-05 14:45:00\n",
      "predict 2024-07-08 08:30:00\n",
      "predict 2024-07-08 08:45:00\n"
     ]
    },
    {
     "name": "stderr",
     "output_type": "stream",
     "text": [
      "Backtesting:  96%|█████████▌| 1100/1145 [00:25<00:01, 41.54it/s]"
     ]
    },
    {
     "name": "stdout",
     "output_type": "stream",
     "text": [
      "predict 2024-07-08 09:00:00\n",
      "predict 2024-07-08 09:15:00\n",
      "predict 2024-07-08 09:30:00\n",
      "predict 2024-07-08 09:45:00\n",
      "predict 2024-07-08 10:00:00\n",
      "predict 2024-07-08 10:15:00\n",
      "predict 2024-07-08 10:30:00\n",
      "predict 2024-07-08 10:45:00\n",
      "predict 2024-07-08 11:00:00\n"
     ]
    },
    {
     "name": "stderr",
     "output_type": "stream",
     "text": [
      "Backtesting:  97%|█████████▋| 1105/1145 [00:25<00:01, 28.44it/s]"
     ]
    },
    {
     "name": "stdout",
     "output_type": "stream",
     "text": [
      "predict 2024-07-08 11:15:00\n",
      "predict 2024-07-08 11:30:00\n"
     ]
    },
    {
     "name": "stderr",
     "output_type": "stream",
     "text": [
      "Backtesting:  97%|█████████▋| 1114/1145 [00:26<00:00, 34.19it/s]"
     ]
    },
    {
     "name": "stdout",
     "output_type": "stream",
     "text": [
      "predict 2024-07-08 11:45:00\n",
      "predict 2024-07-08 12:00:00\n",
      "predict 2024-07-08 12:15:00\n",
      "predict 2024-07-08 12:30:00\n",
      "predict 2024-07-08 12:45:00\n",
      "predict 2024-07-08 13:00:00\n",
      "predict 2024-07-08 13:15:00\n",
      "predict 2024-07-08 13:30:00\n",
      "predict 2024-07-08 13:45:00\n",
      "predict 2024-07-08 14:00:00\n"
     ]
    },
    {
     "name": "stderr",
     "output_type": "stream",
     "text": [
      "Backtesting:  98%|█████████▊| 1124/1145 [00:26<00:00, 39.48it/s]"
     ]
    },
    {
     "name": "stdout",
     "output_type": "stream",
     "text": [
      "predict 2024-07-08 14:15:00\n",
      "predict 2024-07-08 14:30:00\n",
      "predict 2024-07-08 14:45:00\n",
      "predict 2024-07-09 08:30:00\n",
      "predict 2024-07-09 08:45:00\n",
      "predict 2024-07-09 09:00:00\n",
      "predict 2024-07-09 09:15:00\n",
      "predict 2024-07-09 09:30:00\n",
      "predict 2024-07-09 09:45:00\n",
      "predict 2024-07-09 10:00:00\n"
     ]
    },
    {
     "name": "stderr",
     "output_type": "stream",
     "text": [
      "Backtesting:  99%|█████████▉| 1134/1145 [00:26<00:00, 41.15it/s]"
     ]
    },
    {
     "name": "stdout",
     "output_type": "stream",
     "text": [
      "predict 2024-07-09 10:15:00\n",
      "predict 2024-07-09 10:30:00\n",
      "predict 2024-07-09 10:45:00\n",
      "predict 2024-07-09 11:00:00\n",
      "predict 2024-07-09 11:15:00\n",
      "predict 2024-07-09 11:30:00\n",
      "predict 2024-07-09 11:45:00\n",
      "predict 2024-07-09 12:00:00\n",
      "predict 2024-07-09 12:15:00\n"
     ]
    },
    {
     "name": "stderr",
     "output_type": "stream",
     "text": [
      "Backtesting:  99%|█████████▉| 1139/1145 [00:26<00:00, 37.76it/s]"
     ]
    },
    {
     "name": "stdout",
     "output_type": "stream",
     "text": [
      "predict 2024-07-09 12:30:00\n",
      "predict 2024-07-09 12:45:00\n",
      "predict 2024-07-09 13:00:00\n",
      "predict 2024-07-09 13:15:00\n",
      "predict 2024-07-09 13:30:00\n",
      "predict 2024-07-09 13:45:00\n",
      "predict 2024-07-09 14:00:00\n"
     ]
    },
    {
     "name": "stderr",
     "output_type": "stream",
     "text": [
      "Backtesting: 100%|██████████| 1145/1145 [00:26<00:00, 42.68it/s]\n"
     ]
    },
    {
     "name": "stdout",
     "output_type": "stream",
     "text": [
      "predict 2024-07-09 14:15:00\n",
      "predict 2024-07-09 14:30:00\n",
      "predict 2024-07-09 14:45:00\n",
      "\n",
      "Performance Metrics:\n",
      "RMSE: 0.1353\n",
      "MAE: 0.0978\n",
      "R2 Score: 0.3602\n"
     ]
    },
    {
     "data": {
      "image/png": "[encoded data removed]",
      "text/plain": [
       "<Figure size 1500x600 with 1 Axes>"
      ]
     },
     "metadata": {},
     "output_type": "display_data"
    },
    {
     "data": {
      "image/png": "[encoded data removed]",
      "text/plain": [
       "<Figure size 1000x600 with 1 Axes>"
      ]
     },
     "metadata": {},
     "output_type": "display_data"
    },
    {
     "data": {
      "image/png": "[encoded data removed]",
      "text/plain": [
       "<Figure size 1000x600 with 1 Axes>"
      ]
     },
     "metadata": {},
     "output_type": "display_data"
    },
    {
     "name": "stdout",
     "output_type": "stream",
     "text": [
      "\n",
      "Direction Hit Rate: 74.15%\n"
     ]
    }
   ],
   "source": [
    "# Load data\n",
    "df = pd.read_csv('model_data.csv', parse_dates=['Open time'])\n",
    "df.set_index('Open time', inplace=True)\n",
    "\n",
    "# Initialize predictor with 5-day window\n",
    "predictor = RollingWindowPredictor(window_size=5)\n",
    "\n",
    "# Split data for training\n",
    "train_size = int(len(df) * 0.8)\n",
    "train_df = df[:train_size]\n",
    "test_df = df[train_size:]\n",
    "\n",
    "print(\"Training model...\")\n",
    "best_score = predictor.train(train_df, n_trials=5)\n",
    "print(f\"\\nBest validation RMSE: {best_score:.4f}\")\n",
    "\n",
    "print(\"\\nPerforming backtest on test set...\")\n",
    "results = predictor.evaluate(test_df)\n",
    "\n",
    "# Calculate hit rate (direction prediction accuracy)\n",
    "actual_direction = np.sign(results['actual'])\n",
    "pred_direction = np.sign(results['predicted'])\n",
    "hit_rate = np.mean(actual_direction == pred_direction)\n",
    "print(f\"\\nDirection Hit Rate: {hit_rate:.2%}\")"
   ]
  },
  {
   "cell_type": "code",
   "execution_count": null,
   "metadata": {},
   "outputs": [],
   "source": [
    "# Calculate hit rate (direction prediction accuracy)\n",
    "actual_direction = np.sign(results['actual'])\n",
    "pred_direction = np.sign(results['predicted'])\n",
    "hit_rate = np.mean(actual_direction == pred_direction)\n",
    "print(f\"\\nDirection Hit Rate: {hit_rate:.2%}\")"
   ]
  }
 ],
 "metadata": {
  "kernelspec": {
   "display_name": ".venv",
   "language": "python",
   "name": "python3"
  },
  "language_info": {
   "codemirror_mode": {
    "name": "ipython",
    "version": 3
   },
   "file_extension": ".py",
   "mimetype": "text/x-python",
   "name": "python",
   "nbconvert_exporter": "python",
   "pygments_lexer": "ipython3",
   "version": "3.10.11"
  }
 },
 "nbformat": 4,
 "nbformat_minor": 2
}
